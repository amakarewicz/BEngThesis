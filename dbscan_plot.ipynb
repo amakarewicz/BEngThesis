{
 "cells": [
  {
   "cell_type": "code",
   "execution_count": 1,
   "metadata": {},
   "outputs": [],
   "source": [
    "import pandas as pd\n",
    "import plotly.graph_objs as go\n",
    "from plotly.offline import plot\n",
    "from dtaidistance import dtw_ndim"
   ]
  },
  {
   "cell_type": "code",
   "execution_count": 142,
   "metadata": {},
   "outputs": [],
   "source": [
    "import pandas as pd\n",
    "import plotly\n",
    "import numpy as np\n",
    "from sklearn.cluster import KMeans, AgglomerativeClustering, DBSCAN\n",
    "\n",
    "# def plot_dbscan(df, countries, labels):\n",
    "data = pd.read_csv('data/data.csv')\n",
    "\n",
    "# transform input data into adequate structure - 3D numpy array\n",
    "data_t = data.melt(id_vars=['countrycode', 'country', 'year'])\n",
    "data_t = data_t.groupby(['countrycode', 'country', 'year', 'variable'])['value'].aggregate('mean').unstack(\n",
    "    'year')\n",
    "data_t = data_t.reset_index().drop('variable', axis=1).groupby(['countrycode', 'country']).agg(list)\n",
    "n_countries = data_t.shape[0]  # number of points (countries)\n",
    "time_range = data_t.shape[1]  # time range\n",
    "n_vars = data.shape[1] - 3  # number of economic indexes\n",
    "# filling the array\n",
    "data_t_arr = np.empty(shape=(n_countries, time_range, n_vars))\n",
    "for i in range(n_countries):\n",
    "    for j in range(time_range):\n",
    "        data_t_arr[i][j] = np.array(data_t.iloc[i, j])\n",
    "# calculating distances between points (countries)\n",
    "dtw_matrix = dtw_ndim.distance_matrix(data_t_arr, n_vars)\n",
    "\n",
    "# labels = labels.astype(str)\n",
    "# countries[\"cluster\"] = pd.Series(labels)\n",
    "# data = [dict(type='choropleth',\n",
    "#             locations = countries['countrycode'].astype(str),\n",
    "#             color=countries['cluster'].astype(int),\n",
    "#             projection='conic conformal', color_discrete_sequence=px.colors.qualitative.Pastel)]\n",
    "countries = data[['countrycode','country']].drop_duplicates().reset_index(drop=True)\n",
    "# let's create some additional, random data \n",
    "\n",
    "##### WYKRES ######\n",
    "eps_grid = [3, 3.1, 3.2, 3.3, 3.4, 3.5]\n",
    "#eps_grid  = [i for i in range(2, 6, 0.1)]\n",
    "min_samples_grid = [2,3,4,5,6]\n",
    "#min_samples_grid = [i for i in range(2,11)]\n",
    "plot_data = []\n",
    "for eps in eps_grid:\n",
    "    for min_samples in min_samples_grid:\n",
    "        model = DBSCAN(eps=eps, min_samples=min_samples, metric='precomputed')\n",
    "        model.fit(dtw_matrix)\n",
    "        plot_data.append(dict(type='choropleth',\n",
    "                locations = countries['countrycode'].astype(str),\n",
    "                z=model.labels_.astype(str),\n",
    "                colorscale= [[0, '#718355'], [0.33, '#ffe8d6'], [0.6, '#ddbea9'], [1, '#cb997e']],\n",
    "                showscale=False\n",
    "))\n",
    "# (3,2), (3,3) ... (3.1, 2), (3.1, 3) \n",
    "\n",
    "# let's create the steps for the slider\n",
    "# eps\n",
    "steps = []\n",
    "i=0\n",
    "for eps in eps_grid:\n",
    "    for min_samples in min_samples_grid:\n",
    "        step = dict(method='restyle',\n",
    "                    args=['visible', [False] * len(plot_data)],\n",
    "                    label='Eps: {} | Min samples: {}'.format(eps, min_samples))\n",
    "        step['args'][1][i] = True\n",
    "        steps.append(step)\n",
    "        i+=1\n",
    "# min_samples\n",
    "# steps2 = []\n",
    "# for i in range(len(plot_data)):\n",
    "#     step = dict(method='restyle',\n",
    "#                 args=['visible', [False] * len(plot_data)],\n",
    "#                 label='Eps2 {}'.format(3+ i/10))\n",
    "#     step['args'][1][i] = True\n",
    "#     steps2.append(step)\n",
    "\n",
    "sliders = [dict(active=0,\n",
    "                steps=steps,\n",
    "                currentvalue={'prefix':'Eps - ',\n",
    "                'suffix':' - min samples'},\n",
    "                len=0.8,\n",
    "                xanchor='center',\n",
    "                pad={\"l\":20,\"r\":20, \"t\":1},\n",
    "                ticklen=10,\n",
    "                x=0.5\n",
    "                )]\n",
    "                # dict(active=0,\n",
    "                # pad={\"t\": 1},\n",
    "                # steps=steps2)]    \n",
    "layout = dict(geo=dict(projection={'type': 'conic conformal'}, lataxis={'range':[35,75]}, \n",
    " lonaxis={'range' : [-15, 45]}),\n",
    "            sliders=sliders)\n",
    "\n",
    "fig = dict(data=plot_data, \n",
    "        layout=layout)\n",
    "#fig.update_layout(showlegend=False)\n"
   ]
  },
  {
   "cell_type": "code",
   "execution_count": 143,
   "metadata": {},
   "outputs": [
    {
     "data": {
      "text/plain": [
       "'dbscan.html'"
      ]
     },
     "execution_count": 143,
     "metadata": {},
     "output_type": "execute_result"
    }
   ],
   "source": [
    "plot(fig, filename='dbscan.html')"
   ]
  },
  {
   "cell_type": "code",
   "execution_count": 55,
   "metadata": {},
   "outputs": [],
   "source": [
    "data = pd.read_csv('data/data.csv')\n",
    "\n",
    "# transform input data into adequate structure - 3D numpy array\n",
    "data_t = data.melt(id_vars=['countrycode', 'country', 'year'])\n",
    "data_t = data_t.groupby(['countrycode', 'country', 'year', 'variable'])['value'].aggregate('mean').unstack('year')\n",
    "data_t = data_t.reset_index().drop('variable', axis=1).groupby(['countrycode', 'country']).agg(list)\n",
    "n_countries = data_t.shape[0]  # number of points (countries)\n",
    "time_range = data_t.shape[1]  # time range\n",
    "n_vars = data.shape[1] - 3  # number of economic indexes\n",
    "# filling the array\n",
    "data_t_arr = np.empty(shape=(n_countries, time_range, n_vars))\n",
    "for i in range(n_countries):\n",
    "    for j in range(time_range):\n",
    "        data_t_arr[i][j] = np.array(data_t.iloc[i, j])\n",
    "# calculating distances between points (countries)\n",
    "dtw_matrix = dtw_ndim.distance_matrix(data_t_arr, n_vars)\n",
    "\n",
    "countries = data[['countrycode','country']].drop_duplicates().reset_index(drop=True)\n",
    "\n",
    "##### WYKRES ######\n",
    "eps_grid = [3, 3.1, 3.2, 3.3, 3.4, 3.5]\n",
    "min_samples_grid = [2,3,4,5,6]\n",
    "plot_data = []\n",
    "for eps in eps_grid:\n",
    "    for min_samples in min_samples_grid:\n",
    "        model = DBSCAN(eps=eps, min_samples=min_samples, metric='precomputed')\n",
    "        model.fit(dtw_matrix)\n",
    "        plot_data.append(dict(type='choropleth',\n",
    "                locations = countries['countrycode'].astype(str),\n",
    "                z=model.labels_,\n",
    "                customdata = [eps, min_samples]))"
   ]
  },
  {
   "cell_type": "code",
   "execution_count": 6,
   "metadata": {},
   "outputs": [],
   "source": [
    "from ipywidgets import interact, interactive, fixed, interact_manual\n",
    "from ipywidgets import GridspecLayout\n",
    "import ipywidgets as widgets"
   ]
  },
  {
   "cell_type": "code",
   "execution_count": 48,
   "metadata": {},
   "outputs": [],
   "source": [
    "# Creates dropdown widget for eps\n",
    "eps = widgets.Dropdown(\n",
    "    options=[3, 3.1, 3.2, 3.3, 3.4, 3.5],\n",
    "    value=3.1,\n",
    "    description='Eps:',\n",
    "    disabled=False,\n",
    "    width='100px'\n",
    ")\n",
    "\n",
    "# Creates dropdown widget for min_samples\n",
    "min_samples = widgets.Dropdown(\n",
    "    options=[2,3,4,5,6], #np.arange(min_price,max_price+1000,1000),\n",
    "    value=6, #np.arange(min_price,max_price+1000,1000)[-1],\n",
    "    description='Min samples:',\n",
    "    disabled=False,\n",
    "    width='100px'\n",
    ")\n",
    "\n",
    "# Create container\n",
    "container = widgets.VBox([widgets.HTML(value=\"<b>Params</b>\"),eps, min_samples],justify_content='center',max_width='300px')                            \n",
    "\n",
    "# Create grid\n",
    "grid = GridspecLayout(1, 5, width='900px', height='150px',grid_gap=\"10px\")\n",
    "\n",
    "grid[0,0] = container"
   ]
  },
  {
   "cell_type": "code",
   "execution_count": 49,
   "metadata": {},
   "outputs": [],
   "source": [
    "layout = dict(geo=dict(projection={'type': 'conic conformal'}, lataxis={'range':[35,75]}, \n",
    " lonaxis={'range' : [-15, 45]}))\n",
    "\n",
    "fig = go.FigureWidget(dict(data=plot_data, \n",
    "        layout=layout))"
   ]
  },
  {
   "cell_type": "code",
   "execution_count": 59,
   "metadata": {},
   "outputs": [],
   "source": [
    "# This function will be called whenever there is any change in any of the widgets\n",
    "def response(change):\n",
    "    \n",
    "    # Store indices of the cars within the price range\n",
    "    eps_filter = list(np.where([x['customdata'][0] in [eps.value] for x in plot_data])[0])\n",
    "    # Store indices of the brand\n",
    "    print(eps_filter)\n",
    "    min_samples_filter = list(np.where([x['customdata'][1] in [min_samples.value] for x in plot_data])[0])\n",
    "    print(min_samples)\n",
    "    # Store indices of the intersection of all the filters. \n",
    "    all_filters = list(set.intersection(set(eps_filter), set(min_samples_filter)))\n",
    "    print(all_filters)\n",
    "    # Set visibility for those cars at the intersection to true and rest to false\n",
    "    visibility = [True if i in all_filters else False for i in range(len(plot_data))]\n",
    "    \n",
    "    # Update visibility of the plot so only the ones filtered will be true and rest will be false\n",
    "    fig.plotly_restyle({'visible': visibility})\n",
    "    \n",
    "# link changes made in widget to the response function\n",
    "eps.observe(response, names=\"value\")\n",
    "min_samples.observe(response, names=\"value\")"
   ]
  },
  {
   "cell_type": "code",
   "execution_count": 60,
   "metadata": {},
   "outputs": [
    {
     "data": {
      "application/vnd.jupyter.widget-view+json": {
       "model_id": "288deadd2d1c492fa6a090556975db0e",
       "version_major": 2,
       "version_minor": 0
      },
      "text/plain": [
       "VBox(children=(GridspecLayout(children=(VBox(children=(HTML(value='<b>Params</b>'), Dropdown(description='Eps:…"
      ]
     },
     "metadata": {},
     "output_type": "display_data"
    },
    {
     "name": "stdout",
     "output_type": "stream",
     "text": [
      "[0, 1, 2, 3, 4]\n",
      "Dropdown(description='Min samples:', index=4, options=(2, 3, 4, 5, 6), value=6)\n",
      "[4]\n",
      "[0, 1, 2, 3, 4]\n",
      "Dropdown(description='Min samples:', index=3, options=(2, 3, 4, 5, 6), value=5)\n",
      "[3]\n",
      "[0, 1, 2, 3, 4]\n",
      "Dropdown(description='Min samples:', index=1, options=(2, 3, 4, 5, 6), value=3)\n",
      "[1]\n",
      "[0, 1, 2, 3, 4]\n",
      "Dropdown(description='Min samples:', options=(2, 3, 4, 5, 6), value=2)\n",
      "[0]\n",
      "[0, 1, 2, 3, 4]\n",
      "Dropdown(description='Min samples:', index=3, options=(2, 3, 4, 5, 6), value=5)\n",
      "[3]\n",
      "[0, 1, 2, 3, 4]\n",
      "Dropdown(description='Min samples:', index=2, options=(2, 3, 4, 5, 6), value=4)\n",
      "[2]\n",
      "[20, 21, 22, 23, 24]\n",
      "Dropdown(description='Min samples:', index=2, options=(2, 3, 4, 5, 6), value=4)\n",
      "[22]\n"
     ]
    }
   ],
   "source": [
    "# Plot grid of widgets as well as the figure\n",
    "widgets.VBox([grid, fig])"
   ]
  },
  {
   "cell_type": "code",
   "execution_count": 80,
   "metadata": {},
   "outputs": [],
   "source": [
    "loc_series = []\n",
    "z_series = []\n",
    "param_series = [] \n",
    "for i in range(len(plot_data)):\n",
    "    loc_series.append(plot_data[i]['locations'])\n",
    "    z_series.append(plot_data[i]['z'])\n",
    "    param_series.append([str(plot_data[i]['customdata'][0])+\" | \"+str(plot_data[i]['customdata'][1])]*39)\n",
    "loc_series = np.concatenate( loc_series, axis=0 )\n",
    "z_series = np.concatenate( z_series, axis=0 )\n",
    "param_series = np.concatenate( param_series, axis=0 )"
   ]
  },
  {
   "cell_type": "code",
   "execution_count": 89,
   "metadata": {},
   "outputs": [],
   "source": [
    "df = pd.concat([pd.Series(loc_series), pd.Series(z_series), pd.Series(param_series)], axis=1)#, columns=['loc', 'z', 'p'])"
   ]
  },
  {
   "cell_type": "code",
   "execution_count": 91,
   "metadata": {},
   "outputs": [],
   "source": [
    "df.columns = ['loc', 'z', 'p']"
   ]
  },
  {
   "cell_type": "code",
   "execution_count": null,
   "metadata": {},
   "outputs": [],
   "source": []
  }
 ],
 "metadata": {
  "interpreter": {
   "hash": "0d1bfbd48ac9d0d45d3e1ecabc58d25c00d90cf1449842edf85d52c9d4642455"
  },
  "kernelspec": {
   "display_name": "Python 3 (ipykernel)",
   "language": "python",
   "name": "python3"
  },
  "language_info": {
   "codemirror_mode": {
    "name": "ipython",
    "version": 3
   },
   "file_extension": ".py",
   "mimetype": "text/x-python",
   "name": "python",
   "nbconvert_exporter": "python",
   "pygments_lexer": "ipython3",
   "version": "3.8.12"
  }
 },
 "nbformat": 4,
 "nbformat_minor": 2
}
