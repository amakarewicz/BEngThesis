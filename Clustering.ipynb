{
 "cells": [
  {
   "cell_type": "markdown",
   "metadata": {},
   "source": [
    "# Clustering"
   ]
  },
  {
   "cell_type": "markdown",
   "metadata": {},
   "source": [
    "## I. Imports & functions"
   ]
  },
  {
   "cell_type": "code",
   "execution_count": 41,
   "metadata": {},
   "outputs": [],
   "source": [
    "import pandas as pd\n",
    "import numpy as np\n",
    "import seaborn as sns\n",
    "import matplotlib.pyplot as plt\n",
    "import plotly.express as px\n",
    "from tslearn.metrics import dtw\n",
    "from tslearn.datasets import CachedDatasets\n",
    "from tslearn.generators import random_walks\n",
    "from tslearn.preprocessing import TimeSeriesScalerMeanVariance\n",
    "from tslearn.clustering import KShape, TimeSeriesKMeans\n",
    "import skfuzzy as fuzz\n",
    "import matrixprofile as mp\n",
    "from scipy.cluster.hierarchy import dendrogram\n",
    "\n",
    "from sklearn.cluster import KMeans, AgglomerativeClustering, DBSCAN\n",
    "from scipy.cluster.hierarchy import dendrogram, linkage\n",
    "from sklearn.metrics import calinski_harabasz_score, silhouette_score, davies_bouldin_score, adjusted_rand_score, adjusted_mutual_info_score\n",
    "from fcmeans import FCM\n",
    "\n",
    "import warnings\n",
    "warnings.filterwarnings(action='ignore')\n",
    "\n",
    "%matplotlib inline\n",
    "plt.rcParams['figure.figsize'] = (9, 6)\n",
    "\n",
    "pd.options.display.max_columns = None\n",
    "pd.options.display.max_colwidth = None"
   ]
  },
  {
   "cell_type": "code",
   "execution_count": 2,
   "metadata": {},
   "outputs": [
    {
     "data": {
      "text/html": [
       "<div>\n",
       "<style scoped>\n",
       "    .dataframe tbody tr th:only-of-type {\n",
       "        vertical-align: middle;\n",
       "    }\n",
       "\n",
       "    .dataframe tbody tr th {\n",
       "        vertical-align: top;\n",
       "    }\n",
       "\n",
       "    .dataframe thead th {\n",
       "        text-align: right;\n",
       "    }\n",
       "</style>\n",
       "<table border=\"1\" class=\"dataframe\">\n",
       "  <thead>\n",
       "    <tr style=\"text-align: right;\">\n",
       "      <th></th>\n",
       "      <th>countrycode</th>\n",
       "      <th>country</th>\n",
       "      <th>co2_emission_1990</th>\n",
       "      <th>co2_emission_1991</th>\n",
       "      <th>co2_emission_1992</th>\n",
       "      <th>co2_emission_1993</th>\n",
       "      <th>co2_emission_1994</th>\n",
       "      <th>co2_emission_1995</th>\n",
       "      <th>co2_emission_1996</th>\n",
       "      <th>co2_emission_1997</th>\n",
       "      <th>co2_emission_1998</th>\n",
       "      <th>co2_emission_1999</th>\n",
       "      <th>co2_emission_2000</th>\n",
       "      <th>co2_emission_2001</th>\n",
       "      <th>co2_emission_2002</th>\n",
       "      <th>co2_emission_2003</th>\n",
       "      <th>co2_emission_2004</th>\n",
       "      <th>co2_emission_2005</th>\n",
       "      <th>co2_emission_2006</th>\n",
       "      <th>co2_emission_2007</th>\n",
       "      <th>co2_emission_2008</th>\n",
       "      <th>co2_emission_2009</th>\n",
       "      <th>co2_emission_2010</th>\n",
       "      <th>co2_emission_2011</th>\n",
       "      <th>co2_emission_2012</th>\n",
       "      <th>co2_emission_2013</th>\n",
       "      <th>co2_emission_2014</th>\n",
       "      <th>co2_emission_2015</th>\n",
       "      <th>co2_emission_2016</th>\n",
       "      <th>co2_emission_2017</th>\n",
       "      <th>co2_emission_2018</th>\n",
       "      <th>co2_emission_2019</th>\n",
       "      <th>csh_c_1990</th>\n",
       "      <th>csh_c_1991</th>\n",
       "      <th>csh_c_1992</th>\n",
       "      <th>csh_c_1993</th>\n",
       "      <th>csh_c_1994</th>\n",
       "      <th>csh_c_1995</th>\n",
       "      <th>csh_c_1996</th>\n",
       "      <th>csh_c_1997</th>\n",
       "      <th>csh_c_1998</th>\n",
       "      <th>csh_c_1999</th>\n",
       "      <th>csh_c_2000</th>\n",
       "      <th>csh_c_2001</th>\n",
       "      <th>csh_c_2002</th>\n",
       "      <th>csh_c_2003</th>\n",
       "      <th>csh_c_2004</th>\n",
       "      <th>csh_c_2005</th>\n",
       "      <th>csh_c_2006</th>\n",
       "      <th>csh_c_2007</th>\n",
       "      <th>csh_c_2008</th>\n",
       "      <th>csh_c_2009</th>\n",
       "      <th>csh_c_2010</th>\n",
       "      <th>csh_c_2011</th>\n",
       "      <th>csh_c_2012</th>\n",
       "      <th>csh_c_2013</th>\n",
       "      <th>csh_c_2014</th>\n",
       "      <th>csh_c_2015</th>\n",
       "      <th>csh_c_2016</th>\n",
       "      <th>csh_c_2017</th>\n",
       "      <th>csh_c_2018</th>\n",
       "      <th>csh_c_2019</th>\n",
       "      <th>csh_g_1990</th>\n",
       "      <th>csh_g_1991</th>\n",
       "      <th>csh_g_1992</th>\n",
       "      <th>csh_g_1993</th>\n",
       "      <th>csh_g_1994</th>\n",
       "      <th>csh_g_1995</th>\n",
       "      <th>csh_g_1996</th>\n",
       "      <th>csh_g_1997</th>\n",
       "      <th>csh_g_1998</th>\n",
       "      <th>csh_g_1999</th>\n",
       "      <th>csh_g_2000</th>\n",
       "      <th>csh_g_2001</th>\n",
       "      <th>csh_g_2002</th>\n",
       "      <th>csh_g_2003</th>\n",
       "      <th>csh_g_2004</th>\n",
       "      <th>csh_g_2005</th>\n",
       "      <th>csh_g_2006</th>\n",
       "      <th>csh_g_2007</th>\n",
       "      <th>csh_g_2008</th>\n",
       "      <th>csh_g_2009</th>\n",
       "      <th>csh_g_2010</th>\n",
       "      <th>csh_g_2011</th>\n",
       "      <th>csh_g_2012</th>\n",
       "      <th>csh_g_2013</th>\n",
       "      <th>csh_g_2014</th>\n",
       "      <th>csh_g_2015</th>\n",
       "      <th>csh_g_2016</th>\n",
       "      <th>csh_g_2017</th>\n",
       "      <th>csh_g_2018</th>\n",
       "      <th>csh_g_2019</th>\n",
       "      <th>csh_i_1990</th>\n",
       "      <th>csh_i_1991</th>\n",
       "      <th>csh_i_1992</th>\n",
       "      <th>csh_i_1993</th>\n",
       "      <th>csh_i_1994</th>\n",
       "      <th>csh_i_1995</th>\n",
       "      <th>csh_i_1996</th>\n",
       "      <th>csh_i_1997</th>\n",
       "      <th>csh_i_1998</th>\n",
       "      <th>csh_i_1999</th>\n",
       "      <th>csh_i_2000</th>\n",
       "      <th>csh_i_2001</th>\n",
       "      <th>csh_i_2002</th>\n",
       "      <th>csh_i_2003</th>\n",
       "      <th>csh_i_2004</th>\n",
       "      <th>csh_i_2005</th>\n",
       "      <th>csh_i_2006</th>\n",
       "      <th>csh_i_2007</th>\n",
       "      <th>csh_i_2008</th>\n",
       "      <th>csh_i_2009</th>\n",
       "      <th>csh_i_2010</th>\n",
       "      <th>csh_i_2011</th>\n",
       "      <th>csh_i_2012</th>\n",
       "      <th>csh_i_2013</th>\n",
       "      <th>csh_i_2014</th>\n",
       "      <th>csh_i_2015</th>\n",
       "      <th>csh_i_2016</th>\n",
       "      <th>csh_i_2017</th>\n",
       "      <th>csh_i_2018</th>\n",
       "      <th>csh_i_2019</th>\n",
       "      <th>csh_m_1990</th>\n",
       "      <th>csh_m_1991</th>\n",
       "      <th>csh_m_1992</th>\n",
       "      <th>csh_m_1993</th>\n",
       "      <th>csh_m_1994</th>\n",
       "      <th>csh_m_1995</th>\n",
       "      <th>csh_m_1996</th>\n",
       "      <th>csh_m_1997</th>\n",
       "      <th>csh_m_1998</th>\n",
       "      <th>csh_m_1999</th>\n",
       "      <th>csh_m_2000</th>\n",
       "      <th>csh_m_2001</th>\n",
       "      <th>csh_m_2002</th>\n",
       "      <th>csh_m_2003</th>\n",
       "      <th>csh_m_2004</th>\n",
       "      <th>csh_m_2005</th>\n",
       "      <th>csh_m_2006</th>\n",
       "      <th>csh_m_2007</th>\n",
       "      <th>csh_m_2008</th>\n",
       "      <th>csh_m_2009</th>\n",
       "      <th>csh_m_2010</th>\n",
       "      <th>csh_m_2011</th>\n",
       "      <th>csh_m_2012</th>\n",
       "      <th>csh_m_2013</th>\n",
       "      <th>csh_m_2014</th>\n",
       "      <th>csh_m_2015</th>\n",
       "      <th>csh_m_2016</th>\n",
       "      <th>csh_m_2017</th>\n",
       "      <th>csh_m_2018</th>\n",
       "      <th>csh_m_2019</th>\n",
       "      <th>csh_r_1990</th>\n",
       "      <th>csh_r_1991</th>\n",
       "      <th>csh_r_1992</th>\n",
       "      <th>csh_r_1993</th>\n",
       "      <th>csh_r_1994</th>\n",
       "      <th>csh_r_1995</th>\n",
       "      <th>csh_r_1996</th>\n",
       "      <th>csh_r_1997</th>\n",
       "      <th>csh_r_1998</th>\n",
       "      <th>csh_r_1999</th>\n",
       "      <th>csh_r_2000</th>\n",
       "      <th>csh_r_2001</th>\n",
       "      <th>csh_r_2002</th>\n",
       "      <th>csh_r_2003</th>\n",
       "      <th>csh_r_2004</th>\n",
       "      <th>csh_r_2005</th>\n",
       "      <th>csh_r_2006</th>\n",
       "      <th>csh_r_2007</th>\n",
       "      <th>csh_r_2008</th>\n",
       "      <th>csh_r_2009</th>\n",
       "      <th>csh_r_2010</th>\n",
       "      <th>csh_r_2011</th>\n",
       "      <th>csh_r_2012</th>\n",
       "      <th>csh_r_2013</th>\n",
       "      <th>csh_r_2014</th>\n",
       "      <th>csh_r_2015</th>\n",
       "      <th>csh_r_2016</th>\n",
       "      <th>csh_r_2017</th>\n",
       "      <th>csh_r_2018</th>\n",
       "      <th>csh_r_2019</th>\n",
       "      <th>csh_x_1990</th>\n",
       "      <th>csh_x_1991</th>\n",
       "      <th>csh_x_1992</th>\n",
       "      <th>csh_x_1993</th>\n",
       "      <th>csh_x_1994</th>\n",
       "      <th>csh_x_1995</th>\n",
       "      <th>csh_x_1996</th>\n",
       "      <th>csh_x_1997</th>\n",
       "      <th>csh_x_1998</th>\n",
       "      <th>csh_x_1999</th>\n",
       "      <th>csh_x_2000</th>\n",
       "      <th>csh_x_2001</th>\n",
       "      <th>csh_x_2002</th>\n",
       "      <th>csh_x_2003</th>\n",
       "      <th>csh_x_2004</th>\n",
       "      <th>csh_x_2005</th>\n",
       "      <th>csh_x_2006</th>\n",
       "      <th>csh_x_2007</th>\n",
       "      <th>csh_x_2008</th>\n",
       "      <th>csh_x_2009</th>\n",
       "      <th>csh_x_2010</th>\n",
       "      <th>csh_x_2011</th>\n",
       "      <th>csh_x_2012</th>\n",
       "      <th>csh_x_2013</th>\n",
       "      <th>csh_x_2014</th>\n",
       "      <th>csh_x_2015</th>\n",
       "      <th>csh_x_2016</th>\n",
       "      <th>csh_x_2017</th>\n",
       "      <th>csh_x_2018</th>\n",
       "      <th>csh_x_2019</th>\n",
       "      <th>delta_1990</th>\n",
       "      <th>delta_1991</th>\n",
       "      <th>delta_1992</th>\n",
       "      <th>delta_1993</th>\n",
       "      <th>delta_1994</th>\n",
       "      <th>delta_1995</th>\n",
       "      <th>delta_1996</th>\n",
       "      <th>delta_1997</th>\n",
       "      <th>delta_1998</th>\n",
       "      <th>delta_1999</th>\n",
       "      <th>delta_2000</th>\n",
       "      <th>delta_2001</th>\n",
       "      <th>delta_2002</th>\n",
       "      <th>delta_2003</th>\n",
       "      <th>delta_2004</th>\n",
       "      <th>delta_2005</th>\n",
       "      <th>delta_2006</th>\n",
       "      <th>delta_2007</th>\n",
       "      <th>delta_2008</th>\n",
       "      <th>delta_2009</th>\n",
       "      <th>delta_2010</th>\n",
       "      <th>delta_2011</th>\n",
       "      <th>delta_2012</th>\n",
       "      <th>delta_2013</th>\n",
       "      <th>delta_2014</th>\n",
       "      <th>delta_2015</th>\n",
       "      <th>delta_2016</th>\n",
       "      <th>delta_2017</th>\n",
       "      <th>delta_2018</th>\n",
       "      <th>delta_2019</th>\n",
       "      <th>emp_percent_1990</th>\n",
       "      <th>emp_percent_1991</th>\n",
       "      <th>emp_percent_1992</th>\n",
       "      <th>emp_percent_1993</th>\n",
       "      <th>emp_percent_1994</th>\n",
       "      <th>emp_percent_1995</th>\n",
       "      <th>emp_percent_1996</th>\n",
       "      <th>emp_percent_1997</th>\n",
       "      <th>emp_percent_1998</th>\n",
       "      <th>emp_percent_1999</th>\n",
       "      <th>emp_percent_2000</th>\n",
       "      <th>emp_percent_2001</th>\n",
       "      <th>emp_percent_2002</th>\n",
       "      <th>emp_percent_2003</th>\n",
       "      <th>emp_percent_2004</th>\n",
       "      <th>emp_percent_2005</th>\n",
       "      <th>emp_percent_2006</th>\n",
       "      <th>emp_percent_2007</th>\n",
       "      <th>emp_percent_2008</th>\n",
       "      <th>emp_percent_2009</th>\n",
       "      <th>emp_percent_2010</th>\n",
       "      <th>emp_percent_2011</th>\n",
       "      <th>emp_percent_2012</th>\n",
       "      <th>emp_percent_2013</th>\n",
       "      <th>emp_percent_2014</th>\n",
       "      <th>emp_percent_2015</th>\n",
       "      <th>emp_percent_2016</th>\n",
       "      <th>emp_percent_2017</th>\n",
       "      <th>emp_percent_2018</th>\n",
       "      <th>emp_percent_2019</th>\n",
       "      <th>employment_agro_1990</th>\n",
       "      <th>employment_agro_1991</th>\n",
       "      <th>employment_agro_1992</th>\n",
       "      <th>employment_agro_1993</th>\n",
       "      <th>employment_agro_1994</th>\n",
       "      <th>employment_agro_1995</th>\n",
       "      <th>employment_agro_1996</th>\n",
       "      <th>employment_agro_1997</th>\n",
       "      <th>employment_agro_1998</th>\n",
       "      <th>employment_agro_1999</th>\n",
       "      <th>employment_agro_2000</th>\n",
       "      <th>employment_agro_2001</th>\n",
       "      <th>employment_agro_2002</th>\n",
       "      <th>employment_agro_2003</th>\n",
       "      <th>employment_agro_2004</th>\n",
       "      <th>employment_agro_2005</th>\n",
       "      <th>employment_agro_2006</th>\n",
       "      <th>employment_agro_2007</th>\n",
       "      <th>employment_agro_2008</th>\n",
       "      <th>employment_agro_2009</th>\n",
       "      <th>employment_agro_2010</th>\n",
       "      <th>employment_agro_2011</th>\n",
       "      <th>employment_agro_2012</th>\n",
       "      <th>employment_agro_2013</th>\n",
       "      <th>employment_agro_2014</th>\n",
       "      <th>employment_agro_2015</th>\n",
       "      <th>employment_agro_2016</th>\n",
       "      <th>employment_agro_2017</th>\n",
       "      <th>employment_agro_2018</th>\n",
       "      <th>employment_agro_2019</th>\n",
       "      <th>employment_industry_1990</th>\n",
       "      <th>employment_industry_1991</th>\n",
       "      <th>employment_industry_1992</th>\n",
       "      <th>employment_industry_1993</th>\n",
       "      <th>employment_industry_1994</th>\n",
       "      <th>employment_industry_1995</th>\n",
       "      <th>employment_industry_1996</th>\n",
       "      <th>employment_industry_1997</th>\n",
       "      <th>employment_industry_1998</th>\n",
       "      <th>employment_industry_1999</th>\n",
       "      <th>employment_industry_2000</th>\n",
       "      <th>employment_industry_2001</th>\n",
       "      <th>employment_industry_2002</th>\n",
       "      <th>employment_industry_2003</th>\n",
       "      <th>employment_industry_2004</th>\n",
       "      <th>employment_industry_2005</th>\n",
       "      <th>employment_industry_2006</th>\n",
       "      <th>employment_industry_2007</th>\n",
       "      <th>employment_industry_2008</th>\n",
       "      <th>employment_industry_2009</th>\n",
       "      <th>employment_industry_2010</th>\n",
       "      <th>employment_industry_2011</th>\n",
       "      <th>employment_industry_2012</th>\n",
       "      <th>employment_industry_2013</th>\n",
       "      <th>employment_industry_2014</th>\n",
       "      <th>employment_industry_2015</th>\n",
       "      <th>employment_industry_2016</th>\n",
       "      <th>employment_industry_2017</th>\n",
       "      <th>employment_industry_2018</th>\n",
       "      <th>employment_industry_2019</th>\n",
       "      <th>employment_services_1990</th>\n",
       "      <th>employment_services_1991</th>\n",
       "      <th>employment_services_1992</th>\n",
       "      <th>employment_services_1993</th>\n",
       "      <th>employment_services_1994</th>\n",
       "      <th>employment_services_1995</th>\n",
       "      <th>employment_services_1996</th>\n",
       "      <th>employment_services_1997</th>\n",
       "      <th>employment_services_1998</th>\n",
       "      <th>employment_services_1999</th>\n",
       "      <th>employment_services_2000</th>\n",
       "      <th>employment_services_2001</th>\n",
       "      <th>employment_services_2002</th>\n",
       "      <th>employment_services_2003</th>\n",
       "      <th>employment_services_2004</th>\n",
       "      <th>employment_services_2005</th>\n",
       "      <th>employment_services_2006</th>\n",
       "      <th>employment_services_2007</th>\n",
       "      <th>employment_services_2008</th>\n",
       "      <th>employment_services_2009</th>\n",
       "      <th>employment_services_2010</th>\n",
       "      <th>employment_services_2011</th>\n",
       "      <th>employment_services_2012</th>\n",
       "      <th>employment_services_2013</th>\n",
       "      <th>employment_services_2014</th>\n",
       "      <th>employment_services_2015</th>\n",
       "      <th>employment_services_2016</th>\n",
       "      <th>employment_services_2017</th>\n",
       "      <th>employment_services_2018</th>\n",
       "      <th>employment_services_2019</th>\n",
       "      <th>export_1990</th>\n",
       "      <th>export_1991</th>\n",
       "      <th>export_1992</th>\n",
       "      <th>export_1993</th>\n",
       "      <th>export_1994</th>\n",
       "      <th>export_1995</th>\n",
       "      <th>export_1996</th>\n",
       "      <th>export_1997</th>\n",
       "      <th>export_1998</th>\n",
       "      <th>export_1999</th>\n",
       "      <th>export_2000</th>\n",
       "      <th>export_2001</th>\n",
       "      <th>export_2002</th>\n",
       "      <th>export_2003</th>\n",
       "      <th>export_2004</th>\n",
       "      <th>export_2005</th>\n",
       "      <th>export_2006</th>\n",
       "      <th>export_2007</th>\n",
       "      <th>export_2008</th>\n",
       "      <th>export_2009</th>\n",
       "      <th>export_2010</th>\n",
       "      <th>export_2011</th>\n",
       "      <th>export_2012</th>\n",
       "      <th>export_2013</th>\n",
       "      <th>export_2014</th>\n",
       "      <th>export_2015</th>\n",
       "      <th>export_2016</th>\n",
       "      <th>export_2017</th>\n",
       "      <th>export_2018</th>\n",
       "      <th>export_2019</th>\n",
       "      <th>hdi_1990</th>\n",
       "      <th>hdi_1991</th>\n",
       "      <th>hdi_1992</th>\n",
       "      <th>hdi_1993</th>\n",
       "      <th>hdi_1994</th>\n",
       "      <th>hdi_1995</th>\n",
       "      <th>hdi_1996</th>\n",
       "      <th>hdi_1997</th>\n",
       "      <th>hdi_1998</th>\n",
       "      <th>hdi_1999</th>\n",
       "      <th>hdi_2000</th>\n",
       "      <th>hdi_2001</th>\n",
       "      <th>hdi_2002</th>\n",
       "      <th>hdi_2003</th>\n",
       "      <th>hdi_2004</th>\n",
       "      <th>hdi_2005</th>\n",
       "      <th>hdi_2006</th>\n",
       "      <th>hdi_2007</th>\n",
       "      <th>hdi_2008</th>\n",
       "      <th>hdi_2009</th>\n",
       "      <th>hdi_2010</th>\n",
       "      <th>hdi_2011</th>\n",
       "      <th>hdi_2012</th>\n",
       "      <th>hdi_2013</th>\n",
       "      <th>hdi_2014</th>\n",
       "      <th>hdi_2015</th>\n",
       "      <th>hdi_2016</th>\n",
       "      <th>hdi_2017</th>\n",
       "      <th>hdi_2018</th>\n",
       "      <th>hdi_2019</th>\n",
       "      <th>import_1990</th>\n",
       "      <th>import_1991</th>\n",
       "      <th>import_1992</th>\n",
       "      <th>import_1993</th>\n",
       "      <th>import_1994</th>\n",
       "      <th>import_1995</th>\n",
       "      <th>import_1996</th>\n",
       "      <th>import_1997</th>\n",
       "      <th>import_1998</th>\n",
       "      <th>import_1999</th>\n",
       "      <th>import_2000</th>\n",
       "      <th>import_2001</th>\n",
       "      <th>import_2002</th>\n",
       "      <th>import_2003</th>\n",
       "      <th>import_2004</th>\n",
       "      <th>import_2005</th>\n",
       "      <th>import_2006</th>\n",
       "      <th>import_2007</th>\n",
       "      <th>import_2008</th>\n",
       "      <th>import_2009</th>\n",
       "      <th>import_2010</th>\n",
       "      <th>import_2011</th>\n",
       "      <th>import_2012</th>\n",
       "      <th>import_2013</th>\n",
       "      <th>import_2014</th>\n",
       "      <th>import_2015</th>\n",
       "      <th>import_2016</th>\n",
       "      <th>import_2017</th>\n",
       "      <th>import_2018</th>\n",
       "      <th>import_2019</th>\n",
       "      <th>inflation_1990</th>\n",
       "      <th>inflation_1991</th>\n",
       "      <th>inflation_1992</th>\n",
       "      <th>inflation_1993</th>\n",
       "      <th>inflation_1994</th>\n",
       "      <th>inflation_1995</th>\n",
       "      <th>inflation_1996</th>\n",
       "      <th>inflation_1997</th>\n",
       "      <th>inflation_1998</th>\n",
       "      <th>inflation_1999</th>\n",
       "      <th>inflation_2000</th>\n",
       "      <th>inflation_2001</th>\n",
       "      <th>inflation_2002</th>\n",
       "      <th>inflation_2003</th>\n",
       "      <th>inflation_2004</th>\n",
       "      <th>inflation_2005</th>\n",
       "      <th>inflation_2006</th>\n",
       "      <th>inflation_2007</th>\n",
       "      <th>inflation_2008</th>\n",
       "      <th>inflation_2009</th>\n",
       "      <th>inflation_2010</th>\n",
       "      <th>inflation_2011</th>\n",
       "      <th>inflation_2012</th>\n",
       "      <th>inflation_2013</th>\n",
       "      <th>inflation_2014</th>\n",
       "      <th>inflation_2015</th>\n",
       "      <th>inflation_2016</th>\n",
       "      <th>inflation_2017</th>\n",
       "      <th>inflation_2018</th>\n",
       "      <th>inflation_2019</th>\n",
       "      <th>net_migration_1990</th>\n",
       "      <th>net_migration_1991</th>\n",
       "      <th>net_migration_1992</th>\n",
       "      <th>net_migration_1993</th>\n",
       "      <th>net_migration_1994</th>\n",
       "      <th>net_migration_1995</th>\n",
       "      <th>net_migration_1996</th>\n",
       "      <th>net_migration_1997</th>\n",
       "      <th>net_migration_1998</th>\n",
       "      <th>net_migration_1999</th>\n",
       "      <th>net_migration_2000</th>\n",
       "      <th>net_migration_2001</th>\n",
       "      <th>net_migration_2002</th>\n",
       "      <th>net_migration_2003</th>\n",
       "      <th>net_migration_2004</th>\n",
       "      <th>net_migration_2005</th>\n",
       "      <th>net_migration_2006</th>\n",
       "      <th>net_migration_2007</th>\n",
       "      <th>net_migration_2008</th>\n",
       "      <th>net_migration_2009</th>\n",
       "      <th>net_migration_2010</th>\n",
       "      <th>net_migration_2011</th>\n",
       "      <th>net_migration_2012</th>\n",
       "      <th>net_migration_2013</th>\n",
       "      <th>net_migration_2014</th>\n",
       "      <th>net_migration_2015</th>\n",
       "      <th>net_migration_2016</th>\n",
       "      <th>net_migration_2017</th>\n",
       "      <th>net_migration_2018</th>\n",
       "      <th>net_migration_2019</th>\n",
       "      <th>pop_1990</th>\n",
       "      <th>pop_1991</th>\n",
       "      <th>pop_1992</th>\n",
       "      <th>pop_1993</th>\n",
       "      <th>pop_1994</th>\n",
       "      <th>pop_1995</th>\n",
       "      <th>pop_1996</th>\n",
       "      <th>pop_1997</th>\n",
       "      <th>pop_1998</th>\n",
       "      <th>pop_1999</th>\n",
       "      <th>pop_2000</th>\n",
       "      <th>pop_2001</th>\n",
       "      <th>pop_2002</th>\n",
       "      <th>pop_2003</th>\n",
       "      <th>pop_2004</th>\n",
       "      <th>pop_2005</th>\n",
       "      <th>pop_2006</th>\n",
       "      <th>pop_2007</th>\n",
       "      <th>pop_2008</th>\n",
       "      <th>pop_2009</th>\n",
       "      <th>pop_2010</th>\n",
       "      <th>pop_2011</th>\n",
       "      <th>pop_2012</th>\n",
       "      <th>pop_2013</th>\n",
       "      <th>pop_2014</th>\n",
       "      <th>pop_2015</th>\n",
       "      <th>pop_2016</th>\n",
       "      <th>pop_2017</th>\n",
       "      <th>pop_2018</th>\n",
       "      <th>pop_2019</th>\n",
       "      <th>population_15_64_1990</th>\n",
       "      <th>population_15_64_1991</th>\n",
       "      <th>population_15_64_1992</th>\n",
       "      <th>population_15_64_1993</th>\n",
       "      <th>population_15_64_1994</th>\n",
       "      <th>population_15_64_1995</th>\n",
       "      <th>population_15_64_1996</th>\n",
       "      <th>population_15_64_1997</th>\n",
       "      <th>population_15_64_1998</th>\n",
       "      <th>population_15_64_1999</th>\n",
       "      <th>population_15_64_2000</th>\n",
       "      <th>population_15_64_2001</th>\n",
       "      <th>population_15_64_2002</th>\n",
       "      <th>population_15_64_2003</th>\n",
       "      <th>population_15_64_2004</th>\n",
       "      <th>population_15_64_2005</th>\n",
       "      <th>population_15_64_2006</th>\n",
       "      <th>population_15_64_2007</th>\n",
       "      <th>population_15_64_2008</th>\n",
       "      <th>population_15_64_2009</th>\n",
       "      <th>population_15_64_2010</th>\n",
       "      <th>population_15_64_2011</th>\n",
       "      <th>population_15_64_2012</th>\n",
       "      <th>population_15_64_2013</th>\n",
       "      <th>population_15_64_2014</th>\n",
       "      <th>population_15_64_2015</th>\n",
       "      <th>population_15_64_2016</th>\n",
       "      <th>population_15_64_2017</th>\n",
       "      <th>population_15_64_2018</th>\n",
       "      <th>population_15_64_2019</th>\n",
       "      <th>population_above_65_1990</th>\n",
       "      <th>population_above_65_1991</th>\n",
       "      <th>population_above_65_1992</th>\n",
       "      <th>population_above_65_1993</th>\n",
       "      <th>population_above_65_1994</th>\n",
       "      <th>population_above_65_1995</th>\n",
       "      <th>population_above_65_1996</th>\n",
       "      <th>population_above_65_1997</th>\n",
       "      <th>population_above_65_1998</th>\n",
       "      <th>population_above_65_1999</th>\n",
       "      <th>population_above_65_2000</th>\n",
       "      <th>population_above_65_2001</th>\n",
       "      <th>population_above_65_2002</th>\n",
       "      <th>population_above_65_2003</th>\n",
       "      <th>population_above_65_2004</th>\n",
       "      <th>population_above_65_2005</th>\n",
       "      <th>population_above_65_2006</th>\n",
       "      <th>population_above_65_2007</th>\n",
       "      <th>population_above_65_2008</th>\n",
       "      <th>population_above_65_2009</th>\n",
       "      <th>population_above_65_2010</th>\n",
       "      <th>population_above_65_2011</th>\n",
       "      <th>population_above_65_2012</th>\n",
       "      <th>population_above_65_2013</th>\n",
       "      <th>population_above_65_2014</th>\n",
       "      <th>population_above_65_2015</th>\n",
       "      <th>population_above_65_2016</th>\n",
       "      <th>population_above_65_2017</th>\n",
       "      <th>population_above_65_2018</th>\n",
       "      <th>population_above_65_2019</th>\n",
       "      <th>population_under_14_1990</th>\n",
       "      <th>population_under_14_1991</th>\n",
       "      <th>population_under_14_1992</th>\n",
       "      <th>population_under_14_1993</th>\n",
       "      <th>population_under_14_1994</th>\n",
       "      <th>population_under_14_1995</th>\n",
       "      <th>population_under_14_1996</th>\n",
       "      <th>population_under_14_1997</th>\n",
       "      <th>population_under_14_1998</th>\n",
       "      <th>population_under_14_1999</th>\n",
       "      <th>population_under_14_2000</th>\n",
       "      <th>population_under_14_2001</th>\n",
       "      <th>population_under_14_2002</th>\n",
       "      <th>population_under_14_2003</th>\n",
       "      <th>population_under_14_2004</th>\n",
       "      <th>population_under_14_2005</th>\n",
       "      <th>population_under_14_2006</th>\n",
       "      <th>population_under_14_2007</th>\n",
       "      <th>population_under_14_2008</th>\n",
       "      <th>population_under_14_2009</th>\n",
       "      <th>population_under_14_2010</th>\n",
       "      <th>population_under_14_2011</th>\n",
       "      <th>population_under_14_2012</th>\n",
       "      <th>population_under_14_2013</th>\n",
       "      <th>population_under_14_2014</th>\n",
       "      <th>population_under_14_2015</th>\n",
       "      <th>population_under_14_2016</th>\n",
       "      <th>population_under_14_2017</th>\n",
       "      <th>population_under_14_2018</th>\n",
       "      <th>population_under_14_2019</th>\n",
       "      <th>rgdpna_1990</th>\n",
       "      <th>rgdpna_1991</th>\n",
       "      <th>rgdpna_1992</th>\n",
       "      <th>rgdpna_1993</th>\n",
       "      <th>rgdpna_1994</th>\n",
       "      <th>rgdpna_1995</th>\n",
       "      <th>rgdpna_1996</th>\n",
       "      <th>rgdpna_1997</th>\n",
       "      <th>rgdpna_1998</th>\n",
       "      <th>rgdpna_1999</th>\n",
       "      <th>rgdpna_2000</th>\n",
       "      <th>rgdpna_2001</th>\n",
       "      <th>rgdpna_2002</th>\n",
       "      <th>rgdpna_2003</th>\n",
       "      <th>rgdpna_2004</th>\n",
       "      <th>rgdpna_2005</th>\n",
       "      <th>rgdpna_2006</th>\n",
       "      <th>rgdpna_2007</th>\n",
       "      <th>rgdpna_2008</th>\n",
       "      <th>rgdpna_2009</th>\n",
       "      <th>rgdpna_2010</th>\n",
       "      <th>rgdpna_2011</th>\n",
       "      <th>rgdpna_2012</th>\n",
       "      <th>rgdpna_2013</th>\n",
       "      <th>rgdpna_2014</th>\n",
       "      <th>rgdpna_2015</th>\n",
       "      <th>rgdpna_2016</th>\n",
       "      <th>rgdpna_2017</th>\n",
       "      <th>rgdpna_2018</th>\n",
       "      <th>rgdpna_2019</th>\n",
       "      <th>rgdpna_per_cap_1990</th>\n",
       "      <th>rgdpna_per_cap_1991</th>\n",
       "      <th>rgdpna_per_cap_1992</th>\n",
       "      <th>rgdpna_per_cap_1993</th>\n",
       "      <th>rgdpna_per_cap_1994</th>\n",
       "      <th>rgdpna_per_cap_1995</th>\n",
       "      <th>rgdpna_per_cap_1996</th>\n",
       "      <th>rgdpna_per_cap_1997</th>\n",
       "      <th>rgdpna_per_cap_1998</th>\n",
       "      <th>rgdpna_per_cap_1999</th>\n",
       "      <th>rgdpna_per_cap_2000</th>\n",
       "      <th>rgdpna_per_cap_2001</th>\n",
       "      <th>rgdpna_per_cap_2002</th>\n",
       "      <th>rgdpna_per_cap_2003</th>\n",
       "      <th>rgdpna_per_cap_2004</th>\n",
       "      <th>rgdpna_per_cap_2005</th>\n",
       "      <th>rgdpna_per_cap_2006</th>\n",
       "      <th>rgdpna_per_cap_2007</th>\n",
       "      <th>rgdpna_per_cap_2008</th>\n",
       "      <th>rgdpna_per_cap_2009</th>\n",
       "      <th>rgdpna_per_cap_2010</th>\n",
       "      <th>rgdpna_per_cap_2011</th>\n",
       "      <th>rgdpna_per_cap_2012</th>\n",
       "      <th>rgdpna_per_cap_2013</th>\n",
       "      <th>rgdpna_per_cap_2014</th>\n",
       "      <th>rgdpna_per_cap_2015</th>\n",
       "      <th>rgdpna_per_cap_2016</th>\n",
       "      <th>rgdpna_per_cap_2017</th>\n",
       "      <th>rgdpna_per_cap_2018</th>\n",
       "      <th>rgdpna_per_cap_2019</th>\n",
       "      <th>unemployment_1990</th>\n",
       "      <th>unemployment_1991</th>\n",
       "      <th>unemployment_1992</th>\n",
       "      <th>unemployment_1993</th>\n",
       "      <th>unemployment_1994</th>\n",
       "      <th>unemployment_1995</th>\n",
       "      <th>unemployment_1996</th>\n",
       "      <th>unemployment_1997</th>\n",
       "      <th>unemployment_1998</th>\n",
       "      <th>unemployment_1999</th>\n",
       "      <th>unemployment_2000</th>\n",
       "      <th>unemployment_2001</th>\n",
       "      <th>unemployment_2002</th>\n",
       "      <th>unemployment_2003</th>\n",
       "      <th>unemployment_2004</th>\n",
       "      <th>unemployment_2005</th>\n",
       "      <th>unemployment_2006</th>\n",
       "      <th>unemployment_2007</th>\n",
       "      <th>unemployment_2008</th>\n",
       "      <th>unemployment_2009</th>\n",
       "      <th>unemployment_2010</th>\n",
       "      <th>unemployment_2011</th>\n",
       "      <th>unemployment_2012</th>\n",
       "      <th>unemployment_2013</th>\n",
       "      <th>unemployment_2014</th>\n",
       "      <th>unemployment_2015</th>\n",
       "      <th>unemployment_2016</th>\n",
       "      <th>unemployment_2017</th>\n",
       "      <th>unemployment_2018</th>\n",
       "      <th>unemployment_2019</th>\n",
       "      <th>urban_population_1990</th>\n",
       "      <th>urban_population_1991</th>\n",
       "      <th>urban_population_1992</th>\n",
       "      <th>urban_population_1993</th>\n",
       "      <th>urban_population_1994</th>\n",
       "      <th>urban_population_1995</th>\n",
       "      <th>urban_population_1996</th>\n",
       "      <th>urban_population_1997</th>\n",
       "      <th>urban_population_1998</th>\n",
       "      <th>urban_population_1999</th>\n",
       "      <th>urban_population_2000</th>\n",
       "      <th>urban_population_2001</th>\n",
       "      <th>urban_population_2002</th>\n",
       "      <th>urban_population_2003</th>\n",
       "      <th>urban_population_2004</th>\n",
       "      <th>urban_population_2005</th>\n",
       "      <th>urban_population_2006</th>\n",
       "      <th>urban_population_2007</th>\n",
       "      <th>urban_population_2008</th>\n",
       "      <th>urban_population_2009</th>\n",
       "      <th>urban_population_2010</th>\n",
       "      <th>urban_population_2011</th>\n",
       "      <th>urban_population_2012</th>\n",
       "      <th>urban_population_2013</th>\n",
       "      <th>urban_population_2014</th>\n",
       "      <th>urban_population_2015</th>\n",
       "      <th>urban_population_2016</th>\n",
       "      <th>urban_population_2017</th>\n",
       "      <th>urban_population_2018</th>\n",
       "      <th>urban_population_2019</th>\n",
       "      <th>xr_1990</th>\n",
       "      <th>xr_1991</th>\n",
       "      <th>xr_1992</th>\n",
       "      <th>xr_1993</th>\n",
       "      <th>xr_1994</th>\n",
       "      <th>xr_1995</th>\n",
       "      <th>xr_1996</th>\n",
       "      <th>xr_1997</th>\n",
       "      <th>xr_1998</th>\n",
       "      <th>xr_1999</th>\n",
       "      <th>xr_2000</th>\n",
       "      <th>xr_2001</th>\n",
       "      <th>xr_2002</th>\n",
       "      <th>xr_2003</th>\n",
       "      <th>xr_2004</th>\n",
       "      <th>xr_2005</th>\n",
       "      <th>xr_2006</th>\n",
       "      <th>xr_2007</th>\n",
       "      <th>xr_2008</th>\n",
       "      <th>xr_2009</th>\n",
       "      <th>xr_2010</th>\n",
       "      <th>xr_2011</th>\n",
       "      <th>xr_2012</th>\n",
       "      <th>xr_2013</th>\n",
       "      <th>xr_2014</th>\n",
       "      <th>xr_2015</th>\n",
       "      <th>xr_2016</th>\n",
       "      <th>xr_2017</th>\n",
       "      <th>xr_2018</th>\n",
       "      <th>xr_2019</th>\n",
       "    </tr>\n",
       "  </thead>\n",
       "  <tbody>\n",
       "    <tr>\n",
       "      <th>0</th>\n",
       "      <td>ALB</td>\n",
       "      <td>Albania</td>\n",
       "      <td>0.040463</td>\n",
       "      <td>0.035597</td>\n",
       "      <td>0.030689</td>\n",
       "      <td>0.026408</td>\n",
       "      <td>0.023288</td>\n",
       "      <td>0.021517</td>\n",
       "      <td>0.021111</td>\n",
       "      <td>0.022132</td>\n",
       "      <td>0.024558</td>\n",
       "      <td>0.028034</td>\n",
       "      <td>0.031939</td>\n",
       "      <td>0.035716</td>\n",
       "      <td>0.039018</td>\n",
       "      <td>0.041641</td>\n",
       "      <td>0.043507</td>\n",
       "      <td>0.044748</td>\n",
       "      <td>0.045694</td>\n",
       "      <td>0.046707</td>\n",
       "      <td>0.048008</td>\n",
       "      <td>0.049597</td>\n",
       "      <td>0.051294</td>\n",
       "      <td>0.052889</td>\n",
       "      <td>0.054303</td>\n",
       "      <td>0.055604</td>\n",
       "      <td>0.056893</td>\n",
       "      <td>0.058215</td>\n",
       "      <td>0.059550</td>\n",
       "      <td>0.060803</td>\n",
       "      <td>0.061847</td>\n",
       "      <td>0.062611</td>\n",
       "      <td>0.475201</td>\n",
       "      <td>0.484793</td>\n",
       "      <td>0.487556</td>\n",
       "      <td>0.479223</td>\n",
       "      <td>0.459342</td>\n",
       "      <td>0.431709</td>\n",
       "      <td>0.401174</td>\n",
       "      <td>0.371444</td>\n",
       "      <td>0.345761</td>\n",
       "      <td>0.327233</td>\n",
       "      <td>0.317503</td>\n",
       "      <td>0.315748</td>\n",
       "      <td>0.319229</td>\n",
       "      <td>0.324730</td>\n",
       "      <td>0.329884</td>\n",
       "      <td>0.333672</td>\n",
       "      <td>0.335777</td>\n",
       "      <td>0.335724</td>\n",
       "      <td>0.333144</td>\n",
       "      <td>0.328896</td>\n",
       "      <td>0.325166</td>\n",
       "      <td>0.323832</td>\n",
       "      <td>0.324888</td>\n",
       "      <td>0.326692</td>\n",
       "      <td>0.327653</td>\n",
       "      <td>0.327505</td>\n",
       "      <td>0.327097</td>\n",
       "      <td>0.327274</td>\n",
       "      <td>0.328187</td>\n",
       "      <td>0.329494</td>\n",
       "      <td>0.317663</td>\n",
       "      <td>0.330491</td>\n",
       "      <td>0.339263</td>\n",
       "      <td>0.348672</td>\n",
       "      <td>0.369705</td>\n",
       "      <td>0.413656</td>\n",
       "      <td>0.480589</td>\n",
       "      <td>0.553395</td>\n",
       "      <td>0.606460</td>\n",
       "      <td>0.623023</td>\n",
       "      <td>0.604655</td>\n",
       "      <td>0.565116</td>\n",
       "      <td>0.518074</td>\n",
       "      <td>0.471115</td>\n",
       "      <td>0.427400</td>\n",
       "      <td>0.389048</td>\n",
       "      <td>0.358262</td>\n",
       "      <td>0.336418</td>\n",
       "      <td>0.322910</td>\n",
       "      <td>0.315192</td>\n",
       "      <td>0.310182</td>\n",
       "      <td>0.306000</td>\n",
       "      <td>0.302519</td>\n",
       "      <td>0.300403</td>\n",
       "      <td>0.299912</td>\n",
       "      <td>0.300675</td>\n",
       "      <td>0.302113</td>\n",
       "      <td>0.303742</td>\n",
       "      <td>0.305246</td>\n",
       "      <td>0.306489</td>\n",
       "      <td>0.093659</td>\n",
       "      <td>0.087354</td>\n",
       "      <td>0.087580</td>\n",
       "      <td>0.095106</td>\n",
       "      <td>0.107618</td>\n",
       "      <td>0.121350</td>\n",
       "      <td>0.134949</td>\n",
       "      <td>0.151439</td>\n",
       "      <td>0.176045</td>\n",
       "      <td>0.212026</td>\n",
       "      <td>0.258257</td>\n",
       "      <td>0.310405</td>\n",
       "      <td>0.364006</td>\n",
       "      <td>0.416093</td>\n",
       "      <td>0.464208</td>\n",
       "      <td>0.504834</td>\n",
       "      <td>0.533520</td>\n",
       "      <td>0.546593</td>\n",
       "      <td>0.542964</td>\n",
       "      <td>0.525131</td>\n",
       "      <td>0.498837</td>\n",
       "      <td>0.470966</td>\n",
       "      <td>0.446633</td>\n",
       "      <td>0.427686</td>\n",
       "      <td>0.413550</td>\n",
       "      <td>0.402973</td>\n",
       "      <td>0.394936</td>\n",
       "      <td>0.388637</td>\n",
       "      <td>0.383413</td>\n",
       "      <td>0.378854</td>\n",
       "      <td>0.954592</td>\n",
       "      <td>0.947753</td>\n",
       "      <td>0.942814</td>\n",
       "      <td>0.940917</td>\n",
       "      <td>0.941699</td>\n",
       "      <td>0.943250</td>\n",
       "      <td>0.943413</td>\n",
       "      <td>0.940936</td>\n",
       "      <td>0.935645</td>\n",
       "      <td>0.928107</td>\n",
       "      <td>0.919160</td>\n",
       "      <td>0.909506</td>\n",
       "      <td>0.899576</td>\n",
       "      <td>0.889627</td>\n",
       "      <td>0.879887</td>\n",
       "      <td>0.870769</td>\n",
       "      <td>0.863146</td>\n",
       "      <td>0.858280</td>\n",
       "      <td>0.857028</td>\n",
       "      <td>0.858945</td>\n",
       "      <td>0.862471</td>\n",
       "      <td>0.866154</td>\n",
       "      <td>0.869486</td>\n",
       "      <td>0.872528</td>\n",
       "      <td>0.875057</td>\n",
       "      <td>0.876346</td>\n",
       "      <td>0.875845</td>\n",
       "      <td>0.873840</td>\n",
       "      <td>0.871253</td>\n",
       "      <td>0.868915</td>\n",
       "      <td>0.158237</td>\n",
       "      <td>0.157691</td>\n",
       "      <td>0.164122</td>\n",
       "      <td>0.179091</td>\n",
       "      <td>0.198760</td>\n",
       "      <td>0.215891</td>\n",
       "      <td>0.227082</td>\n",
       "      <td>0.236308</td>\n",
       "      <td>0.249597</td>\n",
       "      <td>0.267715</td>\n",
       "      <td>0.285493</td>\n",
       "      <td>0.297281</td>\n",
       "      <td>0.301730</td>\n",
       "      <td>0.301923</td>\n",
       "      <td>0.302407</td>\n",
       "      <td>0.306387</td>\n",
       "      <td>0.314844</td>\n",
       "      <td>0.327235</td>\n",
       "      <td>0.342238</td>\n",
       "      <td>0.357600</td>\n",
       "      <td>0.369987</td>\n",
       "      <td>0.376426</td>\n",
       "      <td>0.376801</td>\n",
       "      <td>0.374598</td>\n",
       "      <td>0.374409</td>\n",
       "      <td>0.378402</td>\n",
       "      <td>0.385258</td>\n",
       "      <td>0.392157</td>\n",
       "      <td>0.397220</td>\n",
       "      <td>0.400168</td>\n",
       "      <td>0.018863</td>\n",
       "      <td>0.018106</td>\n",
       "      <td>0.016650</td>\n",
       "      <td>0.014622</td>\n",
       "      <td>0.012502</td>\n",
       "      <td>0.010941</td>\n",
       "      <td>0.010468</td>\n",
       "      <td>0.011282</td>\n",
       "      <td>0.013141</td>\n",
       "      <td>0.015478</td>\n",
       "      <td>0.017863</td>\n",
       "      <td>0.020367</td>\n",
       "      <td>0.023371</td>\n",
       "      <td>0.027069</td>\n",
       "      <td>0.031230</td>\n",
       "      <td>0.035361</td>\n",
       "      <td>0.039001</td>\n",
       "      <td>0.042000</td>\n",
       "      <td>0.044734</td>\n",
       "      <td>0.047975</td>\n",
       "      <td>0.052261</td>\n",
       "      <td>0.057229</td>\n",
       "      <td>0.061701</td>\n",
       "      <td>0.064530</td>\n",
       "      <td>0.065522</td>\n",
       "      <td>0.065605</td>\n",
       "      <td>0.066051</td>\n",
       "      <td>0.067468</td>\n",
       "      <td>0.069588</td>\n",
       "      <td>0.071816</td>\n",
       "      <td>0.151999</td>\n",
       "      <td>0.146769</td>\n",
       "      <td>0.140639</td>\n",
       "      <td>0.134270</td>\n",
       "      <td>0.128552</td>\n",
       "      <td>0.124136</td>\n",
       "      <td>0.121175</td>\n",
       "      <td>0.119533</td>\n",
       "      <td>0.119085</td>\n",
       "      <td>0.119728</td>\n",
       "      <td>0.121197</td>\n",
       "      <td>0.122993</td>\n",
       "      <td>0.124525</td>\n",
       "      <td>0.125317</td>\n",
       "      <td>0.125147</td>\n",
       "      <td>0.124130</td>\n",
       "      <td>0.122740</td>\n",
       "      <td>0.121646</td>\n",
       "      <td>0.121380</td>\n",
       "      <td>0.122100</td>\n",
       "      <td>0.123636</td>\n",
       "      <td>0.125707</td>\n",
       "      <td>0.128058</td>\n",
       "      <td>0.130450</td>\n",
       "      <td>0.132651</td>\n",
       "      <td>0.134490</td>\n",
       "      <td>0.135909</td>\n",
       "      <td>0.136945</td>\n",
       "      <td>0.137672</td>\n",
       "      <td>0.138163</td>\n",
       "      <td>0.466870</td>\n",
       "      <td>0.450952</td>\n",
       "      <td>0.434157</td>\n",
       "      <td>0.419071</td>\n",
       "      <td>0.407361</td>\n",
       "      <td>0.398641</td>\n",
       "      <td>0.391543</td>\n",
       "      <td>0.385539</td>\n",
       "      <td>0.381260</td>\n",
       "      <td>0.379537</td>\n",
       "      <td>0.380589</td>\n",
       "      <td>0.383898</td>\n",
       "      <td>0.388531</td>\n",
       "      <td>0.393492</td>\n",
       "      <td>0.397806</td>\n",
       "      <td>0.400416</td>\n",
       "      <td>0.400258</td>\n",
       "      <td>0.396843</td>\n",
       "      <td>0.391003</td>\n",
       "      <td>0.384842</td>\n",
       "      <td>0.380508</td>\n",
       "      <td>0.378963</td>\n",
       "      <td>0.380205</td>\n",
       "      <td>0.384492</td>\n",
       "      <td>0.392660</td>\n",
       "      <td>0.404871</td>\n",
       "      <td>0.419467</td>\n",
       "      <td>0.433646</td>\n",
       "      <td>0.445225</td>\n",
       "      <td>0.453540</td>\n",
       "      <td>0.995473</td>\n",
       "      <td>0.993862</td>\n",
       "      <td>0.990899</td>\n",
       "      <td>0.986223</td>\n",
       "      <td>0.979889</td>\n",
       "      <td>0.972277</td>\n",
       "      <td>0.963499</td>\n",
       "      <td>0.952971</td>\n",
       "      <td>0.939799</td>\n",
       "      <td>0.923627</td>\n",
       "      <td>0.905095</td>\n",
       "      <td>0.885517</td>\n",
       "      <td>0.866152</td>\n",
       "      <td>0.847680</td>\n",
       "      <td>0.830185</td>\n",
       "      <td>0.813530</td>\n",
       "      <td>0.797770</td>\n",
       "      <td>0.783450</td>\n",
       "      <td>0.771712</td>\n",
       "      <td>0.763860</td>\n",
       "      <td>0.760005</td>\n",
       "      <td>0.757771</td>\n",
       "      <td>0.752994</td>\n",
       "      <td>0.742470</td>\n",
       "      <td>0.726062</td>\n",
       "      <td>0.706284</td>\n",
       "      <td>0.686416</td>\n",
       "      <td>0.669014</td>\n",
       "      <td>0.655315</td>\n",
       "      <td>0.645343</td>\n",
       "      <td>0.023282</td>\n",
       "      <td>0.023786</td>\n",
       "      <td>0.024757</td>\n",
       "      <td>0.026156</td>\n",
       "      <td>0.027685</td>\n",
       "      <td>0.029089</td>\n",
       "      <td>0.030763</td>\n",
       "      <td>0.033992</td>\n",
       "      <td>0.040360</td>\n",
       "      <td>0.050771</td>\n",
       "      <td>0.064847</td>\n",
       "      <td>0.081129</td>\n",
       "      <td>0.097958</td>\n",
       "      <td>0.114412</td>\n",
       "      <td>0.130701</td>\n",
       "      <td>0.147820</td>\n",
       "      <td>0.166734</td>\n",
       "      <td>0.187257</td>\n",
       "      <td>0.206941</td>\n",
       "      <td>0.221271</td>\n",
       "      <td>0.226347</td>\n",
       "      <td>0.222515</td>\n",
       "      <td>0.215119</td>\n",
       "      <td>0.210965</td>\n",
       "      <td>0.213673</td>\n",
       "      <td>0.222133</td>\n",
       "      <td>0.232677</td>\n",
       "      <td>0.242176</td>\n",
       "      <td>0.249404</td>\n",
       "      <td>0.254508</td>\n",
       "      <td>0.040798</td>\n",
       "      <td>0.042039</td>\n",
       "      <td>0.044296</td>\n",
       "      <td>0.047938</td>\n",
       "      <td>0.053085</td>\n",
       "      <td>0.059524</td>\n",
       "      <td>0.066912</td>\n",
       "      <td>0.075055</td>\n",
       "      <td>0.083880</td>\n",
       "      <td>0.093203</td>\n",
       "      <td>0.102642</td>\n",
       "      <td>0.111796</td>\n",
       "      <td>0.120433</td>\n",
       "      <td>0.128439</td>\n",
       "      <td>0.135616</td>\n",
       "      <td>0.141523</td>\n",
       "      <td>0.145546</td>\n",
       "      <td>0.147272</td>\n",
       "      <td>0.147027</td>\n",
       "      <td>0.146188</td>\n",
       "      <td>0.146917</td>\n",
       "      <td>0.151274</td>\n",
       "      <td>0.160109</td>\n",
       "      <td>0.172521</td>\n",
       "      <td>0.186540</td>\n",
       "      <td>0.200431</td>\n",
       "      <td>0.213208</td>\n",
       "      <td>0.224251</td>\n",
       "      <td>0.233092</td>\n",
       "      <td>0.239618</td>\n",
       "      <td>0.035778</td>\n",
       "      <td>0.035841</td>\n",
       "      <td>0.036417</td>\n",
       "      <td>0.036917</td>\n",
       "      <td>0.036798</td>\n",
       "      <td>0.036295</td>\n",
       "      <td>0.036646</td>\n",
       "      <td>0.039391</td>\n",
       "      <td>0.045234</td>\n",
       "      <td>0.053361</td>\n",
       "      <td>0.061868</td>\n",
       "      <td>0.069066</td>\n",
       "      <td>0.074516</td>\n",
       "      <td>0.078953</td>\n",
       "      <td>0.083361</td>\n",
       "      <td>0.088094</td>\n",
       "      <td>0.092740</td>\n",
       "      <td>0.096703</td>\n",
       "      <td>0.099901</td>\n",
       "      <td>0.102761</td>\n",
       "      <td>0.105562</td>\n",
       "      <td>0.108022</td>\n",
       "      <td>0.109683</td>\n",
       "      <td>0.110579</td>\n",
       "      <td>0.111371</td>\n",
       "      <td>0.112829</td>\n",
       "      <td>0.115157</td>\n",
       "      <td>0.117869</td>\n",
       "      <td>0.120291</td>\n",
       "      <td>0.122056</td>\n",
       "      <td>0.051255</td>\n",
       "      <td>0.042410</td>\n",
       "      <td>0.036869</td>\n",
       "      <td>0.037571</td>\n",
       "      <td>0.045982</td>\n",
       "      <td>0.060889</td>\n",
       "      <td>0.079490</td>\n",
       "      <td>0.099571</td>\n",
       "      <td>0.120252</td>\n",
       "      <td>0.141214</td>\n",
       "      <td>0.162052</td>\n",
       "      <td>0.182445</td>\n",
       "      <td>0.202500</td>\n",
       "      <td>0.222689</td>\n",
       "      <td>0.243485</td>\n",
       "      <td>0.265052</td>\n",
       "      <td>0.287299</td>\n",
       "      <td>0.310360</td>\n",
       "      <td>0.334983</td>\n",
       "      <td>0.362138</td>\n",
       "      <td>0.391808</td>\n",
       "      <td>0.422113</td>\n",
       "      <td>0.449888</td>\n",
       "      <td>0.472378</td>\n",
       "      <td>0.488566</td>\n",
       "      <td>0.499247</td>\n",
       "      <td>0.506136</td>\n",
       "      <td>0.510847</td>\n",
       "      <td>0.514366</td>\n",
       "      <td>0.517123</td>\n",
       "      <td>0.234066</td>\n",
       "      <td>0.258771</td>\n",
       "      <td>0.272822</td>\n",
       "      <td>0.269351</td>\n",
       "      <td>0.249430</td>\n",
       "      <td>0.223201</td>\n",
       "      <td>0.202349</td>\n",
       "      <td>0.192534</td>\n",
       "      <td>0.193114</td>\n",
       "      <td>0.200772</td>\n",
       "      <td>0.211819</td>\n",
       "      <td>0.222905</td>\n",
       "      <td>0.231874</td>\n",
       "      <td>0.238592</td>\n",
       "      <td>0.244463</td>\n",
       "      <td>0.250694</td>\n",
       "      <td>0.256926</td>\n",
       "      <td>0.261542</td>\n",
       "      <td>0.263237</td>\n",
       "      <td>0.262094</td>\n",
       "      <td>0.259130</td>\n",
       "      <td>0.255224</td>\n",
       "      <td>0.250822</td>\n",
       "      <td>0.246358</td>\n",
       "      <td>0.242446</td>\n",
       "      <td>0.239591</td>\n",
       "      <td>0.237859</td>\n",
       "      <td>0.236910</td>\n",
       "      <td>0.236320</td>\n",
       "      <td>0.235844</td>\n",
       "      <td>0.026795</td>\n",
       "      <td>0.030538</td>\n",
       "      <td>0.032010</td>\n",
       "      <td>0.030130</td>\n",
       "      <td>0.025328</td>\n",
       "      <td>0.019501</td>\n",
       "      <td>0.014512</td>\n",
       "      <td>0.011042</td>\n",
       "      <td>0.008859</td>\n",
       "      <td>0.007556</td>\n",
       "      <td>0.006842</td>\n",
       "      <td>0.006499</td>\n",
       "      <td>0.006347</td>\n",
       "      <td>0.006265</td>\n",
       "      <td>0.006203</td>\n",
       "      <td>0.006158</td>\n",
       "      <td>0.006137</td>\n",
       "      <td>0.006127</td>\n",
       "      <td>0.006104</td>\n",
       "      <td>0.006041</td>\n",
       "      <td>0.005927</td>\n",
       "      <td>0.005773</td>\n",
       "      <td>0.005610</td>\n",
       "      <td>0.005470</td>\n",
       "      <td>0.005372</td>\n",
       "      <td>0.005319</td>\n",
       "      <td>0.005303</td>\n",
       "      <td>0.005311</td>\n",
       "      <td>0.005327</td>\n",
       "      <td>0.005337</td>\n",
       "      <td>0.093730</td>\n",
       "      <td>0.097011</td>\n",
       "      <td>0.102411</td>\n",
       "      <td>0.110334</td>\n",
       "      <td>0.120462</td>\n",
       "      <td>0.131600</td>\n",
       "      <td>0.142101</td>\n",
       "      <td>0.150555</td>\n",
       "      <td>0.156307</td>\n",
       "      <td>0.159538</td>\n",
       "      <td>0.160910</td>\n",
       "      <td>0.161083</td>\n",
       "      <td>0.160474</td>\n",
       "      <td>0.159328</td>\n",
       "      <td>0.157913</td>\n",
       "      <td>0.156634</td>\n",
       "      <td>0.155999</td>\n",
       "      <td>0.156457</td>\n",
       "      <td>0.158203</td>\n",
       "      <td>0.161084</td>\n",
       "      <td>0.164711</td>\n",
       "      <td>0.168677</td>\n",
       "      <td>0.172709</td>\n",
       "      <td>0.176731</td>\n",
       "      <td>0.180863</td>\n",
       "      <td>0.185345</td>\n",
       "      <td>0.190342</td>\n",
       "      <td>0.195720</td>\n",
       "      <td>0.201057</td>\n",
       "      <td>0.205896</td>\n",
       "      <td>0.020266</td>\n",
       "      <td>0.020158</td>\n",
       "      <td>0.020010</td>\n",
       "      <td>0.019828</td>\n",
       "      <td>0.019638</td>\n",
       "      <td>0.019475</td>\n",
       "      <td>0.019367</td>\n",
       "      <td>0.019317</td>\n",
       "      <td>0.019313</td>\n",
       "      <td>0.019331</td>\n",
       "      <td>0.019348</td>\n",
       "      <td>0.019348</td>\n",
       "      <td>0.019321</td>\n",
       "      <td>0.019263</td>\n",
       "      <td>0.019174</td>\n",
       "      <td>0.019053</td>\n",
       "      <td>0.018906</td>\n",
       "      <td>0.018740</td>\n",
       "      <td>0.018565</td>\n",
       "      <td>0.018395</td>\n",
       "      <td>0.018241</td>\n",
       "      <td>0.018110</td>\n",
       "      <td>0.018005</td>\n",
       "      <td>0.017923</td>\n",
       "      <td>0.017862</td>\n",
       "      <td>0.017818</td>\n",
       "      <td>0.017787</td>\n",
       "      <td>0.017767</td>\n",
       "      <td>0.017754</td>\n",
       "      <td>0.017745</td>\n",
       "      <td>0.045050</td>\n",
       "      <td>0.038567</td>\n",
       "      <td>0.031683</td>\n",
       "      <td>0.026117</td>\n",
       "      <td>0.024476</td>\n",
       "      <td>0.029211</td>\n",
       "      <td>0.041275</td>\n",
       "      <td>0.059783</td>\n",
       "      <td>0.082947</td>\n",
       "      <td>0.109287</td>\n",
       "      <td>0.138121</td>\n",
       "      <td>0.169279</td>\n",
       "      <td>0.202615</td>\n",
       "      <td>0.237694</td>\n",
       "      <td>0.273704</td>\n",
       "      <td>0.309545</td>\n",
       "      <td>0.344086</td>\n",
       "      <td>0.376620</td>\n",
       "      <td>0.407282</td>\n",
       "      <td>0.437009</td>\n",
       "      <td>0.466736</td>\n",
       "      <td>0.496277</td>\n",
       "      <td>0.523917</td>\n",
       "      <td>0.547202</td>\n",
       "      <td>0.564260</td>\n",
       "      <td>0.574653</td>\n",
       "      <td>0.579380</td>\n",
       "      <td>0.580242</td>\n",
       "      <td>0.579045</td>\n",
       "      <td>0.577074</td>\n",
       "      <td>0.012636</td>\n",
       "      <td>0.017593</td>\n",
       "      <td>0.024157</td>\n",
       "      <td>0.032217</td>\n",
       "      <td>0.041217</td>\n",
       "      <td>0.050369</td>\n",
       "      <td>0.059113</td>\n",
       "      <td>0.067420</td>\n",
       "      <td>0.075772</td>\n",
       "      <td>0.084915</td>\n",
       "      <td>0.095558</td>\n",
       "      <td>0.108111</td>\n",
       "      <td>0.122620</td>\n",
       "      <td>0.138928</td>\n",
       "      <td>0.156905</td>\n",
       "      <td>0.176525</td>\n",
       "      <td>0.197731</td>\n",
       "      <td>0.220282</td>\n",
       "      <td>0.243712</td>\n",
       "      <td>0.267442</td>\n",
       "      <td>0.290978</td>\n",
       "      <td>0.314084</td>\n",
       "      <td>0.336810</td>\n",
       "      <td>0.359305</td>\n",
       "      <td>0.381510</td>\n",
       "      <td>0.402959</td>\n",
       "      <td>0.422803</td>\n",
       "      <td>0.440109</td>\n",
       "      <td>0.454281</td>\n",
       "      <td>0.465287</td>\n",
       "      <td>0.995734</td>\n",
       "      <td>0.995729</td>\n",
       "      <td>0.994572</td>\n",
       "      <td>0.991197</td>\n",
       "      <td>0.984334</td>\n",
       "      <td>0.973023</td>\n",
       "      <td>0.957114</td>\n",
       "      <td>0.937232</td>\n",
       "      <td>0.914160</td>\n",
       "      <td>0.888238</td>\n",
       "      <td>0.859300</td>\n",
       "      <td>0.827098</td>\n",
       "      <td>0.791688</td>\n",
       "      <td>0.753506</td>\n",
       "      <td>0.713215</td>\n",
       "      <td>0.671584</td>\n",
       "      <td>0.629426</td>\n",
       "      <td>0.587435</td>\n",
       "      <td>0.545933</td>\n",
       "      <td>0.504796</td>\n",
       "      <td>0.463832</td>\n",
       "      <td>0.423375</td>\n",
       "      <td>0.384540</td>\n",
       "      <td>0.348857</td>\n",
       "      <td>0.317644</td>\n",
       "      <td>0.291611</td>\n",
       "      <td>0.270832</td>\n",
       "      <td>0.254917</td>\n",
       "      <td>0.243172</td>\n",
       "      <td>0.234755</td>\n",
       "      <td>0.001841</td>\n",
       "      <td>0.001765</td>\n",
       "      <td>0.001737</td>\n",
       "      <td>0.001777</td>\n",
       "      <td>0.001881</td>\n",
       "      <td>0.002025</td>\n",
       "      <td>0.002181</td>\n",
       "      <td>0.002346</td>\n",
       "      <td>0.002537</td>\n",
       "      <td>0.002765</td>\n",
       "      <td>0.003023</td>\n",
       "      <td>0.003292</td>\n",
       "      <td>0.003562</td>\n",
       "      <td>0.003832</td>\n",
       "      <td>0.004111</td>\n",
       "      <td>0.004403</td>\n",
       "      <td>0.004710</td>\n",
       "      <td>0.005021</td>\n",
       "      <td>0.005321</td>\n",
       "      <td>0.005590</td>\n",
       "      <td>0.005819</td>\n",
       "      <td>0.006008</td>\n",
       "      <td>0.006169</td>\n",
       "      <td>0.006318</td>\n",
       "      <td>0.006477</td>\n",
       "      <td>0.006654</td>\n",
       "      <td>0.006843</td>\n",
       "      <td>0.007027</td>\n",
       "      <td>0.007186</td>\n",
       "      <td>0.007311</td>\n",
       "      <td>0.021368</td>\n",
       "      <td>0.020529</td>\n",
       "      <td>0.020431</td>\n",
       "      <td>0.021354</td>\n",
       "      <td>0.023224</td>\n",
       "      <td>0.025602</td>\n",
       "      <td>0.028058</td>\n",
       "      <td>0.030538</td>\n",
       "      <td>0.033307</td>\n",
       "      <td>0.036574</td>\n",
       "      <td>0.040276</td>\n",
       "      <td>0.044205</td>\n",
       "      <td>0.048231</td>\n",
       "      <td>0.052386</td>\n",
       "      <td>0.056799</td>\n",
       "      <td>0.061579</td>\n",
       "      <td>0.066729</td>\n",
       "      <td>0.072091</td>\n",
       "      <td>0.077376</td>\n",
       "      <td>0.082257</td>\n",
       "      <td>0.086509</td>\n",
       "      <td>0.090083</td>\n",
       "      <td>0.093119</td>\n",
       "      <td>0.095896</td>\n",
       "      <td>0.098716</td>\n",
       "      <td>0.101742</td>\n",
       "      <td>0.104897</td>\n",
       "      <td>0.107907</td>\n",
       "      <td>0.110490</td>\n",
       "      <td>0.112512</td>\n",
       "      <td>0.428295</td>\n",
       "      <td>0.429421</td>\n",
       "      <td>0.430850</td>\n",
       "      <td>0.432400</td>\n",
       "      <td>0.433774</td>\n",
       "      <td>0.434747</td>\n",
       "      <td>0.435303</td>\n",
       "      <td>0.435591</td>\n",
       "      <td>0.435761</td>\n",
       "      <td>0.435867</td>\n",
       "      <td>0.435878</td>\n",
       "      <td>0.435674</td>\n",
       "      <td>0.434956</td>\n",
       "      <td>0.433102</td>\n",
       "      <td>0.429092</td>\n",
       "      <td>0.421705</td>\n",
       "      <td>0.410322</td>\n",
       "      <td>0.396068</td>\n",
       "      <td>0.382114</td>\n",
       "      <td>0.372389</td>\n",
       "      <td>0.369855</td>\n",
       "      <td>0.375634</td>\n",
       "      <td>0.388251</td>\n",
       "      <td>0.402665</td>\n",
       "      <td>0.411298</td>\n",
       "      <td>0.408362</td>\n",
       "      <td>0.393981</td>\n",
       "      <td>0.373580</td>\n",
       "      <td>0.353360</td>\n",
       "      <td>0.336850</td>\n",
       "      <td>0.008616</td>\n",
       "      <td>0.012412</td>\n",
       "      <td>0.017598</td>\n",
       "      <td>0.024219</td>\n",
       "      <td>0.032028</td>\n",
       "      <td>0.040604</td>\n",
       "      <td>0.049588</td>\n",
       "      <td>0.058835</td>\n",
       "      <td>0.068444</td>\n",
       "      <td>0.078729</td>\n",
       "      <td>0.090132</td>\n",
       "      <td>0.103033</td>\n",
       "      <td>0.117533</td>\n",
       "      <td>0.133387</td>\n",
       "      <td>0.150155</td>\n",
       "      <td>0.167421</td>\n",
       "      <td>0.184913</td>\n",
       "      <td>0.202494</td>\n",
       "      <td>0.220102</td>\n",
       "      <td>0.237701</td>\n",
       "      <td>0.255253</td>\n",
       "      <td>0.272705</td>\n",
       "      <td>0.289982</td>\n",
       "      <td>0.306977</td>\n",
       "      <td>0.323506</td>\n",
       "      <td>0.339210</td>\n",
       "      <td>0.353500</td>\n",
       "      <td>0.365721</td>\n",
       "      <td>0.375490</td>\n",
       "      <td>0.382868</td>\n",
       "      <td>0.088576</td>\n",
       "      <td>0.122181</td>\n",
       "      <td>0.167289</td>\n",
       "      <td>0.221561</td>\n",
       "      <td>0.279895</td>\n",
       "      <td>0.337093</td>\n",
       "      <td>0.389173</td>\n",
       "      <td>0.432084</td>\n",
       "      <td>0.461750</td>\n",
       "      <td>0.476387</td>\n",
       "      <td>0.477083</td>\n",
       "      <td>0.465807</td>\n",
       "      <td>0.444503</td>\n",
       "      <td>0.416412</td>\n",
       "      <td>0.386638</td>\n",
       "      <td>0.360369</td>\n",
       "      <td>0.340982</td>\n",
       "      <td>0.329962</td>\n",
       "      <td>0.327491</td>\n",
       "      <td>0.332258</td>\n",
       "      <td>0.341471</td>\n",
       "      <td>0.352264</td>\n",
       "      <td>0.363318</td>\n",
       "      <td>0.374722</td>\n",
       "      <td>0.386101</td>\n",
       "      <td>0.395354</td>\n",
       "      <td>0.399922</td>\n",
       "      <td>0.399219</td>\n",
       "      <td>0.395082</td>\n",
       "      <td>0.389998</td>\n",
       "    </tr>\n",
       "    <tr>\n",
       "      <th>1</th>\n",
       "      <td>AUT</td>\n",
       "      <td>Austria</td>\n",
       "      <td>0.250995</td>\n",
       "      <td>0.249758</td>\n",
       "      <td>0.248718</td>\n",
       "      <td>0.248769</td>\n",
       "      <td>0.250635</td>\n",
       "      <td>0.254121</td>\n",
       "      <td>0.258082</td>\n",
       "      <td>0.261403</td>\n",
       "      <td>0.263999</td>\n",
       "      <td>0.266870</td>\n",
       "      <td>0.271207</td>\n",
       "      <td>0.277353</td>\n",
       "      <td>0.284387</td>\n",
       "      <td>0.290507</td>\n",
       "      <td>0.293897</td>\n",
       "      <td>0.293567</td>\n",
       "      <td>0.289765</td>\n",
       "      <td>0.283781</td>\n",
       "      <td>0.277268</td>\n",
       "      <td>0.271413</td>\n",
       "      <td>0.266398</td>\n",
       "      <td>0.261636</td>\n",
       "      <td>0.256601</td>\n",
       "      <td>0.251448</td>\n",
       "      <td>0.246867</td>\n",
       "      <td>0.243449</td>\n",
       "      <td>0.241228</td>\n",
       "      <td>0.239793</td>\n",
       "      <td>0.238710</td>\n",
       "      <td>0.237777</td>\n",
       "      <td>0.248407</td>\n",
       "      <td>0.248834</td>\n",
       "      <td>0.249417</td>\n",
       "      <td>0.250125</td>\n",
       "      <td>0.250920</td>\n",
       "      <td>0.251673</td>\n",
       "      <td>0.252081</td>\n",
       "      <td>0.251821</td>\n",
       "      <td>0.250825</td>\n",
       "      <td>0.249337</td>\n",
       "      <td>0.247677</td>\n",
       "      <td>0.245970</td>\n",
       "      <td>0.244106</td>\n",
       "      <td>0.241890</td>\n",
       "      <td>0.239297</td>\n",
       "      <td>0.236655</td>\n",
       "      <td>0.234648</td>\n",
       "      <td>0.234017</td>\n",
       "      <td>0.235083</td>\n",
       "      <td>0.237396</td>\n",
       "      <td>0.239816</td>\n",
       "      <td>0.240950</td>\n",
       "      <td>0.239720</td>\n",
       "      <td>0.235825</td>\n",
       "      <td>0.229895</td>\n",
       "      <td>0.223172</td>\n",
       "      <td>0.216874</td>\n",
       "      <td>0.211713</td>\n",
       "      <td>0.207848</td>\n",
       "      <td>0.205116</td>\n",
       "      <td>0.150387</td>\n",
       "      <td>0.150519</td>\n",
       "      <td>0.150744</td>\n",
       "      <td>0.150998</td>\n",
       "      <td>0.151455</td>\n",
       "      <td>0.152722</td>\n",
       "      <td>0.155514</td>\n",
       "      <td>0.159957</td>\n",
       "      <td>0.165344</td>\n",
       "      <td>0.170618</td>\n",
       "      <td>0.174953</td>\n",
       "      <td>0.177853</td>\n",
       "      <td>0.179094</td>\n",
       "      <td>0.178929</td>\n",
       "      <td>0.178320</td>\n",
       "      <td>0.178752</td>\n",
       "      <td>0.181586</td>\n",
       "      <td>0.187266</td>\n",
       "      <td>0.194853</td>\n",
       "      <td>0.202524</td>\n",
       "      <td>0.208929</td>\n",
       "      <td>0.214126</td>\n",
       "      <td>0.219101</td>\n",
       "      <td>0.224573</td>\n",
       "      <td>0.230441</td>\n",
       "      <td>0.236083</td>\n",
       "      <td>0.240824</td>\n",
       "      <td>0.244252</td>\n",
       "      <td>0.246371</td>\n",
       "      <td>0.247502</td>\n",
       "      <td>0.579142</td>\n",
       "      <td>0.581467</td>\n",
       "      <td>0.583936</td>\n",
       "      <td>0.585762</td>\n",
       "      <td>0.585132</td>\n",
       "      <td>0.579595</td>\n",
       "      <td>0.567603</td>\n",
       "      <td>0.549827</td>\n",
       "      <td>0.528748</td>\n",
       "      <td>0.507128</td>\n",
       "      <td>0.487233</td>\n",
       "      <td>0.471071</td>\n",
       "      <td>0.460308</td>\n",
       "      <td>0.455417</td>\n",
       "      <td>0.455346</td>\n",
       "      <td>0.458353</td>\n",
       "      <td>0.463010</td>\n",
       "      <td>0.468516</td>\n",
       "      <td>0.474729</td>\n",
       "      <td>0.482143</td>\n",
       "      <td>0.491169</td>\n",
       "      <td>0.501004</td>\n",
       "      <td>0.509760</td>\n",
       "      <td>0.516179</td>\n",
       "      <td>0.520906</td>\n",
       "      <td>0.525592</td>\n",
       "      <td>0.531020</td>\n",
       "      <td>0.536520</td>\n",
       "      <td>0.541007</td>\n",
       "      <td>0.543982</td>\n",
       "      <td>0.804291</td>\n",
       "      <td>0.804776</td>\n",
       "      <td>0.804825</td>\n",
       "      <td>0.804235</td>\n",
       "      <td>0.803039</td>\n",
       "      <td>0.801713</td>\n",
       "      <td>0.800860</td>\n",
       "      <td>0.800518</td>\n",
       "      <td>0.799851</td>\n",
       "      <td>0.797533</td>\n",
       "      <td>0.792396</td>\n",
       "      <td>0.783900</td>\n",
       "      <td>0.772375</td>\n",
       "      <td>0.759016</td>\n",
       "      <td>0.745526</td>\n",
       "      <td>0.733544</td>\n",
       "      <td>0.724242</td>\n",
       "      <td>0.718095</td>\n",
       "      <td>0.714523</td>\n",
       "      <td>0.711972</td>\n",
       "      <td>0.709229</td>\n",
       "      <td>0.706959</td>\n",
       "      <td>0.707383</td>\n",
       "      <td>0.712069</td>\n",
       "      <td>0.720151</td>\n",
       "      <td>0.728819</td>\n",
       "      <td>0.735470</td>\n",
       "      <td>0.739299</td>\n",
       "      <td>0.741041</td>\n",
       "      <td>0.741769</td>\n",
       "      <td>0.378991</td>\n",
       "      <td>0.377173</td>\n",
       "      <td>0.374248</td>\n",
       "      <td>0.370268</td>\n",
       "      <td>0.365800</td>\n",
       "      <td>0.361890</td>\n",
       "      <td>0.359582</td>\n",
       "      <td>0.359322</td>\n",
       "      <td>0.360749</td>\n",
       "      <td>0.362993</td>\n",
       "      <td>0.365143</td>\n",
       "      <td>0.366618</td>\n",
       "      <td>0.367360</td>\n",
       "      <td>0.367861</td>\n",
       "      <td>0.368892</td>\n",
       "      <td>0.370991</td>\n",
       "      <td>0.374081</td>\n",
       "      <td>0.377557</td>\n",
       "      <td>0.380747</td>\n",
       "      <td>0.383238</td>\n",
       "      <td>0.384770</td>\n",
       "      <td>0.385068</td>\n",
       "      <td>0.384112</td>\n",
       "      <td>0.382553</td>\n",
       "      <td>0.381461</td>\n",
       "      <td>0.381430</td>\n",
       "      <td>0.382132</td>\n",
       "      <td>0.382835</td>\n",
       "      <td>0.383117</td>\n",
       "      <td>0.383001</td>\n",
       "      <td>0.242609</td>\n",
       "      <td>0.241338</td>\n",
       "      <td>0.241089</td>\n",
       "      <td>0.242541</td>\n",
       "      <td>0.246067</td>\n",
       "      <td>0.251308</td>\n",
       "      <td>0.257475</td>\n",
       "      <td>0.264303</td>\n",
       "      <td>0.272607</td>\n",
       "      <td>0.283908</td>\n",
       "      <td>0.299548</td>\n",
       "      <td>0.319893</td>\n",
       "      <td>0.343959</td>\n",
       "      <td>0.369507</td>\n",
       "      <td>0.393554</td>\n",
       "      <td>0.413075</td>\n",
       "      <td>0.425640</td>\n",
       "      <td>0.430192</td>\n",
       "      <td>0.428030</td>\n",
       "      <td>0.422735</td>\n",
       "      <td>0.417889</td>\n",
       "      <td>0.414395</td>\n",
       "      <td>0.410338</td>\n",
       "      <td>0.403477</td>\n",
       "      <td>0.393714</td>\n",
       "      <td>0.383400</td>\n",
       "      <td>0.375451</td>\n",
       "      <td>0.371176</td>\n",
       "      <td>0.369896</td>\n",
       "      <td>0.370163</td>\n",
       "      <td>0.320127</td>\n",
       "      <td>0.321389</td>\n",
       "      <td>0.322505</td>\n",
       "      <td>0.323288</td>\n",
       "      <td>0.323728</td>\n",
       "      <td>0.324109</td>\n",
       "      <td>0.324907</td>\n",
       "      <td>0.326570</td>\n",
       "      <td>0.329360</td>\n",
       "      <td>0.333290</td>\n",
       "      <td>0.338120</td>\n",
       "      <td>0.343394</td>\n",
       "      <td>0.348584</td>\n",
       "      <td>0.353288</td>\n",
       "      <td>0.357374</td>\n",
       "      <td>0.360965</td>\n",
       "      <td>0.364285</td>\n",
       "      <td>0.367487</td>\n",
       "      <td>0.370613</td>\n",
       "      <td>0.373705</td>\n",
       "      <td>0.376925</td>\n",
       "      <td>0.380515</td>\n",
       "      <td>0.384667</td>\n",
       "      <td>0.389458</td>\n",
       "      <td>0.394900</td>\n",
       "      <td>0.400935</td>\n",
       "      <td>0.407308</td>\n",
       "      <td>0.413519</td>\n",
       "      <td>0.419029</td>\n",
       "      <td>0.423527</td>\n",
       "      <td>0.590237</td>\n",
       "      <td>0.588511</td>\n",
       "      <td>0.586193</td>\n",
       "      <td>0.583611</td>\n",
       "      <td>0.581461</td>\n",
       "      <td>0.580562</td>\n",
       "      <td>0.581440</td>\n",
       "      <td>0.584066</td>\n",
       "      <td>0.587860</td>\n",
       "      <td>0.591906</td>\n",
       "      <td>0.595339</td>\n",
       "      <td>0.597755</td>\n",
       "      <td>0.599424</td>\n",
       "      <td>0.601123</td>\n",
       "      <td>0.603716</td>\n",
       "      <td>0.607683</td>\n",
       "      <td>0.612843</td>\n",
       "      <td>0.618456</td>\n",
       "      <td>0.623715</td>\n",
       "      <td>0.628231</td>\n",
       "      <td>0.632048</td>\n",
       "      <td>0.635247</td>\n",
       "      <td>0.637726</td>\n",
       "      <td>0.639430</td>\n",
       "      <td>0.640673</td>\n",
       "      <td>0.642061</td>\n",
       "      <td>0.644065</td>\n",
       "      <td>0.646661</td>\n",
       "      <td>0.649430</td>\n",
       "      <td>0.651937</td>\n",
       "      <td>0.121768</td>\n",
       "      <td>0.120754</td>\n",
       "      <td>0.119422</td>\n",
       "      <td>0.117840</td>\n",
       "      <td>0.116039</td>\n",
       "      <td>0.113847</td>\n",
       "      <td>0.110937</td>\n",
       "      <td>0.107167</td>\n",
       "      <td>0.102803</td>\n",
       "      <td>0.098350</td>\n",
       "      <td>0.094171</td>\n",
       "      <td>0.090351</td>\n",
       "      <td>0.086879</td>\n",
       "      <td>0.083913</td>\n",
       "      <td>0.081782</td>\n",
       "      <td>0.080677</td>\n",
       "      <td>0.080355</td>\n",
       "      <td>0.080229</td>\n",
       "      <td>0.079722</td>\n",
       "      <td>0.078535</td>\n",
       "      <td>0.076698</td>\n",
       "      <td>0.074490</td>\n",
       "      <td>0.072255</td>\n",
       "      <td>0.070133</td>\n",
       "      <td>0.067942</td>\n",
       "      <td>0.065406</td>\n",
       "      <td>0.062525</td>\n",
       "      <td>0.059650</td>\n",
       "      <td>0.057191</td>\n",
       "      <td>0.055345</td>\n",
       "      <td>0.650242</td>\n",
       "      <td>0.644970</td>\n",
       "      <td>0.636973</td>\n",
       "      <td>0.625537</td>\n",
       "      <td>0.610482</td>\n",
       "      <td>0.592815</td>\n",
       "      <td>0.574963</td>\n",
       "      <td>0.559819</td>\n",
       "      <td>0.548909</td>\n",
       "      <td>0.541305</td>\n",
       "      <td>0.534408</td>\n",
       "      <td>0.525875</td>\n",
       "      <td>0.515069</td>\n",
       "      <td>0.503153</td>\n",
       "      <td>0.491845</td>\n",
       "      <td>0.481626</td>\n",
       "      <td>0.471158</td>\n",
       "      <td>0.459004</td>\n",
       "      <td>0.445967</td>\n",
       "      <td>0.435072</td>\n",
       "      <td>0.428934</td>\n",
       "      <td>0.427444</td>\n",
       "      <td>0.428132</td>\n",
       "      <td>0.428377</td>\n",
       "      <td>0.426993</td>\n",
       "      <td>0.424248</td>\n",
       "      <td>0.421106</td>\n",
       "      <td>0.418500</td>\n",
       "      <td>0.416880</td>\n",
       "      <td>0.416171</td>\n",
       "      <td>0.507821</td>\n",
       "      <td>0.511844</td>\n",
       "      <td>0.517749</td>\n",
       "      <td>0.525888</td>\n",
       "      <td>0.536335</td>\n",
       "      <td>0.548670</td>\n",
       "      <td>0.561796</td>\n",
       "      <td>0.574177</td>\n",
       "      <td>0.584670</td>\n",
       "      <td>0.593335</td>\n",
       "      <td>0.601322</td>\n",
       "      <td>0.609903</td>\n",
       "      <td>0.619457</td>\n",
       "      <td>0.629166</td>\n",
       "      <td>0.637727</td>\n",
       "      <td>0.644688</td>\n",
       "      <td>0.651061</td>\n",
       "      <td>0.658239</td>\n",
       "      <td>0.666303</td>\n",
       "      <td>0.673780</td>\n",
       "      <td>0.679118</td>\n",
       "      <td>0.682107</td>\n",
       "      <td>0.683843</td>\n",
       "      <td>0.685711</td>\n",
       "      <td>0.688576</td>\n",
       "      <td>0.692558</td>\n",
       "      <td>0.697108</td>\n",
       "      <td>0.701355</td>\n",
       "      <td>0.704644</td>\n",
       "      <td>0.706825</td>\n",
       "      <td>0.136718</td>\n",
       "      <td>0.134810</td>\n",
       "      <td>0.133121</td>\n",
       "      <td>0.132394</td>\n",
       "      <td>0.133438</td>\n",
       "      <td>0.136685</td>\n",
       "      <td>0.141991</td>\n",
       "      <td>0.148843</td>\n",
       "      <td>0.156643</td>\n",
       "      <td>0.164774</td>\n",
       "      <td>0.172567</td>\n",
       "      <td>0.179492</td>\n",
       "      <td>0.185525</td>\n",
       "      <td>0.191200</td>\n",
       "      <td>0.197043</td>\n",
       "      <td>0.202891</td>\n",
       "      <td>0.207842</td>\n",
       "      <td>0.211061</td>\n",
       "      <td>0.212754</td>\n",
       "      <td>0.214194</td>\n",
       "      <td>0.216519</td>\n",
       "      <td>0.219617</td>\n",
       "      <td>0.222428</td>\n",
       "      <td>0.224168</td>\n",
       "      <td>0.224989</td>\n",
       "      <td>0.225637</td>\n",
       "      <td>0.226733</td>\n",
       "      <td>0.228359</td>\n",
       "      <td>0.230181</td>\n",
       "      <td>0.231821</td>\n",
       "      <td>0.567982</td>\n",
       "      <td>0.574286</td>\n",
       "      <td>0.582293</td>\n",
       "      <td>0.591863</td>\n",
       "      <td>0.602564</td>\n",
       "      <td>0.613922</td>\n",
       "      <td>0.625726</td>\n",
       "      <td>0.638009</td>\n",
       "      <td>0.650696</td>\n",
       "      <td>0.663213</td>\n",
       "      <td>0.674609</td>\n",
       "      <td>0.684403</td>\n",
       "      <td>0.693508</td>\n",
       "      <td>0.704104</td>\n",
       "      <td>0.718348</td>\n",
       "      <td>0.736995</td>\n",
       "      <td>0.758899</td>\n",
       "      <td>0.781549</td>\n",
       "      <td>0.802348</td>\n",
       "      <td>0.819751</td>\n",
       "      <td>0.833475</td>\n",
       "      <td>0.844057</td>\n",
       "      <td>0.852503</td>\n",
       "      <td>0.859973</td>\n",
       "      <td>0.867224</td>\n",
       "      <td>0.874244</td>\n",
       "      <td>0.880508</td>\n",
       "      <td>0.885560</td>\n",
       "      <td>0.889304</td>\n",
       "      <td>0.891929</td>\n",
       "      <td>0.177940</td>\n",
       "      <td>0.176303</td>\n",
       "      <td>0.174934</td>\n",
       "      <td>0.174637</td>\n",
       "      <td>0.176198</td>\n",
       "      <td>0.179843</td>\n",
       "      <td>0.185112</td>\n",
       "      <td>0.191260</td>\n",
       "      <td>0.197663</td>\n",
       "      <td>0.203851</td>\n",
       "      <td>0.209400</td>\n",
       "      <td>0.214110</td>\n",
       "      <td>0.218326</td>\n",
       "      <td>0.222804</td>\n",
       "      <td>0.227989</td>\n",
       "      <td>0.233432</td>\n",
       "      <td>0.238045</td>\n",
       "      <td>0.241097</td>\n",
       "      <td>0.243089</td>\n",
       "      <td>0.245487</td>\n",
       "      <td>0.249269</td>\n",
       "      <td>0.253822</td>\n",
       "      <td>0.257545</td>\n",
       "      <td>0.259429</td>\n",
       "      <td>0.259859</td>\n",
       "      <td>0.260069</td>\n",
       "      <td>0.261057</td>\n",
       "      <td>0.262951</td>\n",
       "      <td>0.265220</td>\n",
       "      <td>0.267285</td>\n",
       "      <td>0.006047</td>\n",
       "      <td>0.006021</td>\n",
       "      <td>0.005969</td>\n",
       "      <td>0.005884</td>\n",
       "      <td>0.005773</td>\n",
       "      <td>0.005648</td>\n",
       "      <td>0.005531</td>\n",
       "      <td>0.005443</td>\n",
       "      <td>0.005397</td>\n",
       "      <td>0.005397</td>\n",
       "      <td>0.005430</td>\n",
       "      <td>0.005477</td>\n",
       "      <td>0.005524</td>\n",
       "      <td>0.005572</td>\n",
       "      <td>0.005618</td>\n",
       "      <td>0.005656</td>\n",
       "      <td>0.005675</td>\n",
       "      <td>0.005670</td>\n",
       "      <td>0.005646</td>\n",
       "      <td>0.005619</td>\n",
       "      <td>0.005603</td>\n",
       "      <td>0.005607</td>\n",
       "      <td>0.005625</td>\n",
       "      <td>0.005644</td>\n",
       "      <td>0.005651</td>\n",
       "      <td>0.005638</td>\n",
       "      <td>0.005612</td>\n",
       "      <td>0.005586</td>\n",
       "      <td>0.005569</td>\n",
       "      <td>0.005564</td>\n",
       "      <td>0.254393</td>\n",
       "      <td>0.256379</td>\n",
       "      <td>0.257023</td>\n",
       "      <td>0.255529</td>\n",
       "      <td>0.251787</td>\n",
       "      <td>0.246772</td>\n",
       "      <td>0.242189</td>\n",
       "      <td>0.239602</td>\n",
       "      <td>0.239727</td>\n",
       "      <td>0.242233</td>\n",
       "      <td>0.246057</td>\n",
       "      <td>0.249950</td>\n",
       "      <td>0.252951</td>\n",
       "      <td>0.254660</td>\n",
       "      <td>0.255290</td>\n",
       "      <td>0.255509</td>\n",
       "      <td>0.256149</td>\n",
       "      <td>0.257899</td>\n",
       "      <td>0.261049</td>\n",
       "      <td>0.265418</td>\n",
       "      <td>0.270492</td>\n",
       "      <td>0.275678</td>\n",
       "      <td>0.280503</td>\n",
       "      <td>0.284670</td>\n",
       "      <td>0.287969</td>\n",
       "      <td>0.290150</td>\n",
       "      <td>0.290944</td>\n",
       "      <td>0.290320</td>\n",
       "      <td>0.288623</td>\n",
       "      <td>0.286413</td>\n",
       "      <td>0.050893</td>\n",
       "      <td>0.051069</td>\n",
       "      <td>0.051293</td>\n",
       "      <td>0.051554</td>\n",
       "      <td>0.051826</td>\n",
       "      <td>0.052074</td>\n",
       "      <td>0.052279</td>\n",
       "      <td>0.052439</td>\n",
       "      <td>0.052573</td>\n",
       "      <td>0.052705</td>\n",
       "      <td>0.052855</td>\n",
       "      <td>0.053036</td>\n",
       "      <td>0.053249</td>\n",
       "      <td>0.053482</td>\n",
       "      <td>0.053722</td>\n",
       "      <td>0.053959</td>\n",
       "      <td>0.054186</td>\n",
       "      <td>0.054407</td>\n",
       "      <td>0.054630</td>\n",
       "      <td>0.054868</td>\n",
       "      <td>0.055130</td>\n",
       "      <td>0.055423</td>\n",
       "      <td>0.055749</td>\n",
       "      <td>0.056109</td>\n",
       "      <td>0.056496</td>\n",
       "      <td>0.056896</td>\n",
       "      <td>0.057286</td>\n",
       "      <td>0.057635</td>\n",
       "      <td>0.057924</td>\n",
       "      <td>0.058145</td>\n",
       "      <td>0.525870</td>\n",
       "      <td>0.517679</td>\n",
       "      <td>0.507585</td>\n",
       "      <td>0.496729</td>\n",
       "      <td>0.487262</td>\n",
       "      <td>0.481578</td>\n",
       "      <td>0.481155</td>\n",
       "      <td>0.485904</td>\n",
       "      <td>0.494294</td>\n",
       "      <td>0.504010</td>\n",
       "      <td>0.512825</td>\n",
       "      <td>0.519273</td>\n",
       "      <td>0.522859</td>\n",
       "      <td>0.523833</td>\n",
       "      <td>0.522764</td>\n",
       "      <td>0.520215</td>\n",
       "      <td>0.516639</td>\n",
       "      <td>0.512396</td>\n",
       "      <td>0.507759</td>\n",
       "      <td>0.502883</td>\n",
       "      <td>0.497779</td>\n",
       "      <td>0.492334</td>\n",
       "      <td>0.486360</td>\n",
       "      <td>0.479704</td>\n",
       "      <td>0.472399</td>\n",
       "      <td>0.464756</td>\n",
       "      <td>0.457328</td>\n",
       "      <td>0.450701</td>\n",
       "      <td>0.445245</td>\n",
       "      <td>0.441019</td>\n",
       "      <td>0.546535</td>\n",
       "      <td>0.548505</td>\n",
       "      <td>0.550527</td>\n",
       "      <td>0.552391</td>\n",
       "      <td>0.553993</td>\n",
       "      <td>0.555438</td>\n",
       "      <td>0.556970</td>\n",
       "      <td>0.558835</td>\n",
       "      <td>0.561273</td>\n",
       "      <td>0.564575</td>\n",
       "      <td>0.569062</td>\n",
       "      <td>0.574987</td>\n",
       "      <td>0.582512</td>\n",
       "      <td>0.591791</td>\n",
       "      <td>0.603013</td>\n",
       "      <td>0.616305</td>\n",
       "      <td>0.631538</td>\n",
       "      <td>0.648217</td>\n",
       "      <td>0.665541</td>\n",
       "      <td>0.682628</td>\n",
       "      <td>0.698753</td>\n",
       "      <td>0.713485</td>\n",
       "      <td>0.726653</td>\n",
       "      <td>0.738186</td>\n",
       "      <td>0.747967</td>\n",
       "      <td>0.755831</td>\n",
       "      <td>0.761732</td>\n",
       "      <td>0.765873</td>\n",
       "      <td>0.768659</td>\n",
       "      <td>0.770519</td>\n",
       "      <td>0.197424</td>\n",
       "      <td>0.201221</td>\n",
       "      <td>0.206259</td>\n",
       "      <td>0.211953</td>\n",
       "      <td>0.216939</td>\n",
       "      <td>0.219505</td>\n",
       "      <td>0.218434</td>\n",
       "      <td>0.213568</td>\n",
       "      <td>0.205732</td>\n",
       "      <td>0.196233</td>\n",
       "      <td>0.186293</td>\n",
       "      <td>0.176682</td>\n",
       "      <td>0.167589</td>\n",
       "      <td>0.158710</td>\n",
       "      <td>0.149491</td>\n",
       "      <td>0.139441</td>\n",
       "      <td>0.128366</td>\n",
       "      <td>0.116462</td>\n",
       "      <td>0.104251</td>\n",
       "      <td>0.092413</td>\n",
       "      <td>0.081581</td>\n",
       "      <td>0.072214</td>\n",
       "      <td>0.064591</td>\n",
       "      <td>0.058877</td>\n",
       "      <td>0.055156</td>\n",
       "      <td>0.053360</td>\n",
       "      <td>0.053158</td>\n",
       "      <td>0.053973</td>\n",
       "      <td>0.055197</td>\n",
       "      <td>0.056408</td>\n",
       "      <td>0.065337</td>\n",
       "      <td>0.066002</td>\n",
       "      <td>0.066856</td>\n",
       "      <td>0.067933</td>\n",
       "      <td>0.069252</td>\n",
       "      <td>0.070811</td>\n",
       "      <td>0.072594</td>\n",
       "      <td>0.074573</td>\n",
       "      <td>0.076684</td>\n",
       "      <td>0.078808</td>\n",
       "      <td>0.080817</td>\n",
       "      <td>0.082654</td>\n",
       "      <td>0.084384</td>\n",
       "      <td>0.086151</td>\n",
       "      <td>0.088068</td>\n",
       "      <td>0.090112</td>\n",
       "      <td>0.092096</td>\n",
       "      <td>0.093769</td>\n",
       "      <td>0.095009</td>\n",
       "      <td>0.095923</td>\n",
       "      <td>0.096735</td>\n",
       "      <td>0.097593</td>\n",
       "      <td>0.098505</td>\n",
       "      <td>0.099467</td>\n",
       "      <td>0.100542</td>\n",
       "      <td>0.101806</td>\n",
       "      <td>0.103232</td>\n",
       "      <td>0.104671</td>\n",
       "      <td>0.105950</td>\n",
       "      <td>0.106973</td>\n",
       "      <td>0.367592</td>\n",
       "      <td>0.370147</td>\n",
       "      <td>0.373416</td>\n",
       "      <td>0.377666</td>\n",
       "      <td>0.383187</td>\n",
       "      <td>0.390200</td>\n",
       "      <td>0.398765</td>\n",
       "      <td>0.408721</td>\n",
       "      <td>0.419568</td>\n",
       "      <td>0.430451</td>\n",
       "      <td>0.440473</td>\n",
       "      <td>0.449217</td>\n",
       "      <td>0.457033</td>\n",
       "      <td>0.464801</td>\n",
       "      <td>0.473268</td>\n",
       "      <td>0.482415</td>\n",
       "      <td>0.491263</td>\n",
       "      <td>0.498422</td>\n",
       "      <td>0.503143</td>\n",
       "      <td>0.505910</td>\n",
       "      <td>0.507871</td>\n",
       "      <td>0.509760</td>\n",
       "      <td>0.511616</td>\n",
       "      <td>0.513405</td>\n",
       "      <td>0.515501</td>\n",
       "      <td>0.518421</td>\n",
       "      <td>0.522248</td>\n",
       "      <td>0.526481</td>\n",
       "      <td>0.530429</td>\n",
       "      <td>0.533652</td>\n",
       "      <td>0.081072</td>\n",
       "      <td>0.083429</td>\n",
       "      <td>0.086846</td>\n",
       "      <td>0.091647</td>\n",
       "      <td>0.097990</td>\n",
       "      <td>0.105357</td>\n",
       "      <td>0.112228</td>\n",
       "      <td>0.116678</td>\n",
       "      <td>0.117701</td>\n",
       "      <td>0.116071</td>\n",
       "      <td>0.113993</td>\n",
       "      <td>0.113748</td>\n",
       "      <td>0.116245</td>\n",
       "      <td>0.120429</td>\n",
       "      <td>0.123990</td>\n",
       "      <td>0.124968</td>\n",
       "      <td>0.123115</td>\n",
       "      <td>0.119898</td>\n",
       "      <td>0.117193</td>\n",
       "      <td>0.116025</td>\n",
       "      <td>0.116525</td>\n",
       "      <td>0.118643</td>\n",
       "      <td>0.122319</td>\n",
       "      <td>0.126963</td>\n",
       "      <td>0.131215</td>\n",
       "      <td>0.133500</td>\n",
       "      <td>0.132949</td>\n",
       "      <td>0.129903</td>\n",
       "      <td>0.125554</td>\n",
       "      <td>0.121115</td>\n",
       "      <td>0.424879</td>\n",
       "      <td>0.422767</td>\n",
       "      <td>0.419998</td>\n",
       "      <td>0.416578</td>\n",
       "      <td>0.412639</td>\n",
       "      <td>0.408382</td>\n",
       "      <td>0.403975</td>\n",
       "      <td>0.399512</td>\n",
       "      <td>0.395026</td>\n",
       "      <td>0.390526</td>\n",
       "      <td>0.386015</td>\n",
       "      <td>0.381492</td>\n",
       "      <td>0.376959</td>\n",
       "      <td>0.372416</td>\n",
       "      <td>0.367863</td>\n",
       "      <td>0.363303</td>\n",
       "      <td>0.358747</td>\n",
       "      <td>0.354232</td>\n",
       "      <td>0.349869</td>\n",
       "      <td>0.345900</td>\n",
       "      <td>0.342712</td>\n",
       "      <td>0.340732</td>\n",
       "      <td>0.340222</td>\n",
       "      <td>0.341118</td>\n",
       "      <td>0.343059</td>\n",
       "      <td>0.345558</td>\n",
       "      <td>0.348165</td>\n",
       "      <td>0.350552</td>\n",
       "      <td>0.352539</td>\n",
       "      <td>0.354085</td>\n",
       "      <td>0.002848</td>\n",
       "      <td>0.002840</td>\n",
       "      <td>0.002825</td>\n",
       "      <td>0.002807</td>\n",
       "      <td>0.002796</td>\n",
       "      <td>0.002813</td>\n",
       "      <td>0.002878</td>\n",
       "      <td>0.002996</td>\n",
       "      <td>0.003150</td>\n",
       "      <td>0.003304</td>\n",
       "      <td>0.003410</td>\n",
       "      <td>0.003425</td>\n",
       "      <td>0.003338</td>\n",
       "      <td>0.003176</td>\n",
       "      <td>0.002992</td>\n",
       "      <td>0.002826</td>\n",
       "      <td>0.002695</td>\n",
       "      <td>0.002602</td>\n",
       "      <td>0.002546</td>\n",
       "      <td>0.002528</td>\n",
       "      <td>0.002540</td>\n",
       "      <td>0.002574</td>\n",
       "      <td>0.002627</td>\n",
       "      <td>0.002699</td>\n",
       "      <td>0.002789</td>\n",
       "      <td>0.002879</td>\n",
       "      <td>0.002950</td>\n",
       "      <td>0.002992</td>\n",
       "      <td>0.003010</td>\n",
       "      <td>0.003017</td>\n",
       "    </tr>\n",
       "    <tr>\n",
       "      <th>2</th>\n",
       "      <td>BEL</td>\n",
       "      <td>Belgium</td>\n",
       "      <td>0.366484</td>\n",
       "      <td>0.367042</td>\n",
       "      <td>0.367828</td>\n",
       "      <td>0.369214</td>\n",
       "      <td>0.371389</td>\n",
       "      <td>0.374000</td>\n",
       "      <td>0.376223</td>\n",
       "      <td>0.377295</td>\n",
       "      <td>0.376920</td>\n",
       "      <td>0.375207</td>\n",
       "      <td>0.372388</td>\n",
       "      <td>0.368674</td>\n",
       "      <td>0.364229</td>\n",
       "      <td>0.359049</td>\n",
       "      <td>0.352927</td>\n",
       "      <td>0.345737</td>\n",
       "      <td>0.337738</td>\n",
       "      <td>0.329423</td>\n",
       "      <td>0.321081</td>\n",
       "      <td>0.312638</td>\n",
       "      <td>0.303983</td>\n",
       "      <td>0.295412</td>\n",
       "      <td>0.287658</td>\n",
       "      <td>0.281444</td>\n",
       "      <td>0.277027</td>\n",
       "      <td>0.274140</td>\n",
       "      <td>0.272267</td>\n",
       "      <td>0.270981</td>\n",
       "      <td>0.270075</td>\n",
       "      <td>0.269468</td>\n",
       "      <td>0.245067</td>\n",
       "      <td>0.244222</td>\n",
       "      <td>0.243427</td>\n",
       "      <td>0.242979</td>\n",
       "      <td>0.243053</td>\n",
       "      <td>0.243374</td>\n",
       "      <td>0.243226</td>\n",
       "      <td>0.241991</td>\n",
       "      <td>0.239645</td>\n",
       "      <td>0.236591</td>\n",
       "      <td>0.233080</td>\n",
       "      <td>0.229039</td>\n",
       "      <td>0.224519</td>\n",
       "      <td>0.220098</td>\n",
       "      <td>0.216660</td>\n",
       "      <td>0.214783</td>\n",
       "      <td>0.214400</td>\n",
       "      <td>0.215071</td>\n",
       "      <td>0.216566</td>\n",
       "      <td>0.219093</td>\n",
       "      <td>0.222810</td>\n",
       "      <td>0.227130</td>\n",
       "      <td>0.230730</td>\n",
       "      <td>0.232383</td>\n",
       "      <td>0.231819</td>\n",
       "      <td>0.229864</td>\n",
       "      <td>0.227812</td>\n",
       "      <td>0.226556</td>\n",
       "      <td>0.226209</td>\n",
       "      <td>0.226409</td>\n",
       "      <td>0.230552</td>\n",
       "      <td>0.228188</td>\n",
       "      <td>0.224916</td>\n",
       "      <td>0.220987</td>\n",
       "      <td>0.217204</td>\n",
       "      <td>0.214749</td>\n",
       "      <td>0.214613</td>\n",
       "      <td>0.217145</td>\n",
       "      <td>0.222109</td>\n",
       "      <td>0.228891</td>\n",
       "      <td>0.236299</td>\n",
       "      <td>0.242265</td>\n",
       "      <td>0.244531</td>\n",
       "      <td>0.242449</td>\n",
       "      <td>0.238169</td>\n",
       "      <td>0.235511</td>\n",
       "      <td>0.237311</td>\n",
       "      <td>0.243704</td>\n",
       "      <td>0.252586</td>\n",
       "      <td>0.261407</td>\n",
       "      <td>0.268698</td>\n",
       "      <td>0.274360</td>\n",
       "      <td>0.278871</td>\n",
       "      <td>0.282438</td>\n",
       "      <td>0.284984</td>\n",
       "      <td>0.286715</td>\n",
       "      <td>0.288275</td>\n",
       "      <td>0.290178</td>\n",
       "      <td>0.292376</td>\n",
       "      <td>0.294481</td>\n",
       "      <td>0.534138</td>\n",
       "      <td>0.529089</td>\n",
       "      <td>0.523249</td>\n",
       "      <td>0.516567</td>\n",
       "      <td>0.508877</td>\n",
       "      <td>0.499975</td>\n",
       "      <td>0.489944</td>\n",
       "      <td>0.479402</td>\n",
       "      <td>0.469180</td>\n",
       "      <td>0.459762</td>\n",
       "      <td>0.451576</td>\n",
       "      <td>0.446259</td>\n",
       "      <td>0.447005</td>\n",
       "      <td>0.456547</td>\n",
       "      <td>0.474488</td>\n",
       "      <td>0.496956</td>\n",
       "      <td>0.518835</td>\n",
       "      <td>0.536422</td>\n",
       "      <td>0.548876</td>\n",
       "      <td>0.557912</td>\n",
       "      <td>0.565725</td>\n",
       "      <td>0.572892</td>\n",
       "      <td>0.578696</td>\n",
       "      <td>0.583194</td>\n",
       "      <td>0.587944</td>\n",
       "      <td>0.594478</td>\n",
       "      <td>0.602759</td>\n",
       "      <td>0.611357</td>\n",
       "      <td>0.618738</td>\n",
       "      <td>0.624159</td>\n",
       "      <td>0.579355</td>\n",
       "      <td>0.578607</td>\n",
       "      <td>0.576134</td>\n",
       "      <td>0.571632</td>\n",
       "      <td>0.565730</td>\n",
       "      <td>0.560399</td>\n",
       "      <td>0.557965</td>\n",
       "      <td>0.559131</td>\n",
       "      <td>0.562172</td>\n",
       "      <td>0.564077</td>\n",
       "      <td>0.562073</td>\n",
       "      <td>0.554145</td>\n",
       "      <td>0.539062</td>\n",
       "      <td>0.516861</td>\n",
       "      <td>0.489523</td>\n",
       "      <td>0.460996</td>\n",
       "      <td>0.436319</td>\n",
       "      <td>0.419663</td>\n",
       "      <td>0.411599</td>\n",
       "      <td>0.408178</td>\n",
       "      <td>0.404285</td>\n",
       "      <td>0.398554</td>\n",
       "      <td>0.394099</td>\n",
       "      <td>0.394371</td>\n",
       "      <td>0.399120</td>\n",
       "      <td>0.404397</td>\n",
       "      <td>0.406040</td>\n",
       "      <td>0.403011</td>\n",
       "      <td>0.397356</td>\n",
       "      <td>0.391712</td>\n",
       "      <td>0.313563</td>\n",
       "      <td>0.314355</td>\n",
       "      <td>0.315289</td>\n",
       "      <td>0.316269</td>\n",
       "      <td>0.317149</td>\n",
       "      <td>0.317810</td>\n",
       "      <td>0.318222</td>\n",
       "      <td>0.318435</td>\n",
       "      <td>0.318525</td>\n",
       "      <td>0.318557</td>\n",
       "      <td>0.318566</td>\n",
       "      <td>0.318568</td>\n",
       "      <td>0.318569</td>\n",
       "      <td>0.318569</td>\n",
       "      <td>0.318569</td>\n",
       "      <td>0.318569</td>\n",
       "      <td>0.318569</td>\n",
       "      <td>0.318569</td>\n",
       "      <td>0.318569</td>\n",
       "      <td>0.318569</td>\n",
       "      <td>0.318569</td>\n",
       "      <td>0.318569</td>\n",
       "      <td>0.318569</td>\n",
       "      <td>0.318569</td>\n",
       "      <td>0.318569</td>\n",
       "      <td>0.318569</td>\n",
       "      <td>0.318569</td>\n",
       "      <td>0.318569</td>\n",
       "      <td>0.318569</td>\n",
       "      <td>0.318569</td>\n",
       "      <td>0.632769</td>\n",
       "      <td>0.637307</td>\n",
       "      <td>0.645090</td>\n",
       "      <td>0.656276</td>\n",
       "      <td>0.669555</td>\n",
       "      <td>0.681835</td>\n",
       "      <td>0.689835</td>\n",
       "      <td>0.692709</td>\n",
       "      <td>0.692931</td>\n",
       "      <td>0.694844</td>\n",
       "      <td>0.702802</td>\n",
       "      <td>0.720094</td>\n",
       "      <td>0.748050</td>\n",
       "      <td>0.785071</td>\n",
       "      <td>0.826498</td>\n",
       "      <td>0.865744</td>\n",
       "      <td>0.896010</td>\n",
       "      <td>0.912589</td>\n",
       "      <td>0.915843</td>\n",
       "      <td>0.911985</td>\n",
       "      <td>0.908594</td>\n",
       "      <td>0.908281</td>\n",
       "      <td>0.907645</td>\n",
       "      <td>0.902409</td>\n",
       "      <td>0.892649</td>\n",
       "      <td>0.883086</td>\n",
       "      <td>0.878771</td>\n",
       "      <td>0.880818</td>\n",
       "      <td>0.886481</td>\n",
       "      <td>0.892368</td>\n",
       "      <td>0.349874</td>\n",
       "      <td>0.349761</td>\n",
       "      <td>0.349025</td>\n",
       "      <td>0.347489</td>\n",
       "      <td>0.345261</td>\n",
       "      <td>0.342832</td>\n",
       "      <td>0.340948</td>\n",
       "      <td>0.340338</td>\n",
       "      <td>0.341490</td>\n",
       "      <td>0.344495</td>\n",
       "      <td>0.349023</td>\n",
       "      <td>0.354471</td>\n",
       "      <td>0.360269</td>\n",
       "      <td>0.366132</td>\n",
       "      <td>0.372061</td>\n",
       "      <td>0.378097</td>\n",
       "      <td>0.384062</td>\n",
       "      <td>0.389500</td>\n",
       "      <td>0.393848</td>\n",
       "      <td>0.396738</td>\n",
       "      <td>0.398203</td>\n",
       "      <td>0.398677</td>\n",
       "      <td>0.398834</td>\n",
       "      <td>0.399412</td>\n",
       "      <td>0.401037</td>\n",
       "      <td>0.403980</td>\n",
       "      <td>0.407971</td>\n",
       "      <td>0.412324</td>\n",
       "      <td>0.416346</td>\n",
       "      <td>0.419650</td>\n",
       "      <td>0.483745</td>\n",
       "      <td>0.482597</td>\n",
       "      <td>0.481277</td>\n",
       "      <td>0.480171</td>\n",
       "      <td>0.479851</td>\n",
       "      <td>0.480820</td>\n",
       "      <td>0.483298</td>\n",
       "      <td>0.487220</td>\n",
       "      <td>0.492247</td>\n",
       "      <td>0.497740</td>\n",
       "      <td>0.502859</td>\n",
       "      <td>0.506940</td>\n",
       "      <td>0.509883</td>\n",
       "      <td>0.512185</td>\n",
       "      <td>0.514517</td>\n",
       "      <td>0.517213</td>\n",
       "      <td>0.520063</td>\n",
       "      <td>0.522494</td>\n",
       "      <td>0.523959</td>\n",
       "      <td>0.524283</td>\n",
       "      <td>0.523714</td>\n",
       "      <td>0.522703</td>\n",
       "      <td>0.521712</td>\n",
       "      <td>0.521212</td>\n",
       "      <td>0.521674</td>\n",
       "      <td>0.523370</td>\n",
       "      <td>0.526144</td>\n",
       "      <td>0.529441</td>\n",
       "      <td>0.532643</td>\n",
       "      <td>0.535360</td>\n",
       "      <td>0.039160</td>\n",
       "      <td>0.038569</td>\n",
       "      <td>0.037856</td>\n",
       "      <td>0.037075</td>\n",
       "      <td>0.036225</td>\n",
       "      <td>0.035176</td>\n",
       "      <td>0.033700</td>\n",
       "      <td>0.031615</td>\n",
       "      <td>0.028920</td>\n",
       "      <td>0.025883</td>\n",
       "      <td>0.023061</td>\n",
       "      <td>0.021122</td>\n",
       "      <td>0.020437</td>\n",
       "      <td>0.020755</td>\n",
       "      <td>0.021320</td>\n",
       "      <td>0.021355</td>\n",
       "      <td>0.020485</td>\n",
       "      <td>0.018815</td>\n",
       "      <td>0.016733</td>\n",
       "      <td>0.014660</td>\n",
       "      <td>0.012902</td>\n",
       "      <td>0.011595</td>\n",
       "      <td>0.010719</td>\n",
       "      <td>0.010135</td>\n",
       "      <td>0.009657</td>\n",
       "      <td>0.009136</td>\n",
       "      <td>0.008497</td>\n",
       "      <td>0.007758</td>\n",
       "      <td>0.007000</td>\n",
       "      <td>0.006313</td>\n",
       "      <td>0.570191</td>\n",
       "      <td>0.562052</td>\n",
       "      <td>0.550597</td>\n",
       "      <td>0.536140</td>\n",
       "      <td>0.519998</td>\n",
       "      <td>0.503805</td>\n",
       "      <td>0.488454</td>\n",
       "      <td>0.473858</td>\n",
       "      <td>0.459793</td>\n",
       "      <td>0.446686</td>\n",
       "      <td>0.435361</td>\n",
       "      <td>0.426126</td>\n",
       "      <td>0.418494</td>\n",
       "      <td>0.411814</td>\n",
       "      <td>0.405795</td>\n",
       "      <td>0.400275</td>\n",
       "      <td>0.394730</td>\n",
       "      <td>0.388216</td>\n",
       "      <td>0.379845</td>\n",
       "      <td>0.369271</td>\n",
       "      <td>0.356822</td>\n",
       "      <td>0.343394</td>\n",
       "      <td>0.330325</td>\n",
       "      <td>0.318989</td>\n",
       "      <td>0.310123</td>\n",
       "      <td>0.303584</td>\n",
       "      <td>0.298809</td>\n",
       "      <td>0.295360</td>\n",
       "      <td>0.292986</td>\n",
       "      <td>0.291454</td>\n",
       "      <td>0.632944</td>\n",
       "      <td>0.638209</td>\n",
       "      <td>0.645508</td>\n",
       "      <td>0.654613</td>\n",
       "      <td>0.664767</td>\n",
       "      <td>0.675155</td>\n",
       "      <td>0.685472</td>\n",
       "      <td>0.695930</td>\n",
       "      <td>0.706652</td>\n",
       "      <td>0.717130</td>\n",
       "      <td>0.726365</td>\n",
       "      <td>0.733553</td>\n",
       "      <td>0.738627</td>\n",
       "      <td>0.742202</td>\n",
       "      <td>0.745162</td>\n",
       "      <td>0.748334</td>\n",
       "      <td>0.752380</td>\n",
       "      <td>0.757745</td>\n",
       "      <td>0.764577</td>\n",
       "      <td>0.772676</td>\n",
       "      <td>0.781564</td>\n",
       "      <td>0.790592</td>\n",
       "      <td>0.799004</td>\n",
       "      <td>0.806135</td>\n",
       "      <td>0.811728</td>\n",
       "      <td>0.816011</td>\n",
       "      <td>0.819379</td>\n",
       "      <td>0.822071</td>\n",
       "      <td>0.824158</td>\n",
       "      <td>0.825695</td>\n",
       "      <td>0.255254</td>\n",
       "      <td>0.253258</td>\n",
       "      <td>0.251760</td>\n",
       "      <td>0.251677</td>\n",
       "      <td>0.253814</td>\n",
       "      <td>0.258302</td>\n",
       "      <td>0.264577</td>\n",
       "      <td>0.271937</td>\n",
       "      <td>0.279916</td>\n",
       "      <td>0.288004</td>\n",
       "      <td>0.295292</td>\n",
       "      <td>0.300928</td>\n",
       "      <td>0.305084</td>\n",
       "      <td>0.309067</td>\n",
       "      <td>0.314143</td>\n",
       "      <td>0.320234</td>\n",
       "      <td>0.325877</td>\n",
       "      <td>0.329548</td>\n",
       "      <td>0.331209</td>\n",
       "      <td>0.332469</td>\n",
       "      <td>0.334949</td>\n",
       "      <td>0.338639</td>\n",
       "      <td>0.342182</td>\n",
       "      <td>0.344580</td>\n",
       "      <td>0.346158</td>\n",
       "      <td>0.347930</td>\n",
       "      <td>0.350412</td>\n",
       "      <td>0.353211</td>\n",
       "      <td>0.355601</td>\n",
       "      <td>0.357173</td>\n",
       "      <td>0.611482</td>\n",
       "      <td>0.625622</td>\n",
       "      <td>0.643694</td>\n",
       "      <td>0.664566</td>\n",
       "      <td>0.686062</td>\n",
       "      <td>0.706028</td>\n",
       "      <td>0.723362</td>\n",
       "      <td>0.738080</td>\n",
       "      <td>0.750771</td>\n",
       "      <td>0.762124</td>\n",
       "      <td>0.772711</td>\n",
       "      <td>0.782956</td>\n",
       "      <td>0.793226</td>\n",
       "      <td>0.803849</td>\n",
       "      <td>0.814906</td>\n",
       "      <td>0.825952</td>\n",
       "      <td>0.836086</td>\n",
       "      <td>0.844511</td>\n",
       "      <td>0.851141</td>\n",
       "      <td>0.856633</td>\n",
       "      <td>0.861867</td>\n",
       "      <td>0.867477</td>\n",
       "      <td>0.873757</td>\n",
       "      <td>0.880773</td>\n",
       "      <td>0.888384</td>\n",
       "      <td>0.896193</td>\n",
       "      <td>0.903547</td>\n",
       "      <td>0.909774</td>\n",
       "      <td>0.914501</td>\n",
       "      <td>0.917781</td>\n",
       "      <td>0.300813</td>\n",
       "      <td>0.297318</td>\n",
       "      <td>0.294121</td>\n",
       "      <td>0.292473</td>\n",
       "      <td>0.293590</td>\n",
       "      <td>0.297837</td>\n",
       "      <td>0.304572</td>\n",
       "      <td>0.312840</td>\n",
       "      <td>0.321894</td>\n",
       "      <td>0.330869</td>\n",
       "      <td>0.338439</td>\n",
       "      <td>0.343630</td>\n",
       "      <td>0.347123</td>\n",
       "      <td>0.351144</td>\n",
       "      <td>0.357617</td>\n",
       "      <td>0.366468</td>\n",
       "      <td>0.375729</td>\n",
       "      <td>0.383266</td>\n",
       "      <td>0.388624</td>\n",
       "      <td>0.393295</td>\n",
       "      <td>0.398883</td>\n",
       "      <td>0.405127</td>\n",
       "      <td>0.410251</td>\n",
       "      <td>0.413154</td>\n",
       "      <td>0.414627</td>\n",
       "      <td>0.416403</td>\n",
       "      <td>0.419426</td>\n",
       "      <td>0.423218</td>\n",
       "      <td>0.426673</td>\n",
       "      <td>0.429081</td>\n",
       "      <td>0.005989</td>\n",
       "      <td>0.005985</td>\n",
       "      <td>0.005950</td>\n",
       "      <td>0.005869</td>\n",
       "      <td>0.005746</td>\n",
       "      <td>0.005613</td>\n",
       "      <td>0.005510</td>\n",
       "      <td>0.005464</td>\n",
       "      <td>0.005469</td>\n",
       "      <td>0.005505</td>\n",
       "      <td>0.005551</td>\n",
       "      <td>0.005592</td>\n",
       "      <td>0.005623</td>\n",
       "      <td>0.005646</td>\n",
       "      <td>0.005663</td>\n",
       "      <td>0.005670</td>\n",
       "      <td>0.005660</td>\n",
       "      <td>0.005632</td>\n",
       "      <td>0.005599</td>\n",
       "      <td>0.005574</td>\n",
       "      <td>0.005564</td>\n",
       "      <td>0.005560</td>\n",
       "      <td>0.005551</td>\n",
       "      <td>0.005537</td>\n",
       "      <td>0.005531</td>\n",
       "      <td>0.005540</td>\n",
       "      <td>0.005560</td>\n",
       "      <td>0.005578</td>\n",
       "      <td>0.005588</td>\n",
       "      <td>0.005591</td>\n",
       "      <td>0.249938</td>\n",
       "      <td>0.246312</td>\n",
       "      <td>0.242291</td>\n",
       "      <td>0.238279</td>\n",
       "      <td>0.234816</td>\n",
       "      <td>0.232499</td>\n",
       "      <td>0.231950</td>\n",
       "      <td>0.233695</td>\n",
       "      <td>0.237890</td>\n",
       "      <td>0.244113</td>\n",
       "      <td>0.251486</td>\n",
       "      <td>0.259029</td>\n",
       "      <td>0.265991</td>\n",
       "      <td>0.271989</td>\n",
       "      <td>0.276953</td>\n",
       "      <td>0.280918</td>\n",
       "      <td>0.283829</td>\n",
       "      <td>0.285549</td>\n",
       "      <td>0.286038</td>\n",
       "      <td>0.285486</td>\n",
       "      <td>0.284265</td>\n",
       "      <td>0.282753</td>\n",
       "      <td>0.281178</td>\n",
       "      <td>0.279498</td>\n",
       "      <td>0.277308</td>\n",
       "      <td>0.273877</td>\n",
       "      <td>0.268538</td>\n",
       "      <td>0.261294</td>\n",
       "      <td>0.252976</td>\n",
       "      <td>0.244717</td>\n",
       "      <td>0.066150</td>\n",
       "      <td>0.066268</td>\n",
       "      <td>0.066419</td>\n",
       "      <td>0.066599</td>\n",
       "      <td>0.066789</td>\n",
       "      <td>0.066973</td>\n",
       "      <td>0.067139</td>\n",
       "      <td>0.067289</td>\n",
       "      <td>0.067439</td>\n",
       "      <td>0.067607</td>\n",
       "      <td>0.067810</td>\n",
       "      <td>0.068060</td>\n",
       "      <td>0.068362</td>\n",
       "      <td>0.068716</td>\n",
       "      <td>0.069116</td>\n",
       "      <td>0.069558</td>\n",
       "      <td>0.070034</td>\n",
       "      <td>0.070536</td>\n",
       "      <td>0.071054</td>\n",
       "      <td>0.071576</td>\n",
       "      <td>0.072093</td>\n",
       "      <td>0.072597</td>\n",
       "      <td>0.073085</td>\n",
       "      <td>0.073559</td>\n",
       "      <td>0.074015</td>\n",
       "      <td>0.074448</td>\n",
       "      <td>0.074842</td>\n",
       "      <td>0.075180</td>\n",
       "      <td>0.075450</td>\n",
       "      <td>0.075653</td>\n",
       "      <td>0.449822</td>\n",
       "      <td>0.443247</td>\n",
       "      <td>0.434696</td>\n",
       "      <td>0.424290</td>\n",
       "      <td>0.412622</td>\n",
       "      <td>0.400599</td>\n",
       "      <td>0.389129</td>\n",
       "      <td>0.378911</td>\n",
       "      <td>0.370368</td>\n",
       "      <td>0.363654</td>\n",
       "      <td>0.358717</td>\n",
       "      <td>0.355396</td>\n",
       "      <td>0.353515</td>\n",
       "      <td>0.352969</td>\n",
       "      <td>0.353721</td>\n",
       "      <td>0.355692</td>\n",
       "      <td>0.358574</td>\n",
       "      <td>0.361659</td>\n",
       "      <td>0.363799</td>\n",
       "      <td>0.363654</td>\n",
       "      <td>0.360162</td>\n",
       "      <td>0.352954</td>\n",
       "      <td>0.342415</td>\n",
       "      <td>0.329408</td>\n",
       "      <td>0.314923</td>\n",
       "      <td>0.299948</td>\n",
       "      <td>0.285539</td>\n",
       "      <td>0.272741</td>\n",
       "      <td>0.262254</td>\n",
       "      <td>0.254212</td>\n",
       "      <td>0.558785</td>\n",
       "      <td>0.564143</td>\n",
       "      <td>0.570859</td>\n",
       "      <td>0.578884</td>\n",
       "      <td>0.588000</td>\n",
       "      <td>0.597920</td>\n",
       "      <td>0.608328</td>\n",
       "      <td>0.618853</td>\n",
       "      <td>0.629073</td>\n",
       "      <td>0.638608</td>\n",
       "      <td>0.647181</td>\n",
       "      <td>0.654612</td>\n",
       "      <td>0.660778</td>\n",
       "      <td>0.665602</td>\n",
       "      <td>0.669083</td>\n",
       "      <td>0.671334</td>\n",
       "      <td>0.672630</td>\n",
       "      <td>0.673466</td>\n",
       "      <td>0.674556</td>\n",
       "      <td>0.676687</td>\n",
       "      <td>0.680491</td>\n",
       "      <td>0.686248</td>\n",
       "      <td>0.693853</td>\n",
       "      <td>0.702920</td>\n",
       "      <td>0.712936</td>\n",
       "      <td>0.723316</td>\n",
       "      <td>0.733365</td>\n",
       "      <td>0.742355</td>\n",
       "      <td>0.749773</td>\n",
       "      <td>0.755500</td>\n",
       "      <td>0.238027</td>\n",
       "      <td>0.237729</td>\n",
       "      <td>0.237565</td>\n",
       "      <td>0.237497</td>\n",
       "      <td>0.237315</td>\n",
       "      <td>0.236662</td>\n",
       "      <td>0.235203</td>\n",
       "      <td>0.232792</td>\n",
       "      <td>0.229519</td>\n",
       "      <td>0.225615</td>\n",
       "      <td>0.221360</td>\n",
       "      <td>0.217024</td>\n",
       "      <td>0.212835</td>\n",
       "      <td>0.208930</td>\n",
       "      <td>0.205337</td>\n",
       "      <td>0.202010</td>\n",
       "      <td>0.198911</td>\n",
       "      <td>0.196083</td>\n",
       "      <td>0.193670</td>\n",
       "      <td>0.191880</td>\n",
       "      <td>0.190873</td>\n",
       "      <td>0.190650</td>\n",
       "      <td>0.191043</td>\n",
       "      <td>0.191811</td>\n",
       "      <td>0.192739</td>\n",
       "      <td>0.193677</td>\n",
       "      <td>0.194523</td>\n",
       "      <td>0.195218</td>\n",
       "      <td>0.195742</td>\n",
       "      <td>0.196110</td>\n",
       "      <td>0.074211</td>\n",
       "      <td>0.074676</td>\n",
       "      <td>0.075332</td>\n",
       "      <td>0.076252</td>\n",
       "      <td>0.077490</td>\n",
       "      <td>0.079054</td>\n",
       "      <td>0.080908</td>\n",
       "      <td>0.082994</td>\n",
       "      <td>0.085232</td>\n",
       "      <td>0.087506</td>\n",
       "      <td>0.089699</td>\n",
       "      <td>0.091765</td>\n",
       "      <td>0.093767</td>\n",
       "      <td>0.095832</td>\n",
       "      <td>0.098030</td>\n",
       "      <td>0.100295</td>\n",
       "      <td>0.102441</td>\n",
       "      <td>0.104277</td>\n",
       "      <td>0.105745</td>\n",
       "      <td>0.106964</td>\n",
       "      <td>0.108118</td>\n",
       "      <td>0.109321</td>\n",
       "      <td>0.110604</td>\n",
       "      <td>0.111983</td>\n",
       "      <td>0.113476</td>\n",
       "      <td>0.115059</td>\n",
       "      <td>0.116634</td>\n",
       "      <td>0.118072</td>\n",
       "      <td>0.119279</td>\n",
       "      <td>0.120225</td>\n",
       "      <td>0.320918</td>\n",
       "      <td>0.322417</td>\n",
       "      <td>0.324594</td>\n",
       "      <td>0.327801</td>\n",
       "      <td>0.332357</td>\n",
       "      <td>0.338378</td>\n",
       "      <td>0.345755</td>\n",
       "      <td>0.354210</td>\n",
       "      <td>0.363299</td>\n",
       "      <td>0.372403</td>\n",
       "      <td>0.380904</td>\n",
       "      <td>0.388518</td>\n",
       "      <td>0.395492</td>\n",
       "      <td>0.402364</td>\n",
       "      <td>0.409459</td>\n",
       "      <td>0.416528</td>\n",
       "      <td>0.422818</td>\n",
       "      <td>0.427570</td>\n",
       "      <td>0.430613</td>\n",
       "      <td>0.432525</td>\n",
       "      <td>0.434154</td>\n",
       "      <td>0.436032</td>\n",
       "      <td>0.438304</td>\n",
       "      <td>0.441028</td>\n",
       "      <td>0.444284</td>\n",
       "      <td>0.448006</td>\n",
       "      <td>0.451901</td>\n",
       "      <td>0.455569</td>\n",
       "      <td>0.458712</td>\n",
       "      <td>0.461218</td>\n",
       "      <td>0.180469</td>\n",
       "      <td>0.186445</td>\n",
       "      <td>0.195601</td>\n",
       "      <td>0.207191</td>\n",
       "      <td>0.218684</td>\n",
       "      <td>0.226805</td>\n",
       "      <td>0.229316</td>\n",
       "      <td>0.225626</td>\n",
       "      <td>0.216440</td>\n",
       "      <td>0.203874</td>\n",
       "      <td>0.191656</td>\n",
       "      <td>0.183788</td>\n",
       "      <td>0.182161</td>\n",
       "      <td>0.185481</td>\n",
       "      <td>0.190505</td>\n",
       "      <td>0.194190</td>\n",
       "      <td>0.195259</td>\n",
       "      <td>0.194477</td>\n",
       "      <td>0.193536</td>\n",
       "      <td>0.193522</td>\n",
       "      <td>0.194562</td>\n",
       "      <td>0.196560</td>\n",
       "      <td>0.199344</td>\n",
       "      <td>0.201837</td>\n",
       "      <td>0.201887</td>\n",
       "      <td>0.197607</td>\n",
       "      <td>0.188934</td>\n",
       "      <td>0.177746</td>\n",
       "      <td>0.166496</td>\n",
       "      <td>0.156853</td>\n",
       "      <td>0.974730</td>\n",
       "      <td>0.975354</td>\n",
       "      <td>0.976162</td>\n",
       "      <td>0.977147</td>\n",
       "      <td>0.978263</td>\n",
       "      <td>0.979443</td>\n",
       "      <td>0.980635</td>\n",
       "      <td>0.981806</td>\n",
       "      <td>0.982939</td>\n",
       "      <td>0.984024</td>\n",
       "      <td>0.985056</td>\n",
       "      <td>0.986035</td>\n",
       "      <td>0.986970</td>\n",
       "      <td>0.987872</td>\n",
       "      <td>0.988749</td>\n",
       "      <td>0.989606</td>\n",
       "      <td>0.990445</td>\n",
       "      <td>0.991268</td>\n",
       "      <td>0.992075</td>\n",
       "      <td>0.992866</td>\n",
       "      <td>0.993642</td>\n",
       "      <td>0.994402</td>\n",
       "      <td>0.995148</td>\n",
       "      <td>0.995878</td>\n",
       "      <td>0.996586</td>\n",
       "      <td>0.997260</td>\n",
       "      <td>0.997875</td>\n",
       "      <td>0.998402</td>\n",
       "      <td>0.998825</td>\n",
       "      <td>0.999144</td>\n",
       "      <td>0.002852</td>\n",
       "      <td>0.002844</td>\n",
       "      <td>0.002831</td>\n",
       "      <td>0.002812</td>\n",
       "      <td>0.002800</td>\n",
       "      <td>0.002814</td>\n",
       "      <td>0.002878</td>\n",
       "      <td>0.002995</td>\n",
       "      <td>0.003150</td>\n",
       "      <td>0.003303</td>\n",
       "      <td>0.003409</td>\n",
       "      <td>0.003425</td>\n",
       "      <td>0.003338</td>\n",
       "      <td>0.003176</td>\n",
       "      <td>0.002992</td>\n",
       "      <td>0.002826</td>\n",
       "      <td>0.002695</td>\n",
       "      <td>0.002602</td>\n",
       "      <td>0.002546</td>\n",
       "      <td>0.002528</td>\n",
       "      <td>0.002540</td>\n",
       "      <td>0.002574</td>\n",
       "      <td>0.002627</td>\n",
       "      <td>0.002699</td>\n",
       "      <td>0.002789</td>\n",
       "      <td>0.002879</td>\n",
       "      <td>0.002950</td>\n",
       "      <td>0.002992</td>\n",
       "      <td>0.003010</td>\n",
       "      <td>0.003017</td>\n",
       "    </tr>\n",
       "    <tr>\n",
       "      <th>3</th>\n",
       "      <td>BGR</td>\n",
       "      <td>Bulgaria</td>\n",
       "      <td>0.237228</td>\n",
       "      <td>0.230036</td>\n",
       "      <td>0.223430</td>\n",
       "      <td>0.218189</td>\n",
       "      <td>0.214511</td>\n",
       "      <td>0.211627</td>\n",
       "      <td>0.208179</td>\n",
       "      <td>0.203241</td>\n",
       "      <td>0.197204</td>\n",
       "      <td>0.191720</td>\n",
       "      <td>0.188636</td>\n",
       "      <td>0.188805</td>\n",
       "      <td>0.191780</td>\n",
       "      <td>0.196426</td>\n",
       "      <td>0.201623</td>\n",
       "      <td>0.206427</td>\n",
       "      <td>0.209869</td>\n",
       "      <td>0.211117</td>\n",
       "      <td>0.210140</td>\n",
       "      <td>0.207885</td>\n",
       "      <td>0.205363</td>\n",
       "      <td>0.202808</td>\n",
       "      <td>0.200137</td>\n",
       "      <td>0.197802</td>\n",
       "      <td>0.196511</td>\n",
       "      <td>0.196311</td>\n",
       "      <td>0.196523</td>\n",
       "      <td>0.196482</td>\n",
       "      <td>0.196017</td>\n",
       "      <td>0.195303</td>\n",
       "      <td>0.143303</td>\n",
       "      <td>0.143518</td>\n",
       "      <td>0.149567</td>\n",
       "      <td>0.161640</td>\n",
       "      <td>0.177226</td>\n",
       "      <td>0.192040</td>\n",
       "      <td>0.202817</td>\n",
       "      <td>0.209491</td>\n",
       "      <td>0.214681</td>\n",
       "      <td>0.221053</td>\n",
       "      <td>0.229256</td>\n",
       "      <td>0.238156</td>\n",
       "      <td>0.246265</td>\n",
       "      <td>0.252545</td>\n",
       "      <td>0.256434</td>\n",
       "      <td>0.257748</td>\n",
       "      <td>0.256691</td>\n",
       "      <td>0.253897</td>\n",
       "      <td>0.250569</td>\n",
       "      <td>0.248374</td>\n",
       "      <td>0.248575</td>\n",
       "      <td>0.250937</td>\n",
       "      <td>0.253736</td>\n",
       "      <td>0.255079</td>\n",
       "      <td>0.254235</td>\n",
       "      <td>0.251832</td>\n",
       "      <td>0.249116</td>\n",
       "      <td>0.247076</td>\n",
       "      <td>0.246038</td>\n",
       "      <td>0.245817</td>\n",
       "      <td>0.747213</td>\n",
       "      <td>0.720085</td>\n",
       "      <td>0.693707</td>\n",
       "      <td>0.668412</td>\n",
       "      <td>0.641975</td>\n",
       "      <td>0.612166</td>\n",
       "      <td>0.580785</td>\n",
       "      <td>0.553015</td>\n",
       "      <td>0.532227</td>\n",
       "      <td>0.517385</td>\n",
       "      <td>0.505640</td>\n",
       "      <td>0.495190</td>\n",
       "      <td>0.485049</td>\n",
       "      <td>0.474179</td>\n",
       "      <td>0.462434</td>\n",
       "      <td>0.451657</td>\n",
       "      <td>0.444456</td>\n",
       "      <td>0.441602</td>\n",
       "      <td>0.441097</td>\n",
       "      <td>0.439923</td>\n",
       "      <td>0.436460</td>\n",
       "      <td>0.431222</td>\n",
       "      <td>0.425570</td>\n",
       "      <td>0.420093</td>\n",
       "      <td>0.414503</td>\n",
       "      <td>0.408871</td>\n",
       "      <td>0.404239</td>\n",
       "      <td>0.401693</td>\n",
       "      <td>0.401334</td>\n",
       "      <td>0.402416</td>\n",
       "      <td>0.090234</td>\n",
       "      <td>0.084210</td>\n",
       "      <td>0.076504</td>\n",
       "      <td>0.067893</td>\n",
       "      <td>0.061800</td>\n",
       "      <td>0.064509</td>\n",
       "      <td>0.081666</td>\n",
       "      <td>0.113164</td>\n",
       "      <td>0.152052</td>\n",
       "      <td>0.189259</td>\n",
       "      <td>0.219478</td>\n",
       "      <td>0.243308</td>\n",
       "      <td>0.265490</td>\n",
       "      <td>0.291603</td>\n",
       "      <td>0.324715</td>\n",
       "      <td>0.362948</td>\n",
       "      <td>0.399339</td>\n",
       "      <td>0.424644</td>\n",
       "      <td>0.432087</td>\n",
       "      <td>0.421520</td>\n",
       "      <td>0.399778</td>\n",
       "      <td>0.376281</td>\n",
       "      <td>0.357446</td>\n",
       "      <td>0.344647</td>\n",
       "      <td>0.336352</td>\n",
       "      <td>0.331133</td>\n",
       "      <td>0.328573</td>\n",
       "      <td>0.328263</td>\n",
       "      <td>0.329145</td>\n",
       "      <td>0.330047</td>\n",
       "      <td>0.981993</td>\n",
       "      <td>0.979440</td>\n",
       "      <td>0.976125</td>\n",
       "      <td>0.971747</td>\n",
       "      <td>0.965832</td>\n",
       "      <td>0.958147</td>\n",
       "      <td>0.949193</td>\n",
       "      <td>0.939977</td>\n",
       "      <td>0.931118</td>\n",
       "      <td>0.922312</td>\n",
       "      <td>0.912637</td>\n",
       "      <td>0.901160</td>\n",
       "      <td>0.887294</td>\n",
       "      <td>0.871043</td>\n",
       "      <td>0.853268</td>\n",
       "      <td>0.835865</td>\n",
       "      <td>0.821518</td>\n",
       "      <td>0.812592</td>\n",
       "      <td>0.809281</td>\n",
       "      <td>0.808784</td>\n",
       "      <td>0.807254</td>\n",
       "      <td>0.803138</td>\n",
       "      <td>0.798309</td>\n",
       "      <td>0.795854</td>\n",
       "      <td>0.797058</td>\n",
       "      <td>0.800470</td>\n",
       "      <td>0.803503</td>\n",
       "      <td>0.804660</td>\n",
       "      <td>0.804158</td>\n",
       "      <td>0.802969</td>\n",
       "      <td>0.491363</td>\n",
       "      <td>0.513349</td>\n",
       "      <td>0.522595</td>\n",
       "      <td>0.517763</td>\n",
       "      <td>0.504032</td>\n",
       "      <td>0.489265</td>\n",
       "      <td>0.477156</td>\n",
       "      <td>0.465799</td>\n",
       "      <td>0.452368</td>\n",
       "      <td>0.437098</td>\n",
       "      <td>0.422798</td>\n",
       "      <td>0.412146</td>\n",
       "      <td>0.406140</td>\n",
       "      <td>0.404257</td>\n",
       "      <td>0.405110</td>\n",
       "      <td>0.406985</td>\n",
       "      <td>0.408426</td>\n",
       "      <td>0.408885</td>\n",
       "      <td>0.409065</td>\n",
       "      <td>0.410409</td>\n",
       "      <td>0.413843</td>\n",
       "      <td>0.418885</td>\n",
       "      <td>0.424129</td>\n",
       "      <td>0.428501</td>\n",
       "      <td>0.431894</td>\n",
       "      <td>0.434763</td>\n",
       "      <td>0.437441</td>\n",
       "      <td>0.439933</td>\n",
       "      <td>0.442126</td>\n",
       "      <td>0.443986</td>\n",
       "      <td>0.019822</td>\n",
       "      <td>0.023321</td>\n",
       "      <td>0.028915</td>\n",
       "      <td>0.037161</td>\n",
       "      <td>0.048108</td>\n",
       "      <td>0.060746</td>\n",
       "      <td>0.072950</td>\n",
       "      <td>0.082549</td>\n",
       "      <td>0.088973</td>\n",
       "      <td>0.093763</td>\n",
       "      <td>0.099309</td>\n",
       "      <td>0.107251</td>\n",
       "      <td>0.117984</td>\n",
       "      <td>0.130945</td>\n",
       "      <td>0.144889</td>\n",
       "      <td>0.158066</td>\n",
       "      <td>0.168754</td>\n",
       "      <td>0.176326</td>\n",
       "      <td>0.182231</td>\n",
       "      <td>0.189418</td>\n",
       "      <td>0.199893</td>\n",
       "      <td>0.212605</td>\n",
       "      <td>0.224093</td>\n",
       "      <td>0.231288</td>\n",
       "      <td>0.233710</td>\n",
       "      <td>0.233321</td>\n",
       "      <td>0.232557</td>\n",
       "      <td>0.232555</td>\n",
       "      <td>0.233074</td>\n",
       "      <td>0.233504</td>\n",
       "      <td>0.560915</td>\n",
       "      <td>0.549686</td>\n",
       "      <td>0.535032</td>\n",
       "      <td>0.517469</td>\n",
       "      <td>0.498662</td>\n",
       "      <td>0.481210</td>\n",
       "      <td>0.468212</td>\n",
       "      <td>0.462872</td>\n",
       "      <td>0.467870</td>\n",
       "      <td>0.484515</td>\n",
       "      <td>0.512340</td>\n",
       "      <td>0.549291</td>\n",
       "      <td>0.592120</td>\n",
       "      <td>0.636836</td>\n",
       "      <td>0.679248</td>\n",
       "      <td>0.715392</td>\n",
       "      <td>0.741671</td>\n",
       "      <td>0.755184</td>\n",
       "      <td>0.754754</td>\n",
       "      <td>0.742129</td>\n",
       "      <td>0.721916</td>\n",
       "      <td>0.699749</td>\n",
       "      <td>0.679986</td>\n",
       "      <td>0.664668</td>\n",
       "      <td>0.653953</td>\n",
       "      <td>0.647096</td>\n",
       "      <td>0.643146</td>\n",
       "      <td>0.641230</td>\n",
       "      <td>0.640614</td>\n",
       "      <td>0.640726</td>\n",
       "      <td>0.527217</td>\n",
       "      <td>0.513277</td>\n",
       "      <td>0.500301</td>\n",
       "      <td>0.490279</td>\n",
       "      <td>0.484371</td>\n",
       "      <td>0.482122</td>\n",
       "      <td>0.481901</td>\n",
       "      <td>0.481971</td>\n",
       "      <td>0.481276</td>\n",
       "      <td>0.479866</td>\n",
       "      <td>0.479047</td>\n",
       "      <td>0.480902</td>\n",
       "      <td>0.487181</td>\n",
       "      <td>0.498389</td>\n",
       "      <td>0.513758</td>\n",
       "      <td>0.531662</td>\n",
       "      <td>0.549600</td>\n",
       "      <td>0.564103</td>\n",
       "      <td>0.571802</td>\n",
       "      <td>0.571532</td>\n",
       "      <td>0.565554</td>\n",
       "      <td>0.558394</td>\n",
       "      <td>0.554266</td>\n",
       "      <td>0.555217</td>\n",
       "      <td>0.561059</td>\n",
       "      <td>0.570336</td>\n",
       "      <td>0.581221</td>\n",
       "      <td>0.592004</td>\n",
       "      <td>0.601451</td>\n",
       "      <td>0.609018</td>\n",
       "      <td>0.321544</td>\n",
       "      <td>0.317170</td>\n",
       "      <td>0.310626</td>\n",
       "      <td>0.301653</td>\n",
       "      <td>0.290581</td>\n",
       "      <td>0.278225</td>\n",
       "      <td>0.265306</td>\n",
       "      <td>0.251919</td>\n",
       "      <td>0.237626</td>\n",
       "      <td>0.222235</td>\n",
       "      <td>0.206596</td>\n",
       "      <td>0.192372</td>\n",
       "      <td>0.180564</td>\n",
       "      <td>0.170376</td>\n",
       "      <td>0.160053</td>\n",
       "      <td>0.148799</td>\n",
       "      <td>0.137477</td>\n",
       "      <td>0.127538</td>\n",
       "      <td>0.119759</td>\n",
       "      <td>0.114053</td>\n",
       "      <td>0.110031</td>\n",
       "      <td>0.107454</td>\n",
       "      <td>0.106201</td>\n",
       "      <td>0.106007</td>\n",
       "      <td>0.106355</td>\n",
       "      <td>0.106685</td>\n",
       "      <td>0.106672</td>\n",
       "      <td>0.106302</td>\n",
       "      <td>0.105731</td>\n",
       "      <td>0.105128</td>\n",
       "      <td>0.849470</td>\n",
       "      <td>0.839702</td>\n",
       "      <td>0.825918</td>\n",
       "      <td>0.808035</td>\n",
       "      <td>0.786793</td>\n",
       "      <td>0.763335</td>\n",
       "      <td>0.738669</td>\n",
       "      <td>0.713685</td>\n",
       "      <td>0.689541</td>\n",
       "      <td>0.667856</td>\n",
       "      <td>0.650476</td>\n",
       "      <td>0.639040</td>\n",
       "      <td>0.634677</td>\n",
       "      <td>0.637801</td>\n",
       "      <td>0.647621</td>\n",
       "      <td>0.661542</td>\n",
       "      <td>0.675095</td>\n",
       "      <td>0.682785</td>\n",
       "      <td>0.679965</td>\n",
       "      <td>0.665260</td>\n",
       "      <td>0.641760</td>\n",
       "      <td>0.615385</td>\n",
       "      <td>0.591588</td>\n",
       "      <td>0.573239</td>\n",
       "      <td>0.560781</td>\n",
       "      <td>0.553377</td>\n",
       "      <td>0.549744</td>\n",
       "      <td>0.548520</td>\n",
       "      <td>0.548524</td>\n",
       "      <td>0.548950</td>\n",
       "      <td>0.202189</td>\n",
       "      <td>0.212041</td>\n",
       "      <td>0.226294</td>\n",
       "      <td>0.245236</td>\n",
       "      <td>0.268121</td>\n",
       "      <td>0.293507</td>\n",
       "      <td>0.320118</td>\n",
       "      <td>0.347346</td>\n",
       "      <td>0.374934</td>\n",
       "      <td>0.402131</td>\n",
       "      <td>0.427065</td>\n",
       "      <td>0.447214</td>\n",
       "      <td>0.460972</td>\n",
       "      <td>0.468852</td>\n",
       "      <td>0.472973</td>\n",
       "      <td>0.475594</td>\n",
       "      <td>0.478492</td>\n",
       "      <td>0.483481</td>\n",
       "      <td>0.492523</td>\n",
       "      <td>0.506496</td>\n",
       "      <td>0.523970</td>\n",
       "      <td>0.541730</td>\n",
       "      <td>0.556729</td>\n",
       "      <td>0.567559</td>\n",
       "      <td>0.574453</td>\n",
       "      <td>0.578426</td>\n",
       "      <td>0.580530</td>\n",
       "      <td>0.581573</td>\n",
       "      <td>0.582099</td>\n",
       "      <td>0.582415</td>\n",
       "      <td>0.164048</td>\n",
       "      <td>0.167830</td>\n",
       "      <td>0.170235</td>\n",
       "      <td>0.171436</td>\n",
       "      <td>0.172597</td>\n",
       "      <td>0.174776</td>\n",
       "      <td>0.177242</td>\n",
       "      <td>0.177536</td>\n",
       "      <td>0.173713</td>\n",
       "      <td>0.166262</td>\n",
       "      <td>0.157904</td>\n",
       "      <td>0.152014</td>\n",
       "      <td>0.151124</td>\n",
       "      <td>0.156078</td>\n",
       "      <td>0.165866</td>\n",
       "      <td>0.178070</td>\n",
       "      <td>0.189839</td>\n",
       "      <td>0.199279</td>\n",
       "      <td>0.206742</td>\n",
       "      <td>0.214666</td>\n",
       "      <td>0.225360</td>\n",
       "      <td>0.238700</td>\n",
       "      <td>0.252221</td>\n",
       "      <td>0.263276</td>\n",
       "      <td>0.270810</td>\n",
       "      <td>0.275377</td>\n",
       "      <td>0.278052</td>\n",
       "      <td>0.279555</td>\n",
       "      <td>0.280186</td>\n",
       "      <td>0.280145</td>\n",
       "      <td>0.266136</td>\n",
       "      <td>0.265722</td>\n",
       "      <td>0.266310</td>\n",
       "      <td>0.268645</td>\n",
       "      <td>0.273126</td>\n",
       "      <td>0.279287</td>\n",
       "      <td>0.286042</td>\n",
       "      <td>0.292733</td>\n",
       "      <td>0.299938</td>\n",
       "      <td>0.309177</td>\n",
       "      <td>0.321804</td>\n",
       "      <td>0.338090</td>\n",
       "      <td>0.357150</td>\n",
       "      <td>0.377615</td>\n",
       "      <td>0.398365</td>\n",
       "      <td>0.418768</td>\n",
       "      <td>0.438431</td>\n",
       "      <td>0.456914</td>\n",
       "      <td>0.473789</td>\n",
       "      <td>0.488965</td>\n",
       "      <td>0.502830</td>\n",
       "      <td>0.515981</td>\n",
       "      <td>0.528767</td>\n",
       "      <td>0.540987</td>\n",
       "      <td>0.551969</td>\n",
       "      <td>0.561023</td>\n",
       "      <td>0.567893</td>\n",
       "      <td>0.572853</td>\n",
       "      <td>0.576420</td>\n",
       "      <td>0.579052</td>\n",
       "      <td>0.215819</td>\n",
       "      <td>0.220275</td>\n",
       "      <td>0.220824</td>\n",
       "      <td>0.215510</td>\n",
       "      <td>0.205446</td>\n",
       "      <td>0.195446</td>\n",
       "      <td>0.190798</td>\n",
       "      <td>0.193324</td>\n",
       "      <td>0.200883</td>\n",
       "      <td>0.209926</td>\n",
       "      <td>0.218318</td>\n",
       "      <td>0.226653</td>\n",
       "      <td>0.237553</td>\n",
       "      <td>0.253443</td>\n",
       "      <td>0.274316</td>\n",
       "      <td>0.296834</td>\n",
       "      <td>0.315320</td>\n",
       "      <td>0.324632</td>\n",
       "      <td>0.323868</td>\n",
       "      <td>0.317795</td>\n",
       "      <td>0.313545</td>\n",
       "      <td>0.315081</td>\n",
       "      <td>0.320899</td>\n",
       "      <td>0.326678</td>\n",
       "      <td>0.329368</td>\n",
       "      <td>0.328931</td>\n",
       "      <td>0.327184</td>\n",
       "      <td>0.325699</td>\n",
       "      <td>0.324877</td>\n",
       "      <td>0.324403</td>\n",
       "      <td>0.034595</td>\n",
       "      <td>0.034870</td>\n",
       "      <td>0.035469</td>\n",
       "      <td>0.038629</td>\n",
       "      <td>0.046676</td>\n",
       "      <td>0.059035</td>\n",
       "      <td>0.070066</td>\n",
       "      <td>0.071904</td>\n",
       "      <td>0.061358</td>\n",
       "      <td>0.043283</td>\n",
       "      <td>0.026037</td>\n",
       "      <td>0.014684</td>\n",
       "      <td>0.009213</td>\n",
       "      <td>0.007285</td>\n",
       "      <td>0.006884</td>\n",
       "      <td>0.006972</td>\n",
       "      <td>0.007114</td>\n",
       "      <td>0.007127</td>\n",
       "      <td>0.006959</td>\n",
       "      <td>0.006659</td>\n",
       "      <td>0.006319</td>\n",
       "      <td>0.006012</td>\n",
       "      <td>0.005774</td>\n",
       "      <td>0.005635</td>\n",
       "      <td>0.005621</td>\n",
       "      <td>0.005721</td>\n",
       "      <td>0.005885</td>\n",
       "      <td>0.006057</td>\n",
       "      <td>0.006203</td>\n",
       "      <td>0.006315</td>\n",
       "      <td>0.147758</td>\n",
       "      <td>0.142506</td>\n",
       "      <td>0.139144</td>\n",
       "      <td>0.139205</td>\n",
       "      <td>0.143307</td>\n",
       "      <td>0.150527</td>\n",
       "      <td>0.158936</td>\n",
       "      <td>0.166745</td>\n",
       "      <td>0.173011</td>\n",
       "      <td>0.177638</td>\n",
       "      <td>0.180976</td>\n",
       "      <td>0.183398</td>\n",
       "      <td>0.185128</td>\n",
       "      <td>0.186297</td>\n",
       "      <td>0.187085</td>\n",
       "      <td>0.187764</td>\n",
       "      <td>0.188656</td>\n",
       "      <td>0.190022</td>\n",
       "      <td>0.191960</td>\n",
       "      <td>0.194357</td>\n",
       "      <td>0.196921</td>\n",
       "      <td>0.199284</td>\n",
       "      <td>0.201091</td>\n",
       "      <td>0.201991</td>\n",
       "      <td>0.201506</td>\n",
       "      <td>0.198919</td>\n",
       "      <td>0.193596</td>\n",
       "      <td>0.185646</td>\n",
       "      <td>0.176136</td>\n",
       "      <td>0.166501</td>\n",
       "      <td>0.057230</td>\n",
       "      <td>0.056936</td>\n",
       "      <td>0.056544</td>\n",
       "      <td>0.056057</td>\n",
       "      <td>0.055502</td>\n",
       "      <td>0.054918</td>\n",
       "      <td>0.054341</td>\n",
       "      <td>0.053791</td>\n",
       "      <td>0.053271</td>\n",
       "      <td>0.052777</td>\n",
       "      <td>0.052306</td>\n",
       "      <td>0.051854</td>\n",
       "      <td>0.051418</td>\n",
       "      <td>0.050998</td>\n",
       "      <td>0.050592</td>\n",
       "      <td>0.050200</td>\n",
       "      <td>0.049822</td>\n",
       "      <td>0.049455</td>\n",
       "      <td>0.049102</td>\n",
       "      <td>0.048761</td>\n",
       "      <td>0.048431</td>\n",
       "      <td>0.048112</td>\n",
       "      <td>0.047800</td>\n",
       "      <td>0.047493</td>\n",
       "      <td>0.047187</td>\n",
       "      <td>0.046887</td>\n",
       "      <td>0.046603</td>\n",
       "      <td>0.046352</td>\n",
       "      <td>0.046145</td>\n",
       "      <td>0.045985</td>\n",
       "      <td>0.424300</td>\n",
       "      <td>0.427113</td>\n",
       "      <td>0.432003</td>\n",
       "      <td>0.439250</td>\n",
       "      <td>0.448483</td>\n",
       "      <td>0.458819</td>\n",
       "      <td>0.469506</td>\n",
       "      <td>0.480448</td>\n",
       "      <td>0.492172</td>\n",
       "      <td>0.505369</td>\n",
       "      <td>0.520409</td>\n",
       "      <td>0.537088</td>\n",
       "      <td>0.554575</td>\n",
       "      <td>0.571426</td>\n",
       "      <td>0.585765</td>\n",
       "      <td>0.595727</td>\n",
       "      <td>0.599972</td>\n",
       "      <td>0.597815</td>\n",
       "      <td>0.588894</td>\n",
       "      <td>0.572880</td>\n",
       "      <td>0.549675</td>\n",
       "      <td>0.519893</td>\n",
       "      <td>0.485075</td>\n",
       "      <td>0.447423</td>\n",
       "      <td>0.409337</td>\n",
       "      <td>0.373139</td>\n",
       "      <td>0.340926</td>\n",
       "      <td>0.314241</td>\n",
       "      <td>0.293626</td>\n",
       "      <td>0.278562</td>\n",
       "      <td>0.467567</td>\n",
       "      <td>0.478410</td>\n",
       "      <td>0.492364</td>\n",
       "      <td>0.509257</td>\n",
       "      <td>0.528265</td>\n",
       "      <td>0.548188</td>\n",
       "      <td>0.567898</td>\n",
       "      <td>0.586561</td>\n",
       "      <td>0.603668</td>\n",
       "      <td>0.619014</td>\n",
       "      <td>0.632610</td>\n",
       "      <td>0.644520</td>\n",
       "      <td>0.654784</td>\n",
       "      <td>0.663518</td>\n",
       "      <td>0.671059</td>\n",
       "      <td>0.677960</td>\n",
       "      <td>0.684868</td>\n",
       "      <td>0.692466</td>\n",
       "      <td>0.701503</td>\n",
       "      <td>0.712769</td>\n",
       "      <td>0.726887</td>\n",
       "      <td>0.744005</td>\n",
       "      <td>0.763645</td>\n",
       "      <td>0.784818</td>\n",
       "      <td>0.806296</td>\n",
       "      <td>0.826789</td>\n",
       "      <td>0.845043</td>\n",
       "      <td>0.860092</td>\n",
       "      <td>0.871592</td>\n",
       "      <td>0.879878</td>\n",
       "      <td>0.336105</td>\n",
       "      <td>0.324596</td>\n",
       "      <td>0.308926</td>\n",
       "      <td>0.289056</td>\n",
       "      <td>0.265970</td>\n",
       "      <td>0.241327</td>\n",
       "      <td>0.216636</td>\n",
       "      <td>0.192698</td>\n",
       "      <td>0.169610</td>\n",
       "      <td>0.147086</td>\n",
       "      <td>0.124866</td>\n",
       "      <td>0.103029</td>\n",
       "      <td>0.082105</td>\n",
       "      <td>0.062965</td>\n",
       "      <td>0.046582</td>\n",
       "      <td>0.033729</td>\n",
       "      <td>0.024736</td>\n",
       "      <td>0.019465</td>\n",
       "      <td>0.017496</td>\n",
       "      <td>0.018350</td>\n",
       "      <td>0.021544</td>\n",
       "      <td>0.026529</td>\n",
       "      <td>0.032689</td>\n",
       "      <td>0.039408</td>\n",
       "      <td>0.046150</td>\n",
       "      <td>0.052488</td>\n",
       "      <td>0.058112</td>\n",
       "      <td>0.062836</td>\n",
       "      <td>0.066596</td>\n",
       "      <td>0.069448</td>\n",
       "      <td>0.019227</td>\n",
       "      <td>0.018844</td>\n",
       "      <td>0.018506</td>\n",
       "      <td>0.018281</td>\n",
       "      <td>0.018175</td>\n",
       "      <td>0.018100</td>\n",
       "      <td>0.017941</td>\n",
       "      <td>0.017673</td>\n",
       "      <td>0.017407</td>\n",
       "      <td>0.017311</td>\n",
       "      <td>0.017512</td>\n",
       "      <td>0.018047</td>\n",
       "      <td>0.018882</td>\n",
       "      <td>0.019953</td>\n",
       "      <td>0.021191</td>\n",
       "      <td>0.022514</td>\n",
       "      <td>0.023803</td>\n",
       "      <td>0.024923</td>\n",
       "      <td>0.025773</td>\n",
       "      <td>0.026347</td>\n",
       "      <td>0.026730</td>\n",
       "      <td>0.027044</td>\n",
       "      <td>0.027395</td>\n",
       "      <td>0.027858</td>\n",
       "      <td>0.028474</td>\n",
       "      <td>0.029227</td>\n",
       "      <td>0.030042</td>\n",
       "      <td>0.030815</td>\n",
       "      <td>0.031468</td>\n",
       "      <td>0.031975</td>\n",
       "      <td>0.086774</td>\n",
       "      <td>0.085308</td>\n",
       "      <td>0.084256</td>\n",
       "      <td>0.083962</td>\n",
       "      <td>0.084411</td>\n",
       "      <td>0.085058</td>\n",
       "      <td>0.085222</td>\n",
       "      <td>0.084752</td>\n",
       "      <td>0.084256</td>\n",
       "      <td>0.084689</td>\n",
       "      <td>0.086788</td>\n",
       "      <td>0.090792</td>\n",
       "      <td>0.096538</td>\n",
       "      <td>0.103701</td>\n",
       "      <td>0.111908</td>\n",
       "      <td>0.120682</td>\n",
       "      <td>0.129334</td>\n",
       "      <td>0.137041</td>\n",
       "      <td>0.143188</td>\n",
       "      <td>0.147712</td>\n",
       "      <td>0.151114</td>\n",
       "      <td>0.154124</td>\n",
       "      <td>0.157389</td>\n",
       "      <td>0.161389</td>\n",
       "      <td>0.166389</td>\n",
       "      <td>0.172293</td>\n",
       "      <td>0.178574</td>\n",
       "      <td>0.184506</td>\n",
       "      <td>0.189531</td>\n",
       "      <td>0.193455</td>\n",
       "      <td>0.351147</td>\n",
       "      <td>0.352147</td>\n",
       "      <td>0.353370</td>\n",
       "      <td>0.354552</td>\n",
       "      <td>0.355303</td>\n",
       "      <td>0.355607</td>\n",
       "      <td>0.356729</td>\n",
       "      <td>0.361687</td>\n",
       "      <td>0.373679</td>\n",
       "      <td>0.392215</td>\n",
       "      <td>0.410151</td>\n",
       "      <td>0.416091</td>\n",
       "      <td>0.401795</td>\n",
       "      <td>0.367966</td>\n",
       "      <td>0.322993</td>\n",
       "      <td>0.277167</td>\n",
       "      <td>0.238836</td>\n",
       "      <td>0.214269</td>\n",
       "      <td>0.207614</td>\n",
       "      <td>0.218752</td>\n",
       "      <td>0.241535</td>\n",
       "      <td>0.265523</td>\n",
       "      <td>0.280386</td>\n",
       "      <td>0.279841</td>\n",
       "      <td>0.263397</td>\n",
       "      <td>0.235830</td>\n",
       "      <td>0.204555</td>\n",
       "      <td>0.176050</td>\n",
       "      <td>0.153570</td>\n",
       "      <td>0.137345</td>\n",
       "      <td>0.492915</td>\n",
       "      <td>0.495214</td>\n",
       "      <td>0.498079</td>\n",
       "      <td>0.501421</td>\n",
       "      <td>0.505049</td>\n",
       "      <td>0.508772</td>\n",
       "      <td>0.512489</td>\n",
       "      <td>0.516199</td>\n",
       "      <td>0.519967</td>\n",
       "      <td>0.523902</td>\n",
       "      <td>0.528131</td>\n",
       "      <td>0.532753</td>\n",
       "      <td>0.537780</td>\n",
       "      <td>0.543131</td>\n",
       "      <td>0.548678</td>\n",
       "      <td>0.554305</td>\n",
       "      <td>0.559942</td>\n",
       "      <td>0.565554</td>\n",
       "      <td>0.571133</td>\n",
       "      <td>0.576678</td>\n",
       "      <td>0.582196</td>\n",
       "      <td>0.587693</td>\n",
       "      <td>0.593178</td>\n",
       "      <td>0.598648</td>\n",
       "      <td>0.604065</td>\n",
       "      <td>0.609316</td>\n",
       "      <td>0.614189</td>\n",
       "      <td>0.618431</td>\n",
       "      <td>0.621871</td>\n",
       "      <td>0.624500</td>\n",
       "      <td>0.000066</td>\n",
       "      <td>0.000102</td>\n",
       "      <td>0.000185</td>\n",
       "      <td>0.000383</td>\n",
       "      <td>0.000805</td>\n",
       "      <td>0.001556</td>\n",
       "      <td>0.002638</td>\n",
       "      <td>0.003891</td>\n",
       "      <td>0.005064</td>\n",
       "      <td>0.005955</td>\n",
       "      <td>0.006478</td>\n",
       "      <td>0.006641</td>\n",
       "      <td>0.006513</td>\n",
       "      <td>0.006209</td>\n",
       "      <td>0.005851</td>\n",
       "      <td>0.005528</td>\n",
       "      <td>0.005273</td>\n",
       "      <td>0.005090</td>\n",
       "      <td>0.004981</td>\n",
       "      <td>0.004945</td>\n",
       "      <td>0.004969</td>\n",
       "      <td>0.005035</td>\n",
       "      <td>0.005138</td>\n",
       "      <td>0.005281</td>\n",
       "      <td>0.005456</td>\n",
       "      <td>0.005634</td>\n",
       "      <td>0.005774</td>\n",
       "      <td>0.005856</td>\n",
       "      <td>0.005892</td>\n",
       "      <td>0.005904</td>\n",
       "    </tr>\n",
       "    <tr>\n",
       "      <th>4</th>\n",
       "      <td>BIH</td>\n",
       "      <td>Bosnia and Herzegovina</td>\n",
       "      <td>0.144459</td>\n",
       "      <td>0.130332</td>\n",
       "      <td>0.111963</td>\n",
       "      <td>0.091410</td>\n",
       "      <td>0.073342</td>\n",
       "      <td>0.063057</td>\n",
       "      <td>0.063020</td>\n",
       "      <td>0.071441</td>\n",
       "      <td>0.084110</td>\n",
       "      <td>0.097194</td>\n",
       "      <td>0.108592</td>\n",
       "      <td>0.117784</td>\n",
       "      <td>0.125247</td>\n",
       "      <td>0.131976</td>\n",
       "      <td>0.139010</td>\n",
       "      <td>0.146984</td>\n",
       "      <td>0.155885</td>\n",
       "      <td>0.165180</td>\n",
       "      <td>0.174199</td>\n",
       "      <td>0.182400</td>\n",
       "      <td>0.189250</td>\n",
       "      <td>0.194118</td>\n",
       "      <td>0.196748</td>\n",
       "      <td>0.197982</td>\n",
       "      <td>0.199595</td>\n",
       "      <td>0.202965</td>\n",
       "      <td>0.207905</td>\n",
       "      <td>0.213028</td>\n",
       "      <td>0.217092</td>\n",
       "      <td>0.219738</td>\n",
       "      <td>0.874124</td>\n",
       "      <td>0.830051</td>\n",
       "      <td>0.766398</td>\n",
       "      <td>0.683927</td>\n",
       "      <td>0.593165</td>\n",
       "      <td>0.511042</td>\n",
       "      <td>0.451159</td>\n",
       "      <td>0.417431</td>\n",
       "      <td>0.405569</td>\n",
       "      <td>0.407993</td>\n",
       "      <td>0.417561</td>\n",
       "      <td>0.428910</td>\n",
       "      <td>0.438268</td>\n",
       "      <td>0.443068</td>\n",
       "      <td>0.442040</td>\n",
       "      <td>0.435489</td>\n",
       "      <td>0.425183</td>\n",
       "      <td>0.413600</td>\n",
       "      <td>0.402892</td>\n",
       "      <td>0.394249</td>\n",
       "      <td>0.387859</td>\n",
       "      <td>0.383144</td>\n",
       "      <td>0.379070</td>\n",
       "      <td>0.374571</td>\n",
       "      <td>0.369029</td>\n",
       "      <td>0.362551</td>\n",
       "      <td>0.355833</td>\n",
       "      <td>0.349707</td>\n",
       "      <td>0.344712</td>\n",
       "      <td>0.340962</td>\n",
       "      <td>0.856970</td>\n",
       "      <td>0.813006</td>\n",
       "      <td>0.748862</td>\n",
       "      <td>0.665155</td>\n",
       "      <td>0.572921</td>\n",
       "      <td>0.490572</td>\n",
       "      <td>0.433456</td>\n",
       "      <td>0.405795</td>\n",
       "      <td>0.400928</td>\n",
       "      <td>0.407268</td>\n",
       "      <td>0.415346</td>\n",
       "      <td>0.421829</td>\n",
       "      <td>0.428167</td>\n",
       "      <td>0.436062</td>\n",
       "      <td>0.444849</td>\n",
       "      <td>0.452860</td>\n",
       "      <td>0.459808</td>\n",
       "      <td>0.466937</td>\n",
       "      <td>0.475312</td>\n",
       "      <td>0.484618</td>\n",
       "      <td>0.493390</td>\n",
       "      <td>0.499867</td>\n",
       "      <td>0.502705</td>\n",
       "      <td>0.501351</td>\n",
       "      <td>0.496124</td>\n",
       "      <td>0.488103</td>\n",
       "      <td>0.478854</td>\n",
       "      <td>0.469938</td>\n",
       "      <td>0.462362</td>\n",
       "      <td>0.456433</td>\n",
       "      <td>0.544844</td>\n",
       "      <td>0.519614</td>\n",
       "      <td>0.484021</td>\n",
       "      <td>0.439682</td>\n",
       "      <td>0.394918</td>\n",
       "      <td>0.361542</td>\n",
       "      <td>0.345729</td>\n",
       "      <td>0.343224</td>\n",
       "      <td>0.345212</td>\n",
       "      <td>0.347121</td>\n",
       "      <td>0.350379</td>\n",
       "      <td>0.357639</td>\n",
       "      <td>0.368621</td>\n",
       "      <td>0.380346</td>\n",
       "      <td>0.389969</td>\n",
       "      <td>0.396503</td>\n",
       "      <td>0.399631</td>\n",
       "      <td>0.397690</td>\n",
       "      <td>0.388698</td>\n",
       "      <td>0.373965</td>\n",
       "      <td>0.358921</td>\n",
       "      <td>0.348935</td>\n",
       "      <td>0.345201</td>\n",
       "      <td>0.345491</td>\n",
       "      <td>0.347746</td>\n",
       "      <td>0.351709</td>\n",
       "      <td>0.357592</td>\n",
       "      <td>0.364544</td>\n",
       "      <td>0.370998</td>\n",
       "      <td>0.375881</td>\n",
       "      <td>0.171839</td>\n",
       "      <td>0.235666</td>\n",
       "      <td>0.328718</td>\n",
       "      <td>0.449731</td>\n",
       "      <td>0.582221</td>\n",
       "      <td>0.699596</td>\n",
       "      <td>0.781177</td>\n",
       "      <td>0.822839</td>\n",
       "      <td>0.833507</td>\n",
       "      <td>0.825409</td>\n",
       "      <td>0.807898</td>\n",
       "      <td>0.786872</td>\n",
       "      <td>0.766797</td>\n",
       "      <td>0.751935</td>\n",
       "      <td>0.745354</td>\n",
       "      <td>0.747224</td>\n",
       "      <td>0.754925</td>\n",
       "      <td>0.765038</td>\n",
       "      <td>0.774996</td>\n",
       "      <td>0.783230</td>\n",
       "      <td>0.788946</td>\n",
       "      <td>0.792364</td>\n",
       "      <td>0.794605</td>\n",
       "      <td>0.796765</td>\n",
       "      <td>0.798998</td>\n",
       "      <td>0.800519</td>\n",
       "      <td>0.800528</td>\n",
       "      <td>0.799108</td>\n",
       "      <td>0.797124</td>\n",
       "      <td>0.795424</td>\n",
       "      <td>0.318570</td>\n",
       "      <td>0.318569</td>\n",
       "      <td>0.318569</td>\n",
       "      <td>0.318569</td>\n",
       "      <td>0.318570</td>\n",
       "      <td>0.318575</td>\n",
       "      <td>0.318610</td>\n",
       "      <td>0.318775</td>\n",
       "      <td>0.319363</td>\n",
       "      <td>0.320914</td>\n",
       "      <td>0.323796</td>\n",
       "      <td>0.327074</td>\n",
       "      <td>0.327674</td>\n",
       "      <td>0.321874</td>\n",
       "      <td>0.308876</td>\n",
       "      <td>0.292602</td>\n",
       "      <td>0.278939</td>\n",
       "      <td>0.271273</td>\n",
       "      <td>0.268914</td>\n",
       "      <td>0.268905</td>\n",
       "      <td>0.268479</td>\n",
       "      <td>0.266463</td>\n",
       "      <td>0.263531</td>\n",
       "      <td>0.261354</td>\n",
       "      <td>0.261183</td>\n",
       "      <td>0.263193</td>\n",
       "      <td>0.266884</td>\n",
       "      <td>0.271587</td>\n",
       "      <td>0.276599</td>\n",
       "      <td>0.281296</td>\n",
       "      <td>0.391443</td>\n",
       "      <td>0.361885</td>\n",
       "      <td>0.317672</td>\n",
       "      <td>0.259128</td>\n",
       "      <td>0.194180</td>\n",
       "      <td>0.136120</td>\n",
       "      <td>0.095713</td>\n",
       "      <td>0.075629</td>\n",
       "      <td>0.071891</td>\n",
       "      <td>0.078534</td>\n",
       "      <td>0.090653</td>\n",
       "      <td>0.105123</td>\n",
       "      <td>0.120167</td>\n",
       "      <td>0.134397</td>\n",
       "      <td>0.146100</td>\n",
       "      <td>0.153541</td>\n",
       "      <td>0.156098</td>\n",
       "      <td>0.155030</td>\n",
       "      <td>0.152943</td>\n",
       "      <td>0.152186</td>\n",
       "      <td>0.153533</td>\n",
       "      <td>0.156247</td>\n",
       "      <td>0.159247</td>\n",
       "      <td>0.162146</td>\n",
       "      <td>0.165446</td>\n",
       "      <td>0.169951</td>\n",
       "      <td>0.175851</td>\n",
       "      <td>0.182307</td>\n",
       "      <td>0.188046</td>\n",
       "      <td>0.192258</td>\n",
       "      <td>0.412737</td>\n",
       "      <td>0.418761</td>\n",
       "      <td>0.427358</td>\n",
       "      <td>0.440636</td>\n",
       "      <td>0.462011</td>\n",
       "      <td>0.494949</td>\n",
       "      <td>0.540056</td>\n",
       "      <td>0.592848</td>\n",
       "      <td>0.644973</td>\n",
       "      <td>0.688436</td>\n",
       "      <td>0.719305</td>\n",
       "      <td>0.738242</td>\n",
       "      <td>0.748402</td>\n",
       "      <td>0.753033</td>\n",
       "      <td>0.754384</td>\n",
       "      <td>0.753857</td>\n",
       "      <td>0.752370</td>\n",
       "      <td>0.750235</td>\n",
       "      <td>0.746937</td>\n",
       "      <td>0.741561</td>\n",
       "      <td>0.733742</td>\n",
       "      <td>0.724120</td>\n",
       "      <td>0.713866</td>\n",
       "      <td>0.704025</td>\n",
       "      <td>0.695375</td>\n",
       "      <td>0.688587</td>\n",
       "      <td>0.684134</td>\n",
       "      <td>0.681980</td>\n",
       "      <td>0.681559</td>\n",
       "      <td>0.682115</td>\n",
       "      <td>0.251689</td>\n",
       "      <td>0.194888</td>\n",
       "      <td>0.138338</td>\n",
       "      <td>0.093378</td>\n",
       "      <td>0.070959</td>\n",
       "      <td>0.074578</td>\n",
       "      <td>0.097502</td>\n",
       "      <td>0.127208</td>\n",
       "      <td>0.152624</td>\n",
       "      <td>0.168599</td>\n",
       "      <td>0.175662</td>\n",
       "      <td>0.176977</td>\n",
       "      <td>0.175608</td>\n",
       "      <td>0.173558</td>\n",
       "      <td>0.172059</td>\n",
       "      <td>0.171954</td>\n",
       "      <td>0.173634</td>\n",
       "      <td>0.176749</td>\n",
       "      <td>0.180279</td>\n",
       "      <td>0.183150</td>\n",
       "      <td>0.184918</td>\n",
       "      <td>0.185956</td>\n",
       "      <td>0.187116</td>\n",
       "      <td>0.189276</td>\n",
       "      <td>0.193037</td>\n",
       "      <td>0.198526</td>\n",
       "      <td>0.205248</td>\n",
       "      <td>0.212202</td>\n",
       "      <td>0.218383</td>\n",
       "      <td>0.223260</td>\n",
       "      <td>0.599927</td>\n",
       "      <td>0.596409</td>\n",
       "      <td>0.589944</td>\n",
       "      <td>0.579124</td>\n",
       "      <td>0.563074</td>\n",
       "      <td>0.542218</td>\n",
       "      <td>0.518351</td>\n",
       "      <td>0.493853</td>\n",
       "      <td>0.470674</td>\n",
       "      <td>0.449791</td>\n",
       "      <td>0.431279</td>\n",
       "      <td>0.414737</td>\n",
       "      <td>0.399713</td>\n",
       "      <td>0.385935</td>\n",
       "      <td>0.373436</td>\n",
       "      <td>0.362646</td>\n",
       "      <td>0.354227</td>\n",
       "      <td>0.348476</td>\n",
       "      <td>0.344734</td>\n",
       "      <td>0.341566</td>\n",
       "      <td>0.337561</td>\n",
       "      <td>0.331838</td>\n",
       "      <td>0.324126</td>\n",
       "      <td>0.314961</td>\n",
       "      <td>0.305694</td>\n",
       "      <td>0.297728</td>\n",
       "      <td>0.291725</td>\n",
       "      <td>0.287715</td>\n",
       "      <td>0.285552</td>\n",
       "      <td>0.285012</td>\n",
       "      <td>0.480310</td>\n",
       "      <td>0.480649</td>\n",
       "      <td>0.481916</td>\n",
       "      <td>0.484975</td>\n",
       "      <td>0.490683</td>\n",
       "      <td>0.499263</td>\n",
       "      <td>0.509841</td>\n",
       "      <td>0.520667</td>\n",
       "      <td>0.529948</td>\n",
       "      <td>0.536704</td>\n",
       "      <td>0.541081</td>\n",
       "      <td>0.544100</td>\n",
       "      <td>0.547185</td>\n",
       "      <td>0.551797</td>\n",
       "      <td>0.559051</td>\n",
       "      <td>0.568972</td>\n",
       "      <td>0.579609</td>\n",
       "      <td>0.587182</td>\n",
       "      <td>0.588115</td>\n",
       "      <td>0.581730</td>\n",
       "      <td>0.571117</td>\n",
       "      <td>0.561188</td>\n",
       "      <td>0.555749</td>\n",
       "      <td>0.556081</td>\n",
       "      <td>0.561436</td>\n",
       "      <td>0.570004</td>\n",
       "      <td>0.579510</td>\n",
       "      <td>0.587875</td>\n",
       "      <td>0.593954</td>\n",
       "      <td>0.597687</td>\n",
       "      <td>0.151653</td>\n",
       "      <td>0.154825</td>\n",
       "      <td>0.160263</td>\n",
       "      <td>0.168799</td>\n",
       "      <td>0.180765</td>\n",
       "      <td>0.195628</td>\n",
       "      <td>0.212188</td>\n",
       "      <td>0.229202</td>\n",
       "      <td>0.245854</td>\n",
       "      <td>0.261784</td>\n",
       "      <td>0.276838</td>\n",
       "      <td>0.290807</td>\n",
       "      <td>0.303303</td>\n",
       "      <td>0.313741</td>\n",
       "      <td>0.321441</td>\n",
       "      <td>0.325973</td>\n",
       "      <td>0.327826</td>\n",
       "      <td>0.328904</td>\n",
       "      <td>0.331909</td>\n",
       "      <td>0.338607</td>\n",
       "      <td>0.348559</td>\n",
       "      <td>0.359755</td>\n",
       "      <td>0.370248</td>\n",
       "      <td>0.378780</td>\n",
       "      <td>0.384497</td>\n",
       "      <td>0.387105</td>\n",
       "      <td>0.387289</td>\n",
       "      <td>0.386233</td>\n",
       "      <td>0.384747</td>\n",
       "      <td>0.383085</td>\n",
       "      <td>0.162942</td>\n",
       "      <td>0.142308</td>\n",
       "      <td>0.120321</td>\n",
       "      <td>0.100989</td>\n",
       "      <td>0.088679</td>\n",
       "      <td>0.085222</td>\n",
       "      <td>0.088629</td>\n",
       "      <td>0.094862</td>\n",
       "      <td>0.100550</td>\n",
       "      <td>0.104243</td>\n",
       "      <td>0.106125</td>\n",
       "      <td>0.107250</td>\n",
       "      <td>0.108799</td>\n",
       "      <td>0.111330</td>\n",
       "      <td>0.114253</td>\n",
       "      <td>0.116117</td>\n",
       "      <td>0.115788</td>\n",
       "      <td>0.113706</td>\n",
       "      <td>0.111886</td>\n",
       "      <td>0.112417</td>\n",
       "      <td>0.115897</td>\n",
       "      <td>0.121324</td>\n",
       "      <td>0.127298</td>\n",
       "      <td>0.133133</td>\n",
       "      <td>0.138986</td>\n",
       "      <td>0.145202</td>\n",
       "      <td>0.151619</td>\n",
       "      <td>0.157499</td>\n",
       "      <td>0.162088</td>\n",
       "      <td>0.165121</td>\n",
       "      <td>0.544279</td>\n",
       "      <td>0.524218</td>\n",
       "      <td>0.494842</td>\n",
       "      <td>0.454956</td>\n",
       "      <td>0.406200</td>\n",
       "      <td>0.353461</td>\n",
       "      <td>0.303232</td>\n",
       "      <td>0.261244</td>\n",
       "      <td>0.231020</td>\n",
       "      <td>0.213600</td>\n",
       "      <td>0.207939</td>\n",
       "      <td>0.211611</td>\n",
       "      <td>0.221676</td>\n",
       "      <td>0.235493</td>\n",
       "      <td>0.251172</td>\n",
       "      <td>0.267492</td>\n",
       "      <td>0.283472</td>\n",
       "      <td>0.298170</td>\n",
       "      <td>0.311203</td>\n",
       "      <td>0.323599</td>\n",
       "      <td>0.337618</td>\n",
       "      <td>0.354982</td>\n",
       "      <td>0.375195</td>\n",
       "      <td>0.395970</td>\n",
       "      <td>0.415155</td>\n",
       "      <td>0.431793</td>\n",
       "      <td>0.445632</td>\n",
       "      <td>0.456519</td>\n",
       "      <td>0.464502</td>\n",
       "      <td>0.470018</td>\n",
       "      <td>0.408138</td>\n",
       "      <td>0.423836</td>\n",
       "      <td>0.436503</td>\n",
       "      <td>0.442562</td>\n",
       "      <td>0.441598</td>\n",
       "      <td>0.438010</td>\n",
       "      <td>0.437414</td>\n",
       "      <td>0.440829</td>\n",
       "      <td>0.443459</td>\n",
       "      <td>0.439669</td>\n",
       "      <td>0.428563</td>\n",
       "      <td>0.414005</td>\n",
       "      <td>0.399766</td>\n",
       "      <td>0.386099</td>\n",
       "      <td>0.370986</td>\n",
       "      <td>0.353218</td>\n",
       "      <td>0.333688</td>\n",
       "      <td>0.314700</td>\n",
       "      <td>0.298856</td>\n",
       "      <td>0.288153</td>\n",
       "      <td>0.283161</td>\n",
       "      <td>0.282580</td>\n",
       "      <td>0.283974</td>\n",
       "      <td>0.285325</td>\n",
       "      <td>0.286017</td>\n",
       "      <td>0.286557</td>\n",
       "      <td>0.287560</td>\n",
       "      <td>0.289016</td>\n",
       "      <td>0.290417</td>\n",
       "      <td>0.291316</td>\n",
       "      <td>0.022154</td>\n",
       "      <td>0.021307</td>\n",
       "      <td>0.020102</td>\n",
       "      <td>0.018241</td>\n",
       "      <td>0.015559</td>\n",
       "      <td>0.012416</td>\n",
       "      <td>0.009665</td>\n",
       "      <td>0.008027</td>\n",
       "      <td>0.007543</td>\n",
       "      <td>0.007669</td>\n",
       "      <td>0.007775</td>\n",
       "      <td>0.007558</td>\n",
       "      <td>0.007106</td>\n",
       "      <td>0.006674</td>\n",
       "      <td>0.006429</td>\n",
       "      <td>0.006374</td>\n",
       "      <td>0.006406</td>\n",
       "      <td>0.006396</td>\n",
       "      <td>0.006268</td>\n",
       "      <td>0.006040</td>\n",
       "      <td>0.005793</td>\n",
       "      <td>0.005595</td>\n",
       "      <td>0.005467</td>\n",
       "      <td>0.005410</td>\n",
       "      <td>0.005415</td>\n",
       "      <td>0.005468</td>\n",
       "      <td>0.005547</td>\n",
       "      <td>0.005629</td>\n",
       "      <td>0.005703</td>\n",
       "      <td>0.005761</td>\n",
       "      <td>0.054768</td>\n",
       "      <td>0.052367</td>\n",
       "      <td>0.054772</td>\n",
       "      <td>0.064340</td>\n",
       "      <td>0.081521</td>\n",
       "      <td>0.103973</td>\n",
       "      <td>0.127697</td>\n",
       "      <td>0.149128</td>\n",
       "      <td>0.166437</td>\n",
       "      <td>0.179506</td>\n",
       "      <td>0.189067</td>\n",
       "      <td>0.195766</td>\n",
       "      <td>0.199847</td>\n",
       "      <td>0.201417</td>\n",
       "      <td>0.200747</td>\n",
       "      <td>0.198198</td>\n",
       "      <td>0.193969</td>\n",
       "      <td>0.188084</td>\n",
       "      <td>0.180685</td>\n",
       "      <td>0.172378</td>\n",
       "      <td>0.164337</td>\n",
       "      <td>0.158078</td>\n",
       "      <td>0.154934</td>\n",
       "      <td>0.155449</td>\n",
       "      <td>0.159085</td>\n",
       "      <td>0.164509</td>\n",
       "      <td>0.170217</td>\n",
       "      <td>0.175117</td>\n",
       "      <td>0.178767</td>\n",
       "      <td>0.181238</td>\n",
       "      <td>0.027388</td>\n",
       "      <td>0.026976</td>\n",
       "      <td>0.026439</td>\n",
       "      <td>0.025805</td>\n",
       "      <td>0.025148</td>\n",
       "      <td>0.024560</td>\n",
       "      <td>0.024109</td>\n",
       "      <td>0.023818</td>\n",
       "      <td>0.023665</td>\n",
       "      <td>0.023608</td>\n",
       "      <td>0.023605</td>\n",
       "      <td>0.023624</td>\n",
       "      <td>0.023646</td>\n",
       "      <td>0.023664</td>\n",
       "      <td>0.023674</td>\n",
       "      <td>0.023672</td>\n",
       "      <td>0.023650</td>\n",
       "      <td>0.023598</td>\n",
       "      <td>0.023504</td>\n",
       "      <td>0.023354</td>\n",
       "      <td>0.023143</td>\n",
       "      <td>0.022871</td>\n",
       "      <td>0.022551</td>\n",
       "      <td>0.022205</td>\n",
       "      <td>0.021861</td>\n",
       "      <td>0.021544</td>\n",
       "      <td>0.021276</td>\n",
       "      <td>0.021066</td>\n",
       "      <td>0.020912</td>\n",
       "      <td>0.020805</td>\n",
       "      <td>0.628450</td>\n",
       "      <td>0.626080</td>\n",
       "      <td>0.622012</td>\n",
       "      <td>0.615863</td>\n",
       "      <td>0.607812</td>\n",
       "      <td>0.598670</td>\n",
       "      <td>0.589447</td>\n",
       "      <td>0.580870</td>\n",
       "      <td>0.573356</td>\n",
       "      <td>0.567314</td>\n",
       "      <td>0.563405</td>\n",
       "      <td>0.562558</td>\n",
       "      <td>0.565748</td>\n",
       "      <td>0.573654</td>\n",
       "      <td>0.586340</td>\n",
       "      <td>0.603134</td>\n",
       "      <td>0.622684</td>\n",
       "      <td>0.643179</td>\n",
       "      <td>0.662664</td>\n",
       "      <td>0.679409</td>\n",
       "      <td>0.692284</td>\n",
       "      <td>0.700928</td>\n",
       "      <td>0.705353</td>\n",
       "      <td>0.705156</td>\n",
       "      <td>0.699216</td>\n",
       "      <td>0.686553</td>\n",
       "      <td>0.667804</td>\n",
       "      <td>0.645718</td>\n",
       "      <td>0.623860</td>\n",
       "      <td>0.604828</td>\n",
       "      <td>0.098896</td>\n",
       "      <td>0.112927</td>\n",
       "      <td>0.131373</td>\n",
       "      <td>0.153899</td>\n",
       "      <td>0.178966</td>\n",
       "      <td>0.204416</td>\n",
       "      <td>0.228662</td>\n",
       "      <td>0.251424</td>\n",
       "      <td>0.273590</td>\n",
       "      <td>0.296528</td>\n",
       "      <td>0.321312</td>\n",
       "      <td>0.348094</td>\n",
       "      <td>0.375853</td>\n",
       "      <td>0.402668</td>\n",
       "      <td>0.426404</td>\n",
       "      <td>0.445481</td>\n",
       "      <td>0.459362</td>\n",
       "      <td>0.468649</td>\n",
       "      <td>0.474756</td>\n",
       "      <td>0.479324</td>\n",
       "      <td>0.483687</td>\n",
       "      <td>0.488725</td>\n",
       "      <td>0.495175</td>\n",
       "      <td>0.504064</td>\n",
       "      <td>0.516726</td>\n",
       "      <td>0.534026</td>\n",
       "      <td>0.555216</td>\n",
       "      <td>0.577755</td>\n",
       "      <td>0.598665</td>\n",
       "      <td>0.616073</td>\n",
       "      <td>0.524579</td>\n",
       "      <td>0.513753</td>\n",
       "      <td>0.500164</td>\n",
       "      <td>0.484368</td>\n",
       "      <td>0.467609</td>\n",
       "      <td>0.451248</td>\n",
       "      <td>0.436010</td>\n",
       "      <td>0.421648</td>\n",
       "      <td>0.407096</td>\n",
       "      <td>0.390863</td>\n",
       "      <td>0.371552</td>\n",
       "      <td>0.348399</td>\n",
       "      <td>0.321648</td>\n",
       "      <td>0.292544</td>\n",
       "      <td>0.262932</td>\n",
       "      <td>0.234670</td>\n",
       "      <td>0.209144</td>\n",
       "      <td>0.187050</td>\n",
       "      <td>0.168456</td>\n",
       "      <td>0.153080</td>\n",
       "      <td>0.140503</td>\n",
       "      <td>0.130191</td>\n",
       "      <td>0.121482</td>\n",
       "      <td>0.113741</td>\n",
       "      <td>0.106543</td>\n",
       "      <td>0.099785</td>\n",
       "      <td>0.093699</td>\n",
       "      <td>0.088676</td>\n",
       "      <td>0.084941</td>\n",
       "      <td>0.082397</td>\n",
       "      <td>0.000848</td>\n",
       "      <td>0.000845</td>\n",
       "      <td>0.000891</td>\n",
       "      <td>0.001037</td>\n",
       "      <td>0.001339</td>\n",
       "      <td>0.001827</td>\n",
       "      <td>0.002471</td>\n",
       "      <td>0.003181</td>\n",
       "      <td>0.003855</td>\n",
       "      <td>0.004424</td>\n",
       "      <td>0.004876</td>\n",
       "      <td>0.005243</td>\n",
       "      <td>0.005569</td>\n",
       "      <td>0.005890</td>\n",
       "      <td>0.006224</td>\n",
       "      <td>0.006566</td>\n",
       "      <td>0.006899</td>\n",
       "      <td>0.007190</td>\n",
       "      <td>0.007413</td>\n",
       "      <td>0.007561</td>\n",
       "      <td>0.007654</td>\n",
       "      <td>0.007727</td>\n",
       "      <td>0.007814</td>\n",
       "      <td>0.007937</td>\n",
       "      <td>0.008103</td>\n",
       "      <td>0.008308</td>\n",
       "      <td>0.008532</td>\n",
       "      <td>0.008748</td>\n",
       "      <td>0.008934</td>\n",
       "      <td>0.009080</td>\n",
       "      <td>0.001290</td>\n",
       "      <td>0.001582</td>\n",
       "      <td>0.002552</td>\n",
       "      <td>0.004789</td>\n",
       "      <td>0.008933</td>\n",
       "      <td>0.015282</td>\n",
       "      <td>0.023418</td>\n",
       "      <td>0.032251</td>\n",
       "      <td>0.040525</td>\n",
       "      <td>0.047428</td>\n",
       "      <td>0.052852</td>\n",
       "      <td>0.057210</td>\n",
       "      <td>0.061077</td>\n",
       "      <td>0.064899</td>\n",
       "      <td>0.068889</td>\n",
       "      <td>0.073036</td>\n",
       "      <td>0.077137</td>\n",
       "      <td>0.080866</td>\n",
       "      <td>0.083949</td>\n",
       "      <td>0.086373</td>\n",
       "      <td>0.088431</td>\n",
       "      <td>0.090560</td>\n",
       "      <td>0.093135</td>\n",
       "      <td>0.096353</td>\n",
       "      <td>0.100214</td>\n",
       "      <td>0.104520</td>\n",
       "      <td>0.108901</td>\n",
       "      <td>0.112924</td>\n",
       "      <td>0.116279</td>\n",
       "      <td>0.118868</td>\n",
       "      <td>0.478147</td>\n",
       "      <td>0.487349</td>\n",
       "      <td>0.500493</td>\n",
       "      <td>0.517732</td>\n",
       "      <td>0.538331</td>\n",
       "      <td>0.561041</td>\n",
       "      <td>0.584828</td>\n",
       "      <td>0.609209</td>\n",
       "      <td>0.634056</td>\n",
       "      <td>0.659332</td>\n",
       "      <td>0.684946</td>\n",
       "      <td>0.710594</td>\n",
       "      <td>0.735359</td>\n",
       "      <td>0.757059</td>\n",
       "      <td>0.771764</td>\n",
       "      <td>0.774691</td>\n",
       "      <td>0.763493</td>\n",
       "      <td>0.742212</td>\n",
       "      <td>0.721040</td>\n",
       "      <td>0.709836</td>\n",
       "      <td>0.710946</td>\n",
       "      <td>0.718639</td>\n",
       "      <td>0.724496</td>\n",
       "      <td>0.721927</td>\n",
       "      <td>0.706770</td>\n",
       "      <td>0.677252</td>\n",
       "      <td>0.635725</td>\n",
       "      <td>0.589120</td>\n",
       "      <td>0.545447</td>\n",
       "      <td>0.509644</td>\n",
       "      <td>0.052536</td>\n",
       "      <td>0.054968</td>\n",
       "      <td>0.058139</td>\n",
       "      <td>0.062039</td>\n",
       "      <td>0.066517</td>\n",
       "      <td>0.071349</td>\n",
       "      <td>0.076345</td>\n",
       "      <td>0.081403</td>\n",
       "      <td>0.086483</td>\n",
       "      <td>0.091576</td>\n",
       "      <td>0.096679</td>\n",
       "      <td>0.101791</td>\n",
       "      <td>0.106914</td>\n",
       "      <td>0.112047</td>\n",
       "      <td>0.117189</td>\n",
       "      <td>0.122340</td>\n",
       "      <td>0.127498</td>\n",
       "      <td>0.132664</td>\n",
       "      <td>0.137836</td>\n",
       "      <td>0.143016</td>\n",
       "      <td>0.148204</td>\n",
       "      <td>0.153406</td>\n",
       "      <td>0.158630</td>\n",
       "      <td>0.163888</td>\n",
       "      <td>0.169168</td>\n",
       "      <td>0.174379</td>\n",
       "      <td>0.179315</td>\n",
       "      <td>0.183698</td>\n",
       "      <td>0.187315</td>\n",
       "      <td>0.190119</td>\n",
       "      <td>0.000347</td>\n",
       "      <td>0.000663</td>\n",
       "      <td>0.001189</td>\n",
       "      <td>0.001954</td>\n",
       "      <td>0.002904</td>\n",
       "      <td>0.003896</td>\n",
       "      <td>0.004781</td>\n",
       "      <td>0.005489</td>\n",
       "      <td>0.006028</td>\n",
       "      <td>0.006423</td>\n",
       "      <td>0.006659</td>\n",
       "      <td>0.006697</td>\n",
       "      <td>0.006528</td>\n",
       "      <td>0.006212</td>\n",
       "      <td>0.005851</td>\n",
       "      <td>0.005527</td>\n",
       "      <td>0.005271</td>\n",
       "      <td>0.005089</td>\n",
       "      <td>0.004980</td>\n",
       "      <td>0.004944</td>\n",
       "      <td>0.004968</td>\n",
       "      <td>0.005035</td>\n",
       "      <td>0.005138</td>\n",
       "      <td>0.005280</td>\n",
       "      <td>0.005455</td>\n",
       "      <td>0.005633</td>\n",
       "      <td>0.005773</td>\n",
       "      <td>0.005856</td>\n",
       "      <td>0.005892</td>\n",
       "      <td>0.005904</td>\n",
       "    </tr>\n",
       "  </tbody>\n",
       "</table>\n",
       "</div>"
      ],
      "text/plain": [
       "  countrycode                 country  co2_emission_1990  co2_emission_1991  \\\n",
       "0         ALB                 Albania           0.040463           0.035597   \n",
       "1         AUT                 Austria           0.250995           0.249758   \n",
       "2         BEL                 Belgium           0.366484           0.367042   \n",
       "3         BGR                Bulgaria           0.237228           0.230036   \n",
       "4         BIH  Bosnia and Herzegovina           0.144459           0.130332   \n",
       "\n",
       "   co2_emission_1992  co2_emission_1993  co2_emission_1994  co2_emission_1995  \\\n",
       "0           0.030689           0.026408           0.023288           0.021517   \n",
       "1           0.248718           0.248769           0.250635           0.254121   \n",
       "2           0.367828           0.369214           0.371389           0.374000   \n",
       "3           0.223430           0.218189           0.214511           0.211627   \n",
       "4           0.111963           0.091410           0.073342           0.063057   \n",
       "\n",
       "   co2_emission_1996  co2_emission_1997  co2_emission_1998  co2_emission_1999  \\\n",
       "0           0.021111           0.022132           0.024558           0.028034   \n",
       "1           0.258082           0.261403           0.263999           0.266870   \n",
       "2           0.376223           0.377295           0.376920           0.375207   \n",
       "3           0.208179           0.203241           0.197204           0.191720   \n",
       "4           0.063020           0.071441           0.084110           0.097194   \n",
       "\n",
       "   co2_emission_2000  co2_emission_2001  co2_emission_2002  co2_emission_2003  \\\n",
       "0           0.031939           0.035716           0.039018           0.041641   \n",
       "1           0.271207           0.277353           0.284387           0.290507   \n",
       "2           0.372388           0.368674           0.364229           0.359049   \n",
       "3           0.188636           0.188805           0.191780           0.196426   \n",
       "4           0.108592           0.117784           0.125247           0.131976   \n",
       "\n",
       "   co2_emission_2004  co2_emission_2005  co2_emission_2006  co2_emission_2007  \\\n",
       "0           0.043507           0.044748           0.045694           0.046707   \n",
       "1           0.293897           0.293567           0.289765           0.283781   \n",
       "2           0.352927           0.345737           0.337738           0.329423   \n",
       "3           0.201623           0.206427           0.209869           0.211117   \n",
       "4           0.139010           0.146984           0.155885           0.165180   \n",
       "\n",
       "   co2_emission_2008  co2_emission_2009  co2_emission_2010  co2_emission_2011  \\\n",
       "0           0.048008           0.049597           0.051294           0.052889   \n",
       "1           0.277268           0.271413           0.266398           0.261636   \n",
       "2           0.321081           0.312638           0.303983           0.295412   \n",
       "3           0.210140           0.207885           0.205363           0.202808   \n",
       "4           0.174199           0.182400           0.189250           0.194118   \n",
       "\n",
       "   co2_emission_2012  co2_emission_2013  co2_emission_2014  co2_emission_2015  \\\n",
       "0           0.054303           0.055604           0.056893           0.058215   \n",
       "1           0.256601           0.251448           0.246867           0.243449   \n",
       "2           0.287658           0.281444           0.277027           0.274140   \n",
       "3           0.200137           0.197802           0.196511           0.196311   \n",
       "4           0.196748           0.197982           0.199595           0.202965   \n",
       "\n",
       "   co2_emission_2016  co2_emission_2017  co2_emission_2018  co2_emission_2019  \\\n",
       "0           0.059550           0.060803           0.061847           0.062611   \n",
       "1           0.241228           0.239793           0.238710           0.237777   \n",
       "2           0.272267           0.270981           0.270075           0.269468   \n",
       "3           0.196523           0.196482           0.196017           0.195303   \n",
       "4           0.207905           0.213028           0.217092           0.219738   \n",
       "\n",
       "   csh_c_1990  csh_c_1991  csh_c_1992  csh_c_1993  csh_c_1994  csh_c_1995  \\\n",
       "0    0.475201    0.484793    0.487556    0.479223    0.459342    0.431709   \n",
       "1    0.248407    0.248834    0.249417    0.250125    0.250920    0.251673   \n",
       "2    0.245067    0.244222    0.243427    0.242979    0.243053    0.243374   \n",
       "3    0.143303    0.143518    0.149567    0.161640    0.177226    0.192040   \n",
       "4    0.874124    0.830051    0.766398    0.683927    0.593165    0.511042   \n",
       "\n",
       "   csh_c_1996  csh_c_1997  csh_c_1998  csh_c_1999  csh_c_2000  csh_c_2001  \\\n",
       "0    0.401174    0.371444    0.345761    0.327233    0.317503    0.315748   \n",
       "1    0.252081    0.251821    0.250825    0.249337    0.247677    0.245970   \n",
       "2    0.243226    0.241991    0.239645    0.236591    0.233080    0.229039   \n",
       "3    0.202817    0.209491    0.214681    0.221053    0.229256    0.238156   \n",
       "4    0.451159    0.417431    0.405569    0.407993    0.417561    0.428910   \n",
       "\n",
       "   csh_c_2002  csh_c_2003  csh_c_2004  csh_c_2005  csh_c_2006  csh_c_2007  \\\n",
       "0    0.319229    0.324730    0.329884    0.333672    0.335777    0.335724   \n",
       "1    0.244106    0.241890    0.239297    0.236655    0.234648    0.234017   \n",
       "2    0.224519    0.220098    0.216660    0.214783    0.214400    0.215071   \n",
       "3    0.246265    0.252545    0.256434    0.257748    0.256691    0.253897   \n",
       "4    0.438268    0.443068    0.442040    0.435489    0.425183    0.413600   \n",
       "\n",
       "   csh_c_2008  csh_c_2009  csh_c_2010  csh_c_2011  csh_c_2012  csh_c_2013  \\\n",
       "0    0.333144    0.328896    0.325166    0.323832    0.324888    0.326692   \n",
       "1    0.235083    0.237396    0.239816    0.240950    0.239720    0.235825   \n",
       "2    0.216566    0.219093    0.222810    0.227130    0.230730    0.232383   \n",
       "3    0.250569    0.248374    0.248575    0.250937    0.253736    0.255079   \n",
       "4    0.402892    0.394249    0.387859    0.383144    0.379070    0.374571   \n",
       "\n",
       "   csh_c_2014  csh_c_2015  csh_c_2016  csh_c_2017  csh_c_2018  csh_c_2019  \\\n",
       "0    0.327653    0.327505    0.327097    0.327274    0.328187    0.329494   \n",
       "1    0.229895    0.223172    0.216874    0.211713    0.207848    0.205116   \n",
       "2    0.231819    0.229864    0.227812    0.226556    0.226209    0.226409   \n",
       "3    0.254235    0.251832    0.249116    0.247076    0.246038    0.245817   \n",
       "4    0.369029    0.362551    0.355833    0.349707    0.344712    0.340962   \n",
       "\n",
       "   csh_g_1990  csh_g_1991  csh_g_1992  csh_g_1993  csh_g_1994  csh_g_1995  \\\n",
       "0    0.317663    0.330491    0.339263    0.348672    0.369705    0.413656   \n",
       "1    0.150387    0.150519    0.150744    0.150998    0.151455    0.152722   \n",
       "2    0.230552    0.228188    0.224916    0.220987    0.217204    0.214749   \n",
       "3    0.747213    0.720085    0.693707    0.668412    0.641975    0.612166   \n",
       "4    0.856970    0.813006    0.748862    0.665155    0.572921    0.490572   \n",
       "\n",
       "   csh_g_1996  csh_g_1997  csh_g_1998  csh_g_1999  csh_g_2000  csh_g_2001  \\\n",
       "0    0.480589    0.553395    0.606460    0.623023    0.604655    0.565116   \n",
       "1    0.155514    0.159957    0.165344    0.170618    0.174953    0.177853   \n",
       "2    0.214613    0.217145    0.222109    0.228891    0.236299    0.242265   \n",
       "3    0.580785    0.553015    0.532227    0.517385    0.505640    0.495190   \n",
       "4    0.433456    0.405795    0.400928    0.407268    0.415346    0.421829   \n",
       "\n",
       "   csh_g_2002  csh_g_2003  csh_g_2004  csh_g_2005  csh_g_2006  csh_g_2007  \\\n",
       "0    0.518074    0.471115    0.427400    0.389048    0.358262    0.336418   \n",
       "1    0.179094    0.178929    0.178320    0.178752    0.181586    0.187266   \n",
       "2    0.244531    0.242449    0.238169    0.235511    0.237311    0.243704   \n",
       "3    0.485049    0.474179    0.462434    0.451657    0.444456    0.441602   \n",
       "4    0.428167    0.436062    0.444849    0.452860    0.459808    0.466937   \n",
       "\n",
       "   csh_g_2008  csh_g_2009  csh_g_2010  csh_g_2011  csh_g_2012  csh_g_2013  \\\n",
       "0    0.322910    0.315192    0.310182    0.306000    0.302519    0.300403   \n",
       "1    0.194853    0.202524    0.208929    0.214126    0.219101    0.224573   \n",
       "2    0.252586    0.261407    0.268698    0.274360    0.278871    0.282438   \n",
       "3    0.441097    0.439923    0.436460    0.431222    0.425570    0.420093   \n",
       "4    0.475312    0.484618    0.493390    0.499867    0.502705    0.501351   \n",
       "\n",
       "   csh_g_2014  csh_g_2015  csh_g_2016  csh_g_2017  csh_g_2018  csh_g_2019  \\\n",
       "0    0.299912    0.300675    0.302113    0.303742    0.305246    0.306489   \n",
       "1    0.230441    0.236083    0.240824    0.244252    0.246371    0.247502   \n",
       "2    0.284984    0.286715    0.288275    0.290178    0.292376    0.294481   \n",
       "3    0.414503    0.408871    0.404239    0.401693    0.401334    0.402416   \n",
       "4    0.496124    0.488103    0.478854    0.469938    0.462362    0.456433   \n",
       "\n",
       "   csh_i_1990  csh_i_1991  csh_i_1992  csh_i_1993  csh_i_1994  csh_i_1995  \\\n",
       "0    0.093659    0.087354    0.087580    0.095106    0.107618    0.121350   \n",
       "1    0.579142    0.581467    0.583936    0.585762    0.585132    0.579595   \n",
       "2    0.534138    0.529089    0.523249    0.516567    0.508877    0.499975   \n",
       "3    0.090234    0.084210    0.076504    0.067893    0.061800    0.064509   \n",
       "4    0.544844    0.519614    0.484021    0.439682    0.394918    0.361542   \n",
       "\n",
       "   csh_i_1996  csh_i_1997  csh_i_1998  csh_i_1999  csh_i_2000  csh_i_2001  \\\n",
       "0    0.134949    0.151439    0.176045    0.212026    0.258257    0.310405   \n",
       "1    0.567603    0.549827    0.528748    0.507128    0.487233    0.471071   \n",
       "2    0.489944    0.479402    0.469180    0.459762    0.451576    0.446259   \n",
       "3    0.081666    0.113164    0.152052    0.189259    0.219478    0.243308   \n",
       "4    0.345729    0.343224    0.345212    0.347121    0.350379    0.357639   \n",
       "\n",
       "   csh_i_2002  csh_i_2003  csh_i_2004  csh_i_2005  csh_i_2006  csh_i_2007  \\\n",
       "0    0.364006    0.416093    0.464208    0.504834    0.533520    0.546593   \n",
       "1    0.460308    0.455417    0.455346    0.458353    0.463010    0.468516   \n",
       "2    0.447005    0.456547    0.474488    0.496956    0.518835    0.536422   \n",
       "3    0.265490    0.291603    0.324715    0.362948    0.399339    0.424644   \n",
       "4    0.368621    0.380346    0.389969    0.396503    0.399631    0.397690   \n",
       "\n",
       "   csh_i_2008  csh_i_2009  csh_i_2010  csh_i_2011  csh_i_2012  csh_i_2013  \\\n",
       "0    0.542964    0.525131    0.498837    0.470966    0.446633    0.427686   \n",
       "1    0.474729    0.482143    0.491169    0.501004    0.509760    0.516179   \n",
       "2    0.548876    0.557912    0.565725    0.572892    0.578696    0.583194   \n",
       "3    0.432087    0.421520    0.399778    0.376281    0.357446    0.344647   \n",
       "4    0.388698    0.373965    0.358921    0.348935    0.345201    0.345491   \n",
       "\n",
       "   csh_i_2014  csh_i_2015  csh_i_2016  csh_i_2017  csh_i_2018  csh_i_2019  \\\n",
       "0    0.413550    0.402973    0.394936    0.388637    0.383413    0.378854   \n",
       "1    0.520906    0.525592    0.531020    0.536520    0.541007    0.543982   \n",
       "2    0.587944    0.594478    0.602759    0.611357    0.618738    0.624159   \n",
       "3    0.336352    0.331133    0.328573    0.328263    0.329145    0.330047   \n",
       "4    0.347746    0.351709    0.357592    0.364544    0.370998    0.375881   \n",
       "\n",
       "   csh_m_1990  csh_m_1991  csh_m_1992  csh_m_1993  csh_m_1994  csh_m_1995  \\\n",
       "0    0.954592    0.947753    0.942814    0.940917    0.941699    0.943250   \n",
       "1    0.804291    0.804776    0.804825    0.804235    0.803039    0.801713   \n",
       "2    0.579355    0.578607    0.576134    0.571632    0.565730    0.560399   \n",
       "3    0.981993    0.979440    0.976125    0.971747    0.965832    0.958147   \n",
       "4    0.171839    0.235666    0.328718    0.449731    0.582221    0.699596   \n",
       "\n",
       "   csh_m_1996  csh_m_1997  csh_m_1998  csh_m_1999  csh_m_2000  csh_m_2001  \\\n",
       "0    0.943413    0.940936    0.935645    0.928107    0.919160    0.909506   \n",
       "1    0.800860    0.800518    0.799851    0.797533    0.792396    0.783900   \n",
       "2    0.557965    0.559131    0.562172    0.564077    0.562073    0.554145   \n",
       "3    0.949193    0.939977    0.931118    0.922312    0.912637    0.901160   \n",
       "4    0.781177    0.822839    0.833507    0.825409    0.807898    0.786872   \n",
       "\n",
       "   csh_m_2002  csh_m_2003  csh_m_2004  csh_m_2005  csh_m_2006  csh_m_2007  \\\n",
       "0    0.899576    0.889627    0.879887    0.870769    0.863146    0.858280   \n",
       "1    0.772375    0.759016    0.745526    0.733544    0.724242    0.718095   \n",
       "2    0.539062    0.516861    0.489523    0.460996    0.436319    0.419663   \n",
       "3    0.887294    0.871043    0.853268    0.835865    0.821518    0.812592   \n",
       "4    0.766797    0.751935    0.745354    0.747224    0.754925    0.765038   \n",
       "\n",
       "   csh_m_2008  csh_m_2009  csh_m_2010  csh_m_2011  csh_m_2012  csh_m_2013  \\\n",
       "0    0.857028    0.858945    0.862471    0.866154    0.869486    0.872528   \n",
       "1    0.714523    0.711972    0.709229    0.706959    0.707383    0.712069   \n",
       "2    0.411599    0.408178    0.404285    0.398554    0.394099    0.394371   \n",
       "3    0.809281    0.808784    0.807254    0.803138    0.798309    0.795854   \n",
       "4    0.774996    0.783230    0.788946    0.792364    0.794605    0.796765   \n",
       "\n",
       "   csh_m_2014  csh_m_2015  csh_m_2016  csh_m_2017  csh_m_2018  csh_m_2019  \\\n",
       "0    0.875057    0.876346    0.875845    0.873840    0.871253    0.868915   \n",
       "1    0.720151    0.728819    0.735470    0.739299    0.741041    0.741769   \n",
       "2    0.399120    0.404397    0.406040    0.403011    0.397356    0.391712   \n",
       "3    0.797058    0.800470    0.803503    0.804660    0.804158    0.802969   \n",
       "4    0.798998    0.800519    0.800528    0.799108    0.797124    0.795424   \n",
       "\n",
       "   csh_r_1990  csh_r_1991  csh_r_1992  csh_r_1993  csh_r_1994  csh_r_1995  \\\n",
       "0    0.158237    0.157691    0.164122    0.179091    0.198760    0.215891   \n",
       "1    0.378991    0.377173    0.374248    0.370268    0.365800    0.361890   \n",
       "2    0.313563    0.314355    0.315289    0.316269    0.317149    0.317810   \n",
       "3    0.491363    0.513349    0.522595    0.517763    0.504032    0.489265   \n",
       "4    0.318570    0.318569    0.318569    0.318569    0.318570    0.318575   \n",
       "\n",
       "   csh_r_1996  csh_r_1997  csh_r_1998  csh_r_1999  csh_r_2000  csh_r_2001  \\\n",
       "0    0.227082    0.236308    0.249597    0.267715    0.285493    0.297281   \n",
       "1    0.359582    0.359322    0.360749    0.362993    0.365143    0.366618   \n",
       "2    0.318222    0.318435    0.318525    0.318557    0.318566    0.318568   \n",
       "3    0.477156    0.465799    0.452368    0.437098    0.422798    0.412146   \n",
       "4    0.318610    0.318775    0.319363    0.320914    0.323796    0.327074   \n",
       "\n",
       "   csh_r_2002  csh_r_2003  csh_r_2004  csh_r_2005  csh_r_2006  csh_r_2007  \\\n",
       "0    0.301730    0.301923    0.302407    0.306387    0.314844    0.327235   \n",
       "1    0.367360    0.367861    0.368892    0.370991    0.374081    0.377557   \n",
       "2    0.318569    0.318569    0.318569    0.318569    0.318569    0.318569   \n",
       "3    0.406140    0.404257    0.405110    0.406985    0.408426    0.408885   \n",
       "4    0.327674    0.321874    0.308876    0.292602    0.278939    0.271273   \n",
       "\n",
       "   csh_r_2008  csh_r_2009  csh_r_2010  csh_r_2011  csh_r_2012  csh_r_2013  \\\n",
       "0    0.342238    0.357600    0.369987    0.376426    0.376801    0.374598   \n",
       "1    0.380747    0.383238    0.384770    0.385068    0.384112    0.382553   \n",
       "2    0.318569    0.318569    0.318569    0.318569    0.318569    0.318569   \n",
       "3    0.409065    0.410409    0.413843    0.418885    0.424129    0.428501   \n",
       "4    0.268914    0.268905    0.268479    0.266463    0.263531    0.261354   \n",
       "\n",
       "   csh_r_2014  csh_r_2015  csh_r_2016  csh_r_2017  csh_r_2018  csh_r_2019  \\\n",
       "0    0.374409    0.378402    0.385258    0.392157    0.397220    0.400168   \n",
       "1    0.381461    0.381430    0.382132    0.382835    0.383117    0.383001   \n",
       "2    0.318569    0.318569    0.318569    0.318569    0.318569    0.318569   \n",
       "3    0.431894    0.434763    0.437441    0.439933    0.442126    0.443986   \n",
       "4    0.261183    0.263193    0.266884    0.271587    0.276599    0.281296   \n",
       "\n",
       "   csh_x_1990  csh_x_1991  csh_x_1992  csh_x_1993  csh_x_1994  csh_x_1995  \\\n",
       "0    0.018863    0.018106    0.016650    0.014622    0.012502    0.010941   \n",
       "1    0.242609    0.241338    0.241089    0.242541    0.246067    0.251308   \n",
       "2    0.632769    0.637307    0.645090    0.656276    0.669555    0.681835   \n",
       "3    0.019822    0.023321    0.028915    0.037161    0.048108    0.060746   \n",
       "4    0.391443    0.361885    0.317672    0.259128    0.194180    0.136120   \n",
       "\n",
       "   csh_x_1996  csh_x_1997  csh_x_1998  csh_x_1999  csh_x_2000  csh_x_2001  \\\n",
       "0    0.010468    0.011282    0.013141    0.015478    0.017863    0.020367   \n",
       "1    0.257475    0.264303    0.272607    0.283908    0.299548    0.319893   \n",
       "2    0.689835    0.692709    0.692931    0.694844    0.702802    0.720094   \n",
       "3    0.072950    0.082549    0.088973    0.093763    0.099309    0.107251   \n",
       "4    0.095713    0.075629    0.071891    0.078534    0.090653    0.105123   \n",
       "\n",
       "   csh_x_2002  csh_x_2003  csh_x_2004  csh_x_2005  csh_x_2006  csh_x_2007  \\\n",
       "0    0.023371    0.027069    0.031230    0.035361    0.039001    0.042000   \n",
       "1    0.343959    0.369507    0.393554    0.413075    0.425640    0.430192   \n",
       "2    0.748050    0.785071    0.826498    0.865744    0.896010    0.912589   \n",
       "3    0.117984    0.130945    0.144889    0.158066    0.168754    0.176326   \n",
       "4    0.120167    0.134397    0.146100    0.153541    0.156098    0.155030   \n",
       "\n",
       "   csh_x_2008  csh_x_2009  csh_x_2010  csh_x_2011  csh_x_2012  csh_x_2013  \\\n",
       "0    0.044734    0.047975    0.052261    0.057229    0.061701    0.064530   \n",
       "1    0.428030    0.422735    0.417889    0.414395    0.410338    0.403477   \n",
       "2    0.915843    0.911985    0.908594    0.908281    0.907645    0.902409   \n",
       "3    0.182231    0.189418    0.199893    0.212605    0.224093    0.231288   \n",
       "4    0.152943    0.152186    0.153533    0.156247    0.159247    0.162146   \n",
       "\n",
       "   csh_x_2014  csh_x_2015  csh_x_2016  csh_x_2017  csh_x_2018  csh_x_2019  \\\n",
       "0    0.065522    0.065605    0.066051    0.067468    0.069588    0.071816   \n",
       "1    0.393714    0.383400    0.375451    0.371176    0.369896    0.370163   \n",
       "2    0.892649    0.883086    0.878771    0.880818    0.886481    0.892368   \n",
       "3    0.233710    0.233321    0.232557    0.232555    0.233074    0.233504   \n",
       "4    0.165446    0.169951    0.175851    0.182307    0.188046    0.192258   \n",
       "\n",
       "   delta_1990  delta_1991  delta_1992  delta_1993  delta_1994  delta_1995  \\\n",
       "0    0.151999    0.146769    0.140639    0.134270    0.128552    0.124136   \n",
       "1    0.320127    0.321389    0.322505    0.323288    0.323728    0.324109   \n",
       "2    0.349874    0.349761    0.349025    0.347489    0.345261    0.342832   \n",
       "3    0.560915    0.549686    0.535032    0.517469    0.498662    0.481210   \n",
       "4    0.412737    0.418761    0.427358    0.440636    0.462011    0.494949   \n",
       "\n",
       "   delta_1996  delta_1997  delta_1998  delta_1999  delta_2000  delta_2001  \\\n",
       "0    0.121175    0.119533    0.119085    0.119728    0.121197    0.122993   \n",
       "1    0.324907    0.326570    0.329360    0.333290    0.338120    0.343394   \n",
       "2    0.340948    0.340338    0.341490    0.344495    0.349023    0.354471   \n",
       "3    0.468212    0.462872    0.467870    0.484515    0.512340    0.549291   \n",
       "4    0.540056    0.592848    0.644973    0.688436    0.719305    0.738242   \n",
       "\n",
       "   delta_2002  delta_2003  delta_2004  delta_2005  delta_2006  delta_2007  \\\n",
       "0    0.124525    0.125317    0.125147    0.124130    0.122740    0.121646   \n",
       "1    0.348584    0.353288    0.357374    0.360965    0.364285    0.367487   \n",
       "2    0.360269    0.366132    0.372061    0.378097    0.384062    0.389500   \n",
       "3    0.592120    0.636836    0.679248    0.715392    0.741671    0.755184   \n",
       "4    0.748402    0.753033    0.754384    0.753857    0.752370    0.750235   \n",
       "\n",
       "   delta_2008  delta_2009  delta_2010  delta_2011  delta_2012  delta_2013  \\\n",
       "0    0.121380    0.122100    0.123636    0.125707    0.128058    0.130450   \n",
       "1    0.370613    0.373705    0.376925    0.380515    0.384667    0.389458   \n",
       "2    0.393848    0.396738    0.398203    0.398677    0.398834    0.399412   \n",
       "3    0.754754    0.742129    0.721916    0.699749    0.679986    0.664668   \n",
       "4    0.746937    0.741561    0.733742    0.724120    0.713866    0.704025   \n",
       "\n",
       "   delta_2014  delta_2015  delta_2016  delta_2017  delta_2018  delta_2019  \\\n",
       "0    0.132651    0.134490    0.135909    0.136945    0.137672    0.138163   \n",
       "1    0.394900    0.400935    0.407308    0.413519    0.419029    0.423527   \n",
       "2    0.401037    0.403980    0.407971    0.412324    0.416346    0.419650   \n",
       "3    0.653953    0.647096    0.643146    0.641230    0.640614    0.640726   \n",
       "4    0.695375    0.688587    0.684134    0.681980    0.681559    0.682115   \n",
       "\n",
       "   emp_percent_1990  emp_percent_1991  emp_percent_1992  emp_percent_1993  \\\n",
       "0          0.466870          0.450952          0.434157          0.419071   \n",
       "1          0.590237          0.588511          0.586193          0.583611   \n",
       "2          0.483745          0.482597          0.481277          0.480171   \n",
       "3          0.527217          0.513277          0.500301          0.490279   \n",
       "4          0.251689          0.194888          0.138338          0.093378   \n",
       "\n",
       "   emp_percent_1994  emp_percent_1995  emp_percent_1996  emp_percent_1997  \\\n",
       "0          0.407361          0.398641          0.391543          0.385539   \n",
       "1          0.581461          0.580562          0.581440          0.584066   \n",
       "2          0.479851          0.480820          0.483298          0.487220   \n",
       "3          0.484371          0.482122          0.481901          0.481971   \n",
       "4          0.070959          0.074578          0.097502          0.127208   \n",
       "\n",
       "   emp_percent_1998  emp_percent_1999  emp_percent_2000  emp_percent_2001  \\\n",
       "0          0.381260          0.379537          0.380589          0.383898   \n",
       "1          0.587860          0.591906          0.595339          0.597755   \n",
       "2          0.492247          0.497740          0.502859          0.506940   \n",
       "3          0.481276          0.479866          0.479047          0.480902   \n",
       "4          0.152624          0.168599          0.175662          0.176977   \n",
       "\n",
       "   emp_percent_2002  emp_percent_2003  emp_percent_2004  emp_percent_2005  \\\n",
       "0          0.388531          0.393492          0.397806          0.400416   \n",
       "1          0.599424          0.601123          0.603716          0.607683   \n",
       "2          0.509883          0.512185          0.514517          0.517213   \n",
       "3          0.487181          0.498389          0.513758          0.531662   \n",
       "4          0.175608          0.173558          0.172059          0.171954   \n",
       "\n",
       "   emp_percent_2006  emp_percent_2007  emp_percent_2008  emp_percent_2009  \\\n",
       "0          0.400258          0.396843          0.391003          0.384842   \n",
       "1          0.612843          0.618456          0.623715          0.628231   \n",
       "2          0.520063          0.522494          0.523959          0.524283   \n",
       "3          0.549600          0.564103          0.571802          0.571532   \n",
       "4          0.173634          0.176749          0.180279          0.183150   \n",
       "\n",
       "   emp_percent_2010  emp_percent_2011  emp_percent_2012  emp_percent_2013  \\\n",
       "0          0.380508          0.378963          0.380205          0.384492   \n",
       "1          0.632048          0.635247          0.637726          0.639430   \n",
       "2          0.523714          0.522703          0.521712          0.521212   \n",
       "3          0.565554          0.558394          0.554266          0.555217   \n",
       "4          0.184918          0.185956          0.187116          0.189276   \n",
       "\n",
       "   emp_percent_2014  emp_percent_2015  emp_percent_2016  emp_percent_2017  \\\n",
       "0          0.392660          0.404871          0.419467          0.433646   \n",
       "1          0.640673          0.642061          0.644065          0.646661   \n",
       "2          0.521674          0.523370          0.526144          0.529441   \n",
       "3          0.561059          0.570336          0.581221          0.592004   \n",
       "4          0.193037          0.198526          0.205248          0.212202   \n",
       "\n",
       "   emp_percent_2018  emp_percent_2019  employment_agro_1990  \\\n",
       "0          0.445225          0.453540              0.995473   \n",
       "1          0.649430          0.651937              0.121768   \n",
       "2          0.532643          0.535360              0.039160   \n",
       "3          0.601451          0.609018              0.321544   \n",
       "4          0.218383          0.223260              0.599927   \n",
       "\n",
       "   employment_agro_1991  employment_agro_1992  employment_agro_1993  \\\n",
       "0              0.993862              0.990899              0.986223   \n",
       "1              0.120754              0.119422              0.117840   \n",
       "2              0.038569              0.037856              0.037075   \n",
       "3              0.317170              0.310626              0.301653   \n",
       "4              0.596409              0.589944              0.579124   \n",
       "\n",
       "   employment_agro_1994  employment_agro_1995  employment_agro_1996  \\\n",
       "0              0.979889              0.972277              0.963499   \n",
       "1              0.116039              0.113847              0.110937   \n",
       "2              0.036225              0.035176              0.033700   \n",
       "3              0.290581              0.278225              0.265306   \n",
       "4              0.563074              0.542218              0.518351   \n",
       "\n",
       "   employment_agro_1997  employment_agro_1998  employment_agro_1999  \\\n",
       "0              0.952971              0.939799              0.923627   \n",
       "1              0.107167              0.102803              0.098350   \n",
       "2              0.031615              0.028920              0.025883   \n",
       "3              0.251919              0.237626              0.222235   \n",
       "4              0.493853              0.470674              0.449791   \n",
       "\n",
       "   employment_agro_2000  employment_agro_2001  employment_agro_2002  \\\n",
       "0              0.905095              0.885517              0.866152   \n",
       "1              0.094171              0.090351              0.086879   \n",
       "2              0.023061              0.021122              0.020437   \n",
       "3              0.206596              0.192372              0.180564   \n",
       "4              0.431279              0.414737              0.399713   \n",
       "\n",
       "   employment_agro_2003  employment_agro_2004  employment_agro_2005  \\\n",
       "0              0.847680              0.830185              0.813530   \n",
       "1              0.083913              0.081782              0.080677   \n",
       "2              0.020755              0.021320              0.021355   \n",
       "3              0.170376              0.160053              0.148799   \n",
       "4              0.385935              0.373436              0.362646   \n",
       "\n",
       "   employment_agro_2006  employment_agro_2007  employment_agro_2008  \\\n",
       "0              0.797770              0.783450              0.771712   \n",
       "1              0.080355              0.080229              0.079722   \n",
       "2              0.020485              0.018815              0.016733   \n",
       "3              0.137477              0.127538              0.119759   \n",
       "4              0.354227              0.348476              0.344734   \n",
       "\n",
       "   employment_agro_2009  employment_agro_2010  employment_agro_2011  \\\n",
       "0              0.763860              0.760005              0.757771   \n",
       "1              0.078535              0.076698              0.074490   \n",
       "2              0.014660              0.012902              0.011595   \n",
       "3              0.114053              0.110031              0.107454   \n",
       "4              0.341566              0.337561              0.331838   \n",
       "\n",
       "   employment_agro_2012  employment_agro_2013  employment_agro_2014  \\\n",
       "0              0.752994              0.742470              0.726062   \n",
       "1              0.072255              0.070133              0.067942   \n",
       "2              0.010719              0.010135              0.009657   \n",
       "3              0.106201              0.106007              0.106355   \n",
       "4              0.324126              0.314961              0.305694   \n",
       "\n",
       "   employment_agro_2015  employment_agro_2016  employment_agro_2017  \\\n",
       "0              0.706284              0.686416              0.669014   \n",
       "1              0.065406              0.062525              0.059650   \n",
       "2              0.009136              0.008497              0.007758   \n",
       "3              0.106685              0.106672              0.106302   \n",
       "4              0.297728              0.291725              0.287715   \n",
       "\n",
       "   employment_agro_2018  employment_agro_2019  employment_industry_1990  \\\n",
       "0              0.655315              0.645343                  0.023282   \n",
       "1              0.057191              0.055345                  0.650242   \n",
       "2              0.007000              0.006313                  0.570191   \n",
       "3              0.105731              0.105128                  0.849470   \n",
       "4              0.285552              0.285012                  0.480310   \n",
       "\n",
       "   employment_industry_1991  employment_industry_1992  \\\n",
       "0                  0.023786                  0.024757   \n",
       "1                  0.644970                  0.636973   \n",
       "2                  0.562052                  0.550597   \n",
       "3                  0.839702                  0.825918   \n",
       "4                  0.480649                  0.481916   \n",
       "\n",
       "   employment_industry_1993  employment_industry_1994  \\\n",
       "0                  0.026156                  0.027685   \n",
       "1                  0.625537                  0.610482   \n",
       "2                  0.536140                  0.519998   \n",
       "3                  0.808035                  0.786793   \n",
       "4                  0.484975                  0.490683   \n",
       "\n",
       "   employment_industry_1995  employment_industry_1996  \\\n",
       "0                  0.029089                  0.030763   \n",
       "1                  0.592815                  0.574963   \n",
       "2                  0.503805                  0.488454   \n",
       "3                  0.763335                  0.738669   \n",
       "4                  0.499263                  0.509841   \n",
       "\n",
       "   employment_industry_1997  employment_industry_1998  \\\n",
       "0                  0.033992                  0.040360   \n",
       "1                  0.559819                  0.548909   \n",
       "2                  0.473858                  0.459793   \n",
       "3                  0.713685                  0.689541   \n",
       "4                  0.520667                  0.529948   \n",
       "\n",
       "   employment_industry_1999  employment_industry_2000  \\\n",
       "0                  0.050771                  0.064847   \n",
       "1                  0.541305                  0.534408   \n",
       "2                  0.446686                  0.435361   \n",
       "3                  0.667856                  0.650476   \n",
       "4                  0.536704                  0.541081   \n",
       "\n",
       "   employment_industry_2001  employment_industry_2002  \\\n",
       "0                  0.081129                  0.097958   \n",
       "1                  0.525875                  0.515069   \n",
       "2                  0.426126                  0.418494   \n",
       "3                  0.639040                  0.634677   \n",
       "4                  0.544100                  0.547185   \n",
       "\n",
       "   employment_industry_2003  employment_industry_2004  \\\n",
       "0                  0.114412                  0.130701   \n",
       "1                  0.503153                  0.491845   \n",
       "2                  0.411814                  0.405795   \n",
       "3                  0.637801                  0.647621   \n",
       "4                  0.551797                  0.559051   \n",
       "\n",
       "   employment_industry_2005  employment_industry_2006  \\\n",
       "0                  0.147820                  0.166734   \n",
       "1                  0.481626                  0.471158   \n",
       "2                  0.400275                  0.394730   \n",
       "3                  0.661542                  0.675095   \n",
       "4                  0.568972                  0.579609   \n",
       "\n",
       "   employment_industry_2007  employment_industry_2008  \\\n",
       "0                  0.187257                  0.206941   \n",
       "1                  0.459004                  0.445967   \n",
       "2                  0.388216                  0.379845   \n",
       "3                  0.682785                  0.679965   \n",
       "4                  0.587182                  0.588115   \n",
       "\n",
       "   employment_industry_2009  employment_industry_2010  \\\n",
       "0                  0.221271                  0.226347   \n",
       "1                  0.435072                  0.428934   \n",
       "2                  0.369271                  0.356822   \n",
       "3                  0.665260                  0.641760   \n",
       "4                  0.581730                  0.571117   \n",
       "\n",
       "   employment_industry_2011  employment_industry_2012  \\\n",
       "0                  0.222515                  0.215119   \n",
       "1                  0.427444                  0.428132   \n",
       "2                  0.343394                  0.330325   \n",
       "3                  0.615385                  0.591588   \n",
       "4                  0.561188                  0.555749   \n",
       "\n",
       "   employment_industry_2013  employment_industry_2014  \\\n",
       "0                  0.210965                  0.213673   \n",
       "1                  0.428377                  0.426993   \n",
       "2                  0.318989                  0.310123   \n",
       "3                  0.573239                  0.560781   \n",
       "4                  0.556081                  0.561436   \n",
       "\n",
       "   employment_industry_2015  employment_industry_2016  \\\n",
       "0                  0.222133                  0.232677   \n",
       "1                  0.424248                  0.421106   \n",
       "2                  0.303584                  0.298809   \n",
       "3                  0.553377                  0.549744   \n",
       "4                  0.570004                  0.579510   \n",
       "\n",
       "   employment_industry_2017  employment_industry_2018  \\\n",
       "0                  0.242176                  0.249404   \n",
       "1                  0.418500                  0.416880   \n",
       "2                  0.295360                  0.292986   \n",
       "3                  0.548520                  0.548524   \n",
       "4                  0.587875                  0.593954   \n",
       "\n",
       "   employment_industry_2019  employment_services_1990  \\\n",
       "0                  0.254508                  0.040798   \n",
       "1                  0.416171                  0.507821   \n",
       "2                  0.291454                  0.632944   \n",
       "3                  0.548950                  0.202189   \n",
       "4                  0.597687                  0.151653   \n",
       "\n",
       "   employment_services_1991  employment_services_1992  \\\n",
       "0                  0.042039                  0.044296   \n",
       "1                  0.511844                  0.517749   \n",
       "2                  0.638209                  0.645508   \n",
       "3                  0.212041                  0.226294   \n",
       "4                  0.154825                  0.160263   \n",
       "\n",
       "   employment_services_1993  employment_services_1994  \\\n",
       "0                  0.047938                  0.053085   \n",
       "1                  0.525888                  0.536335   \n",
       "2                  0.654613                  0.664767   \n",
       "3                  0.245236                  0.268121   \n",
       "4                  0.168799                  0.180765   \n",
       "\n",
       "   employment_services_1995  employment_services_1996  \\\n",
       "0                  0.059524                  0.066912   \n",
       "1                  0.548670                  0.561796   \n",
       "2                  0.675155                  0.685472   \n",
       "3                  0.293507                  0.320118   \n",
       "4                  0.195628                  0.212188   \n",
       "\n",
       "   employment_services_1997  employment_services_1998  \\\n",
       "0                  0.075055                  0.083880   \n",
       "1                  0.574177                  0.584670   \n",
       "2                  0.695930                  0.706652   \n",
       "3                  0.347346                  0.374934   \n",
       "4                  0.229202                  0.245854   \n",
       "\n",
       "   employment_services_1999  employment_services_2000  \\\n",
       "0                  0.093203                  0.102642   \n",
       "1                  0.593335                  0.601322   \n",
       "2                  0.717130                  0.726365   \n",
       "3                  0.402131                  0.427065   \n",
       "4                  0.261784                  0.276838   \n",
       "\n",
       "   employment_services_2001  employment_services_2002  \\\n",
       "0                  0.111796                  0.120433   \n",
       "1                  0.609903                  0.619457   \n",
       "2                  0.733553                  0.738627   \n",
       "3                  0.447214                  0.460972   \n",
       "4                  0.290807                  0.303303   \n",
       "\n",
       "   employment_services_2003  employment_services_2004  \\\n",
       "0                  0.128439                  0.135616   \n",
       "1                  0.629166                  0.637727   \n",
       "2                  0.742202                  0.745162   \n",
       "3                  0.468852                  0.472973   \n",
       "4                  0.313741                  0.321441   \n",
       "\n",
       "   employment_services_2005  employment_services_2006  \\\n",
       "0                  0.141523                  0.145546   \n",
       "1                  0.644688                  0.651061   \n",
       "2                  0.748334                  0.752380   \n",
       "3                  0.475594                  0.478492   \n",
       "4                  0.325973                  0.327826   \n",
       "\n",
       "   employment_services_2007  employment_services_2008  \\\n",
       "0                  0.147272                  0.147027   \n",
       "1                  0.658239                  0.666303   \n",
       "2                  0.757745                  0.764577   \n",
       "3                  0.483481                  0.492523   \n",
       "4                  0.328904                  0.331909   \n",
       "\n",
       "   employment_services_2009  employment_services_2010  \\\n",
       "0                  0.146188                  0.146917   \n",
       "1                  0.673780                  0.679118   \n",
       "2                  0.772676                  0.781564   \n",
       "3                  0.506496                  0.523970   \n",
       "4                  0.338607                  0.348559   \n",
       "\n",
       "   employment_services_2011  employment_services_2012  \\\n",
       "0                  0.151274                  0.160109   \n",
       "1                  0.682107                  0.683843   \n",
       "2                  0.790592                  0.799004   \n",
       "3                  0.541730                  0.556729   \n",
       "4                  0.359755                  0.370248   \n",
       "\n",
       "   employment_services_2013  employment_services_2014  \\\n",
       "0                  0.172521                  0.186540   \n",
       "1                  0.685711                  0.688576   \n",
       "2                  0.806135                  0.811728   \n",
       "3                  0.567559                  0.574453   \n",
       "4                  0.378780                  0.384497   \n",
       "\n",
       "   employment_services_2015  employment_services_2016  \\\n",
       "0                  0.200431                  0.213208   \n",
       "1                  0.692558                  0.697108   \n",
       "2                  0.816011                  0.819379   \n",
       "3                  0.578426                  0.580530   \n",
       "4                  0.387105                  0.387289   \n",
       "\n",
       "   employment_services_2017  employment_services_2018  \\\n",
       "0                  0.224251                  0.233092   \n",
       "1                  0.701355                  0.704644   \n",
       "2                  0.822071                  0.824158   \n",
       "3                  0.581573                  0.582099   \n",
       "4                  0.386233                  0.384747   \n",
       "\n",
       "   employment_services_2019  export_1990  export_1991  export_1992  \\\n",
       "0                  0.239618     0.035778     0.035841     0.036417   \n",
       "1                  0.706825     0.136718     0.134810     0.133121   \n",
       "2                  0.825695     0.255254     0.253258     0.251760   \n",
       "3                  0.582415     0.164048     0.167830     0.170235   \n",
       "4                  0.383085     0.162942     0.142308     0.120321   \n",
       "\n",
       "   export_1993  export_1994  export_1995  export_1996  export_1997  \\\n",
       "0     0.036917     0.036798     0.036295     0.036646     0.039391   \n",
       "1     0.132394     0.133438     0.136685     0.141991     0.148843   \n",
       "2     0.251677     0.253814     0.258302     0.264577     0.271937   \n",
       "3     0.171436     0.172597     0.174776     0.177242     0.177536   \n",
       "4     0.100989     0.088679     0.085222     0.088629     0.094862   \n",
       "\n",
       "   export_1998  export_1999  export_2000  export_2001  export_2002  \\\n",
       "0     0.045234     0.053361     0.061868     0.069066     0.074516   \n",
       "1     0.156643     0.164774     0.172567     0.179492     0.185525   \n",
       "2     0.279916     0.288004     0.295292     0.300928     0.305084   \n",
       "3     0.173713     0.166262     0.157904     0.152014     0.151124   \n",
       "4     0.100550     0.104243     0.106125     0.107250     0.108799   \n",
       "\n",
       "   export_2003  export_2004  export_2005  export_2006  export_2007  \\\n",
       "0     0.078953     0.083361     0.088094     0.092740     0.096703   \n",
       "1     0.191200     0.197043     0.202891     0.207842     0.211061   \n",
       "2     0.309067     0.314143     0.320234     0.325877     0.329548   \n",
       "3     0.156078     0.165866     0.178070     0.189839     0.199279   \n",
       "4     0.111330     0.114253     0.116117     0.115788     0.113706   \n",
       "\n",
       "   export_2008  export_2009  export_2010  export_2011  export_2012  \\\n",
       "0     0.099901     0.102761     0.105562     0.108022     0.109683   \n",
       "1     0.212754     0.214194     0.216519     0.219617     0.222428   \n",
       "2     0.331209     0.332469     0.334949     0.338639     0.342182   \n",
       "3     0.206742     0.214666     0.225360     0.238700     0.252221   \n",
       "4     0.111886     0.112417     0.115897     0.121324     0.127298   \n",
       "\n",
       "   export_2013  export_2014  export_2015  export_2016  export_2017  \\\n",
       "0     0.110579     0.111371     0.112829     0.115157     0.117869   \n",
       "1     0.224168     0.224989     0.225637     0.226733     0.228359   \n",
       "2     0.344580     0.346158     0.347930     0.350412     0.353211   \n",
       "3     0.263276     0.270810     0.275377     0.278052     0.279555   \n",
       "4     0.133133     0.138986     0.145202     0.151619     0.157499   \n",
       "\n",
       "   export_2018  export_2019  hdi_1990  hdi_1991  hdi_1992  hdi_1993  hdi_1994  \\\n",
       "0     0.120291     0.122056  0.051255  0.042410  0.036869  0.037571  0.045982   \n",
       "1     0.230181     0.231821  0.567982  0.574286  0.582293  0.591863  0.602564   \n",
       "2     0.355601     0.357173  0.611482  0.625622  0.643694  0.664566  0.686062   \n",
       "3     0.280186     0.280145  0.266136  0.265722  0.266310  0.268645  0.273126   \n",
       "4     0.162088     0.165121  0.544279  0.524218  0.494842  0.454956  0.406200   \n",
       "\n",
       "   hdi_1995  hdi_1996  hdi_1997  hdi_1998  hdi_1999  hdi_2000  hdi_2001  \\\n",
       "0  0.060889  0.079490  0.099571  0.120252  0.141214  0.162052  0.182445   \n",
       "1  0.613922  0.625726  0.638009  0.650696  0.663213  0.674609  0.684403   \n",
       "2  0.706028  0.723362  0.738080  0.750771  0.762124  0.772711  0.782956   \n",
       "3  0.279287  0.286042  0.292733  0.299938  0.309177  0.321804  0.338090   \n",
       "4  0.353461  0.303232  0.261244  0.231020  0.213600  0.207939  0.211611   \n",
       "\n",
       "   hdi_2002  hdi_2003  hdi_2004  hdi_2005  hdi_2006  hdi_2007  hdi_2008  \\\n",
       "0  0.202500  0.222689  0.243485  0.265052  0.287299  0.310360  0.334983   \n",
       "1  0.693508  0.704104  0.718348  0.736995  0.758899  0.781549  0.802348   \n",
       "2  0.793226  0.803849  0.814906  0.825952  0.836086  0.844511  0.851141   \n",
       "3  0.357150  0.377615  0.398365  0.418768  0.438431  0.456914  0.473789   \n",
       "4  0.221676  0.235493  0.251172  0.267492  0.283472  0.298170  0.311203   \n",
       "\n",
       "   hdi_2009  hdi_2010  hdi_2011  hdi_2012  hdi_2013  hdi_2014  hdi_2015  \\\n",
       "0  0.362138  0.391808  0.422113  0.449888  0.472378  0.488566  0.499247   \n",
       "1  0.819751  0.833475  0.844057  0.852503  0.859973  0.867224  0.874244   \n",
       "2  0.856633  0.861867  0.867477  0.873757  0.880773  0.888384  0.896193   \n",
       "3  0.488965  0.502830  0.515981  0.528767  0.540987  0.551969  0.561023   \n",
       "4  0.323599  0.337618  0.354982  0.375195  0.395970  0.415155  0.431793   \n",
       "\n",
       "   hdi_2016  hdi_2017  hdi_2018  hdi_2019  import_1990  import_1991  \\\n",
       "0  0.506136  0.510847  0.514366  0.517123     0.234066     0.258771   \n",
       "1  0.880508  0.885560  0.889304  0.891929     0.177940     0.176303   \n",
       "2  0.903547  0.909774  0.914501  0.917781     0.300813     0.297318   \n",
       "3  0.567893  0.572853  0.576420  0.579052     0.215819     0.220275   \n",
       "4  0.445632  0.456519  0.464502  0.470018     0.408138     0.423836   \n",
       "\n",
       "   import_1992  import_1993  import_1994  import_1995  import_1996  \\\n",
       "0     0.272822     0.269351     0.249430     0.223201     0.202349   \n",
       "1     0.174934     0.174637     0.176198     0.179843     0.185112   \n",
       "2     0.294121     0.292473     0.293590     0.297837     0.304572   \n",
       "3     0.220824     0.215510     0.205446     0.195446     0.190798   \n",
       "4     0.436503     0.442562     0.441598     0.438010     0.437414   \n",
       "\n",
       "   import_1997  import_1998  import_1999  import_2000  import_2001  \\\n",
       "0     0.192534     0.193114     0.200772     0.211819     0.222905   \n",
       "1     0.191260     0.197663     0.203851     0.209400     0.214110   \n",
       "2     0.312840     0.321894     0.330869     0.338439     0.343630   \n",
       "3     0.193324     0.200883     0.209926     0.218318     0.226653   \n",
       "4     0.440829     0.443459     0.439669     0.428563     0.414005   \n",
       "\n",
       "   import_2002  import_2003  import_2004  import_2005  import_2006  \\\n",
       "0     0.231874     0.238592     0.244463     0.250694     0.256926   \n",
       "1     0.218326     0.222804     0.227989     0.233432     0.238045   \n",
       "2     0.347123     0.351144     0.357617     0.366468     0.375729   \n",
       "3     0.237553     0.253443     0.274316     0.296834     0.315320   \n",
       "4     0.399766     0.386099     0.370986     0.353218     0.333688   \n",
       "\n",
       "   import_2007  import_2008  import_2009  import_2010  import_2011  \\\n",
       "0     0.261542     0.263237     0.262094     0.259130     0.255224   \n",
       "1     0.241097     0.243089     0.245487     0.249269     0.253822   \n",
       "2     0.383266     0.388624     0.393295     0.398883     0.405127   \n",
       "3     0.324632     0.323868     0.317795     0.313545     0.315081   \n",
       "4     0.314700     0.298856     0.288153     0.283161     0.282580   \n",
       "\n",
       "   import_2012  import_2013  import_2014  import_2015  import_2016  \\\n",
       "0     0.250822     0.246358     0.242446     0.239591     0.237859   \n",
       "1     0.257545     0.259429     0.259859     0.260069     0.261057   \n",
       "2     0.410251     0.413154     0.414627     0.416403     0.419426   \n",
       "3     0.320899     0.326678     0.329368     0.328931     0.327184   \n",
       "4     0.283974     0.285325     0.286017     0.286557     0.287560   \n",
       "\n",
       "   import_2017  import_2018  import_2019  inflation_1990  inflation_1991  \\\n",
       "0     0.236910     0.236320     0.235844        0.026795        0.030538   \n",
       "1     0.262951     0.265220     0.267285        0.006047        0.006021   \n",
       "2     0.423218     0.426673     0.429081        0.005989        0.005985   \n",
       "3     0.325699     0.324877     0.324403        0.034595        0.034870   \n",
       "4     0.289016     0.290417     0.291316        0.022154        0.021307   \n",
       "\n",
       "   inflation_1992  inflation_1993  inflation_1994  inflation_1995  \\\n",
       "0        0.032010        0.030130        0.025328        0.019501   \n",
       "1        0.005969        0.005884        0.005773        0.005648   \n",
       "2        0.005950        0.005869        0.005746        0.005613   \n",
       "3        0.035469        0.038629        0.046676        0.059035   \n",
       "4        0.020102        0.018241        0.015559        0.012416   \n",
       "\n",
       "   inflation_1996  inflation_1997  inflation_1998  inflation_1999  \\\n",
       "0        0.014512        0.011042        0.008859        0.007556   \n",
       "1        0.005531        0.005443        0.005397        0.005397   \n",
       "2        0.005510        0.005464        0.005469        0.005505   \n",
       "3        0.070066        0.071904        0.061358        0.043283   \n",
       "4        0.009665        0.008027        0.007543        0.007669   \n",
       "\n",
       "   inflation_2000  inflation_2001  inflation_2002  inflation_2003  \\\n",
       "0        0.006842        0.006499        0.006347        0.006265   \n",
       "1        0.005430        0.005477        0.005524        0.005572   \n",
       "2        0.005551        0.005592        0.005623        0.005646   \n",
       "3        0.026037        0.014684        0.009213        0.007285   \n",
       "4        0.007775        0.007558        0.007106        0.006674   \n",
       "\n",
       "   inflation_2004  inflation_2005  inflation_2006  inflation_2007  \\\n",
       "0        0.006203        0.006158        0.006137        0.006127   \n",
       "1        0.005618        0.005656        0.005675        0.005670   \n",
       "2        0.005663        0.005670        0.005660        0.005632   \n",
       "3        0.006884        0.006972        0.007114        0.007127   \n",
       "4        0.006429        0.006374        0.006406        0.006396   \n",
       "\n",
       "   inflation_2008  inflation_2009  inflation_2010  inflation_2011  \\\n",
       "0        0.006104        0.006041        0.005927        0.005773   \n",
       "1        0.005646        0.005619        0.005603        0.005607   \n",
       "2        0.005599        0.005574        0.005564        0.005560   \n",
       "3        0.006959        0.006659        0.006319        0.006012   \n",
       "4        0.006268        0.006040        0.005793        0.005595   \n",
       "\n",
       "   inflation_2012  inflation_2013  inflation_2014  inflation_2015  \\\n",
       "0        0.005610        0.005470        0.005372        0.005319   \n",
       "1        0.005625        0.005644        0.005651        0.005638   \n",
       "2        0.005551        0.005537        0.005531        0.005540   \n",
       "3        0.005774        0.005635        0.005621        0.005721   \n",
       "4        0.005467        0.005410        0.005415        0.005468   \n",
       "\n",
       "   inflation_2016  inflation_2017  inflation_2018  inflation_2019  \\\n",
       "0        0.005303        0.005311        0.005327        0.005337   \n",
       "1        0.005612        0.005586        0.005569        0.005564   \n",
       "2        0.005560        0.005578        0.005588        0.005591   \n",
       "3        0.005885        0.006057        0.006203        0.006315   \n",
       "4        0.005547        0.005629        0.005703        0.005761   \n",
       "\n",
       "   net_migration_1990  net_migration_1991  net_migration_1992  \\\n",
       "0            0.093730            0.097011            0.102411   \n",
       "1            0.254393            0.256379            0.257023   \n",
       "2            0.249938            0.246312            0.242291   \n",
       "3            0.147758            0.142506            0.139144   \n",
       "4            0.054768            0.052367            0.054772   \n",
       "\n",
       "   net_migration_1993  net_migration_1994  net_migration_1995  \\\n",
       "0            0.110334            0.120462            0.131600   \n",
       "1            0.255529            0.251787            0.246772   \n",
       "2            0.238279            0.234816            0.232499   \n",
       "3            0.139205            0.143307            0.150527   \n",
       "4            0.064340            0.081521            0.103973   \n",
       "\n",
       "   net_migration_1996  net_migration_1997  net_migration_1998  \\\n",
       "0            0.142101            0.150555            0.156307   \n",
       "1            0.242189            0.239602            0.239727   \n",
       "2            0.231950            0.233695            0.237890   \n",
       "3            0.158936            0.166745            0.173011   \n",
       "4            0.127697            0.149128            0.166437   \n",
       "\n",
       "   net_migration_1999  net_migration_2000  net_migration_2001  \\\n",
       "0            0.159538            0.160910            0.161083   \n",
       "1            0.242233            0.246057            0.249950   \n",
       "2            0.244113            0.251486            0.259029   \n",
       "3            0.177638            0.180976            0.183398   \n",
       "4            0.179506            0.189067            0.195766   \n",
       "\n",
       "   net_migration_2002  net_migration_2003  net_migration_2004  \\\n",
       "0            0.160474            0.159328            0.157913   \n",
       "1            0.252951            0.254660            0.255290   \n",
       "2            0.265991            0.271989            0.276953   \n",
       "3            0.185128            0.186297            0.187085   \n",
       "4            0.199847            0.201417            0.200747   \n",
       "\n",
       "   net_migration_2005  net_migration_2006  net_migration_2007  \\\n",
       "0            0.156634            0.155999            0.156457   \n",
       "1            0.255509            0.256149            0.257899   \n",
       "2            0.280918            0.283829            0.285549   \n",
       "3            0.187764            0.188656            0.190022   \n",
       "4            0.198198            0.193969            0.188084   \n",
       "\n",
       "   net_migration_2008  net_migration_2009  net_migration_2010  \\\n",
       "0            0.158203            0.161084            0.164711   \n",
       "1            0.261049            0.265418            0.270492   \n",
       "2            0.286038            0.285486            0.284265   \n",
       "3            0.191960            0.194357            0.196921   \n",
       "4            0.180685            0.172378            0.164337   \n",
       "\n",
       "   net_migration_2011  net_migration_2012  net_migration_2013  \\\n",
       "0            0.168677            0.172709            0.176731   \n",
       "1            0.275678            0.280503            0.284670   \n",
       "2            0.282753            0.281178            0.279498   \n",
       "3            0.199284            0.201091            0.201991   \n",
       "4            0.158078            0.154934            0.155449   \n",
       "\n",
       "   net_migration_2014  net_migration_2015  net_migration_2016  \\\n",
       "0            0.180863            0.185345            0.190342   \n",
       "1            0.287969            0.290150            0.290944   \n",
       "2            0.277308            0.273877            0.268538   \n",
       "3            0.201506            0.198919            0.193596   \n",
       "4            0.159085            0.164509            0.170217   \n",
       "\n",
       "   net_migration_2017  net_migration_2018  net_migration_2019  pop_1990  \\\n",
       "0            0.195720            0.201057            0.205896  0.020266   \n",
       "1            0.290320            0.288623            0.286413  0.050893   \n",
       "2            0.261294            0.252976            0.244717  0.066150   \n",
       "3            0.185646            0.176136            0.166501  0.057230   \n",
       "4            0.175117            0.178767            0.181238  0.027388   \n",
       "\n",
       "   pop_1991  pop_1992  pop_1993  pop_1994  pop_1995  pop_1996  pop_1997  \\\n",
       "0  0.020158  0.020010  0.019828  0.019638  0.019475  0.019367  0.019317   \n",
       "1  0.051069  0.051293  0.051554  0.051826  0.052074  0.052279  0.052439   \n",
       "2  0.066268  0.066419  0.066599  0.066789  0.066973  0.067139  0.067289   \n",
       "3  0.056936  0.056544  0.056057  0.055502  0.054918  0.054341  0.053791   \n",
       "4  0.026976  0.026439  0.025805  0.025148  0.024560  0.024109  0.023818   \n",
       "\n",
       "   pop_1998  pop_1999  pop_2000  pop_2001  pop_2002  pop_2003  pop_2004  \\\n",
       "0  0.019313  0.019331  0.019348  0.019348  0.019321  0.019263  0.019174   \n",
       "1  0.052573  0.052705  0.052855  0.053036  0.053249  0.053482  0.053722   \n",
       "2  0.067439  0.067607  0.067810  0.068060  0.068362  0.068716  0.069116   \n",
       "3  0.053271  0.052777  0.052306  0.051854  0.051418  0.050998  0.050592   \n",
       "4  0.023665  0.023608  0.023605  0.023624  0.023646  0.023664  0.023674   \n",
       "\n",
       "   pop_2005  pop_2006  pop_2007  pop_2008  pop_2009  pop_2010  pop_2011  \\\n",
       "0  0.019053  0.018906  0.018740  0.018565  0.018395  0.018241  0.018110   \n",
       "1  0.053959  0.054186  0.054407  0.054630  0.054868  0.055130  0.055423   \n",
       "2  0.069558  0.070034  0.070536  0.071054  0.071576  0.072093  0.072597   \n",
       "3  0.050200  0.049822  0.049455  0.049102  0.048761  0.048431  0.048112   \n",
       "4  0.023672  0.023650  0.023598  0.023504  0.023354  0.023143  0.022871   \n",
       "\n",
       "   pop_2012  pop_2013  pop_2014  pop_2015  pop_2016  pop_2017  pop_2018  \\\n",
       "0  0.018005  0.017923  0.017862  0.017818  0.017787  0.017767  0.017754   \n",
       "1  0.055749  0.056109  0.056496  0.056896  0.057286  0.057635  0.057924   \n",
       "2  0.073085  0.073559  0.074015  0.074448  0.074842  0.075180  0.075450   \n",
       "3  0.047800  0.047493  0.047187  0.046887  0.046603  0.046352  0.046145   \n",
       "4  0.022551  0.022205  0.021861  0.021544  0.021276  0.021066  0.020912   \n",
       "\n",
       "   pop_2019  population_15_64_1990  population_15_64_1991  \\\n",
       "0  0.017745               0.045050               0.038567   \n",
       "1  0.058145               0.525870               0.517679   \n",
       "2  0.075653               0.449822               0.443247   \n",
       "3  0.045985               0.424300               0.427113   \n",
       "4  0.020805               0.628450               0.626080   \n",
       "\n",
       "   population_15_64_1992  population_15_64_1993  population_15_64_1994  \\\n",
       "0               0.031683               0.026117               0.024476   \n",
       "1               0.507585               0.496729               0.487262   \n",
       "2               0.434696               0.424290               0.412622   \n",
       "3               0.432003               0.439250               0.448483   \n",
       "4               0.622012               0.615863               0.607812   \n",
       "\n",
       "   population_15_64_1995  population_15_64_1996  population_15_64_1997  \\\n",
       "0               0.029211               0.041275               0.059783   \n",
       "1               0.481578               0.481155               0.485904   \n",
       "2               0.400599               0.389129               0.378911   \n",
       "3               0.458819               0.469506               0.480448   \n",
       "4               0.598670               0.589447               0.580870   \n",
       "\n",
       "   population_15_64_1998  population_15_64_1999  population_15_64_2000  \\\n",
       "0               0.082947               0.109287               0.138121   \n",
       "1               0.494294               0.504010               0.512825   \n",
       "2               0.370368               0.363654               0.358717   \n",
       "3               0.492172               0.505369               0.520409   \n",
       "4               0.573356               0.567314               0.563405   \n",
       "\n",
       "   population_15_64_2001  population_15_64_2002  population_15_64_2003  \\\n",
       "0               0.169279               0.202615               0.237694   \n",
       "1               0.519273               0.522859               0.523833   \n",
       "2               0.355396               0.353515               0.352969   \n",
       "3               0.537088               0.554575               0.571426   \n",
       "4               0.562558               0.565748               0.573654   \n",
       "\n",
       "   population_15_64_2004  population_15_64_2005  population_15_64_2006  \\\n",
       "0               0.273704               0.309545               0.344086   \n",
       "1               0.522764               0.520215               0.516639   \n",
       "2               0.353721               0.355692               0.358574   \n",
       "3               0.585765               0.595727               0.599972   \n",
       "4               0.586340               0.603134               0.622684   \n",
       "\n",
       "   population_15_64_2007  population_15_64_2008  population_15_64_2009  \\\n",
       "0               0.376620               0.407282               0.437009   \n",
       "1               0.512396               0.507759               0.502883   \n",
       "2               0.361659               0.363799               0.363654   \n",
       "3               0.597815               0.588894               0.572880   \n",
       "4               0.643179               0.662664               0.679409   \n",
       "\n",
       "   population_15_64_2010  population_15_64_2011  population_15_64_2012  \\\n",
       "0               0.466736               0.496277               0.523917   \n",
       "1               0.497779               0.492334               0.486360   \n",
       "2               0.360162               0.352954               0.342415   \n",
       "3               0.549675               0.519893               0.485075   \n",
       "4               0.692284               0.700928               0.705353   \n",
       "\n",
       "   population_15_64_2013  population_15_64_2014  population_15_64_2015  \\\n",
       "0               0.547202               0.564260               0.574653   \n",
       "1               0.479704               0.472399               0.464756   \n",
       "2               0.329408               0.314923               0.299948   \n",
       "3               0.447423               0.409337               0.373139   \n",
       "4               0.705156               0.699216               0.686553   \n",
       "\n",
       "   population_15_64_2016  population_15_64_2017  population_15_64_2018  \\\n",
       "0               0.579380               0.580242               0.579045   \n",
       "1               0.457328               0.450701               0.445245   \n",
       "2               0.285539               0.272741               0.262254   \n",
       "3               0.340926               0.314241               0.293626   \n",
       "4               0.667804               0.645718               0.623860   \n",
       "\n",
       "   population_15_64_2019  population_above_65_1990  population_above_65_1991  \\\n",
       "0               0.577074                  0.012636                  0.017593   \n",
       "1               0.441019                  0.546535                  0.548505   \n",
       "2               0.254212                  0.558785                  0.564143   \n",
       "3               0.278562                  0.467567                  0.478410   \n",
       "4               0.604828                  0.098896                  0.112927   \n",
       "\n",
       "   population_above_65_1992  population_above_65_1993  \\\n",
       "0                  0.024157                  0.032217   \n",
       "1                  0.550527                  0.552391   \n",
       "2                  0.570859                  0.578884   \n",
       "3                  0.492364                  0.509257   \n",
       "4                  0.131373                  0.153899   \n",
       "\n",
       "   population_above_65_1994  population_above_65_1995  \\\n",
       "0                  0.041217                  0.050369   \n",
       "1                  0.553993                  0.555438   \n",
       "2                  0.588000                  0.597920   \n",
       "3                  0.528265                  0.548188   \n",
       "4                  0.178966                  0.204416   \n",
       "\n",
       "   population_above_65_1996  population_above_65_1997  \\\n",
       "0                  0.059113                  0.067420   \n",
       "1                  0.556970                  0.558835   \n",
       "2                  0.608328                  0.618853   \n",
       "3                  0.567898                  0.586561   \n",
       "4                  0.228662                  0.251424   \n",
       "\n",
       "   population_above_65_1998  population_above_65_1999  \\\n",
       "0                  0.075772                  0.084915   \n",
       "1                  0.561273                  0.564575   \n",
       "2                  0.629073                  0.638608   \n",
       "3                  0.603668                  0.619014   \n",
       "4                  0.273590                  0.296528   \n",
       "\n",
       "   population_above_65_2000  population_above_65_2001  \\\n",
       "0                  0.095558                  0.108111   \n",
       "1                  0.569062                  0.574987   \n",
       "2                  0.647181                  0.654612   \n",
       "3                  0.632610                  0.644520   \n",
       "4                  0.321312                  0.348094   \n",
       "\n",
       "   population_above_65_2002  population_above_65_2003  \\\n",
       "0                  0.122620                  0.138928   \n",
       "1                  0.582512                  0.591791   \n",
       "2                  0.660778                  0.665602   \n",
       "3                  0.654784                  0.663518   \n",
       "4                  0.375853                  0.402668   \n",
       "\n",
       "   population_above_65_2004  population_above_65_2005  \\\n",
       "0                  0.156905                  0.176525   \n",
       "1                  0.603013                  0.616305   \n",
       "2                  0.669083                  0.671334   \n",
       "3                  0.671059                  0.677960   \n",
       "4                  0.426404                  0.445481   \n",
       "\n",
       "   population_above_65_2006  population_above_65_2007  \\\n",
       "0                  0.197731                  0.220282   \n",
       "1                  0.631538                  0.648217   \n",
       "2                  0.672630                  0.673466   \n",
       "3                  0.684868                  0.692466   \n",
       "4                  0.459362                  0.468649   \n",
       "\n",
       "   population_above_65_2008  population_above_65_2009  \\\n",
       "0                  0.243712                  0.267442   \n",
       "1                  0.665541                  0.682628   \n",
       "2                  0.674556                  0.676687   \n",
       "3                  0.701503                  0.712769   \n",
       "4                  0.474756                  0.479324   \n",
       "\n",
       "   population_above_65_2010  population_above_65_2011  \\\n",
       "0                  0.290978                  0.314084   \n",
       "1                  0.698753                  0.713485   \n",
       "2                  0.680491                  0.686248   \n",
       "3                  0.726887                  0.744005   \n",
       "4                  0.483687                  0.488725   \n",
       "\n",
       "   population_above_65_2012  population_above_65_2013  \\\n",
       "0                  0.336810                  0.359305   \n",
       "1                  0.726653                  0.738186   \n",
       "2                  0.693853                  0.702920   \n",
       "3                  0.763645                  0.784818   \n",
       "4                  0.495175                  0.504064   \n",
       "\n",
       "   population_above_65_2014  population_above_65_2015  \\\n",
       "0                  0.381510                  0.402959   \n",
       "1                  0.747967                  0.755831   \n",
       "2                  0.712936                  0.723316   \n",
       "3                  0.806296                  0.826789   \n",
       "4                  0.516726                  0.534026   \n",
       "\n",
       "   population_above_65_2016  population_above_65_2017  \\\n",
       "0                  0.422803                  0.440109   \n",
       "1                  0.761732                  0.765873   \n",
       "2                  0.733365                  0.742355   \n",
       "3                  0.845043                  0.860092   \n",
       "4                  0.555216                  0.577755   \n",
       "\n",
       "   population_above_65_2018  population_above_65_2019  \\\n",
       "0                  0.454281                  0.465287   \n",
       "1                  0.768659                  0.770519   \n",
       "2                  0.749773                  0.755500   \n",
       "3                  0.871592                  0.879878   \n",
       "4                  0.598665                  0.616073   \n",
       "\n",
       "   population_under_14_1990  population_under_14_1991  \\\n",
       "0                  0.995734                  0.995729   \n",
       "1                  0.197424                  0.201221   \n",
       "2                  0.238027                  0.237729   \n",
       "3                  0.336105                  0.324596   \n",
       "4                  0.524579                  0.513753   \n",
       "\n",
       "   population_under_14_1992  population_under_14_1993  \\\n",
       "0                  0.994572                  0.991197   \n",
       "1                  0.206259                  0.211953   \n",
       "2                  0.237565                  0.237497   \n",
       "3                  0.308926                  0.289056   \n",
       "4                  0.500164                  0.484368   \n",
       "\n",
       "   population_under_14_1994  population_under_14_1995  \\\n",
       "0                  0.984334                  0.973023   \n",
       "1                  0.216939                  0.219505   \n",
       "2                  0.237315                  0.236662   \n",
       "3                  0.265970                  0.241327   \n",
       "4                  0.467609                  0.451248   \n",
       "\n",
       "   population_under_14_1996  population_under_14_1997  \\\n",
       "0                  0.957114                  0.937232   \n",
       "1                  0.218434                  0.213568   \n",
       "2                  0.235203                  0.232792   \n",
       "3                  0.216636                  0.192698   \n",
       "4                  0.436010                  0.421648   \n",
       "\n",
       "   population_under_14_1998  population_under_14_1999  \\\n",
       "0                  0.914160                  0.888238   \n",
       "1                  0.205732                  0.196233   \n",
       "2                  0.229519                  0.225615   \n",
       "3                  0.169610                  0.147086   \n",
       "4                  0.407096                  0.390863   \n",
       "\n",
       "   population_under_14_2000  population_under_14_2001  \\\n",
       "0                  0.859300                  0.827098   \n",
       "1                  0.186293                  0.176682   \n",
       "2                  0.221360                  0.217024   \n",
       "3                  0.124866                  0.103029   \n",
       "4                  0.371552                  0.348399   \n",
       "\n",
       "   population_under_14_2002  population_under_14_2003  \\\n",
       "0                  0.791688                  0.753506   \n",
       "1                  0.167589                  0.158710   \n",
       "2                  0.212835                  0.208930   \n",
       "3                  0.082105                  0.062965   \n",
       "4                  0.321648                  0.292544   \n",
       "\n",
       "   population_under_14_2004  population_under_14_2005  \\\n",
       "0                  0.713215                  0.671584   \n",
       "1                  0.149491                  0.139441   \n",
       "2                  0.205337                  0.202010   \n",
       "3                  0.046582                  0.033729   \n",
       "4                  0.262932                  0.234670   \n",
       "\n",
       "   population_under_14_2006  population_under_14_2007  \\\n",
       "0                  0.629426                  0.587435   \n",
       "1                  0.128366                  0.116462   \n",
       "2                  0.198911                  0.196083   \n",
       "3                  0.024736                  0.019465   \n",
       "4                  0.209144                  0.187050   \n",
       "\n",
       "   population_under_14_2008  population_under_14_2009  \\\n",
       "0                  0.545933                  0.504796   \n",
       "1                  0.104251                  0.092413   \n",
       "2                  0.193670                  0.191880   \n",
       "3                  0.017496                  0.018350   \n",
       "4                  0.168456                  0.153080   \n",
       "\n",
       "   population_under_14_2010  population_under_14_2011  \\\n",
       "0                  0.463832                  0.423375   \n",
       "1                  0.081581                  0.072214   \n",
       "2                  0.190873                  0.190650   \n",
       "3                  0.021544                  0.026529   \n",
       "4                  0.140503                  0.130191   \n",
       "\n",
       "   population_under_14_2012  population_under_14_2013  \\\n",
       "0                  0.384540                  0.348857   \n",
       "1                  0.064591                  0.058877   \n",
       "2                  0.191043                  0.191811   \n",
       "3                  0.032689                  0.039408   \n",
       "4                  0.121482                  0.113741   \n",
       "\n",
       "   population_under_14_2014  population_under_14_2015  \\\n",
       "0                  0.317644                  0.291611   \n",
       "1                  0.055156                  0.053360   \n",
       "2                  0.192739                  0.193677   \n",
       "3                  0.046150                  0.052488   \n",
       "4                  0.106543                  0.099785   \n",
       "\n",
       "   population_under_14_2016  population_under_14_2017  \\\n",
       "0                  0.270832                  0.254917   \n",
       "1                  0.053158                  0.053973   \n",
       "2                  0.194523                  0.195218   \n",
       "3                  0.058112                  0.062836   \n",
       "4                  0.093699                  0.088676   \n",
       "\n",
       "   population_under_14_2018  population_under_14_2019  rgdpna_1990  \\\n",
       "0                  0.243172                  0.234755     0.001841   \n",
       "1                  0.055197                  0.056408     0.065337   \n",
       "2                  0.195742                  0.196110     0.074211   \n",
       "3                  0.066596                  0.069448     0.019227   \n",
       "4                  0.084941                  0.082397     0.000848   \n",
       "\n",
       "   rgdpna_1991  rgdpna_1992  rgdpna_1993  rgdpna_1994  rgdpna_1995  \\\n",
       "0     0.001765     0.001737     0.001777     0.001881     0.002025   \n",
       "1     0.066002     0.066856     0.067933     0.069252     0.070811   \n",
       "2     0.074676     0.075332     0.076252     0.077490     0.079054   \n",
       "3     0.018844     0.018506     0.018281     0.018175     0.018100   \n",
       "4     0.000845     0.000891     0.001037     0.001339     0.001827   \n",
       "\n",
       "   rgdpna_1996  rgdpna_1997  rgdpna_1998  rgdpna_1999  rgdpna_2000  \\\n",
       "0     0.002181     0.002346     0.002537     0.002765     0.003023   \n",
       "1     0.072594     0.074573     0.076684     0.078808     0.080817   \n",
       "2     0.080908     0.082994     0.085232     0.087506     0.089699   \n",
       "3     0.017941     0.017673     0.017407     0.017311     0.017512   \n",
       "4     0.002471     0.003181     0.003855     0.004424     0.004876   \n",
       "\n",
       "   rgdpna_2001  rgdpna_2002  rgdpna_2003  rgdpna_2004  rgdpna_2005  \\\n",
       "0     0.003292     0.003562     0.003832     0.004111     0.004403   \n",
       "1     0.082654     0.084384     0.086151     0.088068     0.090112   \n",
       "2     0.091765     0.093767     0.095832     0.098030     0.100295   \n",
       "3     0.018047     0.018882     0.019953     0.021191     0.022514   \n",
       "4     0.005243     0.005569     0.005890     0.006224     0.006566   \n",
       "\n",
       "   rgdpna_2006  rgdpna_2007  rgdpna_2008  rgdpna_2009  rgdpna_2010  \\\n",
       "0     0.004710     0.005021     0.005321     0.005590     0.005819   \n",
       "1     0.092096     0.093769     0.095009     0.095923     0.096735   \n",
       "2     0.102441     0.104277     0.105745     0.106964     0.108118   \n",
       "3     0.023803     0.024923     0.025773     0.026347     0.026730   \n",
       "4     0.006899     0.007190     0.007413     0.007561     0.007654   \n",
       "\n",
       "   rgdpna_2011  rgdpna_2012  rgdpna_2013  rgdpna_2014  rgdpna_2015  \\\n",
       "0     0.006008     0.006169     0.006318     0.006477     0.006654   \n",
       "1     0.097593     0.098505     0.099467     0.100542     0.101806   \n",
       "2     0.109321     0.110604     0.111983     0.113476     0.115059   \n",
       "3     0.027044     0.027395     0.027858     0.028474     0.029227   \n",
       "4     0.007727     0.007814     0.007937     0.008103     0.008308   \n",
       "\n",
       "   rgdpna_2016  rgdpna_2017  rgdpna_2018  rgdpna_2019  rgdpna_per_cap_1990  \\\n",
       "0     0.006843     0.007027     0.007186     0.007311             0.021368   \n",
       "1     0.103232     0.104671     0.105950     0.106973             0.367592   \n",
       "2     0.116634     0.118072     0.119279     0.120225             0.320918   \n",
       "3     0.030042     0.030815     0.031468     0.031975             0.086774   \n",
       "4     0.008532     0.008748     0.008934     0.009080             0.001290   \n",
       "\n",
       "   rgdpna_per_cap_1991  rgdpna_per_cap_1992  rgdpna_per_cap_1993  \\\n",
       "0             0.020529             0.020431             0.021354   \n",
       "1             0.370147             0.373416             0.377666   \n",
       "2             0.322417             0.324594             0.327801   \n",
       "3             0.085308             0.084256             0.083962   \n",
       "4             0.001582             0.002552             0.004789   \n",
       "\n",
       "   rgdpna_per_cap_1994  rgdpna_per_cap_1995  rgdpna_per_cap_1996  \\\n",
       "0             0.023224             0.025602             0.028058   \n",
       "1             0.383187             0.390200             0.398765   \n",
       "2             0.332357             0.338378             0.345755   \n",
       "3             0.084411             0.085058             0.085222   \n",
       "4             0.008933             0.015282             0.023418   \n",
       "\n",
       "   rgdpna_per_cap_1997  rgdpna_per_cap_1998  rgdpna_per_cap_1999  \\\n",
       "0             0.030538             0.033307             0.036574   \n",
       "1             0.408721             0.419568             0.430451   \n",
       "2             0.354210             0.363299             0.372403   \n",
       "3             0.084752             0.084256             0.084689   \n",
       "4             0.032251             0.040525             0.047428   \n",
       "\n",
       "   rgdpna_per_cap_2000  rgdpna_per_cap_2001  rgdpna_per_cap_2002  \\\n",
       "0             0.040276             0.044205             0.048231   \n",
       "1             0.440473             0.449217             0.457033   \n",
       "2             0.380904             0.388518             0.395492   \n",
       "3             0.086788             0.090792             0.096538   \n",
       "4             0.052852             0.057210             0.061077   \n",
       "\n",
       "   rgdpna_per_cap_2003  rgdpna_per_cap_2004  rgdpna_per_cap_2005  \\\n",
       "0             0.052386             0.056799             0.061579   \n",
       "1             0.464801             0.473268             0.482415   \n",
       "2             0.402364             0.409459             0.416528   \n",
       "3             0.103701             0.111908             0.120682   \n",
       "4             0.064899             0.068889             0.073036   \n",
       "\n",
       "   rgdpna_per_cap_2006  rgdpna_per_cap_2007  rgdpna_per_cap_2008  \\\n",
       "0             0.066729             0.072091             0.077376   \n",
       "1             0.491263             0.498422             0.503143   \n",
       "2             0.422818             0.427570             0.430613   \n",
       "3             0.129334             0.137041             0.143188   \n",
       "4             0.077137             0.080866             0.083949   \n",
       "\n",
       "   rgdpna_per_cap_2009  rgdpna_per_cap_2010  rgdpna_per_cap_2011  \\\n",
       "0             0.082257             0.086509             0.090083   \n",
       "1             0.505910             0.507871             0.509760   \n",
       "2             0.432525             0.434154             0.436032   \n",
       "3             0.147712             0.151114             0.154124   \n",
       "4             0.086373             0.088431             0.090560   \n",
       "\n",
       "   rgdpna_per_cap_2012  rgdpna_per_cap_2013  rgdpna_per_cap_2014  \\\n",
       "0             0.093119             0.095896             0.098716   \n",
       "1             0.511616             0.513405             0.515501   \n",
       "2             0.438304             0.441028             0.444284   \n",
       "3             0.157389             0.161389             0.166389   \n",
       "4             0.093135             0.096353             0.100214   \n",
       "\n",
       "   rgdpna_per_cap_2015  rgdpna_per_cap_2016  rgdpna_per_cap_2017  \\\n",
       "0             0.101742             0.104897             0.107907   \n",
       "1             0.518421             0.522248             0.526481   \n",
       "2             0.448006             0.451901             0.455569   \n",
       "3             0.172293             0.178574             0.184506   \n",
       "4             0.104520             0.108901             0.112924   \n",
       "\n",
       "   rgdpna_per_cap_2018  rgdpna_per_cap_2019  unemployment_1990  \\\n",
       "0             0.110490             0.112512           0.428295   \n",
       "1             0.530429             0.533652           0.081072   \n",
       "2             0.458712             0.461218           0.180469   \n",
       "3             0.189531             0.193455           0.351147   \n",
       "4             0.116279             0.118868           0.478147   \n",
       "\n",
       "   unemployment_1991  unemployment_1992  unemployment_1993  unemployment_1994  \\\n",
       "0           0.429421           0.430850           0.432400           0.433774   \n",
       "1           0.083429           0.086846           0.091647           0.097990   \n",
       "2           0.186445           0.195601           0.207191           0.218684   \n",
       "3           0.352147           0.353370           0.354552           0.355303   \n",
       "4           0.487349           0.500493           0.517732           0.538331   \n",
       "\n",
       "   unemployment_1995  unemployment_1996  unemployment_1997  unemployment_1998  \\\n",
       "0           0.434747           0.435303           0.435591           0.435761   \n",
       "1           0.105357           0.112228           0.116678           0.117701   \n",
       "2           0.226805           0.229316           0.225626           0.216440   \n",
       "3           0.355607           0.356729           0.361687           0.373679   \n",
       "4           0.561041           0.584828           0.609209           0.634056   \n",
       "\n",
       "   unemployment_1999  unemployment_2000  unemployment_2001  unemployment_2002  \\\n",
       "0           0.435867           0.435878           0.435674           0.434956   \n",
       "1           0.116071           0.113993           0.113748           0.116245   \n",
       "2           0.203874           0.191656           0.183788           0.182161   \n",
       "3           0.392215           0.410151           0.416091           0.401795   \n",
       "4           0.659332           0.684946           0.710594           0.735359   \n",
       "\n",
       "   unemployment_2003  unemployment_2004  unemployment_2005  unemployment_2006  \\\n",
       "0           0.433102           0.429092           0.421705           0.410322   \n",
       "1           0.120429           0.123990           0.124968           0.123115   \n",
       "2           0.185481           0.190505           0.194190           0.195259   \n",
       "3           0.367966           0.322993           0.277167           0.238836   \n",
       "4           0.757059           0.771764           0.774691           0.763493   \n",
       "\n",
       "   unemployment_2007  unemployment_2008  unemployment_2009  unemployment_2010  \\\n",
       "0           0.396068           0.382114           0.372389           0.369855   \n",
       "1           0.119898           0.117193           0.116025           0.116525   \n",
       "2           0.194477           0.193536           0.193522           0.194562   \n",
       "3           0.214269           0.207614           0.218752           0.241535   \n",
       "4           0.742212           0.721040           0.709836           0.710946   \n",
       "\n",
       "   unemployment_2011  unemployment_2012  unemployment_2013  unemployment_2014  \\\n",
       "0           0.375634           0.388251           0.402665           0.411298   \n",
       "1           0.118643           0.122319           0.126963           0.131215   \n",
       "2           0.196560           0.199344           0.201837           0.201887   \n",
       "3           0.265523           0.280386           0.279841           0.263397   \n",
       "4           0.718639           0.724496           0.721927           0.706770   \n",
       "\n",
       "   unemployment_2015  unemployment_2016  unemployment_2017  unemployment_2018  \\\n",
       "0           0.408362           0.393981           0.373580           0.353360   \n",
       "1           0.133500           0.132949           0.129903           0.125554   \n",
       "2           0.197607           0.188934           0.177746           0.166496   \n",
       "3           0.235830           0.204555           0.176050           0.153570   \n",
       "4           0.677252           0.635725           0.589120           0.545447   \n",
       "\n",
       "   unemployment_2019  urban_population_1990  urban_population_1991  \\\n",
       "0           0.336850               0.008616               0.012412   \n",
       "1           0.121115               0.424879               0.422767   \n",
       "2           0.156853               0.974730               0.975354   \n",
       "3           0.137345               0.492915               0.495214   \n",
       "4           0.509644               0.052536               0.054968   \n",
       "\n",
       "   urban_population_1992  urban_population_1993  urban_population_1994  \\\n",
       "0               0.017598               0.024219               0.032028   \n",
       "1               0.419998               0.416578               0.412639   \n",
       "2               0.976162               0.977147               0.978263   \n",
       "3               0.498079               0.501421               0.505049   \n",
       "4               0.058139               0.062039               0.066517   \n",
       "\n",
       "   urban_population_1995  urban_population_1996  urban_population_1997  \\\n",
       "0               0.040604               0.049588               0.058835   \n",
       "1               0.408382               0.403975               0.399512   \n",
       "2               0.979443               0.980635               0.981806   \n",
       "3               0.508772               0.512489               0.516199   \n",
       "4               0.071349               0.076345               0.081403   \n",
       "\n",
       "   urban_population_1998  urban_population_1999  urban_population_2000  \\\n",
       "0               0.068444               0.078729               0.090132   \n",
       "1               0.395026               0.390526               0.386015   \n",
       "2               0.982939               0.984024               0.985056   \n",
       "3               0.519967               0.523902               0.528131   \n",
       "4               0.086483               0.091576               0.096679   \n",
       "\n",
       "   urban_population_2001  urban_population_2002  urban_population_2003  \\\n",
       "0               0.103033               0.117533               0.133387   \n",
       "1               0.381492               0.376959               0.372416   \n",
       "2               0.986035               0.986970               0.987872   \n",
       "3               0.532753               0.537780               0.543131   \n",
       "4               0.101791               0.106914               0.112047   \n",
       "\n",
       "   urban_population_2004  urban_population_2005  urban_population_2006  \\\n",
       "0               0.150155               0.167421               0.184913   \n",
       "1               0.367863               0.363303               0.358747   \n",
       "2               0.988749               0.989606               0.990445   \n",
       "3               0.548678               0.554305               0.559942   \n",
       "4               0.117189               0.122340               0.127498   \n",
       "\n",
       "   urban_population_2007  urban_population_2008  urban_population_2009  \\\n",
       "0               0.202494               0.220102               0.237701   \n",
       "1               0.354232               0.349869               0.345900   \n",
       "2               0.991268               0.992075               0.992866   \n",
       "3               0.565554               0.571133               0.576678   \n",
       "4               0.132664               0.137836               0.143016   \n",
       "\n",
       "   urban_population_2010  urban_population_2011  urban_population_2012  \\\n",
       "0               0.255253               0.272705               0.289982   \n",
       "1               0.342712               0.340732               0.340222   \n",
       "2               0.993642               0.994402               0.995148   \n",
       "3               0.582196               0.587693               0.593178   \n",
       "4               0.148204               0.153406               0.158630   \n",
       "\n",
       "   urban_population_2013  urban_population_2014  urban_population_2015  \\\n",
       "0               0.306977               0.323506               0.339210   \n",
       "1               0.341118               0.343059               0.345558   \n",
       "2               0.995878               0.996586               0.997260   \n",
       "3               0.598648               0.604065               0.609316   \n",
       "4               0.163888               0.169168               0.174379   \n",
       "\n",
       "   urban_population_2016  urban_population_2017  urban_population_2018  \\\n",
       "0               0.353500               0.365721               0.375490   \n",
       "1               0.348165               0.350552               0.352539   \n",
       "2               0.997875               0.998402               0.998825   \n",
       "3               0.614189               0.618431               0.621871   \n",
       "4               0.179315               0.183698               0.187315   \n",
       "\n",
       "   urban_population_2019   xr_1990   xr_1991   xr_1992   xr_1993   xr_1994  \\\n",
       "0               0.382868  0.088576  0.122181  0.167289  0.221561  0.279895   \n",
       "1               0.354085  0.002848  0.002840  0.002825  0.002807  0.002796   \n",
       "2               0.999144  0.002852  0.002844  0.002831  0.002812  0.002800   \n",
       "3               0.624500  0.000066  0.000102  0.000185  0.000383  0.000805   \n",
       "4               0.190119  0.000347  0.000663  0.001189  0.001954  0.002904   \n",
       "\n",
       "    xr_1995   xr_1996   xr_1997   xr_1998   xr_1999   xr_2000   xr_2001  \\\n",
       "0  0.337093  0.389173  0.432084  0.461750  0.476387  0.477083  0.465807   \n",
       "1  0.002813  0.002878  0.002996  0.003150  0.003304  0.003410  0.003425   \n",
       "2  0.002814  0.002878  0.002995  0.003150  0.003303  0.003409  0.003425   \n",
       "3  0.001556  0.002638  0.003891  0.005064  0.005955  0.006478  0.006641   \n",
       "4  0.003896  0.004781  0.005489  0.006028  0.006423  0.006659  0.006697   \n",
       "\n",
       "    xr_2002   xr_2003   xr_2004   xr_2005   xr_2006   xr_2007   xr_2008  \\\n",
       "0  0.444503  0.416412  0.386638  0.360369  0.340982  0.329962  0.327491   \n",
       "1  0.003338  0.003176  0.002992  0.002826  0.002695  0.002602  0.002546   \n",
       "2  0.003338  0.003176  0.002992  0.002826  0.002695  0.002602  0.002546   \n",
       "3  0.006513  0.006209  0.005851  0.005528  0.005273  0.005090  0.004981   \n",
       "4  0.006528  0.006212  0.005851  0.005527  0.005271  0.005089  0.004980   \n",
       "\n",
       "    xr_2009   xr_2010   xr_2011   xr_2012   xr_2013   xr_2014   xr_2015  \\\n",
       "0  0.332258  0.341471  0.352264  0.363318  0.374722  0.386101  0.395354   \n",
       "1  0.002528  0.002540  0.002574  0.002627  0.002699  0.002789  0.002879   \n",
       "2  0.002528  0.002540  0.002574  0.002627  0.002699  0.002789  0.002879   \n",
       "3  0.004945  0.004969  0.005035  0.005138  0.005281  0.005456  0.005634   \n",
       "4  0.004944  0.004968  0.005035  0.005138  0.005280  0.005455  0.005633   \n",
       "\n",
       "    xr_2016   xr_2017   xr_2018   xr_2019  \n",
       "0  0.399922  0.399219  0.395082  0.389998  \n",
       "1  0.002950  0.002992  0.003010  0.003017  \n",
       "2  0.002950  0.002992  0.003010  0.003017  \n",
       "3  0.005774  0.005856  0.005892  0.005904  \n",
       "4  0.005773  0.005856  0.005892  0.005904  "
      ]
     },
     "execution_count": 2,
     "metadata": {},
     "output_type": "execute_result"
    }
   ],
   "source": [
    "data_flat = pd.read_csv('data/data_flat.csv')\n",
    "data_flat.head()"
   ]
  },
  {
   "cell_type": "code",
   "execution_count": 4,
   "metadata": {},
   "outputs": [
    {
     "data": {
      "text/html": [
       "<div>\n",
       "<style scoped>\n",
       "    .dataframe tbody tr th:only-of-type {\n",
       "        vertical-align: middle;\n",
       "    }\n",
       "\n",
       "    .dataframe tbody tr th {\n",
       "        vertical-align: top;\n",
       "    }\n",
       "\n",
       "    .dataframe thead th {\n",
       "        text-align: right;\n",
       "    }\n",
       "</style>\n",
       "<table border=\"1\" class=\"dataframe\">\n",
       "  <thead>\n",
       "    <tr style=\"text-align: right;\">\n",
       "      <th></th>\n",
       "      <th>countrycode</th>\n",
       "      <th>country</th>\n",
       "      <th>year</th>\n",
       "      <th>pop</th>\n",
       "      <th>rgdpna</th>\n",
       "      <th>delta</th>\n",
       "      <th>xr</th>\n",
       "      <th>csh_c</th>\n",
       "      <th>csh_i</th>\n",
       "      <th>csh_g</th>\n",
       "      <th>csh_x</th>\n",
       "      <th>csh_m</th>\n",
       "      <th>csh_r</th>\n",
       "      <th>rgdpna_per_cap</th>\n",
       "      <th>emp_percent</th>\n",
       "      <th>co2_emission</th>\n",
       "      <th>employment_agro</th>\n",
       "      <th>employment_industry</th>\n",
       "      <th>employment_services</th>\n",
       "      <th>export</th>\n",
       "      <th>import</th>\n",
       "      <th>inflation</th>\n",
       "      <th>net_migration</th>\n",
       "      <th>population_15_64</th>\n",
       "      <th>population_above_65</th>\n",
       "      <th>population_under_14</th>\n",
       "      <th>unemployment</th>\n",
       "      <th>urban_population</th>\n",
       "      <th>hdi</th>\n",
       "    </tr>\n",
       "  </thead>\n",
       "  <tbody>\n",
       "    <tr>\n",
       "      <th>0</th>\n",
       "      <td>ALB</td>\n",
       "      <td>Albania</td>\n",
       "      <td>1990</td>\n",
       "      <td>0.020266</td>\n",
       "      <td>0.001841</td>\n",
       "      <td>0.151999</td>\n",
       "      <td>0.088576</td>\n",
       "      <td>0.475201</td>\n",
       "      <td>0.093659</td>\n",
       "      <td>0.317663</td>\n",
       "      <td>0.018863</td>\n",
       "      <td>0.954592</td>\n",
       "      <td>0.158237</td>\n",
       "      <td>0.021368</td>\n",
       "      <td>0.466870</td>\n",
       "      <td>0.040463</td>\n",
       "      <td>0.995473</td>\n",
       "      <td>0.023282</td>\n",
       "      <td>0.040798</td>\n",
       "      <td>0.035778</td>\n",
       "      <td>0.234066</td>\n",
       "      <td>0.026795</td>\n",
       "      <td>0.093730</td>\n",
       "      <td>0.045050</td>\n",
       "      <td>0.012636</td>\n",
       "      <td>0.995734</td>\n",
       "      <td>0.428295</td>\n",
       "      <td>0.008616</td>\n",
       "      <td>0.051255</td>\n",
       "    </tr>\n",
       "    <tr>\n",
       "      <th>1</th>\n",
       "      <td>ALB</td>\n",
       "      <td>Albania</td>\n",
       "      <td>1991</td>\n",
       "      <td>0.020158</td>\n",
       "      <td>0.001765</td>\n",
       "      <td>0.146769</td>\n",
       "      <td>0.122181</td>\n",
       "      <td>0.484793</td>\n",
       "      <td>0.087354</td>\n",
       "      <td>0.330491</td>\n",
       "      <td>0.018106</td>\n",
       "      <td>0.947753</td>\n",
       "      <td>0.157691</td>\n",
       "      <td>0.020529</td>\n",
       "      <td>0.450952</td>\n",
       "      <td>0.035597</td>\n",
       "      <td>0.993862</td>\n",
       "      <td>0.023786</td>\n",
       "      <td>0.042039</td>\n",
       "      <td>0.035841</td>\n",
       "      <td>0.258771</td>\n",
       "      <td>0.030538</td>\n",
       "      <td>0.097011</td>\n",
       "      <td>0.038567</td>\n",
       "      <td>0.017593</td>\n",
       "      <td>0.995729</td>\n",
       "      <td>0.429421</td>\n",
       "      <td>0.012412</td>\n",
       "      <td>0.042410</td>\n",
       "    </tr>\n",
       "    <tr>\n",
       "      <th>2</th>\n",
       "      <td>ALB</td>\n",
       "      <td>Albania</td>\n",
       "      <td>1992</td>\n",
       "      <td>0.020010</td>\n",
       "      <td>0.001737</td>\n",
       "      <td>0.140639</td>\n",
       "      <td>0.167289</td>\n",
       "      <td>0.487556</td>\n",
       "      <td>0.087580</td>\n",
       "      <td>0.339263</td>\n",
       "      <td>0.016650</td>\n",
       "      <td>0.942814</td>\n",
       "      <td>0.164122</td>\n",
       "      <td>0.020431</td>\n",
       "      <td>0.434157</td>\n",
       "      <td>0.030689</td>\n",
       "      <td>0.990899</td>\n",
       "      <td>0.024757</td>\n",
       "      <td>0.044296</td>\n",
       "      <td>0.036417</td>\n",
       "      <td>0.272822</td>\n",
       "      <td>0.032010</td>\n",
       "      <td>0.102411</td>\n",
       "      <td>0.031683</td>\n",
       "      <td>0.024157</td>\n",
       "      <td>0.994572</td>\n",
       "      <td>0.430850</td>\n",
       "      <td>0.017598</td>\n",
       "      <td>0.036869</td>\n",
       "    </tr>\n",
       "    <tr>\n",
       "      <th>3</th>\n",
       "      <td>ALB</td>\n",
       "      <td>Albania</td>\n",
       "      <td>1993</td>\n",
       "      <td>0.019828</td>\n",
       "      <td>0.001777</td>\n",
       "      <td>0.134270</td>\n",
       "      <td>0.221561</td>\n",
       "      <td>0.479223</td>\n",
       "      <td>0.095106</td>\n",
       "      <td>0.348672</td>\n",
       "      <td>0.014622</td>\n",
       "      <td>0.940917</td>\n",
       "      <td>0.179091</td>\n",
       "      <td>0.021354</td>\n",
       "      <td>0.419071</td>\n",
       "      <td>0.026408</td>\n",
       "      <td>0.986223</td>\n",
       "      <td>0.026156</td>\n",
       "      <td>0.047938</td>\n",
       "      <td>0.036917</td>\n",
       "      <td>0.269351</td>\n",
       "      <td>0.030130</td>\n",
       "      <td>0.110334</td>\n",
       "      <td>0.026117</td>\n",
       "      <td>0.032217</td>\n",
       "      <td>0.991197</td>\n",
       "      <td>0.432400</td>\n",
       "      <td>0.024219</td>\n",
       "      <td>0.037571</td>\n",
       "    </tr>\n",
       "    <tr>\n",
       "      <th>4</th>\n",
       "      <td>ALB</td>\n",
       "      <td>Albania</td>\n",
       "      <td>1994</td>\n",
       "      <td>0.019638</td>\n",
       "      <td>0.001881</td>\n",
       "      <td>0.128552</td>\n",
       "      <td>0.279895</td>\n",
       "      <td>0.459342</td>\n",
       "      <td>0.107618</td>\n",
       "      <td>0.369705</td>\n",
       "      <td>0.012502</td>\n",
       "      <td>0.941699</td>\n",
       "      <td>0.198760</td>\n",
       "      <td>0.023224</td>\n",
       "      <td>0.407361</td>\n",
       "      <td>0.023288</td>\n",
       "      <td>0.979889</td>\n",
       "      <td>0.027685</td>\n",
       "      <td>0.053085</td>\n",
       "      <td>0.036798</td>\n",
       "      <td>0.249430</td>\n",
       "      <td>0.025328</td>\n",
       "      <td>0.120462</td>\n",
       "      <td>0.024476</td>\n",
       "      <td>0.041217</td>\n",
       "      <td>0.984334</td>\n",
       "      <td>0.433774</td>\n",
       "      <td>0.032028</td>\n",
       "      <td>0.045982</td>\n",
       "    </tr>\n",
       "  </tbody>\n",
       "</table>\n",
       "</div>"
      ],
      "text/plain": [
       "  countrycode  country  year       pop    rgdpna     delta        xr  \\\n",
       "0         ALB  Albania  1990  0.020266  0.001841  0.151999  0.088576   \n",
       "1         ALB  Albania  1991  0.020158  0.001765  0.146769  0.122181   \n",
       "2         ALB  Albania  1992  0.020010  0.001737  0.140639  0.167289   \n",
       "3         ALB  Albania  1993  0.019828  0.001777  0.134270  0.221561   \n",
       "4         ALB  Albania  1994  0.019638  0.001881  0.128552  0.279895   \n",
       "\n",
       "      csh_c     csh_i     csh_g     csh_x     csh_m     csh_r  rgdpna_per_cap  \\\n",
       "0  0.475201  0.093659  0.317663  0.018863  0.954592  0.158237        0.021368   \n",
       "1  0.484793  0.087354  0.330491  0.018106  0.947753  0.157691        0.020529   \n",
       "2  0.487556  0.087580  0.339263  0.016650  0.942814  0.164122        0.020431   \n",
       "3  0.479223  0.095106  0.348672  0.014622  0.940917  0.179091        0.021354   \n",
       "4  0.459342  0.107618  0.369705  0.012502  0.941699  0.198760        0.023224   \n",
       "\n",
       "   emp_percent  co2_emission  employment_agro  employment_industry  \\\n",
       "0     0.466870      0.040463         0.995473             0.023282   \n",
       "1     0.450952      0.035597         0.993862             0.023786   \n",
       "2     0.434157      0.030689         0.990899             0.024757   \n",
       "3     0.419071      0.026408         0.986223             0.026156   \n",
       "4     0.407361      0.023288         0.979889             0.027685   \n",
       "\n",
       "   employment_services    export    import  inflation  net_migration  \\\n",
       "0             0.040798  0.035778  0.234066   0.026795       0.093730   \n",
       "1             0.042039  0.035841  0.258771   0.030538       0.097011   \n",
       "2             0.044296  0.036417  0.272822   0.032010       0.102411   \n",
       "3             0.047938  0.036917  0.269351   0.030130       0.110334   \n",
       "4             0.053085  0.036798  0.249430   0.025328       0.120462   \n",
       "\n",
       "   population_15_64  population_above_65  population_under_14  unemployment  \\\n",
       "0          0.045050             0.012636             0.995734      0.428295   \n",
       "1          0.038567             0.017593             0.995729      0.429421   \n",
       "2          0.031683             0.024157             0.994572      0.430850   \n",
       "3          0.026117             0.032217             0.991197      0.432400   \n",
       "4          0.024476             0.041217             0.984334      0.433774   \n",
       "\n",
       "   urban_population       hdi  \n",
       "0          0.008616  0.051255  \n",
       "1          0.012412  0.042410  \n",
       "2          0.017598  0.036869  \n",
       "3          0.024219  0.037571  \n",
       "4          0.032028  0.045982  "
      ]
     },
     "execution_count": 4,
     "metadata": {},
     "output_type": "execute_result"
    }
   ],
   "source": [
    "data = pd.read_csv('data/data.csv')\n",
    "data.head()"
   ]
  },
  {
   "cell_type": "markdown",
   "metadata": {},
   "source": [
    "### KMeans"
   ]
  },
  {
   "cell_type": "code",
   "execution_count": 11,
   "metadata": {},
   "outputs": [],
   "source": [
    "kmeans = KMeans(n_clusters=4)\n",
    "y_kmeans = kmeans.fit_predict(data_flat.iloc[:, 2:])"
   ]
  },
  {
   "cell_type": "code",
   "execution_count": 12,
   "metadata": {},
   "outputs": [
    {
     "data": {
      "application/vnd.plotly.v1+json": {
       "config": {
        "plotlyServerURL": "https://plot.ly"
       },
       "data": [
        {
         "coloraxis": "coloraxis",
         "geo": "geo",
         "hovertemplate": "countrycode=%{location}<br>color=%{z}<extra></extra>",
         "locations": [
          "ALB",
          "AUT",
          "BEL",
          "BGR",
          "BIH",
          "BLR",
          "CHE",
          "CZE",
          "DEU",
          "DNK",
          "ESP",
          "EST",
          "FIN",
          "FRA",
          "GBR",
          "GRC",
          "HRV",
          "HUN",
          "IRL",
          "ISL",
          "ITA",
          "LTU",
          "LUX",
          "LVA",
          "MDA",
          "MKD",
          "MLT",
          "MNE",
          "NLD",
          "NOR",
          "POL",
          "PRT",
          "ROU",
          "RUS",
          "SRB",
          "SVK",
          "SVN",
          "SWE",
          "UKR"
         ],
         "name": "",
         "type": "choropleth",
         "z": [
          2,
          1,
          1,
          3,
          2,
          3,
          1,
          3,
          0,
          1,
          0,
          3,
          1,
          0,
          0,
          3,
          3,
          3,
          1,
          1,
          0,
          3,
          1,
          3,
          2,
          2,
          1,
          3,
          1,
          1,
          3,
          3,
          2,
          0,
          2,
          3,
          3,
          1,
          3
         ]
        }
       ],
       "layout": {
        "coloraxis": {
         "colorbar": {
          "title": {
           "text": "color"
          }
         },
         "colorscale": [
          [
           0,
           "#0d0887"
          ],
          [
           0.1111111111111111,
           "#46039f"
          ],
          [
           0.2222222222222222,
           "#7201a8"
          ],
          [
           0.3333333333333333,
           "#9c179e"
          ],
          [
           0.4444444444444444,
           "#bd3786"
          ],
          [
           0.5555555555555556,
           "#d8576b"
          ],
          [
           0.6666666666666666,
           "#ed7953"
          ],
          [
           0.7777777777777778,
           "#fb9f3a"
          ],
          [
           0.8888888888888888,
           "#fdca26"
          ],
          [
           1,
           "#f0f921"
          ]
         ]
        },
        "geo": {
         "center": {},
         "domain": {
          "x": [
           0,
           1
          ],
          "y": [
           0,
           1
          ]
         },
         "lataxis": {
          "range": [
           35,
           75
          ]
         },
         "lonaxis": {
          "range": [
           -15,
           45
          ]
         },
         "projection": {
          "type": "conic conformal"
         }
        },
        "legend": {
         "tracegroupgap": 0
        },
        "margin": {
         "t": 60
        },
        "template": {
         "data": {
          "bar": [
           {
            "error_x": {
             "color": "#2a3f5f"
            },
            "error_y": {
             "color": "#2a3f5f"
            },
            "marker": {
             "line": {
              "color": "#E5ECF6",
              "width": 0.5
             },
             "pattern": {
              "fillmode": "overlay",
              "size": 10,
              "solidity": 0.2
             }
            },
            "type": "bar"
           }
          ],
          "barpolar": [
           {
            "marker": {
             "line": {
              "color": "#E5ECF6",
              "width": 0.5
             },
             "pattern": {
              "fillmode": "overlay",
              "size": 10,
              "solidity": 0.2
             }
            },
            "type": "barpolar"
           }
          ],
          "carpet": [
           {
            "aaxis": {
             "endlinecolor": "#2a3f5f",
             "gridcolor": "white",
             "linecolor": "white",
             "minorgridcolor": "white",
             "startlinecolor": "#2a3f5f"
            },
            "baxis": {
             "endlinecolor": "#2a3f5f",
             "gridcolor": "white",
             "linecolor": "white",
             "minorgridcolor": "white",
             "startlinecolor": "#2a3f5f"
            },
            "type": "carpet"
           }
          ],
          "choropleth": [
           {
            "colorbar": {
             "outlinewidth": 0,
             "ticks": ""
            },
            "type": "choropleth"
           }
          ],
          "contour": [
           {
            "colorbar": {
             "outlinewidth": 0,
             "ticks": ""
            },
            "colorscale": [
             [
              0,
              "#0d0887"
             ],
             [
              0.1111111111111111,
              "#46039f"
             ],
             [
              0.2222222222222222,
              "#7201a8"
             ],
             [
              0.3333333333333333,
              "#9c179e"
             ],
             [
              0.4444444444444444,
              "#bd3786"
             ],
             [
              0.5555555555555556,
              "#d8576b"
             ],
             [
              0.6666666666666666,
              "#ed7953"
             ],
             [
              0.7777777777777778,
              "#fb9f3a"
             ],
             [
              0.8888888888888888,
              "#fdca26"
             ],
             [
              1,
              "#f0f921"
             ]
            ],
            "type": "contour"
           }
          ],
          "contourcarpet": [
           {
            "colorbar": {
             "outlinewidth": 0,
             "ticks": ""
            },
            "type": "contourcarpet"
           }
          ],
          "heatmap": [
           {
            "colorbar": {
             "outlinewidth": 0,
             "ticks": ""
            },
            "colorscale": [
             [
              0,
              "#0d0887"
             ],
             [
              0.1111111111111111,
              "#46039f"
             ],
             [
              0.2222222222222222,
              "#7201a8"
             ],
             [
              0.3333333333333333,
              "#9c179e"
             ],
             [
              0.4444444444444444,
              "#bd3786"
             ],
             [
              0.5555555555555556,
              "#d8576b"
             ],
             [
              0.6666666666666666,
              "#ed7953"
             ],
             [
              0.7777777777777778,
              "#fb9f3a"
             ],
             [
              0.8888888888888888,
              "#fdca26"
             ],
             [
              1,
              "#f0f921"
             ]
            ],
            "type": "heatmap"
           }
          ],
          "heatmapgl": [
           {
            "colorbar": {
             "outlinewidth": 0,
             "ticks": ""
            },
            "colorscale": [
             [
              0,
              "#0d0887"
             ],
             [
              0.1111111111111111,
              "#46039f"
             ],
             [
              0.2222222222222222,
              "#7201a8"
             ],
             [
              0.3333333333333333,
              "#9c179e"
             ],
             [
              0.4444444444444444,
              "#bd3786"
             ],
             [
              0.5555555555555556,
              "#d8576b"
             ],
             [
              0.6666666666666666,
              "#ed7953"
             ],
             [
              0.7777777777777778,
              "#fb9f3a"
             ],
             [
              0.8888888888888888,
              "#fdca26"
             ],
             [
              1,
              "#f0f921"
             ]
            ],
            "type": "heatmapgl"
           }
          ],
          "histogram": [
           {
            "marker": {
             "pattern": {
              "fillmode": "overlay",
              "size": 10,
              "solidity": 0.2
             }
            },
            "type": "histogram"
           }
          ],
          "histogram2d": [
           {
            "colorbar": {
             "outlinewidth": 0,
             "ticks": ""
            },
            "colorscale": [
             [
              0,
              "#0d0887"
             ],
             [
              0.1111111111111111,
              "#46039f"
             ],
             [
              0.2222222222222222,
              "#7201a8"
             ],
             [
              0.3333333333333333,
              "#9c179e"
             ],
             [
              0.4444444444444444,
              "#bd3786"
             ],
             [
              0.5555555555555556,
              "#d8576b"
             ],
             [
              0.6666666666666666,
              "#ed7953"
             ],
             [
              0.7777777777777778,
              "#fb9f3a"
             ],
             [
              0.8888888888888888,
              "#fdca26"
             ],
             [
              1,
              "#f0f921"
             ]
            ],
            "type": "histogram2d"
           }
          ],
          "histogram2dcontour": [
           {
            "colorbar": {
             "outlinewidth": 0,
             "ticks": ""
            },
            "colorscale": [
             [
              0,
              "#0d0887"
             ],
             [
              0.1111111111111111,
              "#46039f"
             ],
             [
              0.2222222222222222,
              "#7201a8"
             ],
             [
              0.3333333333333333,
              "#9c179e"
             ],
             [
              0.4444444444444444,
              "#bd3786"
             ],
             [
              0.5555555555555556,
              "#d8576b"
             ],
             [
              0.6666666666666666,
              "#ed7953"
             ],
             [
              0.7777777777777778,
              "#fb9f3a"
             ],
             [
              0.8888888888888888,
              "#fdca26"
             ],
             [
              1,
              "#f0f921"
             ]
            ],
            "type": "histogram2dcontour"
           }
          ],
          "mesh3d": [
           {
            "colorbar": {
             "outlinewidth": 0,
             "ticks": ""
            },
            "type": "mesh3d"
           }
          ],
          "parcoords": [
           {
            "line": {
             "colorbar": {
              "outlinewidth": 0,
              "ticks": ""
             }
            },
            "type": "parcoords"
           }
          ],
          "pie": [
           {
            "automargin": true,
            "type": "pie"
           }
          ],
          "scatter": [
           {
            "marker": {
             "colorbar": {
              "outlinewidth": 0,
              "ticks": ""
             }
            },
            "type": "scatter"
           }
          ],
          "scatter3d": [
           {
            "line": {
             "colorbar": {
              "outlinewidth": 0,
              "ticks": ""
             }
            },
            "marker": {
             "colorbar": {
              "outlinewidth": 0,
              "ticks": ""
             }
            },
            "type": "scatter3d"
           }
          ],
          "scattercarpet": [
           {
            "marker": {
             "colorbar": {
              "outlinewidth": 0,
              "ticks": ""
             }
            },
            "type": "scattercarpet"
           }
          ],
          "scattergeo": [
           {
            "marker": {
             "colorbar": {
              "outlinewidth": 0,
              "ticks": ""
             }
            },
            "type": "scattergeo"
           }
          ],
          "scattergl": [
           {
            "marker": {
             "colorbar": {
              "outlinewidth": 0,
              "ticks": ""
             }
            },
            "type": "scattergl"
           }
          ],
          "scattermapbox": [
           {
            "marker": {
             "colorbar": {
              "outlinewidth": 0,
              "ticks": ""
             }
            },
            "type": "scattermapbox"
           }
          ],
          "scatterpolar": [
           {
            "marker": {
             "colorbar": {
              "outlinewidth": 0,
              "ticks": ""
             }
            },
            "type": "scatterpolar"
           }
          ],
          "scatterpolargl": [
           {
            "marker": {
             "colorbar": {
              "outlinewidth": 0,
              "ticks": ""
             }
            },
            "type": "scatterpolargl"
           }
          ],
          "scatterternary": [
           {
            "marker": {
             "colorbar": {
              "outlinewidth": 0,
              "ticks": ""
             }
            },
            "type": "scatterternary"
           }
          ],
          "surface": [
           {
            "colorbar": {
             "outlinewidth": 0,
             "ticks": ""
            },
            "colorscale": [
             [
              0,
              "#0d0887"
             ],
             [
              0.1111111111111111,
              "#46039f"
             ],
             [
              0.2222222222222222,
              "#7201a8"
             ],
             [
              0.3333333333333333,
              "#9c179e"
             ],
             [
              0.4444444444444444,
              "#bd3786"
             ],
             [
              0.5555555555555556,
              "#d8576b"
             ],
             [
              0.6666666666666666,
              "#ed7953"
             ],
             [
              0.7777777777777778,
              "#fb9f3a"
             ],
             [
              0.8888888888888888,
              "#fdca26"
             ],
             [
              1,
              "#f0f921"
             ]
            ],
            "type": "surface"
           }
          ],
          "table": [
           {
            "cells": {
             "fill": {
              "color": "#EBF0F8"
             },
             "line": {
              "color": "white"
             }
            },
            "header": {
             "fill": {
              "color": "#C8D4E3"
             },
             "line": {
              "color": "white"
             }
            },
            "type": "table"
           }
          ]
         },
         "layout": {
          "annotationdefaults": {
           "arrowcolor": "#2a3f5f",
           "arrowhead": 0,
           "arrowwidth": 1
          },
          "autotypenumbers": "strict",
          "coloraxis": {
           "colorbar": {
            "outlinewidth": 0,
            "ticks": ""
           }
          },
          "colorscale": {
           "diverging": [
            [
             0,
             "#8e0152"
            ],
            [
             0.1,
             "#c51b7d"
            ],
            [
             0.2,
             "#de77ae"
            ],
            [
             0.3,
             "#f1b6da"
            ],
            [
             0.4,
             "#fde0ef"
            ],
            [
             0.5,
             "#f7f7f7"
            ],
            [
             0.6,
             "#e6f5d0"
            ],
            [
             0.7,
             "#b8e186"
            ],
            [
             0.8,
             "#7fbc41"
            ],
            [
             0.9,
             "#4d9221"
            ],
            [
             1,
             "#276419"
            ]
           ],
           "sequential": [
            [
             0,
             "#0d0887"
            ],
            [
             0.1111111111111111,
             "#46039f"
            ],
            [
             0.2222222222222222,
             "#7201a8"
            ],
            [
             0.3333333333333333,
             "#9c179e"
            ],
            [
             0.4444444444444444,
             "#bd3786"
            ],
            [
             0.5555555555555556,
             "#d8576b"
            ],
            [
             0.6666666666666666,
             "#ed7953"
            ],
            [
             0.7777777777777778,
             "#fb9f3a"
            ],
            [
             0.8888888888888888,
             "#fdca26"
            ],
            [
             1,
             "#f0f921"
            ]
           ],
           "sequentialminus": [
            [
             0,
             "#0d0887"
            ],
            [
             0.1111111111111111,
             "#46039f"
            ],
            [
             0.2222222222222222,
             "#7201a8"
            ],
            [
             0.3333333333333333,
             "#9c179e"
            ],
            [
             0.4444444444444444,
             "#bd3786"
            ],
            [
             0.5555555555555556,
             "#d8576b"
            ],
            [
             0.6666666666666666,
             "#ed7953"
            ],
            [
             0.7777777777777778,
             "#fb9f3a"
            ],
            [
             0.8888888888888888,
             "#fdca26"
            ],
            [
             1,
             "#f0f921"
            ]
           ]
          },
          "colorway": [
           "#636efa",
           "#EF553B",
           "#00cc96",
           "#ab63fa",
           "#FFA15A",
           "#19d3f3",
           "#FF6692",
           "#B6E880",
           "#FF97FF",
           "#FECB52"
          ],
          "font": {
           "color": "#2a3f5f"
          },
          "geo": {
           "bgcolor": "white",
           "lakecolor": "white",
           "landcolor": "#E5ECF6",
           "showlakes": true,
           "showland": true,
           "subunitcolor": "white"
          },
          "hoverlabel": {
           "align": "left"
          },
          "hovermode": "closest",
          "mapbox": {
           "style": "light"
          },
          "paper_bgcolor": "white",
          "plot_bgcolor": "#E5ECF6",
          "polar": {
           "angularaxis": {
            "gridcolor": "white",
            "linecolor": "white",
            "ticks": ""
           },
           "bgcolor": "#E5ECF6",
           "radialaxis": {
            "gridcolor": "white",
            "linecolor": "white",
            "ticks": ""
           }
          },
          "scene": {
           "xaxis": {
            "backgroundcolor": "#E5ECF6",
            "gridcolor": "white",
            "gridwidth": 2,
            "linecolor": "white",
            "showbackground": true,
            "ticks": "",
            "zerolinecolor": "white"
           },
           "yaxis": {
            "backgroundcolor": "#E5ECF6",
            "gridcolor": "white",
            "gridwidth": 2,
            "linecolor": "white",
            "showbackground": true,
            "ticks": "",
            "zerolinecolor": "white"
           },
           "zaxis": {
            "backgroundcolor": "#E5ECF6",
            "gridcolor": "white",
            "gridwidth": 2,
            "linecolor": "white",
            "showbackground": true,
            "ticks": "",
            "zerolinecolor": "white"
           }
          },
          "shapedefaults": {
           "line": {
            "color": "#2a3f5f"
           }
          },
          "ternary": {
           "aaxis": {
            "gridcolor": "white",
            "linecolor": "white",
            "ticks": ""
           },
           "baxis": {
            "gridcolor": "white",
            "linecolor": "white",
            "ticks": ""
           },
           "bgcolor": "#E5ECF6",
           "caxis": {
            "gridcolor": "white",
            "linecolor": "white",
            "ticks": ""
           }
          },
          "title": {
           "x": 0.05
          },
          "xaxis": {
           "automargin": true,
           "gridcolor": "white",
           "linecolor": "white",
           "ticks": "",
           "title": {
            "standoff": 15
           },
           "zerolinecolor": "white",
           "zerolinewidth": 2
          },
          "yaxis": {
           "automargin": true,
           "gridcolor": "white",
           "linecolor": "white",
           "ticks": "",
           "title": {
            "standoff": 15
           },
           "zerolinecolor": "white",
           "zerolinewidth": 2
          }
         }
        }
       }
      }
     },
     "metadata": {},
     "output_type": "display_data"
    }
   ],
   "source": [
    "fig = px.choropleth(data_flat, locations = 'countrycode', color = y_kmeans, projection='conic conformal')\n",
    "fig.update_geos(\n",
    "    lataxis_range=[35, 75], lonaxis_range=[-15, 45]\n",
    ")\n",
    "fig.show()"
   ]
  },
  {
   "cell_type": "code",
   "execution_count": 13,
   "metadata": {},
   "outputs": [],
   "source": [
    "k_max = 10\n",
    "inertias = []\n",
    "for k in range(1, k_max+1):\n",
    "    kmeans = KMeans(n_clusters = k, random_state = 0)\n",
    "    kmeans.fit(data_flat.iloc[:, 2:])\n",
    "    inertias.append(kmeans.inertia_)"
   ]
  },
  {
   "cell_type": "code",
   "execution_count": 14,
   "metadata": {},
   "outputs": [
    {
     "data": {
      "image/png": "[encoded data removed]",
      "text/plain": [
       "<Figure size 648x432 with 1 Axes>"
      ]
     },
     "metadata": {
      "needs_background": "light"
     },
     "output_type": "display_data"
    }
   ],
   "source": [
    "elbow = plt.plot(list(range(1, len(inertias) + 1)), inertias, '-o')\n",
    "plt.title('Elbow Method showing the optimal k', size=14)\n",
    "plt.xlabel('Number of clusters (k)')\n",
    "plt.ylabel('Inertia')\n",
    "plt.xticks(list(range(1, len(inertias) + 1)));"
   ]
  },
  {
   "cell_type": "code",
   "execution_count": 17,
   "metadata": {},
   "outputs": [],
   "source": [
    "k_max = 15\n",
    "silhouette = []\n",
    "for k in range(2, k_max+1):\n",
    "    kmeans = KMeans(n_clusters = k, random_state = 0)\n",
    "    silhouette.append(silhouette_score(data_flat.iloc[:, 2:], kmeans.fit_predict(data_flat.iloc[:, 2:])))"
   ]
  },
  {
   "cell_type": "code",
   "execution_count": 18,
   "metadata": {},
   "outputs": [
    {
     "data": {
      "image/png": "[encoded data removed]",
      "text/plain": [
       "<Figure size 648x432 with 1 Axes>"
      ]
     },
     "metadata": {
      "needs_background": "light"
     },
     "output_type": "display_data"
    }
   ],
   "source": [
    "elbow = plt.plot(list(range(2, len(silhouette)+2 )), silhouette, '-o')\n",
    "plt.title('silhouette score', size=14)\n",
    "plt.xlabel('Number of clusters (k)')\n",
    "plt.ylabel('silhouette score')\n",
    "plt.xticks(list(range(2, len(silhouette)+2 )));"
   ]
  },
  {
   "cell_type": "markdown",
   "metadata": {},
   "source": [
    "## AgglomerativeClustering"
   ]
  },
  {
   "cell_type": "code",
   "execution_count": 19,
   "metadata": {},
   "outputs": [],
   "source": [
    "agglomerative = AgglomerativeClustering(linkage = 'ward', n_clusters = 4)\n",
    "y_agg = agglomerative.fit_predict(data_flat.iloc[:, 2:])"
   ]
  },
  {
   "cell_type": "code",
   "execution_count": 20,
   "metadata": {},
   "outputs": [
    {
     "data": {
      "application/vnd.plotly.v1+json": {
       "config": {
        "plotlyServerURL": "https://plot.ly"
       },
       "data": [
        {
         "coloraxis": "coloraxis",
         "geo": "geo",
         "hovertemplate": "countrycode=%{location}<br>color=%{z}<extra></extra>",
         "locations": [
          "ALB",
          "AUT",
          "BEL",
          "BGR",
          "BIH",
          "BLR",
          "CHE",
          "CZE",
          "DEU",
          "DNK",
          "ESP",
          "EST",
          "FIN",
          "FRA",
          "GBR",
          "GRC",
          "HRV",
          "HUN",
          "IRL",
          "ISL",
          "ITA",
          "LTU",
          "LUX",
          "LVA",
          "MDA",
          "MKD",
          "MLT",
          "MNE",
          "NLD",
          "NOR",
          "POL",
          "PRT",
          "ROU",
          "RUS",
          "SRB",
          "SVK",
          "SVN",
          "SWE",
          "UKR"
         ],
         "name": "",
         "type": "choropleth",
         "z": [
          1,
          3,
          0,
          3,
          1,
          3,
          0,
          3,
          2,
          0,
          2,
          3,
          0,
          2,
          2,
          3,
          3,
          3,
          0,
          0,
          2,
          3,
          0,
          3,
          1,
          1,
          0,
          1,
          0,
          0,
          3,
          3,
          3,
          2,
          1,
          3,
          3,
          0,
          3
         ]
        }
       ],
       "layout": {
        "coloraxis": {
         "colorbar": {
          "title": {
           "text": "color"
          }
         },
         "colorscale": [
          [
           0,
           "#0d0887"
          ],
          [
           0.1111111111111111,
           "#46039f"
          ],
          [
           0.2222222222222222,
           "#7201a8"
          ],
          [
           0.3333333333333333,
           "#9c179e"
          ],
          [
           0.4444444444444444,
           "#bd3786"
          ],
          [
           0.5555555555555556,
           "#d8576b"
          ],
          [
           0.6666666666666666,
           "#ed7953"
          ],
          [
           0.7777777777777778,
           "#fb9f3a"
          ],
          [
           0.8888888888888888,
           "#fdca26"
          ],
          [
           1,
           "#f0f921"
          ]
         ]
        },
        "geo": {
         "center": {},
         "domain": {
          "x": [
           0,
           1
          ],
          "y": [
           0,
           1
          ]
         },
         "lataxis": {
          "range": [
           35,
           75
          ]
         },
         "lonaxis": {
          "range": [
           -15,
           45
          ]
         },
         "projection": {
          "type": "conic conformal"
         }
        },
        "legend": {
         "tracegroupgap": 0
        },
        "margin": {
         "t": 60
        },
        "template": {
         "data": {
          "bar": [
           {
            "error_x": {
             "color": "#2a3f5f"
            },
            "error_y": {
             "color": "#2a3f5f"
            },
            "marker": {
             "line": {
              "color": "#E5ECF6",
              "width": 0.5
             },
             "pattern": {
              "fillmode": "overlay",
              "size": 10,
              "solidity": 0.2
             }
            },
            "type": "bar"
           }
          ],
          "barpolar": [
           {
            "marker": {
             "line": {
              "color": "#E5ECF6",
              "width": 0.5
             },
             "pattern": {
              "fillmode": "overlay",
              "size": 10,
              "solidity": 0.2
             }
            },
            "type": "barpolar"
           }
          ],
          "carpet": [
           {
            "aaxis": {
             "endlinecolor": "#2a3f5f",
             "gridcolor": "white",
             "linecolor": "white",
             "minorgridcolor": "white",
             "startlinecolor": "#2a3f5f"
            },
            "baxis": {
             "endlinecolor": "#2a3f5f",
             "gridcolor": "white",
             "linecolor": "white",
             "minorgridcolor": "white",
             "startlinecolor": "#2a3f5f"
            },
            "type": "carpet"
           }
          ],
          "choropleth": [
           {
            "colorbar": {
             "outlinewidth": 0,
             "ticks": ""
            },
            "type": "choropleth"
           }
          ],
          "contour": [
           {
            "colorbar": {
             "outlinewidth": 0,
             "ticks": ""
            },
            "colorscale": [
             [
              0,
              "#0d0887"
             ],
             [
              0.1111111111111111,
              "#46039f"
             ],
             [
              0.2222222222222222,
              "#7201a8"
             ],
             [
              0.3333333333333333,
              "#9c179e"
             ],
             [
              0.4444444444444444,
              "#bd3786"
             ],
             [
              0.5555555555555556,
              "#d8576b"
             ],
             [
              0.6666666666666666,
              "#ed7953"
             ],
             [
              0.7777777777777778,
              "#fb9f3a"
             ],
             [
              0.8888888888888888,
              "#fdca26"
             ],
             [
              1,
              "#f0f921"
             ]
            ],
            "type": "contour"
           }
          ],
          "contourcarpet": [
           {
            "colorbar": {
             "outlinewidth": 0,
             "ticks": ""
            },
            "type": "contourcarpet"
           }
          ],
          "heatmap": [
           {
            "colorbar": {
             "outlinewidth": 0,
             "ticks": ""
            },
            "colorscale": [
             [
              0,
              "#0d0887"
             ],
             [
              0.1111111111111111,
              "#46039f"
             ],
             [
              0.2222222222222222,
              "#7201a8"
             ],
             [
              0.3333333333333333,
              "#9c179e"
             ],
             [
              0.4444444444444444,
              "#bd3786"
             ],
             [
              0.5555555555555556,
              "#d8576b"
             ],
             [
              0.6666666666666666,
              "#ed7953"
             ],
             [
              0.7777777777777778,
              "#fb9f3a"
             ],
             [
              0.8888888888888888,
              "#fdca26"
             ],
             [
              1,
              "#f0f921"
             ]
            ],
            "type": "heatmap"
           }
          ],
          "heatmapgl": [
           {
            "colorbar": {
             "outlinewidth": 0,
             "ticks": ""
            },
            "colorscale": [
             [
              0,
              "#0d0887"
             ],
             [
              0.1111111111111111,
              "#46039f"
             ],
             [
              0.2222222222222222,
              "#7201a8"
             ],
             [
              0.3333333333333333,
              "#9c179e"
             ],
             [
              0.4444444444444444,
              "#bd3786"
             ],
             [
              0.5555555555555556,
              "#d8576b"
             ],
             [
              0.6666666666666666,
              "#ed7953"
             ],
             [
              0.7777777777777778,
              "#fb9f3a"
             ],
             [
              0.8888888888888888,
              "#fdca26"
             ],
             [
              1,
              "#f0f921"
             ]
            ],
            "type": "heatmapgl"
           }
          ],
          "histogram": [
           {
            "marker": {
             "pattern": {
              "fillmode": "overlay",
              "size": 10,
              "solidity": 0.2
             }
            },
            "type": "histogram"
           }
          ],
          "histogram2d": [
           {
            "colorbar": {
             "outlinewidth": 0,
             "ticks": ""
            },
            "colorscale": [
             [
              0,
              "#0d0887"
             ],
             [
              0.1111111111111111,
              "#46039f"
             ],
             [
              0.2222222222222222,
              "#7201a8"
             ],
             [
              0.3333333333333333,
              "#9c179e"
             ],
             [
              0.4444444444444444,
              "#bd3786"
             ],
             [
              0.5555555555555556,
              "#d8576b"
             ],
             [
              0.6666666666666666,
              "#ed7953"
             ],
             [
              0.7777777777777778,
              "#fb9f3a"
             ],
             [
              0.8888888888888888,
              "#fdca26"
             ],
             [
              1,
              "#f0f921"
             ]
            ],
            "type": "histogram2d"
           }
          ],
          "histogram2dcontour": [
           {
            "colorbar": {
             "outlinewidth": 0,
             "ticks": ""
            },
            "colorscale": [
             [
              0,
              "#0d0887"
             ],
             [
              0.1111111111111111,
              "#46039f"
             ],
             [
              0.2222222222222222,
              "#7201a8"
             ],
             [
              0.3333333333333333,
              "#9c179e"
             ],
             [
              0.4444444444444444,
              "#bd3786"
             ],
             [
              0.5555555555555556,
              "#d8576b"
             ],
             [
              0.6666666666666666,
              "#ed7953"
             ],
             [
              0.7777777777777778,
              "#fb9f3a"
             ],
             [
              0.8888888888888888,
              "#fdca26"
             ],
             [
              1,
              "#f0f921"
             ]
            ],
            "type": "histogram2dcontour"
           }
          ],
          "mesh3d": [
           {
            "colorbar": {
             "outlinewidth": 0,
             "ticks": ""
            },
            "type": "mesh3d"
           }
          ],
          "parcoords": [
           {
            "line": {
             "colorbar": {
              "outlinewidth": 0,
              "ticks": ""
             }
            },
            "type": "parcoords"
           }
          ],
          "pie": [
           {
            "automargin": true,
            "type": "pie"
           }
          ],
          "scatter": [
           {
            "marker": {
             "colorbar": {
              "outlinewidth": 0,
              "ticks": ""
             }
            },
            "type": "scatter"
           }
          ],
          "scatter3d": [
           {
            "line": {
             "colorbar": {
              "outlinewidth": 0,
              "ticks": ""
             }
            },
            "marker": {
             "colorbar": {
              "outlinewidth": 0,
              "ticks": ""
             }
            },
            "type": "scatter3d"
           }
          ],
          "scattercarpet": [
           {
            "marker": {
             "colorbar": {
              "outlinewidth": 0,
              "ticks": ""
             }
            },
            "type": "scattercarpet"
           }
          ],
          "scattergeo": [
           {
            "marker": {
             "colorbar": {
              "outlinewidth": 0,
              "ticks": ""
             }
            },
            "type": "scattergeo"
           }
          ],
          "scattergl": [
           {
            "marker": {
             "colorbar": {
              "outlinewidth": 0,
              "ticks": ""
             }
            },
            "type": "scattergl"
           }
          ],
          "scattermapbox": [
           {
            "marker": {
             "colorbar": {
              "outlinewidth": 0,
              "ticks": ""
             }
            },
            "type": "scattermapbox"
           }
          ],
          "scatterpolar": [
           {
            "marker": {
             "colorbar": {
              "outlinewidth": 0,
              "ticks": ""
             }
            },
            "type": "scatterpolar"
           }
          ],
          "scatterpolargl": [
           {
            "marker": {
             "colorbar": {
              "outlinewidth": 0,
              "ticks": ""
             }
            },
            "type": "scatterpolargl"
           }
          ],
          "scatterternary": [
           {
            "marker": {
             "colorbar": {
              "outlinewidth": 0,
              "ticks": ""
             }
            },
            "type": "scatterternary"
           }
          ],
          "surface": [
           {
            "colorbar": {
             "outlinewidth": 0,
             "ticks": ""
            },
            "colorscale": [
             [
              0,
              "#0d0887"
             ],
             [
              0.1111111111111111,
              "#46039f"
             ],
             [
              0.2222222222222222,
              "#7201a8"
             ],
             [
              0.3333333333333333,
              "#9c179e"
             ],
             [
              0.4444444444444444,
              "#bd3786"
             ],
             [
              0.5555555555555556,
              "#d8576b"
             ],
             [
              0.6666666666666666,
              "#ed7953"
             ],
             [
              0.7777777777777778,
              "#fb9f3a"
             ],
             [
              0.8888888888888888,
              "#fdca26"
             ],
             [
              1,
              "#f0f921"
             ]
            ],
            "type": "surface"
           }
          ],
          "table": [
           {
            "cells": {
             "fill": {
              "color": "#EBF0F8"
             },
             "line": {
              "color": "white"
             }
            },
            "header": {
             "fill": {
              "color": "#C8D4E3"
             },
             "line": {
              "color": "white"
             }
            },
            "type": "table"
           }
          ]
         },
         "layout": {
          "annotationdefaults": {
           "arrowcolor": "#2a3f5f",
           "arrowhead": 0,
           "arrowwidth": 1
          },
          "autotypenumbers": "strict",
          "coloraxis": {
           "colorbar": {
            "outlinewidth": 0,
            "ticks": ""
           }
          },
          "colorscale": {
           "diverging": [
            [
             0,
             "#8e0152"
            ],
            [
             0.1,
             "#c51b7d"
            ],
            [
             0.2,
             "#de77ae"
            ],
            [
             0.3,
             "#f1b6da"
            ],
            [
             0.4,
             "#fde0ef"
            ],
            [
             0.5,
             "#f7f7f7"
            ],
            [
             0.6,
             "#e6f5d0"
            ],
            [
             0.7,
             "#b8e186"
            ],
            [
             0.8,
             "#7fbc41"
            ],
            [
             0.9,
             "#4d9221"
            ],
            [
             1,
             "#276419"
            ]
           ],
           "sequential": [
            [
             0,
             "#0d0887"
            ],
            [
             0.1111111111111111,
             "#46039f"
            ],
            [
             0.2222222222222222,
             "#7201a8"
            ],
            [
             0.3333333333333333,
             "#9c179e"
            ],
            [
             0.4444444444444444,
             "#bd3786"
            ],
            [
             0.5555555555555556,
             "#d8576b"
            ],
            [
             0.6666666666666666,
             "#ed7953"
            ],
            [
             0.7777777777777778,
             "#fb9f3a"
            ],
            [
             0.8888888888888888,
             "#fdca26"
            ],
            [
             1,
             "#f0f921"
            ]
           ],
           "sequentialminus": [
            [
             0,
             "#0d0887"
            ],
            [
             0.1111111111111111,
             "#46039f"
            ],
            [
             0.2222222222222222,
             "#7201a8"
            ],
            [
             0.3333333333333333,
             "#9c179e"
            ],
            [
             0.4444444444444444,
             "#bd3786"
            ],
            [
             0.5555555555555556,
             "#d8576b"
            ],
            [
             0.6666666666666666,
             "#ed7953"
            ],
            [
             0.7777777777777778,
             "#fb9f3a"
            ],
            [
             0.8888888888888888,
             "#fdca26"
            ],
            [
             1,
             "#f0f921"
            ]
           ]
          },
          "colorway": [
           "#636efa",
           "#EF553B",
           "#00cc96",
           "#ab63fa",
           "#FFA15A",
           "#19d3f3",
           "#FF6692",
           "#B6E880",
           "#FF97FF",
           "#FECB52"
          ],
          "font": {
           "color": "#2a3f5f"
          },
          "geo": {
           "bgcolor": "white",
           "lakecolor": "white",
           "landcolor": "#E5ECF6",
           "showlakes": true,
           "showland": true,
           "subunitcolor": "white"
          },
          "hoverlabel": {
           "align": "left"
          },
          "hovermode": "closest",
          "mapbox": {
           "style": "light"
          },
          "paper_bgcolor": "white",
          "plot_bgcolor": "#E5ECF6",
          "polar": {
           "angularaxis": {
            "gridcolor": "white",
            "linecolor": "white",
            "ticks": ""
           },
           "bgcolor": "#E5ECF6",
           "radialaxis": {
            "gridcolor": "white",
            "linecolor": "white",
            "ticks": ""
           }
          },
          "scene": {
           "xaxis": {
            "backgroundcolor": "#E5ECF6",
            "gridcolor": "white",
            "gridwidth": 2,
            "linecolor": "white",
            "showbackground": true,
            "ticks": "",
            "zerolinecolor": "white"
           },
           "yaxis": {
            "backgroundcolor": "#E5ECF6",
            "gridcolor": "white",
            "gridwidth": 2,
            "linecolor": "white",
            "showbackground": true,
            "ticks": "",
            "zerolinecolor": "white"
           },
           "zaxis": {
            "backgroundcolor": "#E5ECF6",
            "gridcolor": "white",
            "gridwidth": 2,
            "linecolor": "white",
            "showbackground": true,
            "ticks": "",
            "zerolinecolor": "white"
           }
          },
          "shapedefaults": {
           "line": {
            "color": "#2a3f5f"
           }
          },
          "ternary": {
           "aaxis": {
            "gridcolor": "white",
            "linecolor": "white",
            "ticks": ""
           },
           "baxis": {
            "gridcolor": "white",
            "linecolor": "white",
            "ticks": ""
           },
           "bgcolor": "#E5ECF6",
           "caxis": {
            "gridcolor": "white",
            "linecolor": "white",
            "ticks": ""
           }
          },
          "title": {
           "x": 0.05
          },
          "xaxis": {
           "automargin": true,
           "gridcolor": "white",
           "linecolor": "white",
           "ticks": "",
           "title": {
            "standoff": 15
           },
           "zerolinecolor": "white",
           "zerolinewidth": 2
          },
          "yaxis": {
           "automargin": true,
           "gridcolor": "white",
           "linecolor": "white",
           "ticks": "",
           "title": {
            "standoff": 15
           },
           "zerolinecolor": "white",
           "zerolinewidth": 2
          }
         }
        }
       }
      }
     },
     "metadata": {},
     "output_type": "display_data"
    }
   ],
   "source": [
    "fig = px.choropleth(data_flat, locations = 'countrycode', color = y_agg, projection='conic conformal')\n",
    "fig.update_geos(\n",
    "    lataxis_range=[35, 75], lonaxis_range=[-15, 45]\n",
    ")\n",
    "fig.show()"
   ]
  },
  {
   "cell_type": "markdown",
   "metadata": {},
   "source": [
    "## Fuzzy C-Means"
   ]
  },
  {
   "cell_type": "code",
   "execution_count": 22,
   "metadata": {},
   "outputs": [],
   "source": [
    "fcm = FCM(n_clusters=4)\n",
    "fcm.fit(np.array(data_flat.iloc[:, 2:]))\n",
    "y_fcm = fcm.predict(np.array(data_flat.iloc[:, 2:]))"
   ]
  },
  {
   "cell_type": "code",
   "execution_count": 23,
   "metadata": {},
   "outputs": [],
   "source": [
    "#help(FCM)"
   ]
  },
  {
   "cell_type": "code",
   "execution_count": 27,
   "metadata": {},
   "outputs": [
    {
     "data": {
      "application/vnd.plotly.v1+json": {
       "config": {
        "plotlyServerURL": "https://plot.ly"
       },
       "data": [
        {
         "coloraxis": "coloraxis",
         "geo": "geo",
         "hovertemplate": "countrycode=%{location}<br>color=%{z}<extra></extra>",
         "locations": [
          "ALB",
          "AUT",
          "BEL",
          "BGR",
          "BIH",
          "BLR",
          "CHE",
          "CZE",
          "DEU",
          "DNK",
          "ESP",
          "EST",
          "FIN",
          "FRA",
          "GBR",
          "GRC",
          "HRV",
          "HUN",
          "IRL",
          "ISL",
          "ITA",
          "LTU",
          "LUX",
          "LVA",
          "MDA",
          "MKD",
          "MLT",
          "MNE",
          "NLD",
          "NOR",
          "POL",
          "PRT",
          "ROU",
          "RUS",
          "SRB",
          "SVK",
          "SVN",
          "SWE",
          "UKR"
         ],
         "name": "",
         "type": "choropleth",
         "z": [
          1,
          2,
          2,
          0,
          1,
          0,
          2,
          0,
          3,
          2,
          3,
          0,
          2,
          3,
          3,
          0,
          1,
          0,
          2,
          2,
          3,
          0,
          2,
          0,
          1,
          1,
          2,
          1,
          2,
          2,
          1,
          0,
          1,
          3,
          1,
          0,
          0,
          2,
          1
         ]
        }
       ],
       "layout": {
        "coloraxis": {
         "colorbar": {
          "title": {
           "text": "color"
          }
         },
         "colorscale": [
          [
           0,
           "#0d0887"
          ],
          [
           0.1111111111111111,
           "#46039f"
          ],
          [
           0.2222222222222222,
           "#7201a8"
          ],
          [
           0.3333333333333333,
           "#9c179e"
          ],
          [
           0.4444444444444444,
           "#bd3786"
          ],
          [
           0.5555555555555556,
           "#d8576b"
          ],
          [
           0.6666666666666666,
           "#ed7953"
          ],
          [
           0.7777777777777778,
           "#fb9f3a"
          ],
          [
           0.8888888888888888,
           "#fdca26"
          ],
          [
           1,
           "#f0f921"
          ]
         ]
        },
        "geo": {
         "center": {},
         "domain": {
          "x": [
           0,
           1
          ],
          "y": [
           0,
           1
          ]
         },
         "lataxis": {
          "range": [
           35,
           75
          ]
         },
         "lonaxis": {
          "range": [
           -15,
           45
          ]
         },
         "projection": {
          "type": "conic conformal"
         }
        },
        "legend": {
         "tracegroupgap": 0
        },
        "margin": {
         "t": 60
        },
        "template": {
         "data": {
          "bar": [
           {
            "error_x": {
             "color": "#2a3f5f"
            },
            "error_y": {
             "color": "#2a3f5f"
            },
            "marker": {
             "line": {
              "color": "#E5ECF6",
              "width": 0.5
             },
             "pattern": {
              "fillmode": "overlay",
              "size": 10,
              "solidity": 0.2
             }
            },
            "type": "bar"
           }
          ],
          "barpolar": [
           {
            "marker": {
             "line": {
              "color": "#E5ECF6",
              "width": 0.5
             },
             "pattern": {
              "fillmode": "overlay",
              "size": 10,
              "solidity": 0.2
             }
            },
            "type": "barpolar"
           }
          ],
          "carpet": [
           {
            "aaxis": {
             "endlinecolor": "#2a3f5f",
             "gridcolor": "white",
             "linecolor": "white",
             "minorgridcolor": "white",
             "startlinecolor": "#2a3f5f"
            },
            "baxis": {
             "endlinecolor": "#2a3f5f",
             "gridcolor": "white",
             "linecolor": "white",
             "minorgridcolor": "white",
             "startlinecolor": "#2a3f5f"
            },
            "type": "carpet"
           }
          ],
          "choropleth": [
           {
            "colorbar": {
             "outlinewidth": 0,
             "ticks": ""
            },
            "type": "choropleth"
           }
          ],
          "contour": [
           {
            "colorbar": {
             "outlinewidth": 0,
             "ticks": ""
            },
            "colorscale": [
             [
              0,
              "#0d0887"
             ],
             [
              0.1111111111111111,
              "#46039f"
             ],
             [
              0.2222222222222222,
              "#7201a8"
             ],
             [
              0.3333333333333333,
              "#9c179e"
             ],
             [
              0.4444444444444444,
              "#bd3786"
             ],
             [
              0.5555555555555556,
              "#d8576b"
             ],
             [
              0.6666666666666666,
              "#ed7953"
             ],
             [
              0.7777777777777778,
              "#fb9f3a"
             ],
             [
              0.8888888888888888,
              "#fdca26"
             ],
             [
              1,
              "#f0f921"
             ]
            ],
            "type": "contour"
           }
          ],
          "contourcarpet": [
           {
            "colorbar": {
             "outlinewidth": 0,
             "ticks": ""
            },
            "type": "contourcarpet"
           }
          ],
          "heatmap": [
           {
            "colorbar": {
             "outlinewidth": 0,
             "ticks": ""
            },
            "colorscale": [
             [
              0,
              "#0d0887"
             ],
             [
              0.1111111111111111,
              "#46039f"
             ],
             [
              0.2222222222222222,
              "#7201a8"
             ],
             [
              0.3333333333333333,
              "#9c179e"
             ],
             [
              0.4444444444444444,
              "#bd3786"
             ],
             [
              0.5555555555555556,
              "#d8576b"
             ],
             [
              0.6666666666666666,
              "#ed7953"
             ],
             [
              0.7777777777777778,
              "#fb9f3a"
             ],
             [
              0.8888888888888888,
              "#fdca26"
             ],
             [
              1,
              "#f0f921"
             ]
            ],
            "type": "heatmap"
           }
          ],
          "heatmapgl": [
           {
            "colorbar": {
             "outlinewidth": 0,
             "ticks": ""
            },
            "colorscale": [
             [
              0,
              "#0d0887"
             ],
             [
              0.1111111111111111,
              "#46039f"
             ],
             [
              0.2222222222222222,
              "#7201a8"
             ],
             [
              0.3333333333333333,
              "#9c179e"
             ],
             [
              0.4444444444444444,
              "#bd3786"
             ],
             [
              0.5555555555555556,
              "#d8576b"
             ],
             [
              0.6666666666666666,
              "#ed7953"
             ],
             [
              0.7777777777777778,
              "#fb9f3a"
             ],
             [
              0.8888888888888888,
              "#fdca26"
             ],
             [
              1,
              "#f0f921"
             ]
            ],
            "type": "heatmapgl"
           }
          ],
          "histogram": [
           {
            "marker": {
             "pattern": {
              "fillmode": "overlay",
              "size": 10,
              "solidity": 0.2
             }
            },
            "type": "histogram"
           }
          ],
          "histogram2d": [
           {
            "colorbar": {
             "outlinewidth": 0,
             "ticks": ""
            },
            "colorscale": [
             [
              0,
              "#0d0887"
             ],
             [
              0.1111111111111111,
              "#46039f"
             ],
             [
              0.2222222222222222,
              "#7201a8"
             ],
             [
              0.3333333333333333,
              "#9c179e"
             ],
             [
              0.4444444444444444,
              "#bd3786"
             ],
             [
              0.5555555555555556,
              "#d8576b"
             ],
             [
              0.6666666666666666,
              "#ed7953"
             ],
             [
              0.7777777777777778,
              "#fb9f3a"
             ],
             [
              0.8888888888888888,
              "#fdca26"
             ],
             [
              1,
              "#f0f921"
             ]
            ],
            "type": "histogram2d"
           }
          ],
          "histogram2dcontour": [
           {
            "colorbar": {
             "outlinewidth": 0,
             "ticks": ""
            },
            "colorscale": [
             [
              0,
              "#0d0887"
             ],
             [
              0.1111111111111111,
              "#46039f"
             ],
             [
              0.2222222222222222,
              "#7201a8"
             ],
             [
              0.3333333333333333,
              "#9c179e"
             ],
             [
              0.4444444444444444,
              "#bd3786"
             ],
             [
              0.5555555555555556,
              "#d8576b"
             ],
             [
              0.6666666666666666,
              "#ed7953"
             ],
             [
              0.7777777777777778,
              "#fb9f3a"
             ],
             [
              0.8888888888888888,
              "#fdca26"
             ],
             [
              1,
              "#f0f921"
             ]
            ],
            "type": "histogram2dcontour"
           }
          ],
          "mesh3d": [
           {
            "colorbar": {
             "outlinewidth": 0,
             "ticks": ""
            },
            "type": "mesh3d"
           }
          ],
          "parcoords": [
           {
            "line": {
             "colorbar": {
              "outlinewidth": 0,
              "ticks": ""
             }
            },
            "type": "parcoords"
           }
          ],
          "pie": [
           {
            "automargin": true,
            "type": "pie"
           }
          ],
          "scatter": [
           {
            "marker": {
             "colorbar": {
              "outlinewidth": 0,
              "ticks": ""
             }
            },
            "type": "scatter"
           }
          ],
          "scatter3d": [
           {
            "line": {
             "colorbar": {
              "outlinewidth": 0,
              "ticks": ""
             }
            },
            "marker": {
             "colorbar": {
              "outlinewidth": 0,
              "ticks": ""
             }
            },
            "type": "scatter3d"
           }
          ],
          "scattercarpet": [
           {
            "marker": {
             "colorbar": {
              "outlinewidth": 0,
              "ticks": ""
             }
            },
            "type": "scattercarpet"
           }
          ],
          "scattergeo": [
           {
            "marker": {
             "colorbar": {
              "outlinewidth": 0,
              "ticks": ""
             }
            },
            "type": "scattergeo"
           }
          ],
          "scattergl": [
           {
            "marker": {
             "colorbar": {
              "outlinewidth": 0,
              "ticks": ""
             }
            },
            "type": "scattergl"
           }
          ],
          "scattermapbox": [
           {
            "marker": {
             "colorbar": {
              "outlinewidth": 0,
              "ticks": ""
             }
            },
            "type": "scattermapbox"
           }
          ],
          "scatterpolar": [
           {
            "marker": {
             "colorbar": {
              "outlinewidth": 0,
              "ticks": ""
             }
            },
            "type": "scatterpolar"
           }
          ],
          "scatterpolargl": [
           {
            "marker": {
             "colorbar": {
              "outlinewidth": 0,
              "ticks": ""
             }
            },
            "type": "scatterpolargl"
           }
          ],
          "scatterternary": [
           {
            "marker": {
             "colorbar": {
              "outlinewidth": 0,
              "ticks": ""
             }
            },
            "type": "scatterternary"
           }
          ],
          "surface": [
           {
            "colorbar": {
             "outlinewidth": 0,
             "ticks": ""
            },
            "colorscale": [
             [
              0,
              "#0d0887"
             ],
             [
              0.1111111111111111,
              "#46039f"
             ],
             [
              0.2222222222222222,
              "#7201a8"
             ],
             [
              0.3333333333333333,
              "#9c179e"
             ],
             [
              0.4444444444444444,
              "#bd3786"
             ],
             [
              0.5555555555555556,
              "#d8576b"
             ],
             [
              0.6666666666666666,
              "#ed7953"
             ],
             [
              0.7777777777777778,
              "#fb9f3a"
             ],
             [
              0.8888888888888888,
              "#fdca26"
             ],
             [
              1,
              "#f0f921"
             ]
            ],
            "type": "surface"
           }
          ],
          "table": [
           {
            "cells": {
             "fill": {
              "color": "#EBF0F8"
             },
             "line": {
              "color": "white"
             }
            },
            "header": {
             "fill": {
              "color": "#C8D4E3"
             },
             "line": {
              "color": "white"
             }
            },
            "type": "table"
           }
          ]
         },
         "layout": {
          "annotationdefaults": {
           "arrowcolor": "#2a3f5f",
           "arrowhead": 0,
           "arrowwidth": 1
          },
          "autotypenumbers": "strict",
          "coloraxis": {
           "colorbar": {
            "outlinewidth": 0,
            "ticks": ""
           }
          },
          "colorscale": {
           "diverging": [
            [
             0,
             "#8e0152"
            ],
            [
             0.1,
             "#c51b7d"
            ],
            [
             0.2,
             "#de77ae"
            ],
            [
             0.3,
             "#f1b6da"
            ],
            [
             0.4,
             "#fde0ef"
            ],
            [
             0.5,
             "#f7f7f7"
            ],
            [
             0.6,
             "#e6f5d0"
            ],
            [
             0.7,
             "#b8e186"
            ],
            [
             0.8,
             "#7fbc41"
            ],
            [
             0.9,
             "#4d9221"
            ],
            [
             1,
             "#276419"
            ]
           ],
           "sequential": [
            [
             0,
             "#0d0887"
            ],
            [
             0.1111111111111111,
             "#46039f"
            ],
            [
             0.2222222222222222,
             "#7201a8"
            ],
            [
             0.3333333333333333,
             "#9c179e"
            ],
            [
             0.4444444444444444,
             "#bd3786"
            ],
            [
             0.5555555555555556,
             "#d8576b"
            ],
            [
             0.6666666666666666,
             "#ed7953"
            ],
            [
             0.7777777777777778,
             "#fb9f3a"
            ],
            [
             0.8888888888888888,
             "#fdca26"
            ],
            [
             1,
             "#f0f921"
            ]
           ],
           "sequentialminus": [
            [
             0,
             "#0d0887"
            ],
            [
             0.1111111111111111,
             "#46039f"
            ],
            [
             0.2222222222222222,
             "#7201a8"
            ],
            [
             0.3333333333333333,
             "#9c179e"
            ],
            [
             0.4444444444444444,
             "#bd3786"
            ],
            [
             0.5555555555555556,
             "#d8576b"
            ],
            [
             0.6666666666666666,
             "#ed7953"
            ],
            [
             0.7777777777777778,
             "#fb9f3a"
            ],
            [
             0.8888888888888888,
             "#fdca26"
            ],
            [
             1,
             "#f0f921"
            ]
           ]
          },
          "colorway": [
           "#636efa",
           "#EF553B",
           "#00cc96",
           "#ab63fa",
           "#FFA15A",
           "#19d3f3",
           "#FF6692",
           "#B6E880",
           "#FF97FF",
           "#FECB52"
          ],
          "font": {
           "color": "#2a3f5f"
          },
          "geo": {
           "bgcolor": "white",
           "lakecolor": "white",
           "landcolor": "#E5ECF6",
           "showlakes": true,
           "showland": true,
           "subunitcolor": "white"
          },
          "hoverlabel": {
           "align": "left"
          },
          "hovermode": "closest",
          "mapbox": {
           "style": "light"
          },
          "paper_bgcolor": "white",
          "plot_bgcolor": "#E5ECF6",
          "polar": {
           "angularaxis": {
            "gridcolor": "white",
            "linecolor": "white",
            "ticks": ""
           },
           "bgcolor": "#E5ECF6",
           "radialaxis": {
            "gridcolor": "white",
            "linecolor": "white",
            "ticks": ""
           }
          },
          "scene": {
           "xaxis": {
            "backgroundcolor": "#E5ECF6",
            "gridcolor": "white",
            "gridwidth": 2,
            "linecolor": "white",
            "showbackground": true,
            "ticks": "",
            "zerolinecolor": "white"
           },
           "yaxis": {
            "backgroundcolor": "#E5ECF6",
            "gridcolor": "white",
            "gridwidth": 2,
            "linecolor": "white",
            "showbackground": true,
            "ticks": "",
            "zerolinecolor": "white"
           },
           "zaxis": {
            "backgroundcolor": "#E5ECF6",
            "gridcolor": "white",
            "gridwidth": 2,
            "linecolor": "white",
            "showbackground": true,
            "ticks": "",
            "zerolinecolor": "white"
           }
          },
          "shapedefaults": {
           "line": {
            "color": "#2a3f5f"
           }
          },
          "ternary": {
           "aaxis": {
            "gridcolor": "white",
            "linecolor": "white",
            "ticks": ""
           },
           "baxis": {
            "gridcolor": "white",
            "linecolor": "white",
            "ticks": ""
           },
           "bgcolor": "#E5ECF6",
           "caxis": {
            "gridcolor": "white",
            "linecolor": "white",
            "ticks": ""
           }
          },
          "title": {
           "x": 0.05
          },
          "xaxis": {
           "automargin": true,
           "gridcolor": "white",
           "linecolor": "white",
           "ticks": "",
           "title": {
            "standoff": 15
           },
           "zerolinecolor": "white",
           "zerolinewidth": 2
          },
          "yaxis": {
           "automargin": true,
           "gridcolor": "white",
           "linecolor": "white",
           "ticks": "",
           "title": {
            "standoff": 15
           },
           "zerolinecolor": "white",
           "zerolinewidth": 2
          }
         }
        }
       }
      }
     },
     "metadata": {},
     "output_type": "display_data"
    }
   ],
   "source": [
    "fig = px.choropleth(data_flat, locations = 'countrycode', color = y_fcm, projection='conic conformal')\n",
    "fig.update_geos(\n",
    "    lataxis_range=[35, 75], lonaxis_range=[-15, 45]\n",
    ")\n",
    "fig.show()"
   ]
  },
  {
   "cell_type": "code",
   "execution_count": 28,
   "metadata": {},
   "outputs": [
    {
     "data": {
      "text/plain": [
       "array([1, 2, 2, 0, 1, 0, 2, 0, 3, 2, 3, 0, 2, 3, 3, 0, 1, 0, 2, 2, 3, 0,\n",
       "       2, 0, 1, 1, 2, 1, 2, 2, 1, 0, 1, 3, 1, 0, 0, 2, 1], dtype=int64)"
      ]
     },
     "execution_count": 28,
     "metadata": {},
     "output_type": "execute_result"
    }
   ],
   "source": [
    "y_fcm"
   ]
  },
  {
   "cell_type": "code",
   "execution_count": 29,
   "metadata": {},
   "outputs": [],
   "source": [
    "a, b, c, d, e, f, g = fuzz.cluster.cmeans(data.iloc[:, 2:], 3, 2, error=0.005, maxiter=1000)\n"
   ]
  },
  {
   "cell_type": "code",
   "execution_count": 30,
   "metadata": {},
   "outputs": [
    {
     "data": {
      "text/plain": [
       "0.9999999437772605"
      ]
     },
     "execution_count": 30,
     "metadata": {},
     "output_type": "execute_result"
    }
   ],
   "source": [
    "g"
   ]
  },
  {
   "cell_type": "markdown",
   "metadata": {},
   "source": [
    "## DBSCAN"
   ]
  },
  {
   "cell_type": "code",
   "execution_count": 31,
   "metadata": {},
   "outputs": [
    {
     "name": "stdout",
     "output_type": "stream",
     "text": [
      "parameter values are:  22 - 4.6\n",
      "maximum calinski-harabasz score value is:  5.9625463288734855\n"
     ]
    }
   ],
   "source": [
    "# tuning hyperparameters\n",
    "min_grid = [x for x in range(2, 39, 1)]\n",
    "eps_grid = np.arange(0.1, 5, 0.1)\n",
    "best_params = {}\n",
    "for m in min_grid:\n",
    "    for e in eps_grid:\n",
    "        dbscan = DBSCAN(eps = e, min_samples = m).fit(data_flat.iloc[:, 2:])\n",
    "        labels = dbscan.labels_\n",
    "\n",
    "        if len(set(labels)) > 1:\n",
    "            cal_score = calinski_harabasz_score(data_flat.iloc[:, 2:], labels)\n",
    "\n",
    "            if cal_score > 0:\n",
    "                best_params[str(m) + \" - \" + str(e)] = cal_score\n",
    "                \n",
    "max_key = max(best_params, key = best_params.get)\n",
    "print(\"parameter values are: \", max_key)\n",
    "print(\"maximum calinski-harabasz score value is: \", best_params[max_key])\n",
    "dbs = DBSCAN(min_samples=22, eps=4.6)\n",
    "y_dbs = dbs.fit_predict(data_flat.iloc[:, 2:])"
   ]
  },
  {
   "cell_type": "code",
   "execution_count": 32,
   "metadata": {},
   "outputs": [
    {
     "data": {
      "application/vnd.plotly.v1+json": {
       "config": {
        "plotlyServerURL": "https://plot.ly"
       },
       "data": [
        {
         "coloraxis": "coloraxis",
         "geo": "geo",
         "hovertemplate": "countrycode=%{location}<br>color=%{z}<extra></extra>",
         "locations": [
          "ALB",
          "AUT",
          "BEL",
          "BGR",
          "BIH",
          "BLR",
          "CHE",
          "CZE",
          "DEU",
          "DNK",
          "ESP",
          "EST",
          "FIN",
          "FRA",
          "GBR",
          "GRC",
          "HRV",
          "HUN",
          "IRL",
          "ISL",
          "ITA",
          "LTU",
          "LUX",
          "LVA",
          "MDA",
          "MKD",
          "MLT",
          "MNE",
          "NLD",
          "NOR",
          "POL",
          "PRT",
          "ROU",
          "RUS",
          "SRB",
          "SVK",
          "SVN",
          "SWE",
          "UKR"
         ],
         "name": "",
         "type": "choropleth",
         "z": [
          -1,
          0,
          0,
          -1,
          -1,
          -1,
          0,
          0,
          -1,
          0,
          0,
          0,
          0,
          0,
          0,
          0,
          0,
          -1,
          0,
          0,
          0,
          0,
          -1,
          0,
          -1,
          -1,
          -1,
          -1,
          0,
          0,
          -1,
          0,
          -1,
          -1,
          -1,
          -1,
          0,
          0,
          -1
         ]
        }
       ],
       "layout": {
        "coloraxis": {
         "colorbar": {
          "title": {
           "text": "color"
          }
         },
         "colorscale": [
          [
           0,
           "#0d0887"
          ],
          [
           0.1111111111111111,
           "#46039f"
          ],
          [
           0.2222222222222222,
           "#7201a8"
          ],
          [
           0.3333333333333333,
           "#9c179e"
          ],
          [
           0.4444444444444444,
           "#bd3786"
          ],
          [
           0.5555555555555556,
           "#d8576b"
          ],
          [
           0.6666666666666666,
           "#ed7953"
          ],
          [
           0.7777777777777778,
           "#fb9f3a"
          ],
          [
           0.8888888888888888,
           "#fdca26"
          ],
          [
           1,
           "#f0f921"
          ]
         ]
        },
        "geo": {
         "center": {},
         "domain": {
          "x": [
           0,
           1
          ],
          "y": [
           0,
           1
          ]
         },
         "lataxis": {
          "range": [
           35,
           75
          ]
         },
         "lonaxis": {
          "range": [
           -15,
           45
          ]
         },
         "projection": {
          "type": "conic conformal"
         }
        },
        "legend": {
         "tracegroupgap": 0
        },
        "margin": {
         "t": 60
        },
        "template": {
         "data": {
          "bar": [
           {
            "error_x": {
             "color": "#2a3f5f"
            },
            "error_y": {
             "color": "#2a3f5f"
            },
            "marker": {
             "line": {
              "color": "#E5ECF6",
              "width": 0.5
             },
             "pattern": {
              "fillmode": "overlay",
              "size": 10,
              "solidity": 0.2
             }
            },
            "type": "bar"
           }
          ],
          "barpolar": [
           {
            "marker": {
             "line": {
              "color": "#E5ECF6",
              "width": 0.5
             },
             "pattern": {
              "fillmode": "overlay",
              "size": 10,
              "solidity": 0.2
             }
            },
            "type": "barpolar"
           }
          ],
          "carpet": [
           {
            "aaxis": {
             "endlinecolor": "#2a3f5f",
             "gridcolor": "white",
             "linecolor": "white",
             "minorgridcolor": "white",
             "startlinecolor": "#2a3f5f"
            },
            "baxis": {
             "endlinecolor": "#2a3f5f",
             "gridcolor": "white",
             "linecolor": "white",
             "minorgridcolor": "white",
             "startlinecolor": "#2a3f5f"
            },
            "type": "carpet"
           }
          ],
          "choropleth": [
           {
            "colorbar": {
             "outlinewidth": 0,
             "ticks": ""
            },
            "type": "choropleth"
           }
          ],
          "contour": [
           {
            "colorbar": {
             "outlinewidth": 0,
             "ticks": ""
            },
            "colorscale": [
             [
              0,
              "#0d0887"
             ],
             [
              0.1111111111111111,
              "#46039f"
             ],
             [
              0.2222222222222222,
              "#7201a8"
             ],
             [
              0.3333333333333333,
              "#9c179e"
             ],
             [
              0.4444444444444444,
              "#bd3786"
             ],
             [
              0.5555555555555556,
              "#d8576b"
             ],
             [
              0.6666666666666666,
              "#ed7953"
             ],
             [
              0.7777777777777778,
              "#fb9f3a"
             ],
             [
              0.8888888888888888,
              "#fdca26"
             ],
             [
              1,
              "#f0f921"
             ]
            ],
            "type": "contour"
           }
          ],
          "contourcarpet": [
           {
            "colorbar": {
             "outlinewidth": 0,
             "ticks": ""
            },
            "type": "contourcarpet"
           }
          ],
          "heatmap": [
           {
            "colorbar": {
             "outlinewidth": 0,
             "ticks": ""
            },
            "colorscale": [
             [
              0,
              "#0d0887"
             ],
             [
              0.1111111111111111,
              "#46039f"
             ],
             [
              0.2222222222222222,
              "#7201a8"
             ],
             [
              0.3333333333333333,
              "#9c179e"
             ],
             [
              0.4444444444444444,
              "#bd3786"
             ],
             [
              0.5555555555555556,
              "#d8576b"
             ],
             [
              0.6666666666666666,
              "#ed7953"
             ],
             [
              0.7777777777777778,
              "#fb9f3a"
             ],
             [
              0.8888888888888888,
              "#fdca26"
             ],
             [
              1,
              "#f0f921"
             ]
            ],
            "type": "heatmap"
           }
          ],
          "heatmapgl": [
           {
            "colorbar": {
             "outlinewidth": 0,
             "ticks": ""
            },
            "colorscale": [
             [
              0,
              "#0d0887"
             ],
             [
              0.1111111111111111,
              "#46039f"
             ],
             [
              0.2222222222222222,
              "#7201a8"
             ],
             [
              0.3333333333333333,
              "#9c179e"
             ],
             [
              0.4444444444444444,
              "#bd3786"
             ],
             [
              0.5555555555555556,
              "#d8576b"
             ],
             [
              0.6666666666666666,
              "#ed7953"
             ],
             [
              0.7777777777777778,
              "#fb9f3a"
             ],
             [
              0.8888888888888888,
              "#fdca26"
             ],
             [
              1,
              "#f0f921"
             ]
            ],
            "type": "heatmapgl"
           }
          ],
          "histogram": [
           {
            "marker": {
             "pattern": {
              "fillmode": "overlay",
              "size": 10,
              "solidity": 0.2
             }
            },
            "type": "histogram"
           }
          ],
          "histogram2d": [
           {
            "colorbar": {
             "outlinewidth": 0,
             "ticks": ""
            },
            "colorscale": [
             [
              0,
              "#0d0887"
             ],
             [
              0.1111111111111111,
              "#46039f"
             ],
             [
              0.2222222222222222,
              "#7201a8"
             ],
             [
              0.3333333333333333,
              "#9c179e"
             ],
             [
              0.4444444444444444,
              "#bd3786"
             ],
             [
              0.5555555555555556,
              "#d8576b"
             ],
             [
              0.6666666666666666,
              "#ed7953"
             ],
             [
              0.7777777777777778,
              "#fb9f3a"
             ],
             [
              0.8888888888888888,
              "#fdca26"
             ],
             [
              1,
              "#f0f921"
             ]
            ],
            "type": "histogram2d"
           }
          ],
          "histogram2dcontour": [
           {
            "colorbar": {
             "outlinewidth": 0,
             "ticks": ""
            },
            "colorscale": [
             [
              0,
              "#0d0887"
             ],
             [
              0.1111111111111111,
              "#46039f"
             ],
             [
              0.2222222222222222,
              "#7201a8"
             ],
             [
              0.3333333333333333,
              "#9c179e"
             ],
             [
              0.4444444444444444,
              "#bd3786"
             ],
             [
              0.5555555555555556,
              "#d8576b"
             ],
             [
              0.6666666666666666,
              "#ed7953"
             ],
             [
              0.7777777777777778,
              "#fb9f3a"
             ],
             [
              0.8888888888888888,
              "#fdca26"
             ],
             [
              1,
              "#f0f921"
             ]
            ],
            "type": "histogram2dcontour"
           }
          ],
          "mesh3d": [
           {
            "colorbar": {
             "outlinewidth": 0,
             "ticks": ""
            },
            "type": "mesh3d"
           }
          ],
          "parcoords": [
           {
            "line": {
             "colorbar": {
              "outlinewidth": 0,
              "ticks": ""
             }
            },
            "type": "parcoords"
           }
          ],
          "pie": [
           {
            "automargin": true,
            "type": "pie"
           }
          ],
          "scatter": [
           {
            "marker": {
             "colorbar": {
              "outlinewidth": 0,
              "ticks": ""
             }
            },
            "type": "scatter"
           }
          ],
          "scatter3d": [
           {
            "line": {
             "colorbar": {
              "outlinewidth": 0,
              "ticks": ""
             }
            },
            "marker": {
             "colorbar": {
              "outlinewidth": 0,
              "ticks": ""
             }
            },
            "type": "scatter3d"
           }
          ],
          "scattercarpet": [
           {
            "marker": {
             "colorbar": {
              "outlinewidth": 0,
              "ticks": ""
             }
            },
            "type": "scattercarpet"
           }
          ],
          "scattergeo": [
           {
            "marker": {
             "colorbar": {
              "outlinewidth": 0,
              "ticks": ""
             }
            },
            "type": "scattergeo"
           }
          ],
          "scattergl": [
           {
            "marker": {
             "colorbar": {
              "outlinewidth": 0,
              "ticks": ""
             }
            },
            "type": "scattergl"
           }
          ],
          "scattermapbox": [
           {
            "marker": {
             "colorbar": {
              "outlinewidth": 0,
              "ticks": ""
             }
            },
            "type": "scattermapbox"
           }
          ],
          "scatterpolar": [
           {
            "marker": {
             "colorbar": {
              "outlinewidth": 0,
              "ticks": ""
             }
            },
            "type": "scatterpolar"
           }
          ],
          "scatterpolargl": [
           {
            "marker": {
             "colorbar": {
              "outlinewidth": 0,
              "ticks": ""
             }
            },
            "type": "scatterpolargl"
           }
          ],
          "scatterternary": [
           {
            "marker": {
             "colorbar": {
              "outlinewidth": 0,
              "ticks": ""
             }
            },
            "type": "scatterternary"
           }
          ],
          "surface": [
           {
            "colorbar": {
             "outlinewidth": 0,
             "ticks": ""
            },
            "colorscale": [
             [
              0,
              "#0d0887"
             ],
             [
              0.1111111111111111,
              "#46039f"
             ],
             [
              0.2222222222222222,
              "#7201a8"
             ],
             [
              0.3333333333333333,
              "#9c179e"
             ],
             [
              0.4444444444444444,
              "#bd3786"
             ],
             [
              0.5555555555555556,
              "#d8576b"
             ],
             [
              0.6666666666666666,
              "#ed7953"
             ],
             [
              0.7777777777777778,
              "#fb9f3a"
             ],
             [
              0.8888888888888888,
              "#fdca26"
             ],
             [
              1,
              "#f0f921"
             ]
            ],
            "type": "surface"
           }
          ],
          "table": [
           {
            "cells": {
             "fill": {
              "color": "#EBF0F8"
             },
             "line": {
              "color": "white"
             }
            },
            "header": {
             "fill": {
              "color": "#C8D4E3"
             },
             "line": {
              "color": "white"
             }
            },
            "type": "table"
           }
          ]
         },
         "layout": {
          "annotationdefaults": {
           "arrowcolor": "#2a3f5f",
           "arrowhead": 0,
           "arrowwidth": 1
          },
          "autotypenumbers": "strict",
          "coloraxis": {
           "colorbar": {
            "outlinewidth": 0,
            "ticks": ""
           }
          },
          "colorscale": {
           "diverging": [
            [
             0,
             "#8e0152"
            ],
            [
             0.1,
             "#c51b7d"
            ],
            [
             0.2,
             "#de77ae"
            ],
            [
             0.3,
             "#f1b6da"
            ],
            [
             0.4,
             "#fde0ef"
            ],
            [
             0.5,
             "#f7f7f7"
            ],
            [
             0.6,
             "#e6f5d0"
            ],
            [
             0.7,
             "#b8e186"
            ],
            [
             0.8,
             "#7fbc41"
            ],
            [
             0.9,
             "#4d9221"
            ],
            [
             1,
             "#276419"
            ]
           ],
           "sequential": [
            [
             0,
             "#0d0887"
            ],
            [
             0.1111111111111111,
             "#46039f"
            ],
            [
             0.2222222222222222,
             "#7201a8"
            ],
            [
             0.3333333333333333,
             "#9c179e"
            ],
            [
             0.4444444444444444,
             "#bd3786"
            ],
            [
             0.5555555555555556,
             "#d8576b"
            ],
            [
             0.6666666666666666,
             "#ed7953"
            ],
            [
             0.7777777777777778,
             "#fb9f3a"
            ],
            [
             0.8888888888888888,
             "#fdca26"
            ],
            [
             1,
             "#f0f921"
            ]
           ],
           "sequentialminus": [
            [
             0,
             "#0d0887"
            ],
            [
             0.1111111111111111,
             "#46039f"
            ],
            [
             0.2222222222222222,
             "#7201a8"
            ],
            [
             0.3333333333333333,
             "#9c179e"
            ],
            [
             0.4444444444444444,
             "#bd3786"
            ],
            [
             0.5555555555555556,
             "#d8576b"
            ],
            [
             0.6666666666666666,
             "#ed7953"
            ],
            [
             0.7777777777777778,
             "#fb9f3a"
            ],
            [
             0.8888888888888888,
             "#fdca26"
            ],
            [
             1,
             "#f0f921"
            ]
           ]
          },
          "colorway": [
           "#636efa",
           "#EF553B",
           "#00cc96",
           "#ab63fa",
           "#FFA15A",
           "#19d3f3",
           "#FF6692",
           "#B6E880",
           "#FF97FF",
           "#FECB52"
          ],
          "font": {
           "color": "#2a3f5f"
          },
          "geo": {
           "bgcolor": "white",
           "lakecolor": "white",
           "landcolor": "#E5ECF6",
           "showlakes": true,
           "showland": true,
           "subunitcolor": "white"
          },
          "hoverlabel": {
           "align": "left"
          },
          "hovermode": "closest",
          "mapbox": {
           "style": "light"
          },
          "paper_bgcolor": "white",
          "plot_bgcolor": "#E5ECF6",
          "polar": {
           "angularaxis": {
            "gridcolor": "white",
            "linecolor": "white",
            "ticks": ""
           },
           "bgcolor": "#E5ECF6",
           "radialaxis": {
            "gridcolor": "white",
            "linecolor": "white",
            "ticks": ""
           }
          },
          "scene": {
           "xaxis": {
            "backgroundcolor": "#E5ECF6",
            "gridcolor": "white",
            "gridwidth": 2,
            "linecolor": "white",
            "showbackground": true,
            "ticks": "",
            "zerolinecolor": "white"
           },
           "yaxis": {
            "backgroundcolor": "#E5ECF6",
            "gridcolor": "white",
            "gridwidth": 2,
            "linecolor": "white",
            "showbackground": true,
            "ticks": "",
            "zerolinecolor": "white"
           },
           "zaxis": {
            "backgroundcolor": "#E5ECF6",
            "gridcolor": "white",
            "gridwidth": 2,
            "linecolor": "white",
            "showbackground": true,
            "ticks": "",
            "zerolinecolor": "white"
           }
          },
          "shapedefaults": {
           "line": {
            "color": "#2a3f5f"
           }
          },
          "ternary": {
           "aaxis": {
            "gridcolor": "white",
            "linecolor": "white",
            "ticks": ""
           },
           "baxis": {
            "gridcolor": "white",
            "linecolor": "white",
            "ticks": ""
           },
           "bgcolor": "#E5ECF6",
           "caxis": {
            "gridcolor": "white",
            "linecolor": "white",
            "ticks": ""
           }
          },
          "title": {
           "x": 0.05
          },
          "xaxis": {
           "automargin": true,
           "gridcolor": "white",
           "linecolor": "white",
           "ticks": "",
           "title": {
            "standoff": 15
           },
           "zerolinecolor": "white",
           "zerolinewidth": 2
          },
          "yaxis": {
           "automargin": true,
           "gridcolor": "white",
           "linecolor": "white",
           "ticks": "",
           "title": {
            "standoff": 15
           },
           "zerolinecolor": "white",
           "zerolinewidth": 2
          }
         }
        }
       }
      }
     },
     "metadata": {},
     "output_type": "display_data"
    }
   ],
   "source": [
    "fig = px.choropleth(data_flat, locations = 'countrycode', color = y_dbs, projection='conic conformal')\n",
    "fig.update_geos(\n",
    "    lataxis_range=[35, 75], lonaxis_range=[-15, 45]\n",
    ")\n",
    "fig.show()"
   ]
  },
  {
   "cell_type": "code",
   "execution_count": 36,
   "metadata": {},
   "outputs": [
    {
     "data": {
      "application/vnd.plotly.v1+json": {
       "config": {
        "plotlyServerURL": "https://plot.ly"
       },
       "data": [
        {
         "coloraxis": "coloraxis",
         "geo": "geo",
         "hovertemplate": "countrycode=%{location}<br>color=%{z}<extra></extra>",
         "locations": [
          "ALB",
          "AUT",
          "BEL",
          "BGR",
          "BIH",
          "BLR",
          "CHE",
          "CZE",
          "DEU",
          "DNK",
          "ESP",
          "EST",
          "FIN",
          "FRA",
          "GBR",
          "GRC",
          "HRV",
          "HUN",
          "IRL",
          "ISL",
          "ITA",
          "LTU",
          "LUX",
          "LVA",
          "MDA",
          "MKD",
          "MLT",
          "MNE",
          "NLD",
          "NOR",
          "POL",
          "PRT",
          "ROU",
          "RUS",
          "SRB",
          "SVK",
          "SVN",
          "SWE",
          "UKR"
         ],
         "name": "",
         "type": "choropleth",
         "z": [
          3,
          0,
          0,
          1,
          3,
          1,
          0,
          1,
          2,
          0,
          2,
          1,
          0,
          2,
          2,
          1,
          1,
          1,
          0,
          0,
          2,
          1,
          0,
          1,
          3,
          3,
          0,
          1,
          0,
          0,
          1,
          1,
          1,
          2,
          1,
          1,
          1,
          0,
          1
         ]
        }
       ],
       "layout": {
        "coloraxis": {
         "colorbar": {
          "title": {
           "text": "color"
          }
         },
         "colorscale": [
          [
           0,
           "#0d0887"
          ],
          [
           0.1111111111111111,
           "#46039f"
          ],
          [
           0.2222222222222222,
           "#7201a8"
          ],
          [
           0.3333333333333333,
           "#9c179e"
          ],
          [
           0.4444444444444444,
           "#bd3786"
          ],
          [
           0.5555555555555556,
           "#d8576b"
          ],
          [
           0.6666666666666666,
           "#ed7953"
          ],
          [
           0.7777777777777778,
           "#fb9f3a"
          ],
          [
           0.8888888888888888,
           "#fdca26"
          ],
          [
           1,
           "#f0f921"
          ]
         ]
        },
        "geo": {
         "center": {},
         "domain": {
          "x": [
           0,
           1
          ],
          "y": [
           0,
           1
          ]
         },
         "lataxis": {
          "range": [
           35,
           75
          ]
         },
         "lonaxis": {
          "range": [
           -15,
           45
          ]
         },
         "projection": {
          "type": "conic conformal"
         }
        },
        "legend": {
         "tracegroupgap": 0
        },
        "margin": {
         "t": 60
        },
        "template": {
         "data": {
          "bar": [
           {
            "error_x": {
             "color": "#2a3f5f"
            },
            "error_y": {
             "color": "#2a3f5f"
            },
            "marker": {
             "line": {
              "color": "#E5ECF6",
              "width": 0.5
             },
             "pattern": {
              "fillmode": "overlay",
              "size": 10,
              "solidity": 0.2
             }
            },
            "type": "bar"
           }
          ],
          "barpolar": [
           {
            "marker": {
             "line": {
              "color": "#E5ECF6",
              "width": 0.5
             },
             "pattern": {
              "fillmode": "overlay",
              "size": 10,
              "solidity": 0.2
             }
            },
            "type": "barpolar"
           }
          ],
          "carpet": [
           {
            "aaxis": {
             "endlinecolor": "#2a3f5f",
             "gridcolor": "white",
             "linecolor": "white",
             "minorgridcolor": "white",
             "startlinecolor": "#2a3f5f"
            },
            "baxis": {
             "endlinecolor": "#2a3f5f",
             "gridcolor": "white",
             "linecolor": "white",
             "minorgridcolor": "white",
             "startlinecolor": "#2a3f5f"
            },
            "type": "carpet"
           }
          ],
          "choropleth": [
           {
            "colorbar": {
             "outlinewidth": 0,
             "ticks": ""
            },
            "type": "choropleth"
           }
          ],
          "contour": [
           {
            "colorbar": {
             "outlinewidth": 0,
             "ticks": ""
            },
            "colorscale": [
             [
              0,
              "#0d0887"
             ],
             [
              0.1111111111111111,
              "#46039f"
             ],
             [
              0.2222222222222222,
              "#7201a8"
             ],
             [
              0.3333333333333333,
              "#9c179e"
             ],
             [
              0.4444444444444444,
              "#bd3786"
             ],
             [
              0.5555555555555556,
              "#d8576b"
             ],
             [
              0.6666666666666666,
              "#ed7953"
             ],
             [
              0.7777777777777778,
              "#fb9f3a"
             ],
             [
              0.8888888888888888,
              "#fdca26"
             ],
             [
              1,
              "#f0f921"
             ]
            ],
            "type": "contour"
           }
          ],
          "contourcarpet": [
           {
            "colorbar": {
             "outlinewidth": 0,
             "ticks": ""
            },
            "type": "contourcarpet"
           }
          ],
          "heatmap": [
           {
            "colorbar": {
             "outlinewidth": 0,
             "ticks": ""
            },
            "colorscale": [
             [
              0,
              "#0d0887"
             ],
             [
              0.1111111111111111,
              "#46039f"
             ],
             [
              0.2222222222222222,
              "#7201a8"
             ],
             [
              0.3333333333333333,
              "#9c179e"
             ],
             [
              0.4444444444444444,
              "#bd3786"
             ],
             [
              0.5555555555555556,
              "#d8576b"
             ],
             [
              0.6666666666666666,
              "#ed7953"
             ],
             [
              0.7777777777777778,
              "#fb9f3a"
             ],
             [
              0.8888888888888888,
              "#fdca26"
             ],
             [
              1,
              "#f0f921"
             ]
            ],
            "type": "heatmap"
           }
          ],
          "heatmapgl": [
           {
            "colorbar": {
             "outlinewidth": 0,
             "ticks": ""
            },
            "colorscale": [
             [
              0,
              "#0d0887"
             ],
             [
              0.1111111111111111,
              "#46039f"
             ],
             [
              0.2222222222222222,
              "#7201a8"
             ],
             [
              0.3333333333333333,
              "#9c179e"
             ],
             [
              0.4444444444444444,
              "#bd3786"
             ],
             [
              0.5555555555555556,
              "#d8576b"
             ],
             [
              0.6666666666666666,
              "#ed7953"
             ],
             [
              0.7777777777777778,
              "#fb9f3a"
             ],
             [
              0.8888888888888888,
              "#fdca26"
             ],
             [
              1,
              "#f0f921"
             ]
            ],
            "type": "heatmapgl"
           }
          ],
          "histogram": [
           {
            "marker": {
             "pattern": {
              "fillmode": "overlay",
              "size": 10,
              "solidity": 0.2
             }
            },
            "type": "histogram"
           }
          ],
          "histogram2d": [
           {
            "colorbar": {
             "outlinewidth": 0,
             "ticks": ""
            },
            "colorscale": [
             [
              0,
              "#0d0887"
             ],
             [
              0.1111111111111111,
              "#46039f"
             ],
             [
              0.2222222222222222,
              "#7201a8"
             ],
             [
              0.3333333333333333,
              "#9c179e"
             ],
             [
              0.4444444444444444,
              "#bd3786"
             ],
             [
              0.5555555555555556,
              "#d8576b"
             ],
             [
              0.6666666666666666,
              "#ed7953"
             ],
             [
              0.7777777777777778,
              "#fb9f3a"
             ],
             [
              0.8888888888888888,
              "#fdca26"
             ],
             [
              1,
              "#f0f921"
             ]
            ],
            "type": "histogram2d"
           }
          ],
          "histogram2dcontour": [
           {
            "colorbar": {
             "outlinewidth": 0,
             "ticks": ""
            },
            "colorscale": [
             [
              0,
              "#0d0887"
             ],
             [
              0.1111111111111111,
              "#46039f"
             ],
             [
              0.2222222222222222,
              "#7201a8"
             ],
             [
              0.3333333333333333,
              "#9c179e"
             ],
             [
              0.4444444444444444,
              "#bd3786"
             ],
             [
              0.5555555555555556,
              "#d8576b"
             ],
             [
              0.6666666666666666,
              "#ed7953"
             ],
             [
              0.7777777777777778,
              "#fb9f3a"
             ],
             [
              0.8888888888888888,
              "#fdca26"
             ],
             [
              1,
              "#f0f921"
             ]
            ],
            "type": "histogram2dcontour"
           }
          ],
          "mesh3d": [
           {
            "colorbar": {
             "outlinewidth": 0,
             "ticks": ""
            },
            "type": "mesh3d"
           }
          ],
          "parcoords": [
           {
            "line": {
             "colorbar": {
              "outlinewidth": 0,
              "ticks": ""
             }
            },
            "type": "parcoords"
           }
          ],
          "pie": [
           {
            "automargin": true,
            "type": "pie"
           }
          ],
          "scatter": [
           {
            "marker": {
             "colorbar": {
              "outlinewidth": 0,
              "ticks": ""
             }
            },
            "type": "scatter"
           }
          ],
          "scatter3d": [
           {
            "line": {
             "colorbar": {
              "outlinewidth": 0,
              "ticks": ""
             }
            },
            "marker": {
             "colorbar": {
              "outlinewidth": 0,
              "ticks": ""
             }
            },
            "type": "scatter3d"
           }
          ],
          "scattercarpet": [
           {
            "marker": {
             "colorbar": {
              "outlinewidth": 0,
              "ticks": ""
             }
            },
            "type": "scattercarpet"
           }
          ],
          "scattergeo": [
           {
            "marker": {
             "colorbar": {
              "outlinewidth": 0,
              "ticks": ""
             }
            },
            "type": "scattergeo"
           }
          ],
          "scattergl": [
           {
            "marker": {
             "colorbar": {
              "outlinewidth": 0,
              "ticks": ""
             }
            },
            "type": "scattergl"
           }
          ],
          "scattermapbox": [
           {
            "marker": {
             "colorbar": {
              "outlinewidth": 0,
              "ticks": ""
             }
            },
            "type": "scattermapbox"
           }
          ],
          "scatterpolar": [
           {
            "marker": {
             "colorbar": {
              "outlinewidth": 0,
              "ticks": ""
             }
            },
            "type": "scatterpolar"
           }
          ],
          "scatterpolargl": [
           {
            "marker": {
             "colorbar": {
              "outlinewidth": 0,
              "ticks": ""
             }
            },
            "type": "scatterpolargl"
           }
          ],
          "scatterternary": [
           {
            "marker": {
             "colorbar": {
              "outlinewidth": 0,
              "ticks": ""
             }
            },
            "type": "scatterternary"
           }
          ],
          "surface": [
           {
            "colorbar": {
             "outlinewidth": 0,
             "ticks": ""
            },
            "colorscale": [
             [
              0,
              "#0d0887"
             ],
             [
              0.1111111111111111,
              "#46039f"
             ],
             [
              0.2222222222222222,
              "#7201a8"
             ],
             [
              0.3333333333333333,
              "#9c179e"
             ],
             [
              0.4444444444444444,
              "#bd3786"
             ],
             [
              0.5555555555555556,
              "#d8576b"
             ],
             [
              0.6666666666666666,
              "#ed7953"
             ],
             [
              0.7777777777777778,
              "#fb9f3a"
             ],
             [
              0.8888888888888888,
              "#fdca26"
             ],
             [
              1,
              "#f0f921"
             ]
            ],
            "type": "surface"
           }
          ],
          "table": [
           {
            "cells": {
             "fill": {
              "color": "#EBF0F8"
             },
             "line": {
              "color": "white"
             }
            },
            "header": {
             "fill": {
              "color": "#C8D4E3"
             },
             "line": {
              "color": "white"
             }
            },
            "type": "table"
           }
          ]
         },
         "layout": {
          "annotationdefaults": {
           "arrowcolor": "#2a3f5f",
           "arrowhead": 0,
           "arrowwidth": 1
          },
          "autotypenumbers": "strict",
          "coloraxis": {
           "colorbar": {
            "outlinewidth": 0,
            "ticks": ""
           }
          },
          "colorscale": {
           "diverging": [
            [
             0,
             "#8e0152"
            ],
            [
             0.1,
             "#c51b7d"
            ],
            [
             0.2,
             "#de77ae"
            ],
            [
             0.3,
             "#f1b6da"
            ],
            [
             0.4,
             "#fde0ef"
            ],
            [
             0.5,
             "#f7f7f7"
            ],
            [
             0.6,
             "#e6f5d0"
            ],
            [
             0.7,
             "#b8e186"
            ],
            [
             0.8,
             "#7fbc41"
            ],
            [
             0.9,
             "#4d9221"
            ],
            [
             1,
             "#276419"
            ]
           ],
           "sequential": [
            [
             0,
             "#0d0887"
            ],
            [
             0.1111111111111111,
             "#46039f"
            ],
            [
             0.2222222222222222,
             "#7201a8"
            ],
            [
             0.3333333333333333,
             "#9c179e"
            ],
            [
             0.4444444444444444,
             "#bd3786"
            ],
            [
             0.5555555555555556,
             "#d8576b"
            ],
            [
             0.6666666666666666,
             "#ed7953"
            ],
            [
             0.7777777777777778,
             "#fb9f3a"
            ],
            [
             0.8888888888888888,
             "#fdca26"
            ],
            [
             1,
             "#f0f921"
            ]
           ],
           "sequentialminus": [
            [
             0,
             "#0d0887"
            ],
            [
             0.1111111111111111,
             "#46039f"
            ],
            [
             0.2222222222222222,
             "#7201a8"
            ],
            [
             0.3333333333333333,
             "#9c179e"
            ],
            [
             0.4444444444444444,
             "#bd3786"
            ],
            [
             0.5555555555555556,
             "#d8576b"
            ],
            [
             0.6666666666666666,
             "#ed7953"
            ],
            [
             0.7777777777777778,
             "#fb9f3a"
            ],
            [
             0.8888888888888888,
             "#fdca26"
            ],
            [
             1,
             "#f0f921"
            ]
           ]
          },
          "colorway": [
           "#636efa",
           "#EF553B",
           "#00cc96",
           "#ab63fa",
           "#FFA15A",
           "#19d3f3",
           "#FF6692",
           "#B6E880",
           "#FF97FF",
           "#FECB52"
          ],
          "font": {
           "color": "#2a3f5f"
          },
          "geo": {
           "bgcolor": "white",
           "lakecolor": "white",
           "landcolor": "#E5ECF6",
           "showlakes": true,
           "showland": true,
           "subunitcolor": "white"
          },
          "hoverlabel": {
           "align": "left"
          },
          "hovermode": "closest",
          "mapbox": {
           "style": "light"
          },
          "paper_bgcolor": "white",
          "plot_bgcolor": "#E5ECF6",
          "polar": {
           "angularaxis": {
            "gridcolor": "white",
            "linecolor": "white",
            "ticks": ""
           },
           "bgcolor": "#E5ECF6",
           "radialaxis": {
            "gridcolor": "white",
            "linecolor": "white",
            "ticks": ""
           }
          },
          "scene": {
           "xaxis": {
            "backgroundcolor": "#E5ECF6",
            "gridcolor": "white",
            "gridwidth": 2,
            "linecolor": "white",
            "showbackground": true,
            "ticks": "",
            "zerolinecolor": "white"
           },
           "yaxis": {
            "backgroundcolor": "#E5ECF6",
            "gridcolor": "white",
            "gridwidth": 2,
            "linecolor": "white",
            "showbackground": true,
            "ticks": "",
            "zerolinecolor": "white"
           },
           "zaxis": {
            "backgroundcolor": "#E5ECF6",
            "gridcolor": "white",
            "gridwidth": 2,
            "linecolor": "white",
            "showbackground": true,
            "ticks": "",
            "zerolinecolor": "white"
           }
          },
          "shapedefaults": {
           "line": {
            "color": "#2a3f5f"
           }
          },
          "ternary": {
           "aaxis": {
            "gridcolor": "white",
            "linecolor": "white",
            "ticks": ""
           },
           "baxis": {
            "gridcolor": "white",
            "linecolor": "white",
            "ticks": ""
           },
           "bgcolor": "#E5ECF6",
           "caxis": {
            "gridcolor": "white",
            "linecolor": "white",
            "ticks": ""
           }
          },
          "title": {
           "x": 0.05
          },
          "xaxis": {
           "automargin": true,
           "gridcolor": "white",
           "linecolor": "white",
           "ticks": "",
           "title": {
            "standoff": 15
           },
           "zerolinecolor": "white",
           "zerolinewidth": 2
          },
          "yaxis": {
           "automargin": true,
           "gridcolor": "white",
           "linecolor": "white",
           "ticks": "",
           "title": {
            "standoff": 15
           },
           "zerolinecolor": "white",
           "zerolinewidth": 2
          }
         }
        }
       }
      }
     },
     "metadata": {},
     "output_type": "display_data"
    }
   ],
   "source": [
    "# from dtaidistance import dtw\n",
    "# df = data.drop(['countrycode', 'country'], axis = 1)\n",
    "# df = dtw.distance_matrix_fast(df)\n",
    "# df.head()\n",
    "\n",
    "# dtw(data['hdi'], data['co2_emission'])\n",
    "# tslearn.utils.to_time_series_dataset(data.drop(['countrycode', 'country'], axis = 1)).shape\n",
    "\n",
    "df = data.drop('year', axis=1).groupby(['countrycode', 'country']).agg(list)\n",
    "all = np.empty(shape=(39,26,30))\n",
    "for i in range(df.shape[0]):\n",
    "    for j in range(df.shape[1]):\n",
    "        all[i][j] = np.array(df.iloc[i,j])\n",
    "\n",
    "# X = random_walks(n_ts=39, sz=30, d=26)\n",
    "all = TimeSeriesScalerMeanVariance(mu=0., std=1.).fit_transform(all)\n",
    "# ks = KShape(n_clusters=4, n_init=1, random_state=0).fit(all)\n",
    "ks = TimeSeriesKMeans(n_clusters=4).fit(all)\n",
    "ks.cluster_centers_\n",
    "ks.labels_\n",
    "\n",
    "fig = px.choropleth(data_flat, locations = 'countrycode', color = ks.labels_, projection='conic conformal')\n",
    "fig.update_geos(\n",
    "    lataxis_range=[35, 75], lonaxis_range=[-15, 45]\n",
    ")\n",
    "fig.show()\n",
    "\n",
    "# (39, 27, 30)\n",
    "# [Albania[hdi[1, 2, 3, 4,5, 6 ,7 .. ,30], co2[1,2,3, ..., 4]]]\n",
    "\n",
    "# np.stack(np.array(df))\n",
    "# tslearn.utils.to_time_series_dataset(df)\n",
    "# X_train, y_train, X_test, y_test = CachedDatasets().load_dataset(\"Trace\")\n",
    "# X_train[0]\n",
    "\n"
   ]
  },
  {
   "cell_type": "code",
   "execution_count": 37,
   "metadata": {},
   "outputs": [
    {
     "ename": "ValueError",
     "evalue": "Found array with dim 3. AgglomerativeClustering expected <= 2.",
     "output_type": "error",
     "traceback": [
      "\u001b[1;31m---------------------------------------------------------------------------\u001b[0m",
      "\u001b[1;31mValueError\u001b[0m                                Traceback (most recent call last)",
      "\u001b[1;32m~\\AppData\\Local\\Temp/ipykernel_14968/175324928.py\u001b[0m in \u001b[0;36m<module>\u001b[1;34m\u001b[0m\n\u001b[0;32m      1\u001b[0m \u001b[0magglomerative\u001b[0m \u001b[1;33m=\u001b[0m \u001b[0mAgglomerativeClustering\u001b[0m\u001b[1;33m(\u001b[0m\u001b[0mlinkage\u001b[0m \u001b[1;33m=\u001b[0m \u001b[1;34m'ward'\u001b[0m\u001b[1;33m,\u001b[0m \u001b[0mn_clusters\u001b[0m \u001b[1;33m=\u001b[0m \u001b[1;36m4\u001b[0m\u001b[1;33m)\u001b[0m\u001b[1;33m\u001b[0m\u001b[1;33m\u001b[0m\u001b[0m\n\u001b[1;32m----> 2\u001b[1;33m \u001b[0my_agg\u001b[0m \u001b[1;33m=\u001b[0m \u001b[0magglomerative\u001b[0m\u001b[1;33m.\u001b[0m\u001b[0mfit_predict\u001b[0m\u001b[1;33m(\u001b[0m\u001b[0mall\u001b[0m\u001b[1;33m)\u001b[0m\u001b[1;33m\u001b[0m\u001b[1;33m\u001b[0m\u001b[0m\n\u001b[0m",
      "\u001b[1;32m~\\anaconda3\\envs\\thesis\\lib\\site-packages\\sklearn\\cluster\\_agglomerative.py\u001b[0m in \u001b[0;36mfit_predict\u001b[1;34m(self, X, y)\u001b[0m\n\u001b[0;32m   1052\u001b[0m             \u001b[0mCluster\u001b[0m \u001b[0mlabels\u001b[0m\u001b[1;33m.\u001b[0m\u001b[1;33m\u001b[0m\u001b[1;33m\u001b[0m\u001b[0m\n\u001b[0;32m   1053\u001b[0m         \"\"\"\n\u001b[1;32m-> 1054\u001b[1;33m         \u001b[1;32mreturn\u001b[0m \u001b[0msuper\u001b[0m\u001b[1;33m(\u001b[0m\u001b[1;33m)\u001b[0m\u001b[1;33m.\u001b[0m\u001b[0mfit_predict\u001b[0m\u001b[1;33m(\u001b[0m\u001b[0mX\u001b[0m\u001b[1;33m,\u001b[0m \u001b[0my\u001b[0m\u001b[1;33m)\u001b[0m\u001b[1;33m\u001b[0m\u001b[1;33m\u001b[0m\u001b[0m\n\u001b[0m\u001b[0;32m   1055\u001b[0m \u001b[1;33m\u001b[0m\u001b[0m\n\u001b[0;32m   1056\u001b[0m \u001b[1;33m\u001b[0m\u001b[0m\n",
      "\u001b[1;32m~\\anaconda3\\envs\\thesis\\lib\\site-packages\\sklearn\\base.py\u001b[0m in \u001b[0;36mfit_predict\u001b[1;34m(self, X, y)\u001b[0m\n\u001b[0;32m    729\u001b[0m         \u001b[1;31m# non-optimized default implementation; override when a better\u001b[0m\u001b[1;33m\u001b[0m\u001b[1;33m\u001b[0m\u001b[1;33m\u001b[0m\u001b[0m\n\u001b[0;32m    730\u001b[0m         \u001b[1;31m# method is possible for a given clustering algorithm\u001b[0m\u001b[1;33m\u001b[0m\u001b[1;33m\u001b[0m\u001b[1;33m\u001b[0m\u001b[0m\n\u001b[1;32m--> 731\u001b[1;33m         \u001b[0mself\u001b[0m\u001b[1;33m.\u001b[0m\u001b[0mfit\u001b[0m\u001b[1;33m(\u001b[0m\u001b[0mX\u001b[0m\u001b[1;33m)\u001b[0m\u001b[1;33m\u001b[0m\u001b[1;33m\u001b[0m\u001b[0m\n\u001b[0m\u001b[0;32m    732\u001b[0m         \u001b[1;32mreturn\u001b[0m \u001b[0mself\u001b[0m\u001b[1;33m.\u001b[0m\u001b[0mlabels_\u001b[0m\u001b[1;33m\u001b[0m\u001b[1;33m\u001b[0m\u001b[0m\n\u001b[0;32m    733\u001b[0m \u001b[1;33m\u001b[0m\u001b[0m\n",
      "\u001b[1;32m~\\anaconda3\\envs\\thesis\\lib\\site-packages\\sklearn\\cluster\\_agglomerative.py\u001b[0m in \u001b[0;36mfit\u001b[1;34m(self, X, y)\u001b[0m\n\u001b[0;32m    915\u001b[0m             \u001b[0mReturns\u001b[0m \u001b[0mthe\u001b[0m \u001b[0mfitted\u001b[0m \u001b[0minstance\u001b[0m\u001b[1;33m.\u001b[0m\u001b[1;33m\u001b[0m\u001b[1;33m\u001b[0m\u001b[0m\n\u001b[0;32m    916\u001b[0m         \"\"\"\n\u001b[1;32m--> 917\u001b[1;33m         \u001b[0mX\u001b[0m \u001b[1;33m=\u001b[0m \u001b[0mself\u001b[0m\u001b[1;33m.\u001b[0m\u001b[0m_validate_data\u001b[0m\u001b[1;33m(\u001b[0m\u001b[0mX\u001b[0m\u001b[1;33m,\u001b[0m \u001b[0mensure_min_samples\u001b[0m\u001b[1;33m=\u001b[0m\u001b[1;36m2\u001b[0m\u001b[1;33m,\u001b[0m \u001b[0mestimator\u001b[0m\u001b[1;33m=\u001b[0m\u001b[0mself\u001b[0m\u001b[1;33m)\u001b[0m\u001b[1;33m\u001b[0m\u001b[1;33m\u001b[0m\u001b[0m\n\u001b[0m\u001b[0;32m    918\u001b[0m         \u001b[1;32mreturn\u001b[0m \u001b[0mself\u001b[0m\u001b[1;33m.\u001b[0m\u001b[0m_fit\u001b[0m\u001b[1;33m(\u001b[0m\u001b[0mX\u001b[0m\u001b[1;33m)\u001b[0m\u001b[1;33m\u001b[0m\u001b[1;33m\u001b[0m\u001b[0m\n\u001b[0;32m    919\u001b[0m \u001b[1;33m\u001b[0m\u001b[0m\n",
      "\u001b[1;32m~\\anaconda3\\envs\\thesis\\lib\\site-packages\\sklearn\\base.py\u001b[0m in \u001b[0;36m_validate_data\u001b[1;34m(self, X, y, reset, validate_separately, **check_params)\u001b[0m\n\u001b[0;32m    559\u001b[0m             \u001b[1;32mraise\u001b[0m \u001b[0mValueError\u001b[0m\u001b[1;33m(\u001b[0m\u001b[1;34m\"Validation should be done on X, y or both.\"\u001b[0m\u001b[1;33m)\u001b[0m\u001b[1;33m\u001b[0m\u001b[1;33m\u001b[0m\u001b[0m\n\u001b[0;32m    560\u001b[0m         \u001b[1;32melif\u001b[0m \u001b[1;32mnot\u001b[0m \u001b[0mno_val_X\u001b[0m \u001b[1;32mand\u001b[0m \u001b[0mno_val_y\u001b[0m\u001b[1;33m:\u001b[0m\u001b[1;33m\u001b[0m\u001b[1;33m\u001b[0m\u001b[0m\n\u001b[1;32m--> 561\u001b[1;33m             \u001b[0mX\u001b[0m \u001b[1;33m=\u001b[0m \u001b[0mcheck_array\u001b[0m\u001b[1;33m(\u001b[0m\u001b[0mX\u001b[0m\u001b[1;33m,\u001b[0m \u001b[1;33m**\u001b[0m\u001b[0mcheck_params\u001b[0m\u001b[1;33m)\u001b[0m\u001b[1;33m\u001b[0m\u001b[1;33m\u001b[0m\u001b[0m\n\u001b[0m\u001b[0;32m    562\u001b[0m             \u001b[0mout\u001b[0m \u001b[1;33m=\u001b[0m \u001b[0mX\u001b[0m\u001b[1;33m\u001b[0m\u001b[1;33m\u001b[0m\u001b[0m\n\u001b[0;32m    563\u001b[0m         \u001b[1;32melif\u001b[0m \u001b[0mno_val_X\u001b[0m \u001b[1;32mand\u001b[0m \u001b[1;32mnot\u001b[0m \u001b[0mno_val_y\u001b[0m\u001b[1;33m:\u001b[0m\u001b[1;33m\u001b[0m\u001b[1;33m\u001b[0m\u001b[0m\n",
      "\u001b[1;32m~\\anaconda3\\envs\\thesis\\lib\\site-packages\\sklearn\\utils\\validation.py\u001b[0m in \u001b[0;36mcheck_array\u001b[1;34m(array, accept_sparse, accept_large_sparse, dtype, order, copy, force_all_finite, ensure_2d, allow_nd, ensure_min_samples, ensure_min_features, estimator)\u001b[0m\n\u001b[0;32m    784\u001b[0m                 ) from e\n\u001b[0;32m    785\u001b[0m         \u001b[1;32mif\u001b[0m \u001b[1;32mnot\u001b[0m \u001b[0mallow_nd\u001b[0m \u001b[1;32mand\u001b[0m \u001b[0marray\u001b[0m\u001b[1;33m.\u001b[0m\u001b[0mndim\u001b[0m \u001b[1;33m>=\u001b[0m \u001b[1;36m3\u001b[0m\u001b[1;33m:\u001b[0m\u001b[1;33m\u001b[0m\u001b[1;33m\u001b[0m\u001b[0m\n\u001b[1;32m--> 786\u001b[1;33m             raise ValueError(\n\u001b[0m\u001b[0;32m    787\u001b[0m                 \u001b[1;34m\"Found array with dim %d. %s expected <= 2.\"\u001b[0m\u001b[1;33m\u001b[0m\u001b[1;33m\u001b[0m\u001b[0m\n\u001b[0;32m    788\u001b[0m                 \u001b[1;33m%\u001b[0m \u001b[1;33m(\u001b[0m\u001b[0marray\u001b[0m\u001b[1;33m.\u001b[0m\u001b[0mndim\u001b[0m\u001b[1;33m,\u001b[0m \u001b[0mestimator_name\u001b[0m\u001b[1;33m)\u001b[0m\u001b[1;33m\u001b[0m\u001b[1;33m\u001b[0m\u001b[0m\n",
      "\u001b[1;31mValueError\u001b[0m: Found array with dim 3. AgglomerativeClustering expected <= 2."
     ]
    }
   ],
   "source": [
    "agglomerative = AgglomerativeClustering(linkage = 'ward', n_clusters = 4)\n",
    "y_agg = agglomerative.fit_predict(all)"
   ]
  },
  {
   "cell_type": "code",
   "execution_count": 38,
   "metadata": {},
   "outputs": [
    {
     "ename": "ValueError",
     "evalue": "operand has more dimensions than subscripts given in einstein sum, but no '...' ellipsis provided to broadcast the extra dimensions.",
     "output_type": "error",
     "traceback": [
      "\u001b[1;31m---------------------------------------------------------------------------\u001b[0m",
      "\u001b[1;31mValueError\u001b[0m                                Traceback (most recent call last)",
      "\u001b[1;32m~\\AppData\\Local\\Temp/ipykernel_14968/2956423778.py\u001b[0m in \u001b[0;36m<module>\u001b[1;34m\u001b[0m\n\u001b[0;32m      1\u001b[0m \u001b[0mfcm\u001b[0m \u001b[1;33m=\u001b[0m \u001b[0mFCM\u001b[0m\u001b[1;33m(\u001b[0m\u001b[0mn_clusters\u001b[0m\u001b[1;33m=\u001b[0m\u001b[1;36m4\u001b[0m\u001b[1;33m)\u001b[0m\u001b[1;33m\u001b[0m\u001b[1;33m\u001b[0m\u001b[0m\n\u001b[1;32m----> 2\u001b[1;33m \u001b[0mfcm\u001b[0m\u001b[1;33m.\u001b[0m\u001b[0mfit\u001b[0m\u001b[1;33m(\u001b[0m\u001b[0mall\u001b[0m\u001b[1;33m)\u001b[0m\u001b[1;33m\u001b[0m\u001b[1;33m\u001b[0m\u001b[0m\n\u001b[0m\u001b[0;32m      3\u001b[0m \u001b[0my_fcm\u001b[0m \u001b[1;33m=\u001b[0m \u001b[0mfcm\u001b[0m\u001b[1;33m.\u001b[0m\u001b[0mpredict\u001b[0m\u001b[1;33m(\u001b[0m\u001b[0mall\u001b[0m\u001b[1;33m)\u001b[0m\u001b[1;33m\u001b[0m\u001b[1;33m\u001b[0m\u001b[0m\n",
      "\u001b[1;32m~\\anaconda3\\envs\\thesis\\lib\\site-packages\\pydantic\\decorator.cp38-win_amd64.pyd\u001b[0m in \u001b[0;36mpydantic.decorator.validate_arguments.validate.wrapper_function\u001b[1;34m()\u001b[0m\n",
      "\u001b[1;32m~\\anaconda3\\envs\\thesis\\lib\\site-packages\\pydantic\\decorator.cp38-win_amd64.pyd\u001b[0m in \u001b[0;36mpydantic.decorator.ValidatedFunction.call\u001b[1;34m()\u001b[0m\n",
      "\u001b[1;32m~\\anaconda3\\envs\\thesis\\lib\\site-packages\\pydantic\\decorator.cp38-win_amd64.pyd\u001b[0m in \u001b[0;36mpydantic.decorator.ValidatedFunction.execute\u001b[1;34m()\u001b[0m\n",
      "\u001b[1;32m~\\AppData\\Roaming\\Python\\Python38\\site-packages\\fcmeans\\main.py\u001b[0m in \u001b[0;36mfit\u001b[1;34m(self, X)\u001b[0m\n\u001b[0;32m     36\u001b[0m             \u001b[0mu_old\u001b[0m \u001b[1;33m=\u001b[0m \u001b[0mself\u001b[0m\u001b[1;33m.\u001b[0m\u001b[0mu\u001b[0m\u001b[1;33m.\u001b[0m\u001b[0mcopy\u001b[0m\u001b[1;33m(\u001b[0m\u001b[1;33m)\u001b[0m\u001b[1;33m\u001b[0m\u001b[1;33m\u001b[0m\u001b[0m\n\u001b[0;32m     37\u001b[0m             \u001b[0mself\u001b[0m\u001b[1;33m.\u001b[0m\u001b[0m_centers\u001b[0m \u001b[1;33m=\u001b[0m \u001b[0mFCM\u001b[0m\u001b[1;33m.\u001b[0m\u001b[0m_next_centers\u001b[0m\u001b[1;33m(\u001b[0m\u001b[0mX\u001b[0m\u001b[1;33m,\u001b[0m \u001b[0mself\u001b[0m\u001b[1;33m.\u001b[0m\u001b[0mu\u001b[0m\u001b[1;33m,\u001b[0m \u001b[0mself\u001b[0m\u001b[1;33m.\u001b[0m\u001b[0mm\u001b[0m\u001b[1;33m)\u001b[0m\u001b[1;33m\u001b[0m\u001b[1;33m\u001b[0m\u001b[0m\n\u001b[1;32m---> 38\u001b[1;33m             \u001b[0mself\u001b[0m\u001b[1;33m.\u001b[0m\u001b[0mu\u001b[0m \u001b[1;33m=\u001b[0m \u001b[0mself\u001b[0m\u001b[1;33m.\u001b[0m\u001b[0msoft_predict\u001b[0m\u001b[1;33m(\u001b[0m\u001b[0mX\u001b[0m\u001b[1;33m)\u001b[0m\u001b[1;33m\u001b[0m\u001b[1;33m\u001b[0m\u001b[0m\n\u001b[0m\u001b[0;32m     39\u001b[0m             \u001b[1;31m# Stopping rule\u001b[0m\u001b[1;33m\u001b[0m\u001b[1;33m\u001b[0m\u001b[1;33m\u001b[0m\u001b[0m\n\u001b[0;32m     40\u001b[0m             \u001b[1;32mif\u001b[0m \u001b[0mnp\u001b[0m\u001b[1;33m.\u001b[0m\u001b[0mlinalg\u001b[0m\u001b[1;33m.\u001b[0m\u001b[0mnorm\u001b[0m\u001b[1;33m(\u001b[0m\u001b[0mself\u001b[0m\u001b[1;33m.\u001b[0m\u001b[0mu\u001b[0m \u001b[1;33m-\u001b[0m \u001b[0mu_old\u001b[0m\u001b[1;33m)\u001b[0m \u001b[1;33m<\u001b[0m \u001b[0mself\u001b[0m\u001b[1;33m.\u001b[0m\u001b[0merror\u001b[0m\u001b[1;33m:\u001b[0m\u001b[1;33m\u001b[0m\u001b[1;33m\u001b[0m\u001b[0m\n",
      "\u001b[1;32m~\\AppData\\Roaming\\Python\\Python38\\site-packages\\fcmeans\\main.py\u001b[0m in \u001b[0;36msoft_predict\u001b[1;34m(self, X)\u001b[0m\n\u001b[0;32m     56\u001b[0m             \u001b[1;32mand\u001b[0m \u001b[0mn_clusters\u001b[0m \u001b[0mcolumns\u001b[0m\u001b[1;33m.\u001b[0m\u001b[1;33m\u001b[0m\u001b[1;33m\u001b[0m\u001b[0m\n\u001b[0;32m     57\u001b[0m         \"\"\"\n\u001b[1;32m---> 58\u001b[1;33m         \u001b[0mtemp\u001b[0m \u001b[1;33m=\u001b[0m \u001b[0mFCM\u001b[0m\u001b[1;33m.\u001b[0m\u001b[0m_dist\u001b[0m\u001b[1;33m(\u001b[0m\u001b[0mX\u001b[0m\u001b[1;33m,\u001b[0m \u001b[0mself\u001b[0m\u001b[1;33m.\u001b[0m\u001b[0m_centers\u001b[0m\u001b[1;33m)\u001b[0m \u001b[1;33m**\u001b[0m \u001b[0mfloat\u001b[0m\u001b[1;33m(\u001b[0m\u001b[1;36m2\u001b[0m \u001b[1;33m/\u001b[0m \u001b[1;33m(\u001b[0m\u001b[0mself\u001b[0m\u001b[1;33m.\u001b[0m\u001b[0mm\u001b[0m \u001b[1;33m-\u001b[0m \u001b[1;36m1\u001b[0m\u001b[1;33m)\u001b[0m\u001b[1;33m)\u001b[0m\u001b[1;33m\u001b[0m\u001b[1;33m\u001b[0m\u001b[0m\n\u001b[0m\u001b[0;32m     59\u001b[0m         denominator_ = temp.reshape(\n\u001b[0;32m     60\u001b[0m             (X.shape[0], 1, -1)).repeat(temp.shape[-1], axis=1)\n",
      "\u001b[1;32m~\\AppData\\Roaming\\Python\\Python38\\site-packages\\fcmeans\\main.py\u001b[0m in \u001b[0;36m_dist\u001b[1;34m(A, B)\u001b[0m\n\u001b[0;32m     90\u001b[0m     \u001b[1;32mdef\u001b[0m \u001b[0m_dist\u001b[0m\u001b[1;33m(\u001b[0m\u001b[0mA\u001b[0m\u001b[1;33m,\u001b[0m \u001b[0mB\u001b[0m\u001b[1;33m)\u001b[0m\u001b[1;33m:\u001b[0m\u001b[1;33m\u001b[0m\u001b[1;33m\u001b[0m\u001b[0m\n\u001b[0;32m     91\u001b[0m         \u001b[1;34m\"\"\"Compute the euclidean distance two matrices\"\"\"\u001b[0m\u001b[1;33m\u001b[0m\u001b[1;33m\u001b[0m\u001b[0m\n\u001b[1;32m---> 92\u001b[1;33m         \u001b[1;32mreturn\u001b[0m \u001b[0mnp\u001b[0m\u001b[1;33m.\u001b[0m\u001b[0msqrt\u001b[0m\u001b[1;33m(\u001b[0m\u001b[0mnp\u001b[0m\u001b[1;33m.\u001b[0m\u001b[0meinsum\u001b[0m\u001b[1;33m(\u001b[0m\u001b[1;34m\"ijk->ij\"\u001b[0m\u001b[1;33m,\u001b[0m \u001b[1;33m(\u001b[0m\u001b[0mA\u001b[0m\u001b[1;33m[\u001b[0m\u001b[1;33m:\u001b[0m\u001b[1;33m,\u001b[0m \u001b[1;32mNone\u001b[0m\u001b[1;33m,\u001b[0m \u001b[1;33m:\u001b[0m\u001b[1;33m]\u001b[0m \u001b[1;33m-\u001b[0m \u001b[0mB\u001b[0m\u001b[1;33m)\u001b[0m \u001b[1;33m**\u001b[0m \u001b[1;36m2\u001b[0m\u001b[1;33m)\u001b[0m\u001b[1;33m)\u001b[0m\u001b[1;33m\u001b[0m\u001b[1;33m\u001b[0m\u001b[0m\n\u001b[0m\u001b[0;32m     93\u001b[0m \u001b[1;33m\u001b[0m\u001b[0m\n\u001b[0;32m     94\u001b[0m     \u001b[1;33m@\u001b[0m\u001b[0mstaticmethod\u001b[0m\u001b[1;33m\u001b[0m\u001b[1;33m\u001b[0m\u001b[0m\n",
      "\u001b[1;32m<__array_function__ internals>\u001b[0m in \u001b[0;36meinsum\u001b[1;34m(*args, **kwargs)\u001b[0m\n",
      "\u001b[1;32m~\\anaconda3\\envs\\thesis\\lib\\site-packages\\numpy\\core\\einsumfunc.py\u001b[0m in \u001b[0;36meinsum\u001b[1;34m(out, optimize, *operands, **kwargs)\u001b[0m\n\u001b[0;32m   1359\u001b[0m         \u001b[1;32mif\u001b[0m \u001b[0mspecified_out\u001b[0m\u001b[1;33m:\u001b[0m\u001b[1;33m\u001b[0m\u001b[1;33m\u001b[0m\u001b[0m\n\u001b[0;32m   1360\u001b[0m             \u001b[0mkwargs\u001b[0m\u001b[1;33m[\u001b[0m\u001b[1;34m'out'\u001b[0m\u001b[1;33m]\u001b[0m \u001b[1;33m=\u001b[0m \u001b[0mout\u001b[0m\u001b[1;33m\u001b[0m\u001b[1;33m\u001b[0m\u001b[0m\n\u001b[1;32m-> 1361\u001b[1;33m         \u001b[1;32mreturn\u001b[0m \u001b[0mc_einsum\u001b[0m\u001b[1;33m(\u001b[0m\u001b[1;33m*\u001b[0m\u001b[0moperands\u001b[0m\u001b[1;33m,\u001b[0m \u001b[1;33m**\u001b[0m\u001b[0mkwargs\u001b[0m\u001b[1;33m)\u001b[0m\u001b[1;33m\u001b[0m\u001b[1;33m\u001b[0m\u001b[0m\n\u001b[0m\u001b[0;32m   1362\u001b[0m \u001b[1;33m\u001b[0m\u001b[0m\n\u001b[0;32m   1363\u001b[0m     \u001b[1;31m# Check the kwargs to avoid a more cryptic error later, without having to\u001b[0m\u001b[1;33m\u001b[0m\u001b[1;33m\u001b[0m\u001b[1;33m\u001b[0m\u001b[0m\n",
      "\u001b[1;31mValueError\u001b[0m: operand has more dimensions than subscripts given in einstein sum, but no '...' ellipsis provided to broadcast the extra dimensions."
     ]
    }
   ],
   "source": [
    "fcm = FCM(n_clusters=4)\n",
    "fcm.fit(all)\n",
    "y_fcm = fcm.predict(all)"
   ]
  },
  {
   "cell_type": "code",
   "execution_count": 40,
   "metadata": {},
   "outputs": [
    {
     "ename": "TypeError",
     "evalue": "can't multiply sequence by non-int of type 'float'",
     "output_type": "error",
     "traceback": [
      "\u001b[1;31m---------------------------------------------------------------------------\u001b[0m",
      "\u001b[1;31mTypeError\u001b[0m                                 Traceback (most recent call last)",
      "\u001b[1;32m~\\AppData\\Local\\Temp/ipykernel_14968/3991721628.py\u001b[0m in \u001b[0;36m<module>\u001b[1;34m\u001b[0m\n\u001b[1;32m----> 1\u001b[1;33m \u001b[0mfuzz\u001b[0m\u001b[1;33m.\u001b[0m\u001b[0mcluster\u001b[0m\u001b[1;33m.\u001b[0m\u001b[0mcmeans\u001b[0m\u001b[1;33m(\u001b[0m\u001b[0mdata\u001b[0m\u001b[1;33m,\u001b[0m \u001b[1;36m3\u001b[0m\u001b[1;33m,\u001b[0m \u001b[1;36m2\u001b[0m\u001b[1;33m,\u001b[0m \u001b[0merror\u001b[0m\u001b[1;33m=\u001b[0m\u001b[1;36m0.005\u001b[0m\u001b[1;33m,\u001b[0m \u001b[0mmaxiter\u001b[0m\u001b[1;33m=\u001b[0m\u001b[1;36m1000\u001b[0m\u001b[1;33m)\u001b[0m\u001b[1;33m\u001b[0m\u001b[1;33m\u001b[0m\u001b[0m\n\u001b[0m",
      "\u001b[1;32m~\\AppData\\Roaming\\Python\\Python38\\site-packages\\skfuzzy\\cluster\\_cmeans.py\u001b[0m in \u001b[0;36mcmeans\u001b[1;34m(data, c, m, error, maxiter, metric, init, seed)\u001b[0m\n\u001b[0;32m    168\u001b[0m     \u001b[1;32mwhile\u001b[0m \u001b[0mp\u001b[0m \u001b[1;33m<\u001b[0m \u001b[0mmaxiter\u001b[0m \u001b[1;33m-\u001b[0m \u001b[1;36m1\u001b[0m\u001b[1;33m:\u001b[0m\u001b[1;33m\u001b[0m\u001b[1;33m\u001b[0m\u001b[0m\n\u001b[0;32m    169\u001b[0m         \u001b[0mu2\u001b[0m \u001b[1;33m=\u001b[0m \u001b[0mu\u001b[0m\u001b[1;33m.\u001b[0m\u001b[0mcopy\u001b[0m\u001b[1;33m(\u001b[0m\u001b[1;33m)\u001b[0m\u001b[1;33m\u001b[0m\u001b[1;33m\u001b[0m\u001b[0m\n\u001b[1;32m--> 170\u001b[1;33m         \u001b[1;33m[\u001b[0m\u001b[0mcntr\u001b[0m\u001b[1;33m,\u001b[0m \u001b[0mu\u001b[0m\u001b[1;33m,\u001b[0m \u001b[0mJjm\u001b[0m\u001b[1;33m,\u001b[0m \u001b[0md\u001b[0m\u001b[1;33m]\u001b[0m \u001b[1;33m=\u001b[0m \u001b[0m_cmeans0\u001b[0m\u001b[1;33m(\u001b[0m\u001b[0mdata\u001b[0m\u001b[1;33m,\u001b[0m \u001b[0mu2\u001b[0m\u001b[1;33m,\u001b[0m \u001b[0mc\u001b[0m\u001b[1;33m,\u001b[0m \u001b[0mm\u001b[0m\u001b[1;33m,\u001b[0m \u001b[0mmetric\u001b[0m\u001b[1;33m)\u001b[0m\u001b[1;33m\u001b[0m\u001b[1;33m\u001b[0m\u001b[0m\n\u001b[0m\u001b[0;32m    171\u001b[0m         \u001b[0mjm\u001b[0m \u001b[1;33m=\u001b[0m \u001b[0mnp\u001b[0m\u001b[1;33m.\u001b[0m\u001b[0mhstack\u001b[0m\u001b[1;33m(\u001b[0m\u001b[1;33m(\u001b[0m\u001b[0mjm\u001b[0m\u001b[1;33m,\u001b[0m \u001b[0mJjm\u001b[0m\u001b[1;33m)\u001b[0m\u001b[1;33m)\u001b[0m\u001b[1;33m\u001b[0m\u001b[1;33m\u001b[0m\u001b[0m\n\u001b[0;32m    172\u001b[0m         \u001b[0mp\u001b[0m \u001b[1;33m+=\u001b[0m \u001b[1;36m1\u001b[0m\u001b[1;33m\u001b[0m\u001b[1;33m\u001b[0m\u001b[0m\n",
      "\u001b[1;32m~\\AppData\\Roaming\\Python\\Python38\\site-packages\\skfuzzy\\cluster\\_cmeans.py\u001b[0m in \u001b[0;36m_cmeans0\u001b[1;34m(data, u_old, c, m, metric)\u001b[0m\n\u001b[0;32m     24\u001b[0m     \u001b[1;31m# Calculate cluster centers\u001b[0m\u001b[1;33m\u001b[0m\u001b[1;33m\u001b[0m\u001b[1;33m\u001b[0m\u001b[0m\n\u001b[0;32m     25\u001b[0m     \u001b[0mdata\u001b[0m \u001b[1;33m=\u001b[0m \u001b[0mdata\u001b[0m\u001b[1;33m.\u001b[0m\u001b[0mT\u001b[0m\u001b[1;33m\u001b[0m\u001b[1;33m\u001b[0m\u001b[0m\n\u001b[1;32m---> 26\u001b[1;33m     \u001b[0mcntr\u001b[0m \u001b[1;33m=\u001b[0m \u001b[0mum\u001b[0m\u001b[1;33m.\u001b[0m\u001b[0mdot\u001b[0m\u001b[1;33m(\u001b[0m\u001b[0mdata\u001b[0m\u001b[1;33m)\u001b[0m \u001b[1;33m/\u001b[0m \u001b[0mnp\u001b[0m\u001b[1;33m.\u001b[0m\u001b[0matleast_2d\u001b[0m\u001b[1;33m(\u001b[0m\u001b[0mum\u001b[0m\u001b[1;33m.\u001b[0m\u001b[0msum\u001b[0m\u001b[1;33m(\u001b[0m\u001b[0maxis\u001b[0m\u001b[1;33m=\u001b[0m\u001b[1;36m1\u001b[0m\u001b[1;33m)\u001b[0m\u001b[1;33m)\u001b[0m\u001b[1;33m.\u001b[0m\u001b[0mT\u001b[0m\u001b[1;33m\u001b[0m\u001b[1;33m\u001b[0m\u001b[0m\n\u001b[0m\u001b[0;32m     27\u001b[0m \u001b[1;33m\u001b[0m\u001b[0m\n\u001b[0;32m     28\u001b[0m     \u001b[0md\u001b[0m \u001b[1;33m=\u001b[0m \u001b[0m_distance\u001b[0m\u001b[1;33m(\u001b[0m\u001b[0mdata\u001b[0m\u001b[1;33m,\u001b[0m \u001b[0mcntr\u001b[0m\u001b[1;33m,\u001b[0m \u001b[0mmetric\u001b[0m\u001b[1;33m)\u001b[0m\u001b[1;33m\u001b[0m\u001b[1;33m\u001b[0m\u001b[0m\n",
      "\u001b[1;31mTypeError\u001b[0m: can't multiply sequence by non-int of type 'float'"
     ]
    }
   ],
   "source": [
    "fuzz.cluster.cmeans(data, 3, 2, error=0.005, maxiter=1000)"
   ]
  },
  {
   "cell_type": "code",
   "execution_count": null,
   "metadata": {},
   "outputs": [],
   "source": []
  }
 ],
 "metadata": {
  "interpreter": {
   "hash": "1ec50d26158d2b7350128d09b98f52f255d8aa2e11718915df200041349f2a51"
  },
  "kernelspec": {
   "display_name": "Python 3 (ipykernel)",
   "language": "python",
   "name": "python3"
  },
  "language_info": {
   "codemirror_mode": {
    "name": "ipython",
    "version": 3
   },
   "file_extension": ".py",
   "mimetype": "text/x-python",
   "name": "python",
   "nbconvert_exporter": "python",
   "pygments_lexer": "ipython3",
   "version": "3.8.12"
  }
 },
 "nbformat": 4,
 "nbformat_minor": 4
}
